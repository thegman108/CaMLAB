{
  "cells": [
    {
      "cell_type": "markdown",
      "metadata": {
        "id": "view-in-github",
        "colab_type": "text"
      },
      "source": [
        "<a href=\"https://colab.research.google.com/github/thegman108/CaMLAB/blob/main/Copy_of_%5B1_3%5D_Indirect_Object_Identification_(exercises).ipynb\" target=\"_parent\"><img src=\"https://colab.research.google.com/assets/colab-badge.svg\" alt=\"Open In Colab\"/></a>"
      ]
    },
    {
      "cell_type": "markdown",
      "source": [
        "# [1.3] Indirect Object Identification (exercises)\n"
      ],
      "metadata": {
        "id": "M0TkUQy8NEvA"
      }
    },
    {
      "cell_type": "markdown",
      "metadata": {
        "id": "10dADoTyl6l-"
      },
      "source": [
        "Colab: [exercises](https://colab.research.google.com/drive/1ZzLGDngppg5Y7CAKubww45RZrcXpVsrL?usp=sharing) | [solutions](https://colab.research.google.com/drive/1KgrEwvCKdX-8DQ1uSiIuxwIiwzJuQ3Gw?usp=sharing)\n",
        "\n",
        "ARENA 3.0 [Streamlit page](https://arena3-chapter1-transformer-interp.streamlit.app/[1.3]_Indirect_Object_Identification)\n",
        "\n",
        "Please send any problems / bugs on the `#errata` channel in the [Slack group](https://join.slack.com/t/arena-uk/shared_invite/zt-28h0xs49u-ZN9ZDbGXl~oCorjbBsSQag), and ask any questions on the dedicated channels for this chapter of material."
      ]
    },
    {
      "cell_type": "markdown",
      "metadata": {
        "id": "N5QE1FDKl6l1"
      },
      "source": [
        " <img src=\"https://raw.githubusercontent.com/callummcdougall/TransformerLens-intro/main/images/page_images/leaves.png\" width=\"350\">\n"
      ]
    },
    {
      "cell_type": "markdown",
      "metadata": {
        "id": "szdsL4Skl6l-"
      },
      "source": [
        "# Introduction"
      ]
    },
    {
      "cell_type": "markdown",
      "metadata": {
        "id": "OtvY5bPwl6l_"
      },
      "source": [
        "This notebook / document is built around the [Interpretability in the Wild](https://arxiv.org/abs/2211.00593) paper, in which the authors aim to understand the **indirect object identification circuit** in GPT-2 small. This circuit is resposible for the model's ability to complete sentences like `\"John and Mary went to the shops, John gave a bag to\"` with the correct token \"`\" Mary\"`.\n",
        "\n",
        "It is loosely divided into different sections, each one with their own flavour. Sections 1, 2 & 3 are derived from Neel Nanda's notebook [Exploratory_Analysis_Demo](https://colab.research.google.com/github/neelnanda-io/TransformerLens/blob/main/activation_patching_in_TL_demo.py.ipynb#scrollTo=uw7PmPbLuzVO). The flavour of these exercises is experimental and loose, with a focus on demonstrating what exploratory analysis looks like in practice with the transformerlens library. They skimp on rigour, and instead try to speedrun the process of finding suggestive evidence for this circuit. The code and exercises are simple and generic, but accompanied with a lot of detail about what each stage is doing, and why (plus several optional details and tangents). Section 4 introduces you to the idea of **path patching**, which is a more rigorous and structured way of analysing the model's behaviour. Here, you'll be replicating some of the results of the paper, which will serve to rigorously validate the insights gained from earlier sections. It's the most technically dense of all five sections. Lastly, sections 5 & 6 are much less structured, and have a stronger focus on open-ended exercises & letting you go off and explore for yourself.\n",
        "\n",
        "Which exercises you want to do will depend on what you're hoping to get out of these exercises. For example:\n",
        "\n",
        "* You want to understand activation patching - **1, 2, 3**\n",
        "* You want to get a sense of how to do exploratory analysis on a model - **1, 2, 3**\n",
        "* You want to understand activation and path patching - **1, 2, 3, 4**\n",
        "* You want to understand the IOI circuit fully, and replicate the paper's key results - **1, 2, 3, 4, 5**\n",
        "* You want to understand the IOI circuit fully, and replicate the paper's key results (but you already understand activation patching) - **1, 2, 4, 5**\n",
        "* You want to understand IOI, and then dive deeper e.g. by looking for more circuits in models or investigating anomalies - **1, 2, 3, 4, 5, 6**\n",
        "\n",
        "*Note - if you find yourself getting frequent CUDA memory errors, you can periodically call `torch.cuda.empty_cache()` to [free up some memory](https://stackoverflow.com/questions/57858433/how-to-clear-gpu-memory-after-pytorch-model-training-without-restarting-kernel).*\n",
        "\n",
        "Each exercise will have a difficulty and importance rating out of 5, as well as an estimated maximum time you should spend on these exercises and sometimes a short annotation. You should interpret the ratings & time estimates relatively (e.g. if you find yourself spending about 50% longer on the exercises than the time estimates, adjust accordingly). Please do skip exercises / look at solutions if you don't feel like they're important enough to be worth doing, and you'd rather get to the good stuff!\n"
      ]
    },
    {
      "cell_type": "markdown",
      "metadata": {
        "id": "73UWjA-Wd29x"
      },
      "source": [
        "## The purpose / structure of these exercises\n",
        "\n",
        "At a surface level, these exercises are designed to take you through the indirect object identification circuit. But it's also designed to make you a better interpretability researcher! As a result, most exercises will be doing a combination of:\n",
        "\n",
        "1. Showing you some new feature/component of the circuit, and\n",
        "2. Teaching you how to use tools and interpret results in a broader mech interp context.\n",
        "\n",
        "A key idea to have in mind during these exercises is the **spectrum from simpler, more exploratory tools to more rigoruous, complex tools**. On the simpler side, you have something like inspecting attention patterns, which can give a decent (but sometimes misleading) picture of what an attention head is doing. These should be some of the first tools you reach for, and you should be using them a lot even before you have concrete hypotheses about a circuit. On the more rigorous side, you have something like path patching, which is a pretty rigorous and effortful tool that is best used when you already have reasonably concrete hypotheses about a circuit. As we go through the exercises, we'll transition from left to right along this spectrum.\n"
      ]
    },
    {
      "cell_type": "markdown",
      "metadata": {
        "id": "ZcZD6ZFQd29x"
      },
      "source": [
        "## The IOI task\n",
        "\n",
        "The first step when trying to reverse engineer a circuit in a model is to identify *what* capability we want to reverse engineer. Indirect Object Identification is a task studied in Redwood Research's excellent [Interpretability in the Wild](https://arxiv.org/abs/2211.00593) paper (see [Neel Nanda's interview with the authors](https://www.youtube.com/watch?v=gzwj0jWbvbo) or [Kevin Wang's Twitter thread](https://threadreaderapp.com/thread/1587601532639494146.html) for an overview). The task is to complete sentences like \"When Mary and John went to the store, John gave a drink to\" with \" Mary\" rather than \" John\".\n",
        "\n",
        "In the paper they rigorously reverse engineer a 26 head circuit, with 7 separate categories of heads used to perform this capability. The circuit they found roughly breaks down into three parts:\n",
        "\n",
        "1. Identify what names are in the sentence\n",
        "2. Identify which names are duplicated\n",
        "3. Predict the name that is *not* duplicated\n",
        "\n",
        "Why was this task chosen? The authors give a very good explanation for their choice in their [video walkthrough of their paper](https://www.youtube.com/watch?v=gzwj0jWbvbo), which you are encouraged to watch. To be brief, some of the reasons were:\n",
        "\n",
        "* This is a fairly common grammatical structure, so we should expect the model to build some circuitry for solving it quite early on (after it's finished with all the more basic stuff, like n-grams, punctuation, induction, and simpler grammatical structures than this one).\n",
        "* It's easy to measure: the model always puts a much higher probability on the IO and S tokens (i.e. `\" Mary\"` and `\" John\"`) than any others, and this is especially true once the model starts being stripped down to the core part of the circuit we're studying. So we can just take the logit difference between these two tokens, and use this as a metric for how well the model can solve the task.\n",
        "* It is a crisp and well-defined task, so less likely to be solved in terms of memorisation of a large bag of heuristics (unlike e.g. tasks like \"predict that the number `n+1` will follow `n`, which as Neel mentions in the video walkthrough is actually much more annoying and subtle than it first seems!).\n",
        "\n",
        "A terminology note: `IO` will refer to the indirect object (in the example, `\" Mary\"`), `S1` and `S2` will refer to the two instances of the subject token (i.e. `\" John\"`), and `end` will refer to the end token `\" to\"` (because this is the position we take our prediction from, and we don't care about any tokens after this point). We will also sometimes use `S` to refer to the identity of the subject token (rather than referring to the first or second instance in particular).\n"
      ]
    },
    {
      "cell_type": "markdown",
      "metadata": {
        "id": "154Kdpx2l6mD"
      },
      "source": [
        "## Keeping track of your guesses & predictions\n",
        "\n",
        "There's a lot to keep track of in these exercises as we work through them. You'll be exposed to new functions and modules from transformerlens, new ways to causally intervene in models, all the while building up your understanding of how the IOI task is performed. The notebook starts off exploratory in nature (lots of plotting and investigation), and gradually moves into more technical details, refined analysis, and replication of the paper's results, as we improve our understanding of the IOI circuit. You are recommended to keep a document or page of notes nearby as you go through these exercises, so you can keep track of the main takeaways from each section, as well as your hypotheses for how the model performs the task, and your ideas for how you might go off and test these hypotheses on your own if the notebook were to suddenly end.\n",
        "\n",
        "If you are feeling extremely confused at any point, you can come back to the dropdown below, which contains diagrams explaining how the circuit works. There is also an accompanying intuitive explanation which you might find more helpful. However, I'd recommend you try and go through the notebook unassisted before looking at these.\n",
        "\n",
        "<details>\n",
        "<summary>Intuitive explanation of IOI circuit</summary>\n",
        "\n",
        "First, let's start with an analogy for how transformers work (you can skip this if you've already read [my post](https://www.lesswrong.com/posts/euam65XjigaCJQkcN/an-analogy-for-understanding-transformers)). Imagine a line of people, who can only look forward. Each person has a token written on their chest, and their goal is to figure out what token the person in front of them is holding. Each person is allowed to pass a question backwards along the line (not forwards), and anyone can choose to reply to that question by passing information forwards to the person who asked. In this case, the sentence is `\"When Mary and John went to the store, John gave a drink to Mary\"`. You are the person holding the `\" to\"` token, and your goal is to figure out that the person in front of him has the `\" Mary\"` token.\n",
        "\n",
        "To be clear about how this analogy relates to transformers:\n",
        "* Each person in the line represents a vector in the residual stream. Initially they just store their own token, but they accrue more information as they ask questions and receive answers (i.e. as components write to the residual stream)\n",
        "* The operation of an attention head is represented by a question & answer:\n",
        "    * The person who asks is the destination token, the people who answer are the source tokens\n",
        "    * The question is the query vector\n",
        "    * The information *which determines who answers the question* is the key vector\n",
        "    * The information *which gets passed back to the original asker* is the value vector\n",
        "\n",
        "Now, here is how the IOI circuit works in this analogy. Each bullet point represents a class of attention heads.\n",
        "\n",
        "* The person with the second `\" John\"` token asks the question \"does anyone else hold the name `\" John\"`?\". They get a reply from the first `\" John\"` token, who also gives him their location. So he now knows that `\" John\"` is repeated, and he knows that the first `\" John\"` token is 4th in the sequence.\n",
        "    * These are *Duplicate Token Heads*\n",
        "* You ask the question \"which names are repeated?\", and you get an answer from the person holding the second `\" John\"` token. You now also know that `\" John\"` is repeated, and where the first `\" John\"` token is.\n",
        "    * These are *S-Inhibition Heads*\n",
        "* You ask the question \"does anyone have a name that isn't `\" John\"`, and isn't at the 4th position in the sequence?\". You get a reply from the person holding the `\" Mary\"` token, who tells you that they have name `\" Mary\"`. You use this as your prediction.\n",
        "    * These are *Name Mover Heads*\n",
        "\n",
        "This is a fine first-pass understanding of how the circuit works. A few other features:\n",
        "\n",
        "* The person after the first `\" John\"` (holding `\" went\"`) had previously asked about the identity of the person behind him. So he knows that the 4th person in the sequence holds the `\" John\"` token, meaning he can also reply to the question of the person holding the second `\" John\"` token. *(previous token heads / induction heads)*\n",
        "    * This might not seem necessary, but since previous token heads / induction heads are just a pretty useful thing to have in general, it makes sense that you'd want to make use of this information!\n",
        "* If for some reason you forget to ask the question \"does anyone have a name that isn't `\" John\"`, and isn't at the 4th position in the sequence?\", then you'll have another chance to do this.\n",
        "    * These are *(Backup Name Mover Heads)*\n",
        "    * Their existance might be partly because transformers are trained with **dropout**. This can make them \"forget\" things, so it's important to have a backup method for recovering that information!\n",
        "* You want to avoid overconfidence, so you also ask the question \"does anyone have a name that isn't `\" John\"`, and isn't at the 4th position in the sequence?\" another time, in order to ***anti-***predict the response that you get from this question. *(negative name mover heads)*\n",
        "    * Yes, this is as weird as it sounds! The authors speculate that these heads \"hedge\" the predictions, avoiding high cross-entropy loss when making mistakes.\n",
        "\n",
        "</details>\n",
        "\n",
        "<details>\n",
        "<summary>Diagram 1 (simple)</summary>\n",
        "\n",
        "<img src=\"https://raw.githubusercontent.com/callummcdougall/computational-thread-art/master/example_images/misc/ioi-main-simple-a.png\" width=\"1000\">\n",
        "\n",
        "</details>\n",
        "\n",
        "<details>\n",
        "<summary>Diagram 2 (complex)</summary>\n",
        "\n",
        "<img src=\"https://raw.githubusercontent.com/callummcdougall/computational-thread-art/master/example_images/misc/ioi-main-full-d.png\" width=\"1250\">\n",
        "\n",
        "</details>\n"
      ]
    },
    {
      "cell_type": "markdown",
      "metadata": {
        "id": "KRVnueONl6l_"
      },
      "source": [
        "## Content & Learning Objectives\n"
      ]
    },
    {
      "cell_type": "markdown",
      "metadata": {
        "id": "rS2SRRqId29z"
      },
      "source": [
        "#### 1️⃣ Model & Task Setup\n",
        "\n",
        "In this section you'll set up your model, and see how to analyse its performance on the IOI task. You'll also learn how to measure it's performance using tools like logit difference.\n",
        "\n",
        "> ##### Learning objectives\n",
        ">\n",
        "> * Understand the IOI task, and why the authors chose to study it\n",
        "> * Build functions to demonstrate the model's performance on this task\n",
        "\n",
        "#### 2️⃣ Logit Attribution\n",
        "\n",
        "Next, you'll move on to some component attribution: evaluating the importance of each model component for the IOI task. However, this type of analysis is limited to measuring a component's direct effect, as opposed to indirect effect - we'll measure the latter in future sections.\n",
        "\n",
        "> ##### Learning objectives\n",
        ">\n",
        "> * Perform direct logit attribution to figure out which heads are writing to the residual stream in a significant way\n",
        "> * Learn how to use different transformerlens helper functions, which decompose the residual stream in different ways\n",
        "\n",
        "#### 3️⃣ Activation Patching\n",
        "\n",
        "We introduce one of the two important patching tools you'll use during this section: **activation patching**. This can be used to discover which components of a model are important for a particular task, by measuring the changes in our previously-defined task metrics when you patch into a particular component with corrupted input.\n",
        "\n",
        "> ##### Learning objectives\n",
        ">\n",
        "> * Understand the idea of activation patching, and how it can be used\n",
        ">     * Implement some of the activation patching helper functinos in transformerlens from scratch (i.e. using hooks)\n",
        "> * Use activation patching to track the layers & sequence positions in the residual stream where important information is stored and processed\n",
        "> * By the end of this section, you should be able to draw a rough sketch of the IOI circuit\n",
        "\n",
        "#### 4️⃣ Path Patching\n",
        "\n",
        "Next, we move to path patching, a more refined form of activation patching which examines the importance of particular paths between model components. This will give us a more precise picture of how our circuit works.\n",
        "\n",
        "> ##### Learning objectives\n",
        ">\n",
        "> * Understand the idea of path patching, and how it differs from activation patching\n",
        "> * Implement path patching from scratch (i.e. using hooks)\n",
        "> * Replicate several of the results in the [IOI paper](https://arxiv.org/abs/2211.00593)\n",
        "\n",
        "#### 5️⃣ Paper Replication\n",
        "\n",
        "Lastly, we'll do some cleaning up, by replicating some other results from the IOI paper. This includes implementing a complex form of ablation which removes every component from the model except for the ones we've identified from previous analysis, and showing that the performace is recovered. This section is more open-ended and less structured.\n",
        "\n",
        "> ##### Learning objectives\n",
        ">\n",
        "> * Replicate most of the other results from the [IOI paper](https://arxiv.org/abs/2211.00593)\n",
        "> * Practice more open-ended, less guided coding\n",
        "\n",
        "#### 6️⃣ Bonus\n",
        "\n",
        "We end with a few suggested bonus exercises for this particular circuit, as well as ideas for capstone projects / paper replications.\n",
        "\n",
        "> ##### Learning objectives\n",
        ">\n",
        "> * Explore other parts of the model (e.g. negative name mover heads, and induction heads)\n",
        "> * Understand the subtleties present in model circuits, and the fact that there are often more parts to a circuit than seem obvious after initial investigation\n",
        "> * Understand the importance of the three quantitative criteria used by the paper: **faithfulness**, **completeness** and **minimality**\n"
      ]
    },
    {
      "cell_type": "markdown",
      "metadata": {
        "id": "5DKgJ54Wl6mA"
      },
      "source": [
        "## Setup (don't read, just run!)\n"
      ]
    },
    {
      "cell_type": "code",
      "execution_count": 43,
      "metadata": {
        "id": "RbJ0wqZad290",
        "colab": {
          "base_uri": "https://localhost:8080/"
        },
        "outputId": "b7e25bfa-bfe0-4c55-bdb1-a23012cab2ac"
      },
      "outputs": [
        {
          "output_type": "stream",
          "name": "stdout",
          "text": [
            "Requirement already satisfied: transformer_lens in /usr/local/lib/python3.10/dist-packages (1.15.0)\n",
            "Requirement already satisfied: accelerate>=0.23.0 in /usr/local/lib/python3.10/dist-packages (from transformer_lens) (0.29.3)\n",
            "Requirement already satisfied: beartype<0.15.0,>=0.14.1 in /usr/local/lib/python3.10/dist-packages (from transformer_lens) (0.14.1)\n",
            "Requirement already satisfied: better-abc<0.0.4,>=0.0.3 in /usr/local/lib/python3.10/dist-packages (from transformer_lens) (0.0.3)\n",
            "Requirement already satisfied: datasets>=2.7.1 in /usr/local/lib/python3.10/dist-packages (from transformer_lens) (2.19.0)\n",
            "Requirement already satisfied: einops>=0.6.0 in /usr/local/lib/python3.10/dist-packages (from transformer_lens) (0.7.0)\n",
            "Requirement already satisfied: fancy-einsum>=0.0.3 in /usr/local/lib/python3.10/dist-packages (from transformer_lens) (0.0.3)\n",
            "Requirement already satisfied: jaxtyping>=0.2.11 in /usr/local/lib/python3.10/dist-packages (from transformer_lens) (0.2.28)\n",
            "Requirement already satisfied: numpy>=1.24 in /usr/local/lib/python3.10/dist-packages (from transformer_lens) (1.25.2)\n",
            "Requirement already satisfied: pandas>=1.1.5 in /usr/local/lib/python3.10/dist-packages (from transformer_lens) (2.0.3)\n",
            "Requirement already satisfied: rich>=12.6.0 in /usr/local/lib/python3.10/dist-packages (from transformer_lens) (13.7.1)\n",
            "Requirement already satisfied: torch!=2.0,!=2.1.0,>=1.10 in /usr/local/lib/python3.10/dist-packages (from transformer_lens) (2.2.1+cu121)\n",
            "Requirement already satisfied: tqdm>=4.64.1 in /usr/local/lib/python3.10/dist-packages (from transformer_lens) (4.66.2)\n",
            "Requirement already satisfied: transformers>=4.37.2 in /usr/local/lib/python3.10/dist-packages (from transformer_lens) (4.38.2)\n",
            "Requirement already satisfied: typing-extensions in /usr/local/lib/python3.10/dist-packages (from transformer_lens) (4.11.0)\n",
            "Requirement already satisfied: wandb>=0.13.5 in /usr/local/lib/python3.10/dist-packages (from transformer_lens) (0.16.6)\n",
            "Requirement already satisfied: packaging>=20.0 in /usr/local/lib/python3.10/dist-packages (from accelerate>=0.23.0->transformer_lens) (24.0)\n",
            "Requirement already satisfied: psutil in /usr/local/lib/python3.10/dist-packages (from accelerate>=0.23.0->transformer_lens) (5.9.5)\n",
            "Requirement already satisfied: pyyaml in /usr/local/lib/python3.10/dist-packages (from accelerate>=0.23.0->transformer_lens) (6.0.1)\n",
            "Requirement already satisfied: huggingface-hub in /usr/local/lib/python3.10/dist-packages (from accelerate>=0.23.0->transformer_lens) (0.22.2)\n",
            "Requirement already satisfied: safetensors>=0.3.1 in /usr/local/lib/python3.10/dist-packages (from accelerate>=0.23.0->transformer_lens) (0.4.3)\n",
            "Requirement already satisfied: filelock in /usr/local/lib/python3.10/dist-packages (from datasets>=2.7.1->transformer_lens) (3.13.4)\n",
            "Requirement already satisfied: pyarrow>=12.0.0 in /usr/local/lib/python3.10/dist-packages (from datasets>=2.7.1->transformer_lens) (14.0.2)\n",
            "Requirement already satisfied: pyarrow-hotfix in /usr/local/lib/python3.10/dist-packages (from datasets>=2.7.1->transformer_lens) (0.6)\n",
            "Requirement already satisfied: dill<0.3.9,>=0.3.0 in /usr/local/lib/python3.10/dist-packages (from datasets>=2.7.1->transformer_lens) (0.3.8)\n",
            "Requirement already satisfied: requests>=2.19.0 in /usr/local/lib/python3.10/dist-packages (from datasets>=2.7.1->transformer_lens) (2.31.0)\n",
            "Requirement already satisfied: xxhash in /usr/local/lib/python3.10/dist-packages (from datasets>=2.7.1->transformer_lens) (3.4.1)\n",
            "Requirement already satisfied: multiprocess in /usr/local/lib/python3.10/dist-packages (from datasets>=2.7.1->transformer_lens) (0.70.16)\n",
            "Requirement already satisfied: fsspec[http]<=2024.3.1,>=2023.1.0 in /usr/local/lib/python3.10/dist-packages (from datasets>=2.7.1->transformer_lens) (2023.6.0)\n",
            "Requirement already satisfied: aiohttp in /usr/local/lib/python3.10/dist-packages (from datasets>=2.7.1->transformer_lens) (3.9.5)\n",
            "Requirement already satisfied: typeguard==2.13.3 in /usr/local/lib/python3.10/dist-packages (from jaxtyping>=0.2.11->transformer_lens) (2.13.3)\n",
            "Requirement already satisfied: python-dateutil>=2.8.2 in /usr/local/lib/python3.10/dist-packages (from pandas>=1.1.5->transformer_lens) (2.8.2)\n",
            "Requirement already satisfied: pytz>=2020.1 in /usr/local/lib/python3.10/dist-packages (from pandas>=1.1.5->transformer_lens) (2023.4)\n",
            "Requirement already satisfied: tzdata>=2022.1 in /usr/local/lib/python3.10/dist-packages (from pandas>=1.1.5->transformer_lens) (2024.1)\n",
            "Requirement already satisfied: markdown-it-py>=2.2.0 in /usr/local/lib/python3.10/dist-packages (from rich>=12.6.0->transformer_lens) (3.0.0)\n",
            "Requirement already satisfied: pygments<3.0.0,>=2.13.0 in /usr/local/lib/python3.10/dist-packages (from rich>=12.6.0->transformer_lens) (2.16.1)\n",
            "Requirement already satisfied: sympy in /usr/local/lib/python3.10/dist-packages (from torch!=2.0,!=2.1.0,>=1.10->transformer_lens) (1.12)\n",
            "Requirement already satisfied: networkx in /usr/local/lib/python3.10/dist-packages (from torch!=2.0,!=2.1.0,>=1.10->transformer_lens) (3.3)\n",
            "Requirement already satisfied: jinja2 in /usr/local/lib/python3.10/dist-packages (from torch!=2.0,!=2.1.0,>=1.10->transformer_lens) (3.1.3)\n",
            "Requirement already satisfied: nvidia-cuda-nvrtc-cu12==12.1.105 in /usr/local/lib/python3.10/dist-packages (from torch!=2.0,!=2.1.0,>=1.10->transformer_lens) (12.1.105)\n",
            "Requirement already satisfied: nvidia-cuda-runtime-cu12==12.1.105 in /usr/local/lib/python3.10/dist-packages (from torch!=2.0,!=2.1.0,>=1.10->transformer_lens) (12.1.105)\n",
            "Requirement already satisfied: nvidia-cuda-cupti-cu12==12.1.105 in /usr/local/lib/python3.10/dist-packages (from torch!=2.0,!=2.1.0,>=1.10->transformer_lens) (12.1.105)\n",
            "Requirement already satisfied: nvidia-cudnn-cu12==8.9.2.26 in /usr/local/lib/python3.10/dist-packages (from torch!=2.0,!=2.1.0,>=1.10->transformer_lens) (8.9.2.26)\n",
            "Requirement already satisfied: nvidia-cublas-cu12==12.1.3.1 in /usr/local/lib/python3.10/dist-packages (from torch!=2.0,!=2.1.0,>=1.10->transformer_lens) (12.1.3.1)\n",
            "Requirement already satisfied: nvidia-cufft-cu12==11.0.2.54 in /usr/local/lib/python3.10/dist-packages (from torch!=2.0,!=2.1.0,>=1.10->transformer_lens) (11.0.2.54)\n",
            "Requirement already satisfied: nvidia-curand-cu12==10.3.2.106 in /usr/local/lib/python3.10/dist-packages (from torch!=2.0,!=2.1.0,>=1.10->transformer_lens) (10.3.2.106)\n",
            "Requirement already satisfied: nvidia-cusolver-cu12==11.4.5.107 in /usr/local/lib/python3.10/dist-packages (from torch!=2.0,!=2.1.0,>=1.10->transformer_lens) (11.4.5.107)\n",
            "Requirement already satisfied: nvidia-cusparse-cu12==12.1.0.106 in /usr/local/lib/python3.10/dist-packages (from torch!=2.0,!=2.1.0,>=1.10->transformer_lens) (12.1.0.106)\n",
            "Requirement already satisfied: nvidia-nccl-cu12==2.19.3 in /usr/local/lib/python3.10/dist-packages (from torch!=2.0,!=2.1.0,>=1.10->transformer_lens) (2.19.3)\n",
            "Requirement already satisfied: nvidia-nvtx-cu12==12.1.105 in /usr/local/lib/python3.10/dist-packages (from torch!=2.0,!=2.1.0,>=1.10->transformer_lens) (12.1.105)\n",
            "Requirement already satisfied: triton==2.2.0 in /usr/local/lib/python3.10/dist-packages (from torch!=2.0,!=2.1.0,>=1.10->transformer_lens) (2.2.0)\n",
            "Requirement already satisfied: nvidia-nvjitlink-cu12 in /usr/local/lib/python3.10/dist-packages (from nvidia-cusolver-cu12==11.4.5.107->torch!=2.0,!=2.1.0,>=1.10->transformer_lens) (12.4.127)\n",
            "Requirement already satisfied: regex!=2019.12.17 in /usr/local/lib/python3.10/dist-packages (from transformers>=4.37.2->transformer_lens) (2023.12.25)\n",
            "Requirement already satisfied: tokenizers<0.19,>=0.14 in /usr/local/lib/python3.10/dist-packages (from transformers>=4.37.2->transformer_lens) (0.15.2)\n",
            "Requirement already satisfied: Click!=8.0.0,>=7.1 in /usr/local/lib/python3.10/dist-packages (from wandb>=0.13.5->transformer_lens) (8.1.7)\n",
            "Requirement already satisfied: GitPython!=3.1.29,>=1.0.0 in /usr/local/lib/python3.10/dist-packages (from wandb>=0.13.5->transformer_lens) (3.1.43)\n",
            "Requirement already satisfied: sentry-sdk>=1.0.0 in /usr/local/lib/python3.10/dist-packages (from wandb>=0.13.5->transformer_lens) (1.45.0)\n",
            "Requirement already satisfied: docker-pycreds>=0.4.0 in /usr/local/lib/python3.10/dist-packages (from wandb>=0.13.5->transformer_lens) (0.4.0)\n",
            "Requirement already satisfied: setproctitle in /usr/local/lib/python3.10/dist-packages (from wandb>=0.13.5->transformer_lens) (1.3.3)\n",
            "Requirement already satisfied: setuptools in /usr/local/lib/python3.10/dist-packages (from wandb>=0.13.5->transformer_lens) (67.7.2)\n",
            "Requirement already satisfied: appdirs>=1.4.3 in /usr/local/lib/python3.10/dist-packages (from wandb>=0.13.5->transformer_lens) (1.4.4)\n",
            "Requirement already satisfied: protobuf!=4.21.0,<5,>=3.19.0 in /usr/local/lib/python3.10/dist-packages (from wandb>=0.13.5->transformer_lens) (3.20.3)\n",
            "Requirement already satisfied: six>=1.4.0 in /usr/local/lib/python3.10/dist-packages (from docker-pycreds>=0.4.0->wandb>=0.13.5->transformer_lens) (1.16.0)\n",
            "Requirement already satisfied: aiosignal>=1.1.2 in /usr/local/lib/python3.10/dist-packages (from aiohttp->datasets>=2.7.1->transformer_lens) (1.3.1)\n",
            "Requirement already satisfied: attrs>=17.3.0 in /usr/local/lib/python3.10/dist-packages (from aiohttp->datasets>=2.7.1->transformer_lens) (23.2.0)\n",
            "Requirement already satisfied: frozenlist>=1.1.1 in /usr/local/lib/python3.10/dist-packages (from aiohttp->datasets>=2.7.1->transformer_lens) (1.4.1)\n",
            "Requirement already satisfied: multidict<7.0,>=4.5 in /usr/local/lib/python3.10/dist-packages (from aiohttp->datasets>=2.7.1->transformer_lens) (6.0.5)\n",
            "Requirement already satisfied: yarl<2.0,>=1.0 in /usr/local/lib/python3.10/dist-packages (from aiohttp->datasets>=2.7.1->transformer_lens) (1.9.4)\n",
            "Requirement already satisfied: async-timeout<5.0,>=4.0 in /usr/local/lib/python3.10/dist-packages (from aiohttp->datasets>=2.7.1->transformer_lens) (4.0.3)\n",
            "Requirement already satisfied: gitdb<5,>=4.0.1 in /usr/local/lib/python3.10/dist-packages (from GitPython!=3.1.29,>=1.0.0->wandb>=0.13.5->transformer_lens) (4.0.11)\n",
            "Requirement already satisfied: mdurl~=0.1 in /usr/local/lib/python3.10/dist-packages (from markdown-it-py>=2.2.0->rich>=12.6.0->transformer_lens) (0.1.2)\n",
            "Requirement already satisfied: charset-normalizer<4,>=2 in /usr/local/lib/python3.10/dist-packages (from requests>=2.19.0->datasets>=2.7.1->transformer_lens) (3.3.2)\n",
            "Requirement already satisfied: idna<4,>=2.5 in /usr/local/lib/python3.10/dist-packages (from requests>=2.19.0->datasets>=2.7.1->transformer_lens) (3.7)\n",
            "Requirement already satisfied: urllib3<3,>=1.21.1 in /usr/local/lib/python3.10/dist-packages (from requests>=2.19.0->datasets>=2.7.1->transformer_lens) (2.0.7)\n",
            "Requirement already satisfied: certifi>=2017.4.17 in /usr/local/lib/python3.10/dist-packages (from requests>=2.19.0->datasets>=2.7.1->transformer_lens) (2024.2.2)\n",
            "Requirement already satisfied: MarkupSafe>=2.0 in /usr/local/lib/python3.10/dist-packages (from jinja2->torch!=2.0,!=2.1.0,>=1.10->transformer_lens) (2.1.5)\n",
            "Requirement already satisfied: mpmath>=0.19 in /usr/local/lib/python3.10/dist-packages (from sympy->torch!=2.0,!=2.1.0,>=1.10->transformer_lens) (1.3.0)\n",
            "Requirement already satisfied: smmap<6,>=3.0.1 in /usr/local/lib/python3.10/dist-packages (from gitdb<5,>=4.0.1->GitPython!=3.1.29,>=1.0.0->wandb>=0.13.5->transformer_lens) (5.0.1)\n",
            "Requirement already satisfied: einops in /usr/local/lib/python3.10/dist-packages (0.7.0)\n",
            "Requirement already satisfied: jaxtyping in /usr/local/lib/python3.10/dist-packages (0.2.28)\n",
            "Requirement already satisfied: numpy>=1.20.0 in /usr/local/lib/python3.10/dist-packages (from jaxtyping) (1.25.2)\n",
            "Requirement already satisfied: typeguard==2.13.3 in /usr/local/lib/python3.10/dist-packages (from jaxtyping) (2.13.3)\n",
            "Collecting git+https://github.com/callummcdougall/CircuitsVis.git#subdirectory=python\n",
            "  Cloning https://github.com/callummcdougall/CircuitsVis.git to /tmp/pip-req-build-uotd5ogd\n",
            "  Running command git clone --filter=blob:none --quiet https://github.com/callummcdougall/CircuitsVis.git /tmp/pip-req-build-uotd5ogd\n",
            "  Resolved https://github.com/callummcdougall/CircuitsVis.git to commit 1e6129d08cae7af9242d9ab5d3ed322dd44b4dd3\n",
            "  Installing build dependencies ... \u001b[?25l\u001b[?25hdone\n",
            "  Getting requirements to build wheel ... \u001b[?25l\u001b[?25hdone\n",
            "  Preparing metadata (pyproject.toml) ... \u001b[?25l\u001b[?25hdone\n",
            "Requirement already satisfied: importlib-metadata<6.0.0,>=5.1.0 in /usr/local/lib/python3.10/dist-packages (from circuitsvis==0.0.0) (5.2.0)\n",
            "Requirement already satisfied: numpy<2.0,>=1.23 in /usr/local/lib/python3.10/dist-packages (from circuitsvis==0.0.0) (1.25.2)\n",
            "Requirement already satisfied: torch<3.0,>=2.0 in /usr/local/lib/python3.10/dist-packages (from circuitsvis==0.0.0) (2.2.1+cu121)\n",
            "Requirement already satisfied: zipp>=0.5 in /usr/local/lib/python3.10/dist-packages (from importlib-metadata<6.0.0,>=5.1.0->circuitsvis==0.0.0) (3.18.1)\n",
            "Requirement already satisfied: filelock in /usr/local/lib/python3.10/dist-packages (from torch<3.0,>=2.0->circuitsvis==0.0.0) (3.13.4)\n",
            "Requirement already satisfied: typing-extensions>=4.8.0 in /usr/local/lib/python3.10/dist-packages (from torch<3.0,>=2.0->circuitsvis==0.0.0) (4.11.0)\n",
            "Requirement already satisfied: sympy in /usr/local/lib/python3.10/dist-packages (from torch<3.0,>=2.0->circuitsvis==0.0.0) (1.12)\n",
            "Requirement already satisfied: networkx in /usr/local/lib/python3.10/dist-packages (from torch<3.0,>=2.0->circuitsvis==0.0.0) (3.3)\n",
            "Requirement already satisfied: jinja2 in /usr/local/lib/python3.10/dist-packages (from torch<3.0,>=2.0->circuitsvis==0.0.0) (3.1.3)\n",
            "Requirement already satisfied: fsspec in /usr/local/lib/python3.10/dist-packages (from torch<3.0,>=2.0->circuitsvis==0.0.0) (2023.6.0)\n",
            "Requirement already satisfied: nvidia-cuda-nvrtc-cu12==12.1.105 in /usr/local/lib/python3.10/dist-packages (from torch<3.0,>=2.0->circuitsvis==0.0.0) (12.1.105)\n",
            "Requirement already satisfied: nvidia-cuda-runtime-cu12==12.1.105 in /usr/local/lib/python3.10/dist-packages (from torch<3.0,>=2.0->circuitsvis==0.0.0) (12.1.105)\n",
            "Requirement already satisfied: nvidia-cuda-cupti-cu12==12.1.105 in /usr/local/lib/python3.10/dist-packages (from torch<3.0,>=2.0->circuitsvis==0.0.0) (12.1.105)\n",
            "Requirement already satisfied: nvidia-cudnn-cu12==8.9.2.26 in /usr/local/lib/python3.10/dist-packages (from torch<3.0,>=2.0->circuitsvis==0.0.0) (8.9.2.26)\n",
            "Requirement already satisfied: nvidia-cublas-cu12==12.1.3.1 in /usr/local/lib/python3.10/dist-packages (from torch<3.0,>=2.0->circuitsvis==0.0.0) (12.1.3.1)\n",
            "Requirement already satisfied: nvidia-cufft-cu12==11.0.2.54 in /usr/local/lib/python3.10/dist-packages (from torch<3.0,>=2.0->circuitsvis==0.0.0) (11.0.2.54)\n",
            "Requirement already satisfied: nvidia-curand-cu12==10.3.2.106 in /usr/local/lib/python3.10/dist-packages (from torch<3.0,>=2.0->circuitsvis==0.0.0) (10.3.2.106)\n",
            "Requirement already satisfied: nvidia-cusolver-cu12==11.4.5.107 in /usr/local/lib/python3.10/dist-packages (from torch<3.0,>=2.0->circuitsvis==0.0.0) (11.4.5.107)\n",
            "Requirement already satisfied: nvidia-cusparse-cu12==12.1.0.106 in /usr/local/lib/python3.10/dist-packages (from torch<3.0,>=2.0->circuitsvis==0.0.0) (12.1.0.106)\n",
            "Requirement already satisfied: nvidia-nccl-cu12==2.19.3 in /usr/local/lib/python3.10/dist-packages (from torch<3.0,>=2.0->circuitsvis==0.0.0) (2.19.3)\n",
            "Requirement already satisfied: nvidia-nvtx-cu12==12.1.105 in /usr/local/lib/python3.10/dist-packages (from torch<3.0,>=2.0->circuitsvis==0.0.0) (12.1.105)\n",
            "Requirement already satisfied: triton==2.2.0 in /usr/local/lib/python3.10/dist-packages (from torch<3.0,>=2.0->circuitsvis==0.0.0) (2.2.0)\n",
            "Requirement already satisfied: nvidia-nvjitlink-cu12 in /usr/local/lib/python3.10/dist-packages (from nvidia-cusolver-cu12==11.4.5.107->torch<3.0,>=2.0->circuitsvis==0.0.0) (12.4.127)\n",
            "Requirement already satisfied: MarkupSafe>=2.0 in /usr/local/lib/python3.10/dist-packages (from jinja2->torch<3.0,>=2.0->circuitsvis==0.0.0) (2.1.5)\n",
            "Requirement already satisfied: mpmath>=0.19 in /usr/local/lib/python3.10/dist-packages (from sympy->torch<3.0,>=2.0->circuitsvis==0.0.0) (1.3.0)\n"
          ]
        }
      ],
      "source": [
        "try:\n",
        "    import google.colab # type: ignore\n",
        "    IN_COLAB = True\n",
        "except:\n",
        "    IN_COLAB = False\n",
        "\n",
        "import os, sys\n",
        "chapter = \"chapter1_transformer_interp\"\n",
        "repo = \"ARENA_3.0\"\n",
        "\n",
        "if IN_COLAB:\n",
        "    # Install packages\n",
        "    %pip install transformer_lens\n",
        "    %pip install einops\n",
        "    %pip install jaxtyping\n",
        "    %pip install git+https://github.com/callummcdougall/CircuitsVis.git#subdirectory=python\n",
        "\n",
        "    # Code to download the necessary files (e.g. solutions, test funcs)\n",
        "    if not os.path.exists(f\"/content/{chapter}\"):\n",
        "        !wget https://github.com/callummcdougall/ARENA_3.0/archive/refs/heads/main.zip\n",
        "        !unzip /content/main.zip 'ARENA_3.0-main/chapter1_transformer_interp/exercises/*'\n",
        "        sys.path.append(f\"/content/{repo}-main/{chapter}/exercises\")\n",
        "        os.remove(\"/content/main.zip\")\n",
        "        os.rename(f\"{repo}-main/{chapter}\", chapter)\n",
        "        os.rmdir(f\"{repo}-main\")\n",
        "        os.chdir(f\"{chapter}/exercises\")\n",
        "else:\n",
        "    chapter_dir = r\"./\" if chapter in os.listdir() else os.getcwd().split(chapter)[0]\n",
        "    sys.path.append(chapter_dir + f\"{chapter}/exercises\")"
      ]
    },
    {
      "cell_type": "code",
      "execution_count": 44,
      "metadata": {
        "id": "Lx3WrMyUl6mB"
      },
      "outputs": [],
      "source": [
        "import os; os.environ[\"ACCELERATE_DISABLE_RICH\"] = \"1\"\n",
        "import sys\n",
        "from pathlib import Path\n",
        "import torch as t\n",
        "from torch import Tensor\n",
        "import numpy as np\n",
        "import einops\n",
        "from tqdm.notebook import tqdm\n",
        "import plotly.express as px\n",
        "import webbrowser\n",
        "import re\n",
        "import itertools\n",
        "from jaxtyping import Float, Int, Bool\n",
        "from typing import List, Optional, Callable, Tuple, Dict, Literal, Set, Union\n",
        "from functools import partial\n",
        "from IPython.display import display, HTML\n",
        "from rich.table import Table, Column\n",
        "from rich import print as rprint\n",
        "import circuitsvis as cv\n",
        "from pathlib import Path\n",
        "from transformer_lens.hook_points import HookPoint\n",
        "from transformer_lens import utils, HookedTransformer, ActivationCache\n",
        "from transformer_lens.components import Embed, Unembed, LayerNorm, MLP\n",
        "\n",
        "t.set_grad_enabled(False)\n",
        "\n",
        "# Make sure exercises are in the path\n",
        "exercises_dir = Path(f\"{os.getcwd().split(chapter)[0]}/{chapter}/exercises\").resolve()\n",
        "section_dir = (exercises_dir / \"part3_indirect_object_identification\").resolve()\n",
        "if str(exercises_dir) not in sys.path: sys.path.append(str(exercises_dir))\n",
        "\n",
        "from plotly_utils import imshow, line, scatter, bar\n",
        "import part3_indirect_object_identification.tests as tests\n",
        "\n",
        "device = t.device(\"cuda\") if t.cuda.is_available() else t.device(\"cpu\")\n",
        "\n",
        "MAIN = __name__ == \"__main__\""
      ]
    },
    {
      "cell_type": "markdown",
      "metadata": {
        "id": "02aFRKnCl6mC"
      },
      "source": [
        "# 1️⃣ Model & Task Setup\n"
      ]
    },
    {
      "cell_type": "markdown",
      "metadata": {
        "id": "KW9iHqxxd291"
      },
      "source": [
        "> ##### Learning objectives\n",
        ">\n",
        "> * Understand the IOI task, and why the authors chose to study it\n",
        "> * Build functions to demonstrate the model's performance on this task\n"
      ]
    },
    {
      "cell_type": "markdown",
      "metadata": {
        "id": "8TcltuwNf4Y_"
      },
      "source": [
        "## Loading our model\n"
      ]
    },
    {
      "cell_type": "markdown",
      "metadata": {
        "id": "p5N8d-nvl6mD"
      },
      "source": [
        "The first step is to load in our model, GPT-2 Small, a 12 layer and 80M parameter transformer with `HookedTransformer.from_pretrained`. The various flags are simplifications that preserve the model's output but simplify its internals.\n"
      ]
    },
    {
      "cell_type": "code",
      "execution_count": 45,
      "metadata": {
        "id": "FyK_Rd9Ol6mE",
        "colab": {
          "base_uri": "https://localhost:8080/"
        },
        "outputId": "6f2480bb-e949-4182-ebee-cccee2761ee9"
      },
      "outputs": [
        {
          "output_type": "stream",
          "name": "stdout",
          "text": [
            "Loaded pretrained model gpt2-small into HookedTransformer\n"
          ]
        }
      ],
      "source": [
        "model = HookedTransformer.from_pretrained(\n",
        "    \"gpt2-small\",\n",
        "    center_unembed=True,\n",
        "    center_writing_weights=True,\n",
        "    fold_ln=True,\n",
        "    refactor_factored_attn_matrices=True,\n",
        ")"
      ]
    },
    {
      "cell_type": "markdown",
      "metadata": {
        "id": "yPltmoLml6mE"
      },
      "source": [
        "<details>\n",
        "<summary>Note on <code>refactor_factored_attn_matrices</code> (optional)</summary>\n",
        "\n",
        "This argument means we redefine the matrices $W_Q$, $W_K$, $W_V$ and $W_O$ in the model (without changing the model's actual behaviour).\n",
        "\n",
        "For example, we know that instead of working with $W_Q$ and $W_K$ individually, the only matrix we actually need to use in the model is the low-rank matrix $W_Q W_K^T$ (note that I'm using the convention of matrix multiplication on the right, which matches the code in transformerlens and previous exercises in this series, but doesn't match Anthropic's Mathematical Frameworks paper). So if we perform singular value decomposition $W_Q W_K^T = U S V^T$, then we see that we can just as easily define $W_Q = U \\sqrt{S}$ and $W_K = V \\sqrt{S}$ and use these instead. This means that $W_Q$ and $W_K$ both have orthogonal columns with matching norms. You can investigate this yourself (e.g. using the code below). This is arguably a more interpretable setup, because now there's no obvious asymmetry between the keys and queries.\n",
        "\n",
        "There's also some fiddlyness with how biases are handled in this factorisation, which is why the comments above don't hold absolutely (see the documnentation for more info).\n",
        "\n",
        "```python\n",
        "# Show column norms are the same (except first few, for fiddly bias reasons)\n",
        "line([model.W_Q[0, 0].pow(2).sum(0), model.W_K[0, 0].pow(2).sum(0)])\n",
        "# Show columns are orthogonal (except first few, again)\n",
        "W_Q_dot_products = einops.einsum(\n",
        "    model.W_Q[0, 0], model.W_Q[0, 0], \"d_model d_head_1, d_model d_head_2 -> d_head_1 d_head_2\"\n",
        ")\n",
        "imshow(W_Q_dot_products)\n",
        "```\n",
        "\n",
        "In a similar way, since $W_{OV} = W_V W_O = U S V^T$, we can define $W_V = U S$ and $W_O = V^T$. This is arguably a more interpretable setup, because now $W_O$ is just a rotation, and doesn't change the norm, so $z$ has the same norm as the result of the head.\n",
        "</details>\n",
        "\n",
        "<details>\n",
        "<summary>Note on <code>fold_ln</code>, <code>center_unembed</code> and <code>center_writing_weights</code> (optional)</summary>\n",
        "\n",
        "See link [here](https://github.com/neelnanda-io/TransformerLens/blob/main/further_comments.md#what-is-layernorm-folding-fold_ln) for comments.\n",
        "</details>\n"
      ]
    },
    {
      "cell_type": "markdown",
      "metadata": {
        "id": "FKrFXFEvl6mE"
      },
      "source": [
        "The next step is to verify that the model can *actually* do the task! Here we use `utils.test_prompt`, and see that the model is significantly better at predicting Mary than John!\n",
        "\n",
        "<details><summary>Asides</summary>\n",
        "\n",
        "Note: If we were being careful, we'd want to run the model on a range of prompts and find the average performance. We'll do more stuff like this in the fourth section (when we try to replicate some of the paper's results, and take a more rigorous approach).\n",
        "\n",
        "`prepend_bos` is a flag to add a BOS (beginning of sequence) to the start of the prompt. GPT-2 was not trained with this, but I find that it often makes model behaviour more stable, as the first token is treated weirdly.\n",
        "</details>\n"
      ]
    },
    {
      "cell_type": "code",
      "execution_count": 46,
      "metadata": {
        "id": "JjpUqNzRl6mE",
        "colab": {
          "base_uri": "https://localhost:8080/",
          "height": 293
        },
        "outputId": "3f049da4-948c-4979-b483-a42d6e108fb0"
      },
      "outputs": [
        {
          "output_type": "stream",
          "name": "stdout",
          "text": [
            "Tokenized prompt: ['<|endoftext|>', 'After', ' John', ' and', ' Mary', ' went', ' to', ' the', ' store', ',', ' John', ' gave', ' a', ' bottle', ' of', ' milk', ' to']\n",
            "Tokenized answer: [' Mary']\n"
          ]
        },
        {
          "output_type": "display_data",
          "data": {
            "text/plain": [
              "Performance on answer token:\n",
              "\u001b[1mRank: \u001b[0m\u001b[1;36m0\u001b[0m\u001b[1m        Logit: \u001b[0m\u001b[1;36m18.09\u001b[0m\u001b[1m Prob: \u001b[0m\u001b[1;36m70.07\u001b[0m\u001b[1m% Token: | Mary|\u001b[0m\n"
            ],
            "text/html": [
              "<pre style=\"white-space:pre;overflow-x:auto;line-height:normal;font-family:Menlo,'DejaVu Sans Mono',consolas,'Courier New',monospace\">Performance on answer token:\n",
              "<span style=\"font-weight: bold\">Rank: </span><span style=\"color: #008080; text-decoration-color: #008080; font-weight: bold\">0</span><span style=\"font-weight: bold\">        Logit: </span><span style=\"color: #008080; text-decoration-color: #008080; font-weight: bold\">18.09</span><span style=\"font-weight: bold\"> Prob: </span><span style=\"color: #008080; text-decoration-color: #008080; font-weight: bold\">70.07</span><span style=\"font-weight: bold\">% Token: | Mary|</span>\n",
              "</pre>\n"
            ]
          },
          "metadata": {}
        },
        {
          "output_type": "stream",
          "name": "stdout",
          "text": [
            "Top 0th token. Logit: 18.09 Prob: 70.07% Token: | Mary|\n",
            "Top 1th token. Logit: 15.38 Prob:  4.67% Token: | the|\n",
            "Top 2th token. Logit: 15.35 Prob:  4.54% Token: | John|\n",
            "Top 3th token. Logit: 15.25 Prob:  4.11% Token: | them|\n",
            "Top 4th token. Logit: 14.84 Prob:  2.73% Token: | his|\n",
            "Top 5th token. Logit: 14.06 Prob:  1.24% Token: | her|\n",
            "Top 6th token. Logit: 13.54 Prob:  0.74% Token: | a|\n",
            "Top 7th token. Logit: 13.52 Prob:  0.73% Token: | their|\n",
            "Top 8th token. Logit: 13.13 Prob:  0.49% Token: | Jesus|\n",
            "Top 9th token. Logit: 12.97 Prob:  0.42% Token: | him|\n"
          ]
        },
        {
          "output_type": "display_data",
          "data": {
            "text/plain": [
              "\u001b[1mRanks of the answer tokens:\u001b[0m \u001b[1m[\u001b[0m\u001b[1m(\u001b[0m\u001b[32m' Mary'\u001b[0m, \u001b[1;36m0\u001b[0m\u001b[1m)\u001b[0m\u001b[1m]\u001b[0m\n"
            ],
            "text/html": [
              "<pre style=\"white-space:pre;overflow-x:auto;line-height:normal;font-family:Menlo,'DejaVu Sans Mono',consolas,'Courier New',monospace\"><span style=\"font-weight: bold\">Ranks of the answer tokens:</span> <span style=\"font-weight: bold\">[(</span><span style=\"color: #008000; text-decoration-color: #008000\">' Mary'</span>, <span style=\"color: #008080; text-decoration-color: #008080; font-weight: bold\">0</span><span style=\"font-weight: bold\">)]</span>\n",
              "</pre>\n"
            ]
          },
          "metadata": {}
        }
      ],
      "source": [
        "# Here is where we test on a single prompt\n",
        "# Result: 70% probability on Mary, as we expect\n",
        "\n",
        "example_prompt = \"After John and Mary went to the store, John gave a bottle of milk to\"\n",
        "example_answer = \" Mary\"\n",
        "utils.test_prompt(example_prompt, example_answer, model, prepend_bos=True)"
      ]
    },
    {
      "cell_type": "markdown",
      "metadata": {
        "id": "Wwk01fvZl6mE"
      },
      "source": [
        "We now want to find a reference prompt to run the model on. Even though our ultimate goal is to reverse engineer how this behaviour is done in general, often the best way to start out in mechanistic interpretability is by zooming in on a concrete example and understanding it in detail, and only *then* zooming out and verifying that our analysis generalises. In section 3, we'll work with a dataset similar to the one used by the paper authors, but this probably wouldn't be the first thing we reached for if we were just doing initial investigations.\n",
        "\n",
        "We'll run the model on 4 instances of this task, each prompt given twice - one with the first name as the indirect object, one with the second name. To make our lives easier, we'll carefully choose prompts with single token names and the corresponding names in the same token positions.\n",
        "\n",
        "<details><summary>Aside on tokenization</summary>\n",
        "\n",
        "We want models that can take in arbitrary text, but models need to have a fixed vocabulary. So the solution is to define a vocabulary of **tokens** and to deterministically break up arbitrary text into tokens. Tokens are, essentially, subwords, and are determined by finding the most frequent substrings - this means that tokens vary a lot in length and frequency!\n",
        "\n",
        "Tokens are a *massive* headache and are one of the most annoying things about reverse engineering language models... Different names will be different numbers of tokens, different prompts will have the relevant tokens at different positions, different prompts will have different total numbers of tokens, etc. Language models often devote significant amounts of parameters in early layers to convert inputs from tokens to a more sensible internal format (and do the reverse in later layers). You really, really want to avoid needing to think about tokenization wherever possible when doing exploratory analysis (though, of course, it's relevant later when trying to flesh out your analysis and make it rigorous!). HookedTransformer comes with several helper methods to deal with tokens: `to_tokens, to_string, to_str_tokens, to_single_token, get_token_position`\n",
        "\n",
        "**Exercise:** I recommend using `model.to_str_tokens` to explore how the model tokenizes different strings. In particular, try adding or removing spaces at the start, or changing capitalization - these change tokenization!</details>\n"
      ]
    },
    {
      "cell_type": "code",
      "execution_count": 47,
      "metadata": {
        "id": "p4kNIsy3l6mE",
        "colab": {
          "base_uri": "https://localhost:8080/",
          "height": 465
        },
        "outputId": "5f7018d1-3a64-4052-9f2e-3ff2f89e9bc1"
      },
      "outputs": [
        {
          "output_type": "display_data",
          "data": {
            "text/plain": [
              "\u001b[1m[\u001b[0m\n",
              "    \u001b[32m'When John and Mary went to the shops, John gave the bag to'\u001b[0m,\n",
              "    \u001b[32m'When John and Mary went to the shops, Mary gave the bag to'\u001b[0m,\n",
              "    \u001b[32m'When Tom and James went to the park, James gave the ball to'\u001b[0m,\n",
              "    \u001b[32m'When Tom and James went to the park, Tom gave the ball to'\u001b[0m,\n",
              "    \u001b[32m'When Dan and Sid went to the shops, Sid gave an apple to'\u001b[0m,\n",
              "    \u001b[32m'When Dan and Sid went to the shops, Dan gave an apple to'\u001b[0m,\n",
              "    \u001b[32m'After Martin and Amy went to the park, Amy gave a drink to'\u001b[0m,\n",
              "    \u001b[32m'After Martin and Amy went to the park, Martin gave a drink to'\u001b[0m\n",
              "\u001b[1m]\u001b[0m\n"
            ],
            "text/html": [
              "<pre style=\"white-space:pre;overflow-x:auto;line-height:normal;font-family:Menlo,'DejaVu Sans Mono',consolas,'Courier New',monospace\"><span style=\"font-weight: bold\">[</span>\n",
              "    <span style=\"color: #008000; text-decoration-color: #008000\">'When John and Mary went to the shops, John gave the bag to'</span>,\n",
              "    <span style=\"color: #008000; text-decoration-color: #008000\">'When John and Mary went to the shops, Mary gave the bag to'</span>,\n",
              "    <span style=\"color: #008000; text-decoration-color: #008000\">'When Tom and James went to the park, James gave the ball to'</span>,\n",
              "    <span style=\"color: #008000; text-decoration-color: #008000\">'When Tom and James went to the park, Tom gave the ball to'</span>,\n",
              "    <span style=\"color: #008000; text-decoration-color: #008000\">'When Dan and Sid went to the shops, Sid gave an apple to'</span>,\n",
              "    <span style=\"color: #008000; text-decoration-color: #008000\">'When Dan and Sid went to the shops, Dan gave an apple to'</span>,\n",
              "    <span style=\"color: #008000; text-decoration-color: #008000\">'After Martin and Amy went to the park, Amy gave a drink to'</span>,\n",
              "    <span style=\"color: #008000; text-decoration-color: #008000\">'After Martin and Amy went to the park, Martin gave a drink to'</span>\n",
              "<span style=\"font-weight: bold\">]</span>\n",
              "</pre>\n"
            ]
          },
          "metadata": {}
        },
        {
          "output_type": "display_data",
          "data": {
            "text/plain": [
              "\u001b[1m[\u001b[0m\n",
              "    \u001b[1m(\u001b[0m\u001b[32m' Mary'\u001b[0m, \u001b[32m' John'\u001b[0m\u001b[1m)\u001b[0m,\n",
              "    \u001b[1m(\u001b[0m\u001b[32m' John'\u001b[0m, \u001b[32m' Mary'\u001b[0m\u001b[1m)\u001b[0m,\n",
              "    \u001b[1m(\u001b[0m\u001b[32m' Tom'\u001b[0m, \u001b[32m' James'\u001b[0m\u001b[1m)\u001b[0m,\n",
              "    \u001b[1m(\u001b[0m\u001b[32m' James'\u001b[0m, \u001b[32m' Tom'\u001b[0m\u001b[1m)\u001b[0m,\n",
              "    \u001b[1m(\u001b[0m\u001b[32m' Dan'\u001b[0m, \u001b[32m' Sid'\u001b[0m\u001b[1m)\u001b[0m,\n",
              "    \u001b[1m(\u001b[0m\u001b[32m' Sid'\u001b[0m, \u001b[32m' Dan'\u001b[0m\u001b[1m)\u001b[0m,\n",
              "    \u001b[1m(\u001b[0m\u001b[32m' Martin'\u001b[0m, \u001b[32m' Amy'\u001b[0m\u001b[1m)\u001b[0m,\n",
              "    \u001b[1m(\u001b[0m\u001b[32m' Amy'\u001b[0m, \u001b[32m' Martin'\u001b[0m\u001b[1m)\u001b[0m\n",
              "\u001b[1m]\u001b[0m\n"
            ],
            "text/html": [
              "<pre style=\"white-space:pre;overflow-x:auto;line-height:normal;font-family:Menlo,'DejaVu Sans Mono',consolas,'Courier New',monospace\"><span style=\"font-weight: bold\">[</span>\n",
              "    <span style=\"font-weight: bold\">(</span><span style=\"color: #008000; text-decoration-color: #008000\">' Mary'</span>, <span style=\"color: #008000; text-decoration-color: #008000\">' John'</span><span style=\"font-weight: bold\">)</span>,\n",
              "    <span style=\"font-weight: bold\">(</span><span style=\"color: #008000; text-decoration-color: #008000\">' John'</span>, <span style=\"color: #008000; text-decoration-color: #008000\">' Mary'</span><span style=\"font-weight: bold\">)</span>,\n",
              "    <span style=\"font-weight: bold\">(</span><span style=\"color: #008000; text-decoration-color: #008000\">' Tom'</span>, <span style=\"color: #008000; text-decoration-color: #008000\">' James'</span><span style=\"font-weight: bold\">)</span>,\n",
              "    <span style=\"font-weight: bold\">(</span><span style=\"color: #008000; text-decoration-color: #008000\">' James'</span>, <span style=\"color: #008000; text-decoration-color: #008000\">' Tom'</span><span style=\"font-weight: bold\">)</span>,\n",
              "    <span style=\"font-weight: bold\">(</span><span style=\"color: #008000; text-decoration-color: #008000\">' Dan'</span>, <span style=\"color: #008000; text-decoration-color: #008000\">' Sid'</span><span style=\"font-weight: bold\">)</span>,\n",
              "    <span style=\"font-weight: bold\">(</span><span style=\"color: #008000; text-decoration-color: #008000\">' Sid'</span>, <span style=\"color: #008000; text-decoration-color: #008000\">' Dan'</span><span style=\"font-weight: bold\">)</span>,\n",
              "    <span style=\"font-weight: bold\">(</span><span style=\"color: #008000; text-decoration-color: #008000\">' Martin'</span>, <span style=\"color: #008000; text-decoration-color: #008000\">' Amy'</span><span style=\"font-weight: bold\">)</span>,\n",
              "    <span style=\"font-weight: bold\">(</span><span style=\"color: #008000; text-decoration-color: #008000\">' Amy'</span>, <span style=\"color: #008000; text-decoration-color: #008000\">' Martin'</span><span style=\"font-weight: bold\">)</span>\n",
              "<span style=\"font-weight: bold\">]</span>\n",
              "</pre>\n"
            ]
          },
          "metadata": {}
        },
        {
          "output_type": "display_data",
          "data": {
            "text/plain": [
              "\u001b[1;35mtensor\u001b[0m\u001b[1m(\u001b[0m\u001b[1m[\u001b[0m\u001b[1m[\u001b[0m \u001b[1;36m5335\u001b[0m,  \u001b[1;36m1757\u001b[0m\u001b[1m]\u001b[0m,\n",
              "        \u001b[1m[\u001b[0m \u001b[1;36m1757\u001b[0m,  \u001b[1;36m5335\u001b[0m\u001b[1m]\u001b[0m,\n",
              "        \u001b[1m[\u001b[0m \u001b[1;36m4186\u001b[0m,  \u001b[1;36m3700\u001b[0m\u001b[1m]\u001b[0m,\n",
              "        \u001b[1m[\u001b[0m \u001b[1;36m3700\u001b[0m,  \u001b[1;36m4186\u001b[0m\u001b[1m]\u001b[0m,\n",
              "        \u001b[1m[\u001b[0m \u001b[1;36m6035\u001b[0m, \u001b[1;36m15686\u001b[0m\u001b[1m]\u001b[0m,\n",
              "        \u001b[1m[\u001b[0m\u001b[1;36m15686\u001b[0m,  \u001b[1;36m6035\u001b[0m\u001b[1m]\u001b[0m,\n",
              "        \u001b[1m[\u001b[0m \u001b[1;36m5780\u001b[0m, \u001b[1;36m14235\u001b[0m\u001b[1m]\u001b[0m,\n",
              "        \u001b[1m[\u001b[0m\u001b[1;36m14235\u001b[0m,  \u001b[1;36m5780\u001b[0m\u001b[1m]\u001b[0m\u001b[1m]\u001b[0m\u001b[1m)\u001b[0m\n"
            ],
            "text/html": [
              "<pre style=\"white-space:pre;overflow-x:auto;line-height:normal;font-family:Menlo,'DejaVu Sans Mono',consolas,'Courier New',monospace\"><span style=\"color: #800080; text-decoration-color: #800080; font-weight: bold\">tensor</span><span style=\"font-weight: bold\">([[</span> <span style=\"color: #008080; text-decoration-color: #008080; font-weight: bold\">5335</span>,  <span style=\"color: #008080; text-decoration-color: #008080; font-weight: bold\">1757</span><span style=\"font-weight: bold\">]</span>,\n",
              "        <span style=\"font-weight: bold\">[</span> <span style=\"color: #008080; text-decoration-color: #008080; font-weight: bold\">1757</span>,  <span style=\"color: #008080; text-decoration-color: #008080; font-weight: bold\">5335</span><span style=\"font-weight: bold\">]</span>,\n",
              "        <span style=\"font-weight: bold\">[</span> <span style=\"color: #008080; text-decoration-color: #008080; font-weight: bold\">4186</span>,  <span style=\"color: #008080; text-decoration-color: #008080; font-weight: bold\">3700</span><span style=\"font-weight: bold\">]</span>,\n",
              "        <span style=\"font-weight: bold\">[</span> <span style=\"color: #008080; text-decoration-color: #008080; font-weight: bold\">3700</span>,  <span style=\"color: #008080; text-decoration-color: #008080; font-weight: bold\">4186</span><span style=\"font-weight: bold\">]</span>,\n",
              "        <span style=\"font-weight: bold\">[</span> <span style=\"color: #008080; text-decoration-color: #008080; font-weight: bold\">6035</span>, <span style=\"color: #008080; text-decoration-color: #008080; font-weight: bold\">15686</span><span style=\"font-weight: bold\">]</span>,\n",
              "        <span style=\"font-weight: bold\">[</span><span style=\"color: #008080; text-decoration-color: #008080; font-weight: bold\">15686</span>,  <span style=\"color: #008080; text-decoration-color: #008080; font-weight: bold\">6035</span><span style=\"font-weight: bold\">]</span>,\n",
              "        <span style=\"font-weight: bold\">[</span> <span style=\"color: #008080; text-decoration-color: #008080; font-weight: bold\">5780</span>, <span style=\"color: #008080; text-decoration-color: #008080; font-weight: bold\">14235</span><span style=\"font-weight: bold\">]</span>,\n",
              "        <span style=\"font-weight: bold\">[</span><span style=\"color: #008080; text-decoration-color: #008080; font-weight: bold\">14235</span>,  <span style=\"color: #008080; text-decoration-color: #008080; font-weight: bold\">5780</span><span style=\"font-weight: bold\">]])</span>\n",
              "</pre>\n"
            ]
          },
          "metadata": {}
        }
      ],
      "source": [
        "prompt_format = [\n",
        "    \"When John and Mary went to the shops,{} gave the bag to\",\n",
        "    \"When Tom and James went to the park,{} gave the ball to\",\n",
        "    \"When Dan and Sid went to the shops,{} gave an apple to\",\n",
        "    \"After Martin and Amy went to the park,{} gave a drink to\",\n",
        "]\n",
        "name_pairs = [\n",
        "    (\" Mary\", \" John\"),\n",
        "    (\" Tom\", \" James\"),\n",
        "    (\" Dan\", \" Sid\"),\n",
        "    (\" Martin\", \" Amy\"),\n",
        "]\n",
        "\n",
        "# Define 8 prompts, in 4 groups of 2 (with adjacent prompts having answers swapped)\n",
        "prompts = [\n",
        "    prompt.format(name)\n",
        "    for (prompt, names) in zip(prompt_format, name_pairs) for name in names[::-1]\n",
        "]\n",
        "# Define the answers for each prompt, in the form (correct, incorrect)\n",
        "answers = [names[::i] for names in name_pairs for i in (1, -1)]\n",
        "# Define the answer tokens (same shape as the answers)\n",
        "answer_tokens = t.concat([\n",
        "    model.to_tokens(names, prepend_bos=False).T for names in answers\n",
        "])\n",
        "\n",
        "rprint(prompts)\n",
        "rprint(answers)\n",
        "rprint(answer_tokens)"
      ]
    },
    {
      "cell_type": "code",
      "execution_count": 48,
      "metadata": {
        "id": "gzlgQY8Rl6mF",
        "colab": {
          "base_uri": "https://localhost:8080/",
          "height": 225
        },
        "outputId": "dc8e9ca7-26d0-4774-d519-cd238b752bf9"
      },
      "outputs": [
        {
          "output_type": "display_data",
          "data": {
            "text/plain": [
              "\u001b[3m                                   Prompts & Answers:                                    \u001b[0m\n",
              "┏━━━━━━━━━━━━━━━━━━━━━━━━━━━━━━━━━━━━━━━━━━━━━━━━━━━━━━━━━━━━━━━┳━━━━━━━━━━━┳━━━━━━━━━━━┓\n",
              "┃\u001b[1m \u001b[0m\u001b[1mPrompt                                                       \u001b[0m\u001b[1m \u001b[0m┃\u001b[1m \u001b[0m\u001b[1mCorrect  \u001b[0m\u001b[1m \u001b[0m┃\u001b[1m \u001b[0m\u001b[1mIncorrect\u001b[0m\u001b[1m \u001b[0m┃\n",
              "┡━━━━━━━━━━━━━━━━━━━━━━━━━━━━━━━━━━━━━━━━━━━━━━━━━━━━━━━━━━━━━━━╇━━━━━━━━━━━╇━━━━━━━━━━━┩\n",
              "│ When John and Mary went to the shops, John gave the bag to    │ ' Mary'   │ ' John'   │\n",
              "│ When John and Mary went to the shops, Mary gave the bag to    │ ' John'   │ ' Mary'   │\n",
              "│ When Tom and James went to the park, James gave the ball to   │ ' Tom'    │ ' James'  │\n",
              "│ When Tom and James went to the park, Tom gave the ball to     │ ' James'  │ ' Tom'    │\n",
              "│ When Dan and Sid went to the shops, Sid gave an apple to      │ ' Dan'    │ ' Sid'    │\n",
              "│ When Dan and Sid went to the shops, Dan gave an apple to      │ ' Sid'    │ ' Dan'    │\n",
              "│ After Martin and Amy went to the park, Amy gave a drink to    │ ' Martin' │ ' Amy'    │\n",
              "│ After Martin and Amy went to the park, Martin gave a drink to │ ' Amy'    │ ' Martin' │\n",
              "└───────────────────────────────────────────────────────────────┴───────────┴───────────┘\n"
            ],
            "text/html": [
              "<pre style=\"white-space:pre;overflow-x:auto;line-height:normal;font-family:Menlo,'DejaVu Sans Mono',consolas,'Courier New',monospace\"><span style=\"font-style: italic\">                                   Prompts &amp; Answers:                                    </span>\n",
              "┏━━━━━━━━━━━━━━━━━━━━━━━━━━━━━━━━━━━━━━━━━━━━━━━━━━━━━━━━━━━━━━━┳━━━━━━━━━━━┳━━━━━━━━━━━┓\n",
              "┃<span style=\"font-weight: bold\"> Prompt                                                        </span>┃<span style=\"font-weight: bold\"> Correct   </span>┃<span style=\"font-weight: bold\"> Incorrect </span>┃\n",
              "┡━━━━━━━━━━━━━━━━━━━━━━━━━━━━━━━━━━━━━━━━━━━━━━━━━━━━━━━━━━━━━━━╇━━━━━━━━━━━╇━━━━━━━━━━━┩\n",
              "│ When John and Mary went to the shops, John gave the bag to    │ ' Mary'   │ ' John'   │\n",
              "│ When John and Mary went to the shops, Mary gave the bag to    │ ' John'   │ ' Mary'   │\n",
              "│ When Tom and James went to the park, James gave the ball to   │ ' Tom'    │ ' James'  │\n",
              "│ When Tom and James went to the park, Tom gave the ball to     │ ' James'  │ ' Tom'    │\n",
              "│ When Dan and Sid went to the shops, Sid gave an apple to      │ ' Dan'    │ ' Sid'    │\n",
              "│ When Dan and Sid went to the shops, Dan gave an apple to      │ ' Sid'    │ ' Dan'    │\n",
              "│ After Martin and Amy went to the park, Amy gave a drink to    │ ' Martin' │ ' Amy'    │\n",
              "│ After Martin and Amy went to the park, Martin gave a drink to │ ' Amy'    │ ' Martin' │\n",
              "└───────────────────────────────────────────────────────────────┴───────────┴───────────┘\n",
              "</pre>\n"
            ]
          },
          "metadata": {}
        }
      ],
      "source": [
        "table = Table(\"Prompt\", \"Correct\", \"Incorrect\", title=\"Prompts & Answers:\")\n",
        "\n",
        "for prompt, answer in zip(prompts, answers):\n",
        "    table.add_row(prompt, repr(answer[0]), repr(answer[1]))\n",
        "\n",
        "rprint(table)"
      ]
    },
    {
      "cell_type": "markdown",
      "metadata": {
        "id": "5v7gHXCel6mF"
      },
      "source": [
        "<details>\n",
        "<summary>Aside - the <code>rich</code> library</summary>\n",
        "\n",
        "The outputs above were created by `rich`, a fun library which prints things in nice formats. It has functions like `rich.table.Table`, which are very easy to use but can produce visually clear outputs which are sometimes useful.\n",
        "\n",
        "You can also color the columns of a table, by using the `rich.table.Column` argument with the `style` parameter:\n",
        "\n",
        "```python\n",
        "cols = [\n",
        "    \"Prompt\",\n",
        "    Column(\"Correct\", style=\"rgb(0,200,0) bold\"),\n",
        "    Column(\"Incorrect\", style=\"rgb(255,0,0) bold\"),\n",
        "]\n",
        "table = Table(*cols, title=\"Prompts & Answers:\")\n",
        "\n",
        "for prompt, answer in zip(prompts, answers):\n",
        "    table.add_row(prompt, repr(answer[0]), repr(answer[1]))\n",
        "\n",
        "rprint(table)\n",
        "```\n",
        "</details>\n"
      ]
    },
    {
      "cell_type": "markdown",
      "metadata": {
        "id": "6FoCmo59l6mF"
      },
      "source": [
        "We now run the model on these prompts and use `run_with_cache` to get both the logits and a cache of all internal activations for later analysis.\n"
      ]
    },
    {
      "cell_type": "code",
      "execution_count": 49,
      "metadata": {
        "id": "msI0O5jCl6mF"
      },
      "outputs": [],
      "source": [
        "tokens = model.to_tokens(prompts, prepend_bos=True)\n",
        "# Move the tokens to the GPU\n",
        "tokens = tokens.to(device)\n",
        "# Run the model and cache all activations\n",
        "original_logits, cache = model.run_with_cache(tokens)"
      ]
    },
    {
      "cell_type": "markdown",
      "metadata": {
        "id": "VcOaXf3sl6mF"
      },
      "source": [
        "We'll later be evaluating how model performance differs upon performing various interventions, so it's useful to have a metric to measure model performance. Our metric here will be the **logit difference**, the difference in logit between the indirect object's name and the subject's name (eg, `logit(Mary) - logit(John)`).\n"
      ]
    },
    {
      "cell_type": "markdown",
      "metadata": {
        "id": "LeRIzLuCl6mF"
      },
      "source": [
        "## Exercise - implement the performance evaluation function\n",
        "\n",
        "```c\n",
        "Difficulty: 🔴🔴🔴⚪⚪\n",
        "Importance: 🔵🔵🔵🔵⚪\n",
        "\n",
        "You should spend up to 10-15 minutes on this exercise.\n",
        "\n",
        "It's important to understand exactly what this function is computing, and why it matters.\n",
        "```\n",
        "\n",
        "This function should take in your model's logit output (shape `(batch, seq, d_vocab)`), and the array of answer tokens (shape `(batch, 2)`, containing the token ids of correct and incorrect answers respectively for each sequence), and return the logit difference as described above. If `per_prompt` is False, then it should take the mean over the batch dimension, if not then it should return an array of length `batch`.\n"
      ]
    },
    {
      "cell_type": "code",
      "execution_count": 50,
      "metadata": {
        "id": "t8chMxqel6mF",
        "colab": {
          "base_uri": "https://localhost:8080/",
          "height": 277
        },
        "outputId": "57c9dd2a-bbba-489a-82fb-ec8f0936f7d6"
      },
      "outputs": [
        {
          "output_type": "stream",
          "name": "stdout",
          "text": [
            "All tests in `test_logits_to_ave_logit_diff` passed!\n",
            "Per prompt logit difference: tensor([3.3367, 3.2016, 2.7094, 3.7975, 1.7204, 5.2812, 2.6008, 5.7674])\n",
            "Average logit difference: tensor(3.5519)\n"
          ]
        },
        {
          "output_type": "display_data",
          "data": {
            "text/plain": [
              "\u001b[3m                                             Logit differences                                              \u001b[0m\n",
              "┏━━━━━━━━━━━━━━━━━━━━━━━━━━━━━━━━━━━━━━━━━━━━━━━━━━━━━━━━━━━━━━━┳━━━━━━━━━━━┳━━━━━━━━━━━┳━━━━━━━━━━━━━━━━━━┓\n",
              "┃\u001b[1m \u001b[0m\u001b[1mPrompt                                                       \u001b[0m\u001b[1m \u001b[0m┃\u001b[1m \u001b[0m\u001b[1mCorrect  \u001b[0m\u001b[1m \u001b[0m┃\u001b[1m \u001b[0m\u001b[1mIncorrect\u001b[0m\u001b[1m \u001b[0m┃\u001b[1m \u001b[0m\u001b[1mLogit Difference\u001b[0m\u001b[1m \u001b[0m┃\n",
              "┡━━━━━━━━━━━━━━━━━━━━━━━━━━━━━━━━━━━━━━━━━━━━━━━━━━━━━━━━━━━━━━━╇━━━━━━━━━━━╇━━━━━━━━━━━╇━━━━━━━━━━━━━━━━━━┩\n",
              "│ When John and Mary went to the shops, John gave the bag to    │\u001b[1;38;2;0;200;0m \u001b[0m\u001b[1;38;2;0;200;0m' Mary'  \u001b[0m\u001b[1;38;2;0;200;0m \u001b[0m│\u001b[1;38;2;255;0;0m \u001b[0m\u001b[1;38;2;255;0;0m' John'  \u001b[0m\u001b[1;38;2;255;0;0m \u001b[0m│\u001b[1m \u001b[0m\u001b[1m3.337           \u001b[0m\u001b[1m \u001b[0m│\n",
              "│ When John and Mary went to the shops, Mary gave the bag to    │\u001b[1;38;2;0;200;0m \u001b[0m\u001b[1;38;2;0;200;0m' John'  \u001b[0m\u001b[1;38;2;0;200;0m \u001b[0m│\u001b[1;38;2;255;0;0m \u001b[0m\u001b[1;38;2;255;0;0m' Mary'  \u001b[0m\u001b[1;38;2;255;0;0m \u001b[0m│\u001b[1m \u001b[0m\u001b[1m3.202           \u001b[0m\u001b[1m \u001b[0m│\n",
              "│ When Tom and James went to the park, James gave the ball to   │\u001b[1;38;2;0;200;0m \u001b[0m\u001b[1;38;2;0;200;0m' Tom'   \u001b[0m\u001b[1;38;2;0;200;0m \u001b[0m│\u001b[1;38;2;255;0;0m \u001b[0m\u001b[1;38;2;255;0;0m' James' \u001b[0m\u001b[1;38;2;255;0;0m \u001b[0m│\u001b[1m \u001b[0m\u001b[1m2.709           \u001b[0m\u001b[1m \u001b[0m│\n",
              "│ When Tom and James went to the park, Tom gave the ball to     │\u001b[1;38;2;0;200;0m \u001b[0m\u001b[1;38;2;0;200;0m' James' \u001b[0m\u001b[1;38;2;0;200;0m \u001b[0m│\u001b[1;38;2;255;0;0m \u001b[0m\u001b[1;38;2;255;0;0m' Tom'   \u001b[0m\u001b[1;38;2;255;0;0m \u001b[0m│\u001b[1m \u001b[0m\u001b[1m3.797           \u001b[0m\u001b[1m \u001b[0m│\n",
              "│ When Dan and Sid went to the shops, Sid gave an apple to      │\u001b[1;38;2;0;200;0m \u001b[0m\u001b[1;38;2;0;200;0m' Dan'   \u001b[0m\u001b[1;38;2;0;200;0m \u001b[0m│\u001b[1;38;2;255;0;0m \u001b[0m\u001b[1;38;2;255;0;0m' Sid'   \u001b[0m\u001b[1;38;2;255;0;0m \u001b[0m│\u001b[1m \u001b[0m\u001b[1m1.720           \u001b[0m\u001b[1m \u001b[0m│\n",
              "│ When Dan and Sid went to the shops, Dan gave an apple to      │\u001b[1;38;2;0;200;0m \u001b[0m\u001b[1;38;2;0;200;0m' Sid'   \u001b[0m\u001b[1;38;2;0;200;0m \u001b[0m│\u001b[1;38;2;255;0;0m \u001b[0m\u001b[1;38;2;255;0;0m' Dan'   \u001b[0m\u001b[1;38;2;255;0;0m \u001b[0m│\u001b[1m \u001b[0m\u001b[1m5.281           \u001b[0m\u001b[1m \u001b[0m│\n",
              "│ After Martin and Amy went to the park, Amy gave a drink to    │\u001b[1;38;2;0;200;0m \u001b[0m\u001b[1;38;2;0;200;0m' Martin'\u001b[0m\u001b[1;38;2;0;200;0m \u001b[0m│\u001b[1;38;2;255;0;0m \u001b[0m\u001b[1;38;2;255;0;0m' Amy'   \u001b[0m\u001b[1;38;2;255;0;0m \u001b[0m│\u001b[1m \u001b[0m\u001b[1m2.601           \u001b[0m\u001b[1m \u001b[0m│\n",
              "│ After Martin and Amy went to the park, Martin gave a drink to │\u001b[1;38;2;0;200;0m \u001b[0m\u001b[1;38;2;0;200;0m' Amy'   \u001b[0m\u001b[1;38;2;0;200;0m \u001b[0m│\u001b[1;38;2;255;0;0m \u001b[0m\u001b[1;38;2;255;0;0m' Martin'\u001b[0m\u001b[1;38;2;255;0;0m \u001b[0m│\u001b[1m \u001b[0m\u001b[1m5.767           \u001b[0m\u001b[1m \u001b[0m│\n",
              "└───────────────────────────────────────────────────────────────┴───────────┴───────────┴──────────────────┘\n"
            ],
            "text/html": [
              "<pre style=\"white-space:pre;overflow-x:auto;line-height:normal;font-family:Menlo,'DejaVu Sans Mono',consolas,'Courier New',monospace\"><span style=\"font-style: italic\">                                             Logit differences                                              </span>\n",
              "┏━━━━━━━━━━━━━━━━━━━━━━━━━━━━━━━━━━━━━━━━━━━━━━━━━━━━━━━━━━━━━━━┳━━━━━━━━━━━┳━━━━━━━━━━━┳━━━━━━━━━━━━━━━━━━┓\n",
              "┃<span style=\"font-weight: bold\"> Prompt                                                        </span>┃<span style=\"font-weight: bold\"> Correct   </span>┃<span style=\"font-weight: bold\"> Incorrect </span>┃<span style=\"font-weight: bold\"> Logit Difference </span>┃\n",
              "┡━━━━━━━━━━━━━━━━━━━━━━━━━━━━━━━━━━━━━━━━━━━━━━━━━━━━━━━━━━━━━━━╇━━━━━━━━━━━╇━━━━━━━━━━━╇━━━━━━━━━━━━━━━━━━┩\n",
              "│ When John and Mary went to the shops, John gave the bag to    │<span style=\"color: #00c800; text-decoration-color: #00c800; font-weight: bold\"> ' Mary'   </span>│<span style=\"color: #ff0000; text-decoration-color: #ff0000; font-weight: bold\"> ' John'   </span>│<span style=\"font-weight: bold\"> 3.337            </span>│\n",
              "│ When John and Mary went to the shops, Mary gave the bag to    │<span style=\"color: #00c800; text-decoration-color: #00c800; font-weight: bold\"> ' John'   </span>│<span style=\"color: #ff0000; text-decoration-color: #ff0000; font-weight: bold\"> ' Mary'   </span>│<span style=\"font-weight: bold\"> 3.202            </span>│\n",
              "│ When Tom and James went to the park, James gave the ball to   │<span style=\"color: #00c800; text-decoration-color: #00c800; font-weight: bold\"> ' Tom'    </span>│<span style=\"color: #ff0000; text-decoration-color: #ff0000; font-weight: bold\"> ' James'  </span>│<span style=\"font-weight: bold\"> 2.709            </span>│\n",
              "│ When Tom and James went to the park, Tom gave the ball to     │<span style=\"color: #00c800; text-decoration-color: #00c800; font-weight: bold\"> ' James'  </span>│<span style=\"color: #ff0000; text-decoration-color: #ff0000; font-weight: bold\"> ' Tom'    </span>│<span style=\"font-weight: bold\"> 3.797            </span>│\n",
              "│ When Dan and Sid went to the shops, Sid gave an apple to      │<span style=\"color: #00c800; text-decoration-color: #00c800; font-weight: bold\"> ' Dan'    </span>│<span style=\"color: #ff0000; text-decoration-color: #ff0000; font-weight: bold\"> ' Sid'    </span>│<span style=\"font-weight: bold\"> 1.720            </span>│\n",
              "│ When Dan and Sid went to the shops, Dan gave an apple to      │<span style=\"color: #00c800; text-decoration-color: #00c800; font-weight: bold\"> ' Sid'    </span>│<span style=\"color: #ff0000; text-decoration-color: #ff0000; font-weight: bold\"> ' Dan'    </span>│<span style=\"font-weight: bold\"> 5.281            </span>│\n",
              "│ After Martin and Amy went to the park, Amy gave a drink to    │<span style=\"color: #00c800; text-decoration-color: #00c800; font-weight: bold\"> ' Martin' </span>│<span style=\"color: #ff0000; text-decoration-color: #ff0000; font-weight: bold\"> ' Amy'    </span>│<span style=\"font-weight: bold\"> 2.601            </span>│\n",
              "│ After Martin and Amy went to the park, Martin gave a drink to │<span style=\"color: #00c800; text-decoration-color: #00c800; font-weight: bold\"> ' Amy'    </span>│<span style=\"color: #ff0000; text-decoration-color: #ff0000; font-weight: bold\"> ' Martin' </span>│<span style=\"font-weight: bold\"> 5.767            </span>│\n",
              "└───────────────────────────────────────────────────────────────┴───────────┴───────────┴──────────────────┘\n",
              "</pre>\n"
            ]
          },
          "metadata": {}
        }
      ],
      "source": [
        "def logits_to_ave_logit_diff(\n",
        "    logits: Float[Tensor, \"batch seq d_vocab\"],\n",
        "    answer_tokens: Float[Tensor, \"batch 2\"] = answer_tokens,\n",
        "    per_prompt: bool = False\n",
        ") -> Union[Float[Tensor, \"\"], Float[Tensor, \"batch\"]]:\n",
        "    '''\n",
        "    Returns logit difference between the correct and incorrect answer.\n",
        "\n",
        "    If per_prompt=True, return the array of differences rather than the average.\n",
        "    '''\n",
        "    # print(answer_tokens[:, 0].shape)\n",
        "    answer_logits = t.gather(logits[:, -1, :], -1, answer_tokens)\n",
        "    # print(answer_logits.shape)\n",
        "    out = answer_logits[:, 0] - answer_logits[:, 1]\n",
        "    return out if per_prompt else out.mean()\n",
        "\n",
        "tests.test_logits_to_ave_logit_diff(logits_to_ave_logit_diff)\n",
        "\n",
        "original_per_prompt_diff = logits_to_ave_logit_diff(original_logits, answer_tokens, per_prompt=True)\n",
        "print(\"Per prompt logit difference:\", original_per_prompt_diff)\n",
        "original_average_logit_diff = logits_to_ave_logit_diff(original_logits, answer_tokens)\n",
        "print(\"Average logit difference:\", original_average_logit_diff)\n",
        "\n",
        "cols = [\n",
        "    \"Prompt\",\n",
        "    Column(\"Correct\", style=\"rgb(0,200,0) bold\"),\n",
        "    Column(\"Incorrect\", style=\"rgb(255,0,0) bold\"),\n",
        "    Column(\"Logit Difference\", style=\"bold\")\n",
        "]\n",
        "table = Table(*cols, title=\"Logit differences\")\n",
        "\n",
        "for prompt, answer, logit_diff in zip(prompts, answers, original_per_prompt_diff):\n",
        "    table.add_row(prompt, repr(answer[0]), repr(answer[1]), f\"{logit_diff.item():.3f}\")\n",
        "\n",
        "rprint(table)"
      ]
    },
    {
      "cell_type": "markdown",
      "metadata": {
        "id": "u7JPGqrcl6mG"
      },
      "source": [
        "## Brainstorm What's Actually Going On\n"
      ]
    },
    {
      "cell_type": "markdown",
      "metadata": {
        "id": "gSfB10X6d294"
      },
      "source": [
        "\n",
        "Before diving into running experiments, it's often useful to spend some time actually reasoning about how the behaviour in question could be implemented in the transformer. **This is optional, and you'll likely get the most out of engaging with this section if you have a decent understanding already of what a transformer is and how it works!**\n",
        "\n",
        "You don't have to do this and forming hypotheses after exploration is also reasonable, but I think it's often easier to explore and interpret results with some grounding in what you might find. In this particular case, I'm cheating somewhat, since I know the answer, but I'm trying to simulate the process of reasoning about it!\n",
        "\n",
        "Note that often your hypothesis will be wrong in some ways and often be completely off. We're doing science here, and the goal is to understand how the model *actually* works, and to form true beliefs! There are two separate traps here at two extremes that it's worth tracking:\n",
        "* Confusion: Having no hypotheses at all, getting a lot of data and not knowing what to do with it, and just floundering around\n",
        "* Dogmatism: Being overconfident in an incorrect hypothesis and being unwilling to let go of it when reality contradicts you, or flinching away from running the experiments that might disconfirm it.\n",
        "\n",
        "**Exercise:** Spend some time thinking through how you might imagine this behaviour being implemented in a transformer. Try to think through this for yourself before reading through my thoughts!\n",
        "\n",
        "<details> <summary>(*) <b>My reasoning</b></summary>\n",
        "\n",
        "<h3>Brainstorming:</h3>\n",
        "\n",
        "So, what's hard about the task? Let's focus on the concrete example of the first prompt, `\"When John and Mary went to the shops, John gave the bag to\" -> \" Mary\"`.\n",
        "\n",
        "A good starting point is thinking though whether a tiny model could do this, e.g. a <a href=\"https://transformer-circuits.pub/2021/framework/index.html\">1L Attn-Only model</a>. I'm pretty sure the answer is no! Attention is really good at the primitive operations of looking nearby, or copying information. I can believe a tiny model could figure out that at `to` it should look for names and predict that those names came next (e.g. the skip trigram \" John...to -> John\"). But it's much harder to tell how <i>many</i> of each previous name there are - attending to each copy of John will look exactly the same as attending to a single John token. So this will be pretty hard to figure out on the \" to\" token!\n",
        "\n",
        "The natural place to break this symmetry is on the second `\" John\"` token - telling whether there is an earlier copy of the <i>current</i> token should be a much easier task. So I might expect there to be a head which detects duplicate tokens on the second `\" John\"` token, and then another head which moves that information from the second `\" John` token to the `\" to\"` token.\n",
        "\n",
        "The model then needs to learn to predict `\" Mary\"` and <i>not</i> `\" John\"`. I can see two natural ways to do this:\n",
        "1. Detect all preceding names and move this information to \" to\" and then delete the any name corresponding to the duplicate token feature. This feels easier done with a non-linearity, since precisely cancelling out vectors is hard, so I'd imagine an MLP layer deletes the `\" John\"` direction of the residual stream.\n",
        "2. Have a head which attends to all previous names, but where the duplicate token features <i>inhibit</i> it from attending to specific names. So this only attends to Mary. And then the output of this head maps to the logits.\n",
        "\n",
        "<details>\n",
        "<summary>Spoiler - which one of these two is correct</summary>\n",
        "\n",
        "It's the second one.\n",
        "</details>\n",
        "\n",
        "<h3>Experiment Ideas</h3>\n",
        "\n",
        "A test that could distinguish these two is to look at which components of the model add directly to the logits - if it's mostly attention heads which attend to `\" Mary\"` and to neither `\" John\"` it's probably hypothesis 2, if it's mostly MLPs it's probably hypothesis 1.\n",
        "\n",
        "And we should be able to identify duplicate token heads by finding ones which attend from `\" John\"` to `\" John\"`, and whose outputs are then moved to the `\" to\"` token by V-Composition with another head (Spoiler: It's more complicated than that!)\n",
        "\n",
        "Note that all of the above reasoning is very simplistic and could easily break in a real model! There'll be significant parts of the model that figure out whether to use this circuit at all (we don't want to inhibit duplicated names when, e.g. figuring out what goes at the start of the <i>next</i> sentence), and may be parts towards the end of the model that do \"post-processing\" just before the final output. But it's a good starting point for thinking about what's going on.\n",
        "\n",
        "</details>\n"
      ]
    },
    {
      "cell_type": "markdown",
      "metadata": {
        "id": "jX5wBPspl6mG"
      },
      "source": [
        "# 2️⃣ Logit Attribution\n"
      ]
    },
    {
      "cell_type": "markdown",
      "metadata": {
        "id": "GAfC9xEUd294"
      },
      "source": [
        "> ##### Learning objectives\n",
        ">\n",
        "> * Perform direct logit attribution to figure out which heads are writing to the residual stream in a significant way\n",
        "> * Learn how to use different transformerlens helper functions, which decompose the residual stream in different ways\n"
      ]
    },
    {
      "cell_type": "markdown",
      "metadata": {
        "id": "P3xzQ0j6l6mG"
      },
      "source": [
        "## Direct Logit Attribution\n"
      ]
    },
    {
      "cell_type": "markdown",
      "metadata": {
        "id": "JvDB7Lvsl6mG"
      },
      "source": [
        "The easiest part of the model to understand is the output - this is what the model is trained to optimize, and so it can always be directly interpreted! Often the right approach to reverse engineering a circuit is to start at the end, understand how the model produces the right answer, and to then work backwards (you will have seen this if you went through the balanced bracket classifier task, and in fact if you did then this section will probably be quite familiar to you and you should feel free to just skim through it). The main technique used to do this is called **direct logit attribution**\n",
        "\n",
        "**Background:** The central object of a transformer is the **residual stream**. This is the sum of the outputs of each layer and of the original token and positional embedding. Importantly, this means that any linear function of the residual stream can be perfectly decomposed into the contribution of each layer of the transformer. Further, each attention layer's output can be broken down into the sum of the output of each head (See [A Mathematical Framework for Transformer Circuits](https://transformer-circuits.pub/2021/framework/index.html) for details), and each MLP layer's output can be broken down into the sum of the output of each neuron (and a bias term for each layer).\n",
        "\n",
        "The logits of a model are `logits=Unembed(LayerNorm(final_residual_stream))`. The Unembed is a linear map, and LayerNorm is approximately a linear map, so we can decompose the logits into the sum of the contributions of each component, and look at which components contribute the most to the logit of the correct token! This is called **direct logit attribution**. Here we look at the direct attribution to the logit difference!\n"
      ]
    },
    {
      "cell_type": "markdown",
      "metadata": {
        "id": "QC1-upzol6mG"
      },
      "source": [
        "### Background and motivation of the logit difference\n",
        "\n",
        "Logit difference is actually a *really* nice and elegant metric and is a particularly nice aspect of the setup of Indirect Object Identification. In general, there are two natural ways to interpret the model's outputs: the output logits, or the output log probabilities (or probabilities).\n",
        "\n",
        "The logits are much nicer and easier to understand, as noted above. However, the model is trained to optimize the cross-entropy loss (the average of log probability of the correct token). This means it does not directly optimize the logits, and indeed if the model adds an arbitrary constant to every logit, the log probabilities are unchanged.\n",
        "\n",
        "But we have:\n",
        "\n",
        "```\n",
        "log_probs == logits.log_softmax(dim=-1) == logits - logsumexp(logits)\n",
        "```\n",
        "\n",
        "and so:\n",
        "\n",
        "```\n",
        "log_probs(\" Mary\") - log_probs(\" John\") = logits(\" Mary\") - logits(\" John\")\n",
        "```\n",
        "\n",
        "- the ability to add an arbitrary constant cancels out!\n",
        "\n",
        "<details>\n",
        "<summary>Technical details (if this equivalence doesn't seem obvious to you)</summary>\n",
        "\n",
        "Let $\\vec{\\textbf{x}}$ be the logits, $\\vec{\\textbf{L}}$ be the log probs, and $\\vec{\\textbf{p}}$ be the probs. Then we have the following relations:\n",
        "\n",
        "$$\n",
        "p_i = \\operatorname{softmax}(\\vec{\\textbf{x}})_i = \\frac{e^{x_i}}{\\sum_{i=1}^n e^{x_i}}\n",
        "$$\n",
        "\n",
        "and:\n",
        "\n",
        "$$\n",
        "L_i = \\log p_i\n",
        "$$\n",
        "\n",
        "Combining these, we get:\n",
        "\n",
        "$$\n",
        "L_i = \\log \\frac{e^{x_i}}{\\sum_{j=1}^n e^{x_j}} = x_i - \\log \\sum_{j=1}^n e^{x_j}\n",
        "$$\n",
        "\n",
        "Notice that the sum term on the right hand side is the same for all $i$, so we get:\n",
        "\n",
        "$$\n",
        "L_i - L_j = x_i - x_j\n",
        "$$\n",
        "\n",
        "in other words, the logit diff $x_i - x_j$ is the same as the log prob diff. This motivates the choice of logit diff as our choice of metric (since the model is directly training to make the log prob of the correct token large, and all other log probs small).\n",
        "\n",
        "</details>\n",
        "\n",
        "Further, the metric helps us isolate the precise capability we care about - figuring out *which* name is the Indirect Object. There are many other components of the task - deciding whether to return an article (the) or pronoun (her) or name, realising that the sentence wants a person next at all, etc. By taking the logit difference we control for all of that.\n",
        "\n",
        "Our metric is further refined, because each prompt is repeated twice, for each possible indirect object. This controls for irrelevant behaviour such as the model learning that John is a more frequent token than Mary (this actually happens! The final layernorm bias increases the John logit by 1 relative to the Mary logit). Another way to handle this would be to use a large enough dataset (with names randomly chosen) that this effect is averaged out, which is what we'll do in section 3.\n"
      ]
    },
    {
      "cell_type": "markdown",
      "metadata": {
        "id": "MiRNLqzol6mH"
      },
      "source": [
        "\n",
        "<details> <summary>Ignoring LayerNorm</summary>\n",
        "\n",
        "LayerNorm is an analogous normalization technique to BatchNorm (that's friendlier to massive parallelization) that transformers use. Every time a transformer layer reads information from the residual stream, it applies a LayerNorm to normalize the vector at each position (translating to set the mean to 0 and scaling to set the variance to 1) and then applying a learned vector of weights and biases to scale and translate the normalized vector. This is *almost* a linear map, apart from the scaling step, because that divides by the norm of the vector and the norm is not a linear function. (The `fold_ln` flag when loading a model factors out all the linear parts).\n",
        "\n",
        "But if we fixed the scale factor, the LayerNorm would be fully linear. And the scale of the residual stream is a global property that's a function of *all* components of the stream, while in practice there is normally just a few directions relevant to any particular component, so in practice this is an acceptable approximation. So when doing direct logit attribution we use the `apply_ln` flag on the `cache` to apply the global layernorm scaling factor to each constant. See [my clean GPT-2 implementation](https://colab.research.google.com/github/neelnanda-io/TransformerLens/blob/clean-transformer-demo/Clean_Transformer_Demo.ipynb#scrollTo=Clean_Transformer_Implementation) for more on LayerNorm.\n",
        "</details>\n"
      ]
    },
    {
      "cell_type": "markdown",
      "metadata": {
        "id": "N6b6yRIQl6mH"
      },
      "source": [
        "### Logit diff directions\n"
      ]
    },
    {
      "cell_type": "markdown",
      "metadata": {
        "id": "B-e9Gbr3l6mH"
      },
      "source": [
        "***Getting an output logit is equivalent to projecting onto a direction in the residual stream, and the same is true for getting the logit diff.***\n",
        "\n",
        "<details>\n",
        "<summary>If it's not clear what is meant by this statement, read this dropdown.</summary>\n",
        "\n",
        "Suppose our final value in the residual stream for a single sequence and a position within that sequence is $x$ (i.e. $x$ is a vector of length $d_{model}$). Then (ignoring layernorm - see the point above for why it's okay to do this), we get logits by multiplying by the unembedding matrix $W_U$ (which has shape $(d_{model}, d_{vocab})$):\n",
        "\n",
        "$$\n",
        "\\text{output} = x^T W_U\n",
        "$$\n",
        "\n",
        "Now, remember that we want the logit diff, which is $\\text{output}_{IO} - \\text{output}_{S}$ (the difference between the logits for our indirect object and subject). We can write this as:\n",
        "\n",
        "$$\n",
        "\\text{logit diff} = (x^T W_U)_{IO} - (x^T W_U)_{S} = x^T (u_{IO} - u_{S})\n",
        "$$\n",
        "\n",
        "where $u_{IO}$ and $u_S$ are the **columns of the unembedding matrix** $W_U$ corresponding to the indirect object and subject tokens respectively.\n",
        "\n",
        "To summarize, we've written the logit diff as a dot product between the vector in the residual stream and a constant vector (which is a function of the model's unembedding matrix). We call this vector $u_{IO} - u_{S}$ the **logit difference direction** (because it *\"points in the direction of largest logit difference\"*). To put it another way, if $x$ is a vector of fixed magnitude, then it maximises the logit difference when it is pointing in the same direction as the vector $u_{IO} - u_{S}$. We use the term \"projection\" synonymously with \"dot product\" here.\n",
        "\n",
        "(If you've completed the exercise where we interpret a transformer on balanced / unbalanced bracket strings, this is basically the same principle. The only difference here is that we actually have a much larger unembedding vocabulary than just the classifications `{balanced, unbalanced}`, but since we're only interested in comparing the model's prediction for IO vs S, and the logits for these two tokens are usually larger than most others, this method is still well-justified).\n",
        "</details>\n",
        "\n",
        "We use `model.tokens_to_residual_directions` to map the answer tokens to that direction, and then convert this to a logit difference direction for each batch\n"
      ]
    },
    {
      "cell_type": "code",
      "execution_count": 51,
      "metadata": {
        "id": "-iz_a_Qgl6mH",
        "colab": {
          "base_uri": "https://localhost:8080/"
        },
        "outputId": "2fdacba7-58c5-4eb4-f988-842755a045c0"
      },
      "outputs": [
        {
          "output_type": "stream",
          "name": "stdout",
          "text": [
            "Answer residual directions shape: torch.Size([8, 2, 768])\n",
            "Logit difference directions shape: torch.Size([8, 768])\n"
          ]
        }
      ],
      "source": [
        "answer_residual_directions = model.tokens_to_residual_directions(answer_tokens) # [batch 2 d_model]\n",
        "print(\"Answer residual directions shape:\", answer_residual_directions.shape)\n",
        "\n",
        "correct_residual_directions, incorrect_residual_directions = answer_residual_directions.unbind(dim=1)\n",
        "logit_diff_directions = correct_residual_directions - incorrect_residual_directions # [batch d_model]\n",
        "print(f\"Logit difference directions shape:\", logit_diff_directions.shape)"
      ]
    },
    {
      "cell_type": "markdown",
      "metadata": {
        "id": "1NvPuJVSl6mH"
      },
      "source": [
        "To verify that this works, we can apply this to the final residual stream for our cached prompts (after applying LayerNorm scaling) and verify that we get the same answer.\n",
        "\n",
        "<details> <summary>Technical details</summary>\n",
        "\n",
        "`logits = Unembed(LayerNorm(final_residual_stream))`, so we technically need to account for the centering, and then learned translation and scaling of the layernorm, not just the variance 1 scaling.\n",
        "\n",
        "The centering is accounted for with the preprocessing flag `center_writing_weights` which ensures that every weight matrix writing to the residual stream has mean zero.\n",
        "\n",
        "The learned scaling is folded into the unembedding weights `model.unembed.W_U` via `W_U_fold = layer_norm.weights[:, None] * unembed.W_U`\n",
        "\n",
        "The learned translation is folded to `model.unembed.b_U`, a bias added to the logits (note that GPT-2 is not trained with an existing `b_U`). This roughly represents unigram statistics. But we can ignore this because each prompt occurs twice with names in the opposite order, so this perfectly cancels out.\n",
        "\n",
        "Note that rather than using layernorm scaling we could just study cache[\"ln_final.hook_normalised\"]\n",
        "\n",
        "</details>\n"
      ]
    },
    {
      "cell_type": "markdown",
      "metadata": {
        "id": "miSgPpsfl6mH"
      },
      "source": [
        "The code below does the following:\n",
        "\n",
        "* Gets the final residual stream values from the `cache` object (which you should already have defined above).\n",
        "* Apply layernorm scaling to these values.\n",
        "    * This is done by `cache.apply_to_ln_stack`, a helpful function which takes a stack of residual stream values (e.g. a batch, or the residual stream decomposed into components), treats them as the input to a specific layer, and applies the layer norm scaling of that layer to them.\n",
        "    * The keyword arguments here indicate that our input is the residual stream values for the last sequence position, and we want to apply the final layernorm in the model.\n",
        "* Project them along the unembedding directions (you've already defined these above, as `logit_diff_directions`).\n"
      ]
    },
    {
      "cell_type": "code",
      "execution_count": 52,
      "metadata": {
        "id": "yn1wwyrfl6mI",
        "colab": {
          "base_uri": "https://localhost:8080/"
        },
        "outputId": "0b9f019e-a4a7-4241-acf5-0468569f6f02"
      },
      "outputs": [
        {
          "output_type": "stream",
          "name": "stdout",
          "text": [
            "Final residual stream shape: torch.Size([8, 15, 768])\n",
            "Calculated average logit diff: 3.5518860817\n",
            "Original logit difference:     3.5518851280\n"
          ]
        }
      ],
      "source": [
        "# cache syntax - resid_post is the residual stream at the end of the layer, -1 gets the final layer. The general syntax is [activation_name, layer_index, sub_layer_type].\n",
        "final_residual_stream: Float[Tensor, \"batch seq d_model\"] = cache[\"resid_post\", -1]\n",
        "print(f\"Final residual stream shape: {final_residual_stream.shape}\")\n",
        "final_token_residual_stream: Float[Tensor, \"batch d_model\"] = final_residual_stream[:, -1, :]\n",
        "\n",
        "# Apply LayerNorm scaling (to just the final sequence position)\n",
        "# pos_slice is the subset of the positions we take - here the final token of each prompt\n",
        "scaled_final_token_residual_stream = cache.apply_ln_to_stack(final_token_residual_stream, layer=-1, pos_slice=-1)\n",
        "\n",
        "average_logit_diff = einops.einsum(\n",
        "    scaled_final_token_residual_stream, logit_diff_directions,\n",
        "    \"batch d_model, batch d_model ->\"\n",
        ") / len(prompts)\n",
        "\n",
        "print(f\"Calculated average logit diff: {average_logit_diff:.10f}\")\n",
        "print(f\"Original logit difference:     {original_average_logit_diff:.10f}\")\n",
        "\n",
        "t.testing.assert_close(average_logit_diff, original_average_logit_diff)"
      ]
    },
    {
      "cell_type": "markdown",
      "metadata": {
        "id": "x2tfp-Xjl6mI"
      },
      "source": [
        "## Logit Lens\n"
      ]
    },
    {
      "cell_type": "markdown",
      "metadata": {
        "id": "Z_14HTZpl6mI"
      },
      "source": [
        "We can now decompose the residual stream! First we apply a technique called the [**logit lens**](https://www.alignmentforum.org/posts/AcKRB8wDpdaN6v6ru/interpreting-gpt-the-logit-lens) - this looks at the residual stream after each layer and calculates the logit difference from that. This simulates what happens if we delete all subsequence layers.\n"
      ]
    },
    {
      "cell_type": "markdown",
      "metadata": {
        "id": "LZnvb3Ljl6mI"
      },
      "source": [
        "### Exercise - implement `residual_stack_to_logit_diff`\n",
        "\n",
        "```c\n",
        "Difficulty: 🔴🔴🔴⚪⚪\n",
        "Importance: 🔵🔵🔵⚪⚪\n",
        "\n",
        "You should spend up to 10-15 minutes on this exercise.\n",
        "\n",
        "Again, make sure you understand what the output of this function represents.\n",
        "```\n",
        "\n",
        "This function should look a lot like your code immediately above. `residual_stack` is a tensor of shape `(..., batch, d_model)` containing the residual stream values for the final sequence position. You should apply the final layernorm to these values, then project them in the logit difference directions.\n"
      ]
    },
    {
      "cell_type": "code",
      "execution_count": 53,
      "metadata": {
        "id": "p5hFaaENl6mI"
      },
      "outputs": [],
      "source": [
        "def residual_stack_to_logit_diff(\n",
        "    residual_stack: Float[Tensor, \"... batch d_model\"],\n",
        "    cache: ActivationCache,\n",
        "    logit_diff_directions: Float[Tensor, \"batch d_model\"] = logit_diff_directions,\n",
        ") -> Float[Tensor, \"...\"]:\n",
        "    '''\n",
        "    Gets the avg logit difference between the correct and incorrect answer for a given\n",
        "    stack of components in the residual stream.\n",
        "    '''\n",
        "    # project just meaning multiply by the diff directions?\n",
        "    # norm over everything except for the last?\n",
        "    ln_residual_stack = cache.apply_ln_to_stack(residual_stack, pos_slice=-1)\n",
        "    out = einops.einsum(\n",
        "        ln_residual_stack, logit_diff_directions,\n",
        "        '... batch d_model, batch d_model -> ...'\n",
        "    )\n",
        "    return out / residual_stack.shape[-2]\n",
        "\n",
        "t.testing.assert_close(\n",
        "    residual_stack_to_logit_diff(final_token_residual_stream, cache),\n",
        "    original_average_logit_diff\n",
        ")"
      ]
    },
    {
      "cell_type": "markdown",
      "metadata": {
        "id": "U3FE3Azsl6mI"
      },
      "source": [
        "Once you have the solution, you can plot your results.\n",
        "\n",
        "<details> <summary>Details on <code>accumulated_resid</code></summary>\n",
        "\n",
        "Key for the plot below: `n_pre` means the residual stream at the start of layer n, `n_mid` means the residual stream after the attention part of layer n (`n_post` is the same as `n+1_pre` so is not included)\n",
        "\n",
        "* `layer` is the layer for which we input the residual stream (this is used to identify *which* layer norm scaling factor we want)\n",
        "* `incl_mid` is whether to include the residual stream in the middle of a layer, ie after attention & before MLP\n",
        "* `pos_slice` is the subset of the positions used. See `utils.Slice` for details on the syntax.\n",
        "* `return_labels` is whether to return the labels for each component returned (useful for plotting)\n",
        "</details>\n"
      ]
    },
    {
      "cell_type": "code",
      "execution_count": 54,
      "metadata": {
        "id": "O80qgBSCl6mI",
        "colab": {
          "base_uri": "https://localhost:8080/",
          "height": 542
        },
        "outputId": "65ce9657-9b40-4eed-9a2f-b99f91093801"
      },
      "outputs": [
        {
          "output_type": "display_data",
          "data": {
            "text/html": [
              "<html>\n",
              "<head><meta charset=\"utf-8\" /></head>\n",
              "<body>\n",
              "    <div>            <script src=\"https://cdnjs.cloudflare.com/ajax/libs/mathjax/2.7.5/MathJax.js?config=TeX-AMS-MML_SVG\"></script><script type=\"text/javascript\">if (window.MathJax && window.MathJax.Hub && window.MathJax.Hub.Config) {window.MathJax.Hub.Config({SVG: {font: \"STIX-Web\"}});}</script>                <script type=\"text/javascript\">window.PlotlyConfig = {MathJaxConfig: 'local'};</script>\n",
              "        <script charset=\"utf-8\" src=\"https://cdn.plot.ly/plotly-2.24.1.min.js\"></script>                <div id=\"469c3e78-4947-42c5-892b-c5c16c3f26d1\" class=\"plotly-graph-div\" style=\"height:525px; width:800px;\"></div>            <script type=\"text/javascript\">                                    window.PLOTLYENV=window.PLOTLYENV || {};                                    if (document.getElementById(\"469c3e78-4947-42c5-892b-c5c16c3f26d1\")) {                    Plotly.newPlot(                        \"469c3e78-4947-42c5-892b-c5c16c3f26d1\",                        [{\"hovertemplate\":\"Layer=%{x}\\u003cbr\\u003eLogit Diff=%{y}\\u003cextra\\u003e\\u003c\\u002fextra\\u003e\",\"legendgroup\":\"\",\"line\":{\"color\":\"#636efa\",\"dash\":\"solid\"},\"marker\":{\"symbol\":\"circle\"},\"mode\":\"lines\",\"name\":\"\",\"orientation\":\"v\",\"showlegend\":false,\"x\":[0,1,2,3,4,5,6,7,8,9,10,11,12,13,14,15,16,17,18,19,20,21,22,23,24],\"xaxis\":\"x\",\"y\":[1.293746754527092e-05,-0.006643414497375488,-0.0075251273810863495,-0.009075677022337914,-0.00873677246272564,-0.00868559256196022,-0.006480425596237183,-0.00793993379920721,-0.009661974385380745,-0.015095901675522327,-0.01419033482670784,-0.019929446280002594,-0.009124359115958214,-0.02729809284210205,-0.029854921624064445,0.24972641468048096,0.25055891275405884,0.4500535726547241,0.45997101068496704,5.025468826293945,5.142916679382324,4.730578422546387,4.887073516845703,3.44539737701416,3.5518860816955566],\"yaxis\":\"y\",\"type\":\"scatter\"}],                        {\"template\":{\"data\":{\"histogram2dcontour\":[{\"type\":\"histogram2dcontour\",\"colorbar\":{\"outlinewidth\":0,\"ticks\":\"\"},\"colorscale\":[[0.0,\"#0d0887\"],[0.1111111111111111,\"#46039f\"],[0.2222222222222222,\"#7201a8\"],[0.3333333333333333,\"#9c179e\"],[0.4444444444444444,\"#bd3786\"],[0.5555555555555556,\"#d8576b\"],[0.6666666666666666,\"#ed7953\"],[0.7777777777777778,\"#fb9f3a\"],[0.8888888888888888,\"#fdca26\"],[1.0,\"#f0f921\"]]}],\"choropleth\":[{\"type\":\"choropleth\",\"colorbar\":{\"outlinewidth\":0,\"ticks\":\"\"}}],\"histogram2d\":[{\"type\":\"histogram2d\",\"colorbar\":{\"outlinewidth\":0,\"ticks\":\"\"},\"colorscale\":[[0.0,\"#0d0887\"],[0.1111111111111111,\"#46039f\"],[0.2222222222222222,\"#7201a8\"],[0.3333333333333333,\"#9c179e\"],[0.4444444444444444,\"#bd3786\"],[0.5555555555555556,\"#d8576b\"],[0.6666666666666666,\"#ed7953\"],[0.7777777777777778,\"#fb9f3a\"],[0.8888888888888888,\"#fdca26\"],[1.0,\"#f0f921\"]]}],\"heatmap\":[{\"type\":\"heatmap\",\"colorbar\":{\"outlinewidth\":0,\"ticks\":\"\"},\"colorscale\":[[0.0,\"#0d0887\"],[0.1111111111111111,\"#46039f\"],[0.2222222222222222,\"#7201a8\"],[0.3333333333333333,\"#9c179e\"],[0.4444444444444444,\"#bd3786\"],[0.5555555555555556,\"#d8576b\"],[0.6666666666666666,\"#ed7953\"],[0.7777777777777778,\"#fb9f3a\"],[0.8888888888888888,\"#fdca26\"],[1.0,\"#f0f921\"]]}],\"heatmapgl\":[{\"type\":\"heatmapgl\",\"colorbar\":{\"outlinewidth\":0,\"ticks\":\"\"},\"colorscale\":[[0.0,\"#0d0887\"],[0.1111111111111111,\"#46039f\"],[0.2222222222222222,\"#7201a8\"],[0.3333333333333333,\"#9c179e\"],[0.4444444444444444,\"#bd3786\"],[0.5555555555555556,\"#d8576b\"],[0.6666666666666666,\"#ed7953\"],[0.7777777777777778,\"#fb9f3a\"],[0.8888888888888888,\"#fdca26\"],[1.0,\"#f0f921\"]]}],\"contourcarpet\":[{\"type\":\"contourcarpet\",\"colorbar\":{\"outlinewidth\":0,\"ticks\":\"\"}}],\"contour\":[{\"type\":\"contour\",\"colorbar\":{\"outlinewidth\":0,\"ticks\":\"\"},\"colorscale\":[[0.0,\"#0d0887\"],[0.1111111111111111,\"#46039f\"],[0.2222222222222222,\"#7201a8\"],[0.3333333333333333,\"#9c179e\"],[0.4444444444444444,\"#bd3786\"],[0.5555555555555556,\"#d8576b\"],[0.6666666666666666,\"#ed7953\"],[0.7777777777777778,\"#fb9f3a\"],[0.8888888888888888,\"#fdca26\"],[1.0,\"#f0f921\"]]}],\"surface\":[{\"type\":\"surface\",\"colorbar\":{\"outlinewidth\":0,\"ticks\":\"\"},\"colorscale\":[[0.0,\"#0d0887\"],[0.1111111111111111,\"#46039f\"],[0.2222222222222222,\"#7201a8\"],[0.3333333333333333,\"#9c179e\"],[0.4444444444444444,\"#bd3786\"],[0.5555555555555556,\"#d8576b\"],[0.6666666666666666,\"#ed7953\"],[0.7777777777777778,\"#fb9f3a\"],[0.8888888888888888,\"#fdca26\"],[1.0,\"#f0f921\"]]}],\"mesh3d\":[{\"type\":\"mesh3d\",\"colorbar\":{\"outlinewidth\":0,\"ticks\":\"\"}}],\"scatter\":[{\"fillpattern\":{\"fillmode\":\"overlay\",\"size\":10,\"solidity\":0.2},\"type\":\"scatter\"}],\"parcoords\":[{\"type\":\"parcoords\",\"line\":{\"colorbar\":{\"outlinewidth\":0,\"ticks\":\"\"}}}],\"scatterpolargl\":[{\"type\":\"scatterpolargl\",\"marker\":{\"colorbar\":{\"outlinewidth\":0,\"ticks\":\"\"}}}],\"bar\":[{\"error_x\":{\"color\":\"#2a3f5f\"},\"error_y\":{\"color\":\"#2a3f5f\"},\"marker\":{\"line\":{\"color\":\"#E5ECF6\",\"width\":0.5},\"pattern\":{\"fillmode\":\"overlay\",\"size\":10,\"solidity\":0.2}},\"type\":\"bar\"}],\"scattergeo\":[{\"type\":\"scattergeo\",\"marker\":{\"colorbar\":{\"outlinewidth\":0,\"ticks\":\"\"}}}],\"scatterpolar\":[{\"type\":\"scatterpolar\",\"marker\":{\"colorbar\":{\"outlinewidth\":0,\"ticks\":\"\"}}}],\"histogram\":[{\"marker\":{\"pattern\":{\"fillmode\":\"overlay\",\"size\":10,\"solidity\":0.2}},\"type\":\"histogram\"}],\"scattergl\":[{\"type\":\"scattergl\",\"marker\":{\"colorbar\":{\"outlinewidth\":0,\"ticks\":\"\"}}}],\"scatter3d\":[{\"type\":\"scatter3d\",\"line\":{\"colorbar\":{\"outlinewidth\":0,\"ticks\":\"\"}},\"marker\":{\"colorbar\":{\"outlinewidth\":0,\"ticks\":\"\"}}}],\"scattermapbox\":[{\"type\":\"scattermapbox\",\"marker\":{\"colorbar\":{\"outlinewidth\":0,\"ticks\":\"\"}}}],\"scatterternary\":[{\"type\":\"scatterternary\",\"marker\":{\"colorbar\":{\"outlinewidth\":0,\"ticks\":\"\"}}}],\"scattercarpet\":[{\"type\":\"scattercarpet\",\"marker\":{\"colorbar\":{\"outlinewidth\":0,\"ticks\":\"\"}}}],\"carpet\":[{\"aaxis\":{\"endlinecolor\":\"#2a3f5f\",\"gridcolor\":\"white\",\"linecolor\":\"white\",\"minorgridcolor\":\"white\",\"startlinecolor\":\"#2a3f5f\"},\"baxis\":{\"endlinecolor\":\"#2a3f5f\",\"gridcolor\":\"white\",\"linecolor\":\"white\",\"minorgridcolor\":\"white\",\"startlinecolor\":\"#2a3f5f\"},\"type\":\"carpet\"}],\"table\":[{\"cells\":{\"fill\":{\"color\":\"#EBF0F8\"},\"line\":{\"color\":\"white\"}},\"header\":{\"fill\":{\"color\":\"#C8D4E3\"},\"line\":{\"color\":\"white\"}},\"type\":\"table\"}],\"barpolar\":[{\"marker\":{\"line\":{\"color\":\"#E5ECF6\",\"width\":0.5},\"pattern\":{\"fillmode\":\"overlay\",\"size\":10,\"solidity\":0.2}},\"type\":\"barpolar\"}],\"pie\":[{\"automargin\":true,\"type\":\"pie\"}]},\"layout\":{\"autotypenumbers\":\"strict\",\"colorway\":[\"#636efa\",\"#EF553B\",\"#00cc96\",\"#ab63fa\",\"#FFA15A\",\"#19d3f3\",\"#FF6692\",\"#B6E880\",\"#FF97FF\",\"#FECB52\"],\"font\":{\"color\":\"#2a3f5f\"},\"hovermode\":\"closest\",\"hoverlabel\":{\"align\":\"left\"},\"paper_bgcolor\":\"white\",\"plot_bgcolor\":\"#E5ECF6\",\"polar\":{\"bgcolor\":\"#E5ECF6\",\"angularaxis\":{\"gridcolor\":\"white\",\"linecolor\":\"white\",\"ticks\":\"\"},\"radialaxis\":{\"gridcolor\":\"white\",\"linecolor\":\"white\",\"ticks\":\"\"}},\"ternary\":{\"bgcolor\":\"#E5ECF6\",\"aaxis\":{\"gridcolor\":\"white\",\"linecolor\":\"white\",\"ticks\":\"\"},\"baxis\":{\"gridcolor\":\"white\",\"linecolor\":\"white\",\"ticks\":\"\"},\"caxis\":{\"gridcolor\":\"white\",\"linecolor\":\"white\",\"ticks\":\"\"}},\"coloraxis\":{\"colorbar\":{\"outlinewidth\":0,\"ticks\":\"\"}},\"colorscale\":{\"sequential\":[[0.0,\"#0d0887\"],[0.1111111111111111,\"#46039f\"],[0.2222222222222222,\"#7201a8\"],[0.3333333333333333,\"#9c179e\"],[0.4444444444444444,\"#bd3786\"],[0.5555555555555556,\"#d8576b\"],[0.6666666666666666,\"#ed7953\"],[0.7777777777777778,\"#fb9f3a\"],[0.8888888888888888,\"#fdca26\"],[1.0,\"#f0f921\"]],\"sequentialminus\":[[0.0,\"#0d0887\"],[0.1111111111111111,\"#46039f\"],[0.2222222222222222,\"#7201a8\"],[0.3333333333333333,\"#9c179e\"],[0.4444444444444444,\"#bd3786\"],[0.5555555555555556,\"#d8576b\"],[0.6666666666666666,\"#ed7953\"],[0.7777777777777778,\"#fb9f3a\"],[0.8888888888888888,\"#fdca26\"],[1.0,\"#f0f921\"]],\"diverging\":[[0,\"#8e0152\"],[0.1,\"#c51b7d\"],[0.2,\"#de77ae\"],[0.3,\"#f1b6da\"],[0.4,\"#fde0ef\"],[0.5,\"#f7f7f7\"],[0.6,\"#e6f5d0\"],[0.7,\"#b8e186\"],[0.8,\"#7fbc41\"],[0.9,\"#4d9221\"],[1,\"#276419\"]]},\"xaxis\":{\"gridcolor\":\"white\",\"linecolor\":\"white\",\"ticks\":\"\",\"title\":{\"standoff\":15},\"zerolinecolor\":\"white\",\"automargin\":true,\"zerolinewidth\":2},\"yaxis\":{\"gridcolor\":\"white\",\"linecolor\":\"white\",\"ticks\":\"\",\"title\":{\"standoff\":15},\"zerolinecolor\":\"white\",\"automargin\":true,\"zerolinewidth\":2},\"scene\":{\"xaxis\":{\"backgroundcolor\":\"#E5ECF6\",\"gridcolor\":\"white\",\"linecolor\":\"white\",\"showbackground\":true,\"ticks\":\"\",\"zerolinecolor\":\"white\",\"gridwidth\":2},\"yaxis\":{\"backgroundcolor\":\"#E5ECF6\",\"gridcolor\":\"white\",\"linecolor\":\"white\",\"showbackground\":true,\"ticks\":\"\",\"zerolinecolor\":\"white\",\"gridwidth\":2},\"zaxis\":{\"backgroundcolor\":\"#E5ECF6\",\"gridcolor\":\"white\",\"linecolor\":\"white\",\"showbackground\":true,\"ticks\":\"\",\"zerolinecolor\":\"white\",\"gridwidth\":2}},\"shapedefaults\":{\"line\":{\"color\":\"#2a3f5f\"}},\"annotationdefaults\":{\"arrowcolor\":\"#2a3f5f\",\"arrowhead\":0,\"arrowwidth\":1},\"geo\":{\"bgcolor\":\"white\",\"landcolor\":\"#E5ECF6\",\"subunitcolor\":\"white\",\"showland\":true,\"showlakes\":true,\"lakecolor\":\"white\"},\"title\":{\"x\":0.05},\"mapbox\":{\"style\":\"light\"}}},\"xaxis\":{\"anchor\":\"y\",\"domain\":[0.0,1.0],\"title\":{\"text\":\"Layer\"},\"tickmode\":\"array\",\"tickvals\":[0,1,2,3,4,5,6,7,8,9,10,11,12,13,14,15,16,17,18,19,20,21,22,23,24],\"ticktext\":[\"0_pre\",\"0_mid\",\"1_pre\",\"1_mid\",\"2_pre\",\"2_mid\",\"3_pre\",\"3_mid\",\"4_pre\",\"4_mid\",\"5_pre\",\"5_mid\",\"6_pre\",\"6_mid\",\"7_pre\",\"7_mid\",\"8_pre\",\"8_mid\",\"9_pre\",\"9_mid\",\"10_pre\",\"10_mid\",\"11_pre\",\"11_mid\",\"final_post\"]},\"yaxis\":{\"anchor\":\"x\",\"domain\":[0.0,1.0],\"title\":{\"text\":\"Logit Diff\"}},\"legend\":{\"tracegroupgap\":0},\"title\":{\"text\":\"Logit Difference From Accumulated Residual Stream\"},\"width\":800,\"hovermode\":\"x unified\"},                        {\"responsive\": true}                    ).then(function(){\n",
              "                            \n",
              "var gd = document.getElementById('469c3e78-4947-42c5-892b-c5c16c3f26d1');\n",
              "var x = new MutationObserver(function (mutations, observer) {{\n",
              "        var display = window.getComputedStyle(gd).display;\n",
              "        if (!display || display === 'none') {{\n",
              "            console.log([gd, 'removed!']);\n",
              "            Plotly.purge(gd);\n",
              "            observer.disconnect();\n",
              "        }}\n",
              "}});\n",
              "\n",
              "// Listen for the removal of the full notebook cells\n",
              "var notebookContainer = gd.closest('#notebook-container');\n",
              "if (notebookContainer) {{\n",
              "    x.observe(notebookContainer, {childList: true});\n",
              "}}\n",
              "\n",
              "// Listen for the clearing of the current output cell\n",
              "var outputEl = gd.closest('.output');\n",
              "if (outputEl) {{\n",
              "    x.observe(outputEl, {childList: true});\n",
              "}}\n",
              "\n",
              "                        })                };                            </script>        </div>\n",
              "</body>\n",
              "</html>"
            ]
          },
          "metadata": {}
        }
      ],
      "source": [
        "accumulated_residual, labels = cache.accumulated_resid(layer=-1, incl_mid=True, pos_slice=-1, return_labels=True)\n",
        "# accumulated_residual has shape (component, batch, d_model)\n",
        "\n",
        "logit_lens_logit_diffs: Float[Tensor, \"component\"] = residual_stack_to_logit_diff(accumulated_residual, cache)\n",
        "\n",
        "line(\n",
        "    logit_lens_logit_diffs,\n",
        "    hovermode=\"x unified\",\n",
        "    title=\"Logit Difference From Accumulated Residual Stream\",\n",
        "    labels={\"x\": \"Layer\", \"y\": \"Logit Diff\"},\n",
        "    xaxis_tickvals=labels,\n",
        "    width=800\n",
        ")"
      ]
    },
    {
      "cell_type": "markdown",
      "metadata": {
        "id": "bJr6Umzjl6mJ"
      },
      "source": [
        "<details>\n",
        "<summary>Question - what is the interpretation of this plot? What does this tell you about how the model solves this task?</summary>\n",
        "\n",
        "Fascinatingly, we see that the model is utterly unable to do the task until layer 7, almost all performance comes from attention layer 9, and performance actually *decreases* from there.\n",
        "\n",
        "This tells us that there must be something going on (primarily in layers 7, 8 and 9) which writes to the residual stream in the correct way to solve the IOI task. This allows us to narrow in our focus, and start asking questions about what kind of computation is going on in those layers (e.g. the contribution of attention layers vs MLPs, and which attention heads are most important).\n",
        "</details>\n"
      ]
    },
    {
      "cell_type": "markdown",
      "metadata": {
        "id": "KP4rqArGl6mJ"
      },
      "source": [
        "## Layer Attribution\n"
      ]
    },
    {
      "cell_type": "markdown",
      "metadata": {
        "id": "Rddrbkzhl6mJ"
      },
      "source": [
        "We can repeat the above analysis but for each layer (this is equivalent to the differences between adjacent residual streams)\n",
        "\n",
        "Note: Annoying terminology overload - layer k of a transformer means the kth **transformer block**, but each block consists of an **attention layer** (to move information around) *and* an **MLP layer** (to process information).\n"
      ]
    },
    {
      "cell_type": "code",
      "execution_count": 55,
      "metadata": {
        "id": "CMUMDYzgl6mJ",
        "colab": {
          "base_uri": "https://localhost:8080/",
          "height": 542
        },
        "outputId": "a9e0c85a-a095-403c-f8e8-0c59b9608a8d"
      },
      "outputs": [
        {
          "output_type": "display_data",
          "data": {
            "text/html": [
              "<html>\n",
              "<head><meta charset=\"utf-8\" /></head>\n",
              "<body>\n",
              "    <div>            <script src=\"https://cdnjs.cloudflare.com/ajax/libs/mathjax/2.7.5/MathJax.js?config=TeX-AMS-MML_SVG\"></script><script type=\"text/javascript\">if (window.MathJax && window.MathJax.Hub && window.MathJax.Hub.Config) {window.MathJax.Hub.Config({SVG: {font: \"STIX-Web\"}});}</script>                <script type=\"text/javascript\">window.PlotlyConfig = {MathJaxConfig: 'local'};</script>\n",
              "        <script charset=\"utf-8\" src=\"https://cdn.plot.ly/plotly-2.24.1.min.js\"></script>                <div id=\"07bfa1a1-d725-44a6-9bb8-7de898d7e976\" class=\"plotly-graph-div\" style=\"height:525px; width:800px;\"></div>            <script type=\"text/javascript\">                                    window.PLOTLYENV=window.PLOTLYENV || {};                                    if (document.getElementById(\"07bfa1a1-d725-44a6-9bb8-7de898d7e976\")) {                    Plotly.newPlot(                        \"07bfa1a1-d725-44a6-9bb8-7de898d7e976\",                        [{\"hovertemplate\":\"Layer=%{x}\\u003cbr\\u003eLogit Diff=%{y}\\u003cextra\\u003e\\u003c\\u002fextra\\u003e\",\"legendgroup\":\"\",\"line\":{\"color\":\"#636efa\",\"dash\":\"solid\"},\"marker\":{\"symbol\":\"circle\"},\"mode\":\"lines\",\"name\":\"\",\"orientation\":\"v\",\"showlegend\":false,\"x\":[0,1,2,3,4,5,6,7,8,9,10,11,12,13,14,15,16,17,18,19,20,21,22,23,24,25],\"xaxis\":\"x\",\"y\":[-0.000283668574411422,0.00029660877771675587,-0.006656351499259472,-0.0008817045018076897,-0.0015505608171224594,0.0003389011835679412,5.1174662075936794e-05,0.002205170691013336,-0.0014595029642805457,-0.001722046872600913,-0.005433937069028616,0.0009056017734110355,-0.005739114247262478,0.010805042460560799,-0.018173709511756897,-0.0025568241253495216,0.27958130836486816,0.0008325325325131416,0.19949465990066528,0.009917370975017548,4.565496921539307,0.11744924634695053,-0.4123385548591614,0.15649540722370148,-1.4416766166687012,0.106488898396492],\"yaxis\":\"y\",\"type\":\"scatter\"}],                        {\"template\":{\"data\":{\"histogram2dcontour\":[{\"type\":\"histogram2dcontour\",\"colorbar\":{\"outlinewidth\":0,\"ticks\":\"\"},\"colorscale\":[[0.0,\"#0d0887\"],[0.1111111111111111,\"#46039f\"],[0.2222222222222222,\"#7201a8\"],[0.3333333333333333,\"#9c179e\"],[0.4444444444444444,\"#bd3786\"],[0.5555555555555556,\"#d8576b\"],[0.6666666666666666,\"#ed7953\"],[0.7777777777777778,\"#fb9f3a\"],[0.8888888888888888,\"#fdca26\"],[1.0,\"#f0f921\"]]}],\"choropleth\":[{\"type\":\"choropleth\",\"colorbar\":{\"outlinewidth\":0,\"ticks\":\"\"}}],\"histogram2d\":[{\"type\":\"histogram2d\",\"colorbar\":{\"outlinewidth\":0,\"ticks\":\"\"},\"colorscale\":[[0.0,\"#0d0887\"],[0.1111111111111111,\"#46039f\"],[0.2222222222222222,\"#7201a8\"],[0.3333333333333333,\"#9c179e\"],[0.4444444444444444,\"#bd3786\"],[0.5555555555555556,\"#d8576b\"],[0.6666666666666666,\"#ed7953\"],[0.7777777777777778,\"#fb9f3a\"],[0.8888888888888888,\"#fdca26\"],[1.0,\"#f0f921\"]]}],\"heatmap\":[{\"type\":\"heatmap\",\"colorbar\":{\"outlinewidth\":0,\"ticks\":\"\"},\"colorscale\":[[0.0,\"#0d0887\"],[0.1111111111111111,\"#46039f\"],[0.2222222222222222,\"#7201a8\"],[0.3333333333333333,\"#9c179e\"],[0.4444444444444444,\"#bd3786\"],[0.5555555555555556,\"#d8576b\"],[0.6666666666666666,\"#ed7953\"],[0.7777777777777778,\"#fb9f3a\"],[0.8888888888888888,\"#fdca26\"],[1.0,\"#f0f921\"]]}],\"heatmapgl\":[{\"type\":\"heatmapgl\",\"colorbar\":{\"outlinewidth\":0,\"ticks\":\"\"},\"colorscale\":[[0.0,\"#0d0887\"],[0.1111111111111111,\"#46039f\"],[0.2222222222222222,\"#7201a8\"],[0.3333333333333333,\"#9c179e\"],[0.4444444444444444,\"#bd3786\"],[0.5555555555555556,\"#d8576b\"],[0.6666666666666666,\"#ed7953\"],[0.7777777777777778,\"#fb9f3a\"],[0.8888888888888888,\"#fdca26\"],[1.0,\"#f0f921\"]]}],\"contourcarpet\":[{\"type\":\"contourcarpet\",\"colorbar\":{\"outlinewidth\":0,\"ticks\":\"\"}}],\"contour\":[{\"type\":\"contour\",\"colorbar\":{\"outlinewidth\":0,\"ticks\":\"\"},\"colorscale\":[[0.0,\"#0d0887\"],[0.1111111111111111,\"#46039f\"],[0.2222222222222222,\"#7201a8\"],[0.3333333333333333,\"#9c179e\"],[0.4444444444444444,\"#bd3786\"],[0.5555555555555556,\"#d8576b\"],[0.6666666666666666,\"#ed7953\"],[0.7777777777777778,\"#fb9f3a\"],[0.8888888888888888,\"#fdca26\"],[1.0,\"#f0f921\"]]}],\"surface\":[{\"type\":\"surface\",\"colorbar\":{\"outlinewidth\":0,\"ticks\":\"\"},\"colorscale\":[[0.0,\"#0d0887\"],[0.1111111111111111,\"#46039f\"],[0.2222222222222222,\"#7201a8\"],[0.3333333333333333,\"#9c179e\"],[0.4444444444444444,\"#bd3786\"],[0.5555555555555556,\"#d8576b\"],[0.6666666666666666,\"#ed7953\"],[0.7777777777777778,\"#fb9f3a\"],[0.8888888888888888,\"#fdca26\"],[1.0,\"#f0f921\"]]}],\"mesh3d\":[{\"type\":\"mesh3d\",\"colorbar\":{\"outlinewidth\":0,\"ticks\":\"\"}}],\"scatter\":[{\"fillpattern\":{\"fillmode\":\"overlay\",\"size\":10,\"solidity\":0.2},\"type\":\"scatter\"}],\"parcoords\":[{\"type\":\"parcoords\",\"line\":{\"colorbar\":{\"outlinewidth\":0,\"ticks\":\"\"}}}],\"scatterpolargl\":[{\"type\":\"scatterpolargl\",\"marker\":{\"colorbar\":{\"outlinewidth\":0,\"ticks\":\"\"}}}],\"bar\":[{\"error_x\":{\"color\":\"#2a3f5f\"},\"error_y\":{\"color\":\"#2a3f5f\"},\"marker\":{\"line\":{\"color\":\"#E5ECF6\",\"width\":0.5},\"pattern\":{\"fillmode\":\"overlay\",\"size\":10,\"solidity\":0.2}},\"type\":\"bar\"}],\"scattergeo\":[{\"type\":\"scattergeo\",\"marker\":{\"colorbar\":{\"outlinewidth\":0,\"ticks\":\"\"}}}],\"scatterpolar\":[{\"type\":\"scatterpolar\",\"marker\":{\"colorbar\":{\"outlinewidth\":0,\"ticks\":\"\"}}}],\"histogram\":[{\"marker\":{\"pattern\":{\"fillmode\":\"overlay\",\"size\":10,\"solidity\":0.2}},\"type\":\"histogram\"}],\"scattergl\":[{\"type\":\"scattergl\",\"marker\":{\"colorbar\":{\"outlinewidth\":0,\"ticks\":\"\"}}}],\"scatter3d\":[{\"type\":\"scatter3d\",\"line\":{\"colorbar\":{\"outlinewidth\":0,\"ticks\":\"\"}},\"marker\":{\"colorbar\":{\"outlinewidth\":0,\"ticks\":\"\"}}}],\"scattermapbox\":[{\"type\":\"scattermapbox\",\"marker\":{\"colorbar\":{\"outlinewidth\":0,\"ticks\":\"\"}}}],\"scatterternary\":[{\"type\":\"scatterternary\",\"marker\":{\"colorbar\":{\"outlinewidth\":0,\"ticks\":\"\"}}}],\"scattercarpet\":[{\"type\":\"scattercarpet\",\"marker\":{\"colorbar\":{\"outlinewidth\":0,\"ticks\":\"\"}}}],\"carpet\":[{\"aaxis\":{\"endlinecolor\":\"#2a3f5f\",\"gridcolor\":\"white\",\"linecolor\":\"white\",\"minorgridcolor\":\"white\",\"startlinecolor\":\"#2a3f5f\"},\"baxis\":{\"endlinecolor\":\"#2a3f5f\",\"gridcolor\":\"white\",\"linecolor\":\"white\",\"minorgridcolor\":\"white\",\"startlinecolor\":\"#2a3f5f\"},\"type\":\"carpet\"}],\"table\":[{\"cells\":{\"fill\":{\"color\":\"#EBF0F8\"},\"line\":{\"color\":\"white\"}},\"header\":{\"fill\":{\"color\":\"#C8D4E3\"},\"line\":{\"color\":\"white\"}},\"type\":\"table\"}],\"barpolar\":[{\"marker\":{\"line\":{\"color\":\"#E5ECF6\",\"width\":0.5},\"pattern\":{\"fillmode\":\"overlay\",\"size\":10,\"solidity\":0.2}},\"type\":\"barpolar\"}],\"pie\":[{\"automargin\":true,\"type\":\"pie\"}]},\"layout\":{\"autotypenumbers\":\"strict\",\"colorway\":[\"#636efa\",\"#EF553B\",\"#00cc96\",\"#ab63fa\",\"#FFA15A\",\"#19d3f3\",\"#FF6692\",\"#B6E880\",\"#FF97FF\",\"#FECB52\"],\"font\":{\"color\":\"#2a3f5f\"},\"hovermode\":\"closest\",\"hoverlabel\":{\"align\":\"left\"},\"paper_bgcolor\":\"white\",\"plot_bgcolor\":\"#E5ECF6\",\"polar\":{\"bgcolor\":\"#E5ECF6\",\"angularaxis\":{\"gridcolor\":\"white\",\"linecolor\":\"white\",\"ticks\":\"\"},\"radialaxis\":{\"gridcolor\":\"white\",\"linecolor\":\"white\",\"ticks\":\"\"}},\"ternary\":{\"bgcolor\":\"#E5ECF6\",\"aaxis\":{\"gridcolor\":\"white\",\"linecolor\":\"white\",\"ticks\":\"\"},\"baxis\":{\"gridcolor\":\"white\",\"linecolor\":\"white\",\"ticks\":\"\"},\"caxis\":{\"gridcolor\":\"white\",\"linecolor\":\"white\",\"ticks\":\"\"}},\"coloraxis\":{\"colorbar\":{\"outlinewidth\":0,\"ticks\":\"\"}},\"colorscale\":{\"sequential\":[[0.0,\"#0d0887\"],[0.1111111111111111,\"#46039f\"],[0.2222222222222222,\"#7201a8\"],[0.3333333333333333,\"#9c179e\"],[0.4444444444444444,\"#bd3786\"],[0.5555555555555556,\"#d8576b\"],[0.6666666666666666,\"#ed7953\"],[0.7777777777777778,\"#fb9f3a\"],[0.8888888888888888,\"#fdca26\"],[1.0,\"#f0f921\"]],\"sequentialminus\":[[0.0,\"#0d0887\"],[0.1111111111111111,\"#46039f\"],[0.2222222222222222,\"#7201a8\"],[0.3333333333333333,\"#9c179e\"],[0.4444444444444444,\"#bd3786\"],[0.5555555555555556,\"#d8576b\"],[0.6666666666666666,\"#ed7953\"],[0.7777777777777778,\"#fb9f3a\"],[0.8888888888888888,\"#fdca26\"],[1.0,\"#f0f921\"]],\"diverging\":[[0,\"#8e0152\"],[0.1,\"#c51b7d\"],[0.2,\"#de77ae\"],[0.3,\"#f1b6da\"],[0.4,\"#fde0ef\"],[0.5,\"#f7f7f7\"],[0.6,\"#e6f5d0\"],[0.7,\"#b8e186\"],[0.8,\"#7fbc41\"],[0.9,\"#4d9221\"],[1,\"#276419\"]]},\"xaxis\":{\"gridcolor\":\"white\",\"linecolor\":\"white\",\"ticks\":\"\",\"title\":{\"standoff\":15},\"zerolinecolor\":\"white\",\"automargin\":true,\"zerolinewidth\":2},\"yaxis\":{\"gridcolor\":\"white\",\"linecolor\":\"white\",\"ticks\":\"\",\"title\":{\"standoff\":15},\"zerolinecolor\":\"white\",\"automargin\":true,\"zerolinewidth\":2},\"scene\":{\"xaxis\":{\"backgroundcolor\":\"#E5ECF6\",\"gridcolor\":\"white\",\"linecolor\":\"white\",\"showbackground\":true,\"ticks\":\"\",\"zerolinecolor\":\"white\",\"gridwidth\":2},\"yaxis\":{\"backgroundcolor\":\"#E5ECF6\",\"gridcolor\":\"white\",\"linecolor\":\"white\",\"showbackground\":true,\"ticks\":\"\",\"zerolinecolor\":\"white\",\"gridwidth\":2},\"zaxis\":{\"backgroundcolor\":\"#E5ECF6\",\"gridcolor\":\"white\",\"linecolor\":\"white\",\"showbackground\":true,\"ticks\":\"\",\"zerolinecolor\":\"white\",\"gridwidth\":2}},\"shapedefaults\":{\"line\":{\"color\":\"#2a3f5f\"}},\"annotationdefaults\":{\"arrowcolor\":\"#2a3f5f\",\"arrowhead\":0,\"arrowwidth\":1},\"geo\":{\"bgcolor\":\"white\",\"landcolor\":\"#E5ECF6\",\"subunitcolor\":\"white\",\"showland\":true,\"showlakes\":true,\"lakecolor\":\"white\"},\"title\":{\"x\":0.05},\"mapbox\":{\"style\":\"light\"}}},\"xaxis\":{\"anchor\":\"y\",\"domain\":[0.0,1.0],\"title\":{\"text\":\"Layer\"},\"tickmode\":\"array\",\"tickvals\":[0,1,2,3,4,5,6,7,8,9,10,11,12,13,14,15,16,17,18,19,20,21,22,23,24,25],\"ticktext\":[\"embed\",\"pos_embed\",\"0_attn_out\",\"0_mlp_out\",\"1_attn_out\",\"1_mlp_out\",\"2_attn_out\",\"2_mlp_out\",\"3_attn_out\",\"3_mlp_out\",\"4_attn_out\",\"4_mlp_out\",\"5_attn_out\",\"5_mlp_out\",\"6_attn_out\",\"6_mlp_out\",\"7_attn_out\",\"7_mlp_out\",\"8_attn_out\",\"8_mlp_out\",\"9_attn_out\",\"9_mlp_out\",\"10_attn_out\",\"10_mlp_out\",\"11_attn_out\",\"11_mlp_out\"]},\"yaxis\":{\"anchor\":\"x\",\"domain\":[0.0,1.0],\"title\":{\"text\":\"Logit Diff\"}},\"legend\":{\"tracegroupgap\":0},\"title\":{\"text\":\"Logit Difference From Each Layer\"},\"width\":800,\"hovermode\":\"x unified\"},                        {\"responsive\": true}                    ).then(function(){\n",
              "                            \n",
              "var gd = document.getElementById('07bfa1a1-d725-44a6-9bb8-7de898d7e976');\n",
              "var x = new MutationObserver(function (mutations, observer) {{\n",
              "        var display = window.getComputedStyle(gd).display;\n",
              "        if (!display || display === 'none') {{\n",
              "            console.log([gd, 'removed!']);\n",
              "            Plotly.purge(gd);\n",
              "            observer.disconnect();\n",
              "        }}\n",
              "}});\n",
              "\n",
              "// Listen for the removal of the full notebook cells\n",
              "var notebookContainer = gd.closest('#notebook-container');\n",
              "if (notebookContainer) {{\n",
              "    x.observe(notebookContainer, {childList: true});\n",
              "}}\n",
              "\n",
              "// Listen for the clearing of the current output cell\n",
              "var outputEl = gd.closest('.output');\n",
              "if (outputEl) {{\n",
              "    x.observe(outputEl, {childList: true});\n",
              "}}\n",
              "\n",
              "                        })                };                            </script>        </div>\n",
              "</body>\n",
              "</html>"
            ]
          },
          "metadata": {}
        }
      ],
      "source": [
        "per_layer_residual, labels = cache.decompose_resid(layer=-1, pos_slice=-1, return_labels=True)\n",
        "per_layer_logit_diffs = residual_stack_to_logit_diff(per_layer_residual, cache)\n",
        "\n",
        "line(\n",
        "    per_layer_logit_diffs,\n",
        "    hovermode=\"x unified\",\n",
        "    title=\"Logit Difference From Each Layer\",\n",
        "    labels={\"x\": \"Layer\", \"y\": \"Logit Diff\"},\n",
        "    xaxis_tickvals=labels,\n",
        "    width=800\n",
        ")"
      ]
    },
    {
      "cell_type": "markdown",
      "metadata": {
        "id": "N_-qd-rkl6mJ"
      },
      "source": [
        "<details>\n",
        "<summary>Question - what is the interpretation of this plot? What does this tell you about how the model solves this task?</summary>\n",
        "\n",
        "We see that only attention layers matter, which makes sense! The IOI task is about moving information around (i.e. moving the correct name and not the incorrect name), and less about processing it. And again we note that attention layer 9 improves things a lot, while attention 10 and attention 11 *decrease* performance.\n",
        "</details>\n"
      ]
    },
    {
      "cell_type": "markdown",
      "metadata": {
        "id": "PlwmFSyPl6mJ"
      },
      "source": [
        "## Head Attribution\n"
      ]
    },
    {
      "cell_type": "markdown",
      "metadata": {
        "id": "-o4wLrnil6mJ"
      },
      "source": [
        "We can further break down the output of each attention layer into the sum of the outputs of each attention head. Each attention layer consists of 12 heads, which each act independently and additively.\n",
        "\n",
        "<details> <summary>Decomposing attention output into sums of heads</summary>\n",
        "\n",
        "The standard way to compute the output of an attention layer is by concatenating the mixed values of each head, and multiplying by a big output weight matrix. But as described in [A Mathematical Framework](https://transformer-circuits.pub/2021/framework/index.html) this is equivalent to splitting the output weight matrix into a per-head output (here `model.blocks[k].attn.W_O`) and adding them up (including an overall bias term for the entire layer).\n",
        "</details>\n"
      ]
    },
    {
      "cell_type": "code",
      "execution_count": 56,
      "metadata": {
        "id": "EPD6V1OIl6mJ",
        "colab": {
          "base_uri": "https://localhost:8080/",
          "height": 559
        },
        "outputId": "da054cb6-f225-44a1-fe9d-90d9c26d10a0"
      },
      "outputs": [
        {
          "output_type": "stream",
          "name": "stdout",
          "text": [
            "Tried to stack head results when they weren't cached. Computing head results now\n"
          ]
        },
        {
          "output_type": "display_data",
          "data": {
            "text/html": [
              "<html>\n",
              "<head><meta charset=\"utf-8\" /></head>\n",
              "<body>\n",
              "    <div>            <script src=\"https://cdnjs.cloudflare.com/ajax/libs/mathjax/2.7.5/MathJax.js?config=TeX-AMS-MML_SVG\"></script><script type=\"text/javascript\">if (window.MathJax && window.MathJax.Hub && window.MathJax.Hub.Config) {window.MathJax.Hub.Config({SVG: {font: \"STIX-Web\"}});}</script>                <script type=\"text/javascript\">window.PlotlyConfig = {MathJaxConfig: 'local'};</script>\n",
              "        <script charset=\"utf-8\" src=\"https://cdn.plot.ly/plotly-2.24.1.min.js\"></script>                <div id=\"72bc8588-87a5-42f3-a7b5-e3a4a33af683\" class=\"plotly-graph-div\" style=\"height:525px; width:600px;\"></div>            <script type=\"text/javascript\">                                    window.PLOTLYENV=window.PLOTLYENV || {};                                    if (document.getElementById(\"72bc8588-87a5-42f3-a7b5-e3a4a33af683\")) {                    Plotly.newPlot(                        \"72bc8588-87a5-42f3-a7b5-e3a4a33af683\",                        [{\"coloraxis\":\"coloraxis\",\"name\":\"0\",\"z\":[[-0.002056330442428589,-0.000510198122356087,0.0004685821768362075,0.0001251270732609555,-0.000602868152782321,-0.00024295374169014394,-0.0023188884370028973,-0.0027583795599639416,0.0005645958008244634,0.0009697639616206288,-0.00025045094662345946,4.7334469854831696e-06],[-0.0010071173310279846,0.00039472058415412903,-0.0015487411292269826,0.0014035010244697332,-0.0012652913574129343,-0.0011358218034729362,-0.0028159581124782562,-0.002964525017887354,0.0029190261848270893,0.0025743632577359676,0.0003623703960329294,0.001754892524331808],[0.0005569546483457088,-0.0011266341898590326,-0.001735463971272111,-0.001451468444429338,-0.00028739694971591234,0.0017210566438734531,0.0026659066788852215,0.003114672377705574,0.0005667106597684324,-0.0036664986982941628,-0.0018847256433218718,7.023336365818977e-06],[-0.0007264444138854742,0.00011369894491508603,0.001430184580385685,0.0007490373682230711,0.0020184842869639397,0.0007436795858666301,-0.0004616971127688885,-0.003905762219801545,0.0011407380225136876,-4.025478847324848e-05,-0.0013293387601152062,-0.0017637705896049738],[-0.0028281714767217636,0.0003364661824889481,-0.0014248949009925127,-0.003777314443141222,0.001599890529178083,0.00029895943589508533,-0.0008045914582908154,0.0020388769917190075,-0.0015593706630170345,-0.0006437153788283467,0.0011168268974870443,-0.0003500543534755707],[0.0011338137555867434,0.0011259230086579919,-0.002516491338610649,-0.0014790379209443927,0.0003878832794725895,-6.405921885743737e-05,-0.000509683508425951,-0.0008841664530336857,0.0006399340927600861,-0.0010096936021000147,-0.006759041454643011,0.003366734366863966],[-0.015147609636187553,-0.0021350253373384476,0.0025931671261787415,-0.0004267426556907594,-0.005559038370847702,0.002665930427610874,0.006410922855138779,-0.0038269786164164543,-0.00038416951429098845,-0.0016430097166448832,-0.0013344320468604565,-9.187054820358753e-05],[-9.484442853135988e-05,-0.005788937211036682,-0.0006383577128872275,0.13493426144123077,-0.0017687603831291199,-0.018917851150035858,0.0038733878172934055,-0.002145075239241123,-0.010327239520847797,0.18325868248939514,-0.0007747830240987241,-0.0010452347341924906],[-0.0038339265156537294,-0.0008046187576837838,-0.01267333049327135,0.008045685477554798,0.0036041950806975365,-0.009398301132023335,-0.08272109180688858,0.00355502194724977,-0.01840410940349102,0.0017586983740329742,0.289614737033844,0.022854089736938477],[0.08595260977745056,-0.000693310983479023,0.06817090511322021,0.013111686334013939,-0.021098095923662186,0.05112442001700401,1.3844971656799316,0.045836903154850006,-0.03830292820930481,2.9854536056518555,0.0019661220721900463,-0.0080300597473979],[0.5608720183372498,0.17083120346069336,-0.03361772745847702,0.05821589380502701,-0.0024530463851988316,0.0018771520117297769,0.28827258944511414,-1.8986527919769287,-0.0015287018613889813,-0.03513004630804062,0.4802156686782837,-0.000911607057787478],[0.01607579179108143,-0.03986121714115143,-0.38791322708129883,0.011122933588922024,-0.0054778773337602615,-0.002513017738237977,-0.08056089282035828,0.0075186495669186115,0.04301120713353157,-0.04008232057094574,-0.9702376127243042,0.011862458661198616]],\"type\":\"heatmap\",\"xaxis\":\"x\",\"yaxis\":\"y\",\"hovertemplate\":\"Head: %{x}\\u003cbr\\u003eLayer: %{y}\\u003cbr\\u003ecolor: %{z}\\u003cextra\\u003e\\u003c\\u002fextra\\u003e\"}],                        {\"template\":{\"data\":{\"histogram2dcontour\":[{\"type\":\"histogram2dcontour\",\"colorbar\":{\"outlinewidth\":0,\"ticks\":\"\"},\"colorscale\":[[0.0,\"#0d0887\"],[0.1111111111111111,\"#46039f\"],[0.2222222222222222,\"#7201a8\"],[0.3333333333333333,\"#9c179e\"],[0.4444444444444444,\"#bd3786\"],[0.5555555555555556,\"#d8576b\"],[0.6666666666666666,\"#ed7953\"],[0.7777777777777778,\"#fb9f3a\"],[0.8888888888888888,\"#fdca26\"],[1.0,\"#f0f921\"]]}],\"choropleth\":[{\"type\":\"choropleth\",\"colorbar\":{\"outlinewidth\":0,\"ticks\":\"\"}}],\"histogram2d\":[{\"type\":\"histogram2d\",\"colorbar\":{\"outlinewidth\":0,\"ticks\":\"\"},\"colorscale\":[[0.0,\"#0d0887\"],[0.1111111111111111,\"#46039f\"],[0.2222222222222222,\"#7201a8\"],[0.3333333333333333,\"#9c179e\"],[0.4444444444444444,\"#bd3786\"],[0.5555555555555556,\"#d8576b\"],[0.6666666666666666,\"#ed7953\"],[0.7777777777777778,\"#fb9f3a\"],[0.8888888888888888,\"#fdca26\"],[1.0,\"#f0f921\"]]}],\"heatmap\":[{\"type\":\"heatmap\",\"colorbar\":{\"outlinewidth\":0,\"ticks\":\"\"},\"colorscale\":[[0.0,\"#0d0887\"],[0.1111111111111111,\"#46039f\"],[0.2222222222222222,\"#7201a8\"],[0.3333333333333333,\"#9c179e\"],[0.4444444444444444,\"#bd3786\"],[0.5555555555555556,\"#d8576b\"],[0.6666666666666666,\"#ed7953\"],[0.7777777777777778,\"#fb9f3a\"],[0.8888888888888888,\"#fdca26\"],[1.0,\"#f0f921\"]]}],\"heatmapgl\":[{\"type\":\"heatmapgl\",\"colorbar\":{\"outlinewidth\":0,\"ticks\":\"\"},\"colorscale\":[[0.0,\"#0d0887\"],[0.1111111111111111,\"#46039f\"],[0.2222222222222222,\"#7201a8\"],[0.3333333333333333,\"#9c179e\"],[0.4444444444444444,\"#bd3786\"],[0.5555555555555556,\"#d8576b\"],[0.6666666666666666,\"#ed7953\"],[0.7777777777777778,\"#fb9f3a\"],[0.8888888888888888,\"#fdca26\"],[1.0,\"#f0f921\"]]}],\"contourcarpet\":[{\"type\":\"contourcarpet\",\"colorbar\":{\"outlinewidth\":0,\"ticks\":\"\"}}],\"contour\":[{\"type\":\"contour\",\"colorbar\":{\"outlinewidth\":0,\"ticks\":\"\"},\"colorscale\":[[0.0,\"#0d0887\"],[0.1111111111111111,\"#46039f\"],[0.2222222222222222,\"#7201a8\"],[0.3333333333333333,\"#9c179e\"],[0.4444444444444444,\"#bd3786\"],[0.5555555555555556,\"#d8576b\"],[0.6666666666666666,\"#ed7953\"],[0.7777777777777778,\"#fb9f3a\"],[0.8888888888888888,\"#fdca26\"],[1.0,\"#f0f921\"]]}],\"surface\":[{\"type\":\"surface\",\"colorbar\":{\"outlinewidth\":0,\"ticks\":\"\"},\"colorscale\":[[0.0,\"#0d0887\"],[0.1111111111111111,\"#46039f\"],[0.2222222222222222,\"#7201a8\"],[0.3333333333333333,\"#9c179e\"],[0.4444444444444444,\"#bd3786\"],[0.5555555555555556,\"#d8576b\"],[0.6666666666666666,\"#ed7953\"],[0.7777777777777778,\"#fb9f3a\"],[0.8888888888888888,\"#fdca26\"],[1.0,\"#f0f921\"]]}],\"mesh3d\":[{\"type\":\"mesh3d\",\"colorbar\":{\"outlinewidth\":0,\"ticks\":\"\"}}],\"scatter\":[{\"fillpattern\":{\"fillmode\":\"overlay\",\"size\":10,\"solidity\":0.2},\"type\":\"scatter\"}],\"parcoords\":[{\"type\":\"parcoords\",\"line\":{\"colorbar\":{\"outlinewidth\":0,\"ticks\":\"\"}}}],\"scatterpolargl\":[{\"type\":\"scatterpolargl\",\"marker\":{\"colorbar\":{\"outlinewidth\":0,\"ticks\":\"\"}}}],\"bar\":[{\"error_x\":{\"color\":\"#2a3f5f\"},\"error_y\":{\"color\":\"#2a3f5f\"},\"marker\":{\"line\":{\"color\":\"#E5ECF6\",\"width\":0.5},\"pattern\":{\"fillmode\":\"overlay\",\"size\":10,\"solidity\":0.2}},\"type\":\"bar\"}],\"scattergeo\":[{\"type\":\"scattergeo\",\"marker\":{\"colorbar\":{\"outlinewidth\":0,\"ticks\":\"\"}}}],\"scatterpolar\":[{\"type\":\"scatterpolar\",\"marker\":{\"colorbar\":{\"outlinewidth\":0,\"ticks\":\"\"}}}],\"histogram\":[{\"marker\":{\"pattern\":{\"fillmode\":\"overlay\",\"size\":10,\"solidity\":0.2}},\"type\":\"histogram\"}],\"scattergl\":[{\"type\":\"scattergl\",\"marker\":{\"colorbar\":{\"outlinewidth\":0,\"ticks\":\"\"}}}],\"scatter3d\":[{\"type\":\"scatter3d\",\"line\":{\"colorbar\":{\"outlinewidth\":0,\"ticks\":\"\"}},\"marker\":{\"colorbar\":{\"outlinewidth\":0,\"ticks\":\"\"}}}],\"scattermapbox\":[{\"type\":\"scattermapbox\",\"marker\":{\"colorbar\":{\"outlinewidth\":0,\"ticks\":\"\"}}}],\"scatterternary\":[{\"type\":\"scatterternary\",\"marker\":{\"colorbar\":{\"outlinewidth\":0,\"ticks\":\"\"}}}],\"scattercarpet\":[{\"type\":\"scattercarpet\",\"marker\":{\"colorbar\":{\"outlinewidth\":0,\"ticks\":\"\"}}}],\"carpet\":[{\"aaxis\":{\"endlinecolor\":\"#2a3f5f\",\"gridcolor\":\"white\",\"linecolor\":\"white\",\"minorgridcolor\":\"white\",\"startlinecolor\":\"#2a3f5f\"},\"baxis\":{\"endlinecolor\":\"#2a3f5f\",\"gridcolor\":\"white\",\"linecolor\":\"white\",\"minorgridcolor\":\"white\",\"startlinecolor\":\"#2a3f5f\"},\"type\":\"carpet\"}],\"table\":[{\"cells\":{\"fill\":{\"color\":\"#EBF0F8\"},\"line\":{\"color\":\"white\"}},\"header\":{\"fill\":{\"color\":\"#C8D4E3\"},\"line\":{\"color\":\"white\"}},\"type\":\"table\"}],\"barpolar\":[{\"marker\":{\"line\":{\"color\":\"#E5ECF6\",\"width\":0.5},\"pattern\":{\"fillmode\":\"overlay\",\"size\":10,\"solidity\":0.2}},\"type\":\"barpolar\"}],\"pie\":[{\"automargin\":true,\"type\":\"pie\"}]},\"layout\":{\"autotypenumbers\":\"strict\",\"colorway\":[\"#636efa\",\"#EF553B\",\"#00cc96\",\"#ab63fa\",\"#FFA15A\",\"#19d3f3\",\"#FF6692\",\"#B6E880\",\"#FF97FF\",\"#FECB52\"],\"font\":{\"color\":\"#2a3f5f\"},\"hovermode\":\"closest\",\"hoverlabel\":{\"align\":\"left\"},\"paper_bgcolor\":\"white\",\"plot_bgcolor\":\"#E5ECF6\",\"polar\":{\"bgcolor\":\"#E5ECF6\",\"angularaxis\":{\"gridcolor\":\"white\",\"linecolor\":\"white\",\"ticks\":\"\"},\"radialaxis\":{\"gridcolor\":\"white\",\"linecolor\":\"white\",\"ticks\":\"\"}},\"ternary\":{\"bgcolor\":\"#E5ECF6\",\"aaxis\":{\"gridcolor\":\"white\",\"linecolor\":\"white\",\"ticks\":\"\"},\"baxis\":{\"gridcolor\":\"white\",\"linecolor\":\"white\",\"ticks\":\"\"},\"caxis\":{\"gridcolor\":\"white\",\"linecolor\":\"white\",\"ticks\":\"\"}},\"coloraxis\":{\"colorbar\":{\"outlinewidth\":0,\"ticks\":\"\"}},\"colorscale\":{\"sequential\":[[0.0,\"#0d0887\"],[0.1111111111111111,\"#46039f\"],[0.2222222222222222,\"#7201a8\"],[0.3333333333333333,\"#9c179e\"],[0.4444444444444444,\"#bd3786\"],[0.5555555555555556,\"#d8576b\"],[0.6666666666666666,\"#ed7953\"],[0.7777777777777778,\"#fb9f3a\"],[0.8888888888888888,\"#fdca26\"],[1.0,\"#f0f921\"]],\"sequentialminus\":[[0.0,\"#0d0887\"],[0.1111111111111111,\"#46039f\"],[0.2222222222222222,\"#7201a8\"],[0.3333333333333333,\"#9c179e\"],[0.4444444444444444,\"#bd3786\"],[0.5555555555555556,\"#d8576b\"],[0.6666666666666666,\"#ed7953\"],[0.7777777777777778,\"#fb9f3a\"],[0.8888888888888888,\"#fdca26\"],[1.0,\"#f0f921\"]],\"diverging\":[[0,\"#8e0152\"],[0.1,\"#c51b7d\"],[0.2,\"#de77ae\"],[0.3,\"#f1b6da\"],[0.4,\"#fde0ef\"],[0.5,\"#f7f7f7\"],[0.6,\"#e6f5d0\"],[0.7,\"#b8e186\"],[0.8,\"#7fbc41\"],[0.9,\"#4d9221\"],[1,\"#276419\"]]},\"xaxis\":{\"gridcolor\":\"white\",\"linecolor\":\"white\",\"ticks\":\"\",\"title\":{\"standoff\":15},\"zerolinecolor\":\"white\",\"automargin\":true,\"zerolinewidth\":2},\"yaxis\":{\"gridcolor\":\"white\",\"linecolor\":\"white\",\"ticks\":\"\",\"title\":{\"standoff\":15},\"zerolinecolor\":\"white\",\"automargin\":true,\"zerolinewidth\":2},\"scene\":{\"xaxis\":{\"backgroundcolor\":\"#E5ECF6\",\"gridcolor\":\"white\",\"linecolor\":\"white\",\"showbackground\":true,\"ticks\":\"\",\"zerolinecolor\":\"white\",\"gridwidth\":2},\"yaxis\":{\"backgroundcolor\":\"#E5ECF6\",\"gridcolor\":\"white\",\"linecolor\":\"white\",\"showbackground\":true,\"ticks\":\"\",\"zerolinecolor\":\"white\",\"gridwidth\":2},\"zaxis\":{\"backgroundcolor\":\"#E5ECF6\",\"gridcolor\":\"white\",\"linecolor\":\"white\",\"showbackground\":true,\"ticks\":\"\",\"zerolinecolor\":\"white\",\"gridwidth\":2}},\"shapedefaults\":{\"line\":{\"color\":\"#2a3f5f\"}},\"annotationdefaults\":{\"arrowcolor\":\"#2a3f5f\",\"arrowhead\":0,\"arrowwidth\":1},\"geo\":{\"bgcolor\":\"white\",\"landcolor\":\"#E5ECF6\",\"subunitcolor\":\"white\",\"showland\":true,\"showlakes\":true,\"lakecolor\":\"white\"},\"title\":{\"x\":0.05},\"mapbox\":{\"style\":\"light\"}}},\"xaxis\":{\"anchor\":\"y\",\"domain\":[0.0,1.0],\"scaleanchor\":\"y\",\"constrain\":\"domain\",\"title\":{\"text\":\"Head\"}},\"yaxis\":{\"anchor\":\"x\",\"domain\":[0.0,1.0],\"autorange\":\"reversed\",\"constrain\":\"domain\",\"title\":{\"text\":\"Layer\"}},\"coloraxis\":{\"colorscale\":[[0.0,\"rgb(103,0,31)\"],[0.1,\"rgb(178,24,43)\"],[0.2,\"rgb(214,96,77)\"],[0.3,\"rgb(244,165,130)\"],[0.4,\"rgb(253,219,199)\"],[0.5,\"rgb(247,247,247)\"],[0.6,\"rgb(209,229,240)\"],[0.7,\"rgb(146,197,222)\"],[0.8,\"rgb(67,147,195)\"],[0.9,\"rgb(33,102,172)\"],[1.0,\"rgb(5,48,97)\"]],\"cmid\":0.0},\"title\":{\"text\":\"Logit Difference From Each Head\"},\"width\":600},                        {\"staticPlot\": false, \"responsive\": true}                    ).then(function(){\n",
              "                            \n",
              "var gd = document.getElementById('72bc8588-87a5-42f3-a7b5-e3a4a33af683');\n",
              "var x = new MutationObserver(function (mutations, observer) {{\n",
              "        var display = window.getComputedStyle(gd).display;\n",
              "        if (!display || display === 'none') {{\n",
              "            console.log([gd, 'removed!']);\n",
              "            Plotly.purge(gd);\n",
              "            observer.disconnect();\n",
              "        }}\n",
              "}});\n",
              "\n",
              "// Listen for the removal of the full notebook cells\n",
              "var notebookContainer = gd.closest('#notebook-container');\n",
              "if (notebookContainer) {{\n",
              "    x.observe(notebookContainer, {childList: true});\n",
              "}}\n",
              "\n",
              "// Listen for the clearing of the current output cell\n",
              "var outputEl = gd.closest('.output');\n",
              "if (outputEl) {{\n",
              "    x.observe(outputEl, {childList: true});\n",
              "}}\n",
              "\n",
              "                        })                };                            </script>        </div>\n",
              "</body>\n",
              "</html>"
            ]
          },
          "metadata": {}
        }
      ],
      "source": [
        "per_head_residual, labels = cache.stack_head_results(layer=-1, pos_slice=-1, return_labels=True)\n",
        "per_head_residual = einops.rearrange(\n",
        "    per_head_residual,\n",
        "    \"(layer head) ... -> layer head ...\",\n",
        "    layer=model.cfg.n_layers\n",
        ")\n",
        "per_head_logit_diffs = residual_stack_to_logit_diff(per_head_residual, cache)\n",
        "\n",
        "imshow(\n",
        "    per_head_logit_diffs,\n",
        "    labels={\"x\":\"Head\", \"y\":\"Layer\"},\n",
        "    title=\"Logit Difference From Each Head\",\n",
        "    width=600\n",
        ")"
      ]
    },
    {
      "cell_type": "markdown",
      "metadata": {
        "id": "wRyQZrNgl6mK"
      },
      "source": [
        "We see that only a few heads really matter - heads 9.6 and 9.9 contribute a lot positively (explaining why attention layer 9 is so important), while heads 10.7 and 11.10 contribute a lot negatively (explaining why attention layer 10 and layer 11 are actively harmful). These correspond to (some of) the name movers and negative name movers discussed in the paper. There are also several heads that matter positively or negatively but less strongly (other name movers and backup name movers).\n",
        "\n",
        "There are a few meta observations worth making here - our model has 144 heads, yet we could localise this behaviour to a handful of specific heads, using straightforward, general techniques. This supports the claim in [A Mathematical Framework](https://transformer-circuits.pub/2021/framework/index.html) that attention heads are the right level of abstraction to understand attention. It also really surprising that there are *negative* heads - eg 10.7 makes the incorrect logit 7x *more* likely. I'm not sure what's going on there, though the paper discusses some possibilities.\n"
      ]
    },
    {
      "cell_type": "markdown",
      "metadata": {
        "id": "_kOt1JbHl6mK"
      },
      "source": [
        "## Recap of useful functions from this section\n",
        "\n",
        "Here, we take stock of all the functions from transformerlens which you might not have seen previously.\n",
        "\n",
        "* `cache.apply_ln_to_stack`\n",
        "    * Apply layernorm scaling to a stack of residual stream values.\n",
        "    * We used this to help us go from \"final value in residual stream\" to \"projection of logits in logit difference directions\", without getting the code too messy!\n",
        "* `cache.accumulated_resid(layer=None)`\n",
        "    * Returns the accumulated residual stream up to layer `layer` (or up to the final value of residual stream if layer is None), i.e. a stack of previous residual streams up to that layer's input.\n",
        "    * Useful when studying the **logit lens**.\n",
        "    * First dimension of output is `(0_pre, 0_mid, 1_pre, 1_mid, ..., final_post)`\n",
        "* `cache.decompose_resid(layer)`.\n",
        "    * Decomposes the residual stream input to layer `layer` into a stack of the output of previous layers. The sum of these is the input to layer `layer`.\n",
        "    * First dimension of output is `(embed, pos_embed, 0_attn_out, 0_mlp_out, ...)`.\n",
        "* `cache.stack_head_results(layer)`\n",
        "    * Returns a stack of all head results (i.e. residual stream contribution) up to layer `layer`\n",
        "    * (i.e. like `decompose_resid` except it splits each attention layer by head rather than splitting each layer by attention/MLP)\n",
        "    * First dimension of output is `layer * head` (we needed to rearrange to `(layer, head)` to plot it).\n"
      ]
    },
    {
      "cell_type": "markdown",
      "metadata": {
        "id": "A5z5RSlZl6mK"
      },
      "source": [
        "## Attention Analysis\n",
        "\n",
        "Attention heads are particularly fruitful to study because we can look directly at their attention patterns and study from what positions they move information from and to. This is particularly useful here as we're looking at the direct effect on the logits so we need only look at the attention patterns from the final token.\n",
        "\n",
        "We use the `circuitsvis` library (developed from Anthropic's PySvelte library) to visualize the attention patterns! We visualize the top 3 positive and negative heads by direct logit attribution, and show these for the first prompt (as an illustration).\n",
        "\n",
        "<details> <summary>Interpreting Attention Patterns</summary>\n",
        "\n",
        "A common mistake to make when looking at attention patterns is thinking that they must convey information about the *token* looked at (maybe accounting for the context of the token). But actually, all we can confidently say is that it moves information from the *residual stream position* corresponding to that input token. Especially later on in the model, there may be components in the residual stream that are nothing to do with the input token! Eg the period at the end of a sentence may contain summary information for that sentence, and the head may solely move that, rather than caring about whether it ends in \".\", \"!\" or \"?\"\n",
        "</details>\n"
      ]
    },
    {
      "cell_type": "code",
      "execution_count": 57,
      "metadata": {
        "id": "K3UJjS7_l6mK",
        "colab": {
          "base_uri": "https://localhost:8080/",
          "height": 1000
        },
        "outputId": "626daa0d-7bd3-4830-a693-ea709d7efa64"
      },
      "outputs": [
        {
          "output_type": "display_data",
          "data": {
            "text/plain": [
              "<IPython.core.display.HTML object>"
            ],
            "text/html": [
              "<h2>Top 3 Positive Logit Attribution Heads</h2>"
            ]
          },
          "metadata": {}
        },
        {
          "output_type": "display_data",
          "data": {
            "text/plain": [
              "<circuitsvis.utils.render.RenderedHTML at 0x78c35a432650>"
            ],
            "text/html": [
              "<div id=\"circuits-vis-7cce9b9e-776b\" style=\"margin: 15px 0;\"/>\n",
              "    <script crossorigin type=\"module\">\n",
              "    import { render, AttentionHeads } from \"https://unpkg.com/circuitsvis@1.41.0/dist/cdn/esm.js\";\n",
              "    render(\n",
              "      \"circuits-vis-7cce9b9e-776b\",\n",
              "      AttentionHeads,\n",
              "      {\"attention\": [[[1.0, 0.0, 0.0, 0.0, 0.0, 0.0, 0.0, 0.0, 0.0, 0.0, 0.0, 0.0, 0.0, 0.0, 0.0], [0.9972944855690002, 0.0027056382969021797, 0.0, 0.0, 0.0, 0.0, 0.0, 0.0, 0.0, 0.0, 0.0, 0.0, 0.0, 0.0, 0.0], [0.9962596893310547, 0.0009261541999876499, 0.0028141606599092484, 0.0, 0.0, 0.0, 0.0, 0.0, 0.0, 0.0, 0.0, 0.0, 0.0, 0.0, 0.0], [0.9528970718383789, 0.0022213745396584272, 0.04285675659775734, 0.0020247227512300014, 0.0, 0.0, 0.0, 0.0, 0.0, 0.0, 0.0, 0.0, 0.0, 0.0, 0.0], [0.9851979613304138, 0.0015897105913609266, 0.006368751637637615, 0.0015314834890887141, 0.005312161985784769, 0.0, 0.0, 0.0, 0.0, 0.0, 0.0, 0.0, 0.0, 0.0, 0.0], [0.9954929351806641, 0.0010612728074193, 0.001080593909136951, 0.00015537452418357134, 0.0007782359607517719, 0.0014315755106508732, 0.0, 0.0, 0.0, 0.0, 0.0, 0.0, 0.0, 0.0, 0.0], [0.973646342754364, 0.002283272100612521, 0.008155758492648602, 0.000249253906076774, 0.009252968244254589, 0.0015051855007186532, 0.0049072373658418655, 0.0, 0.0, 0.0, 0.0, 0.0, 0.0, 0.0, 0.0], [0.9938425421714783, 0.0017841353546828032, 0.001292273635044694, 0.00020421163935679942, 0.0004908475675620139, 0.0001904395903693512, 0.0003762244596146047, 0.0018193256109952927, 0.0, 0.0, 0.0, 0.0, 0.0, 0.0, 0.0], [0.9912064671516418, 0.001723342458717525, 0.0010265751043334603, 0.00011960582924075425, 0.0007412366103380919, 0.00015900025027804077, 0.0002987209300044924, 0.00018268705753143877, 0.0045423805713653564, 0.0, 0.0, 0.0, 0.0, 0.0, 0.0], [0.5234013795852661, 0.008354558609426022, 0.24390089511871338, 0.002350478433072567, 0.2112576961517334, 0.0007695571985095739, 0.0006347689777612686, 0.0015820431290194392, 0.004504242446273565, 0.0032443953678011894, 0.0, 0.0, 0.0, 0.0, 0.0], [0.9352381229400635, 0.002883387263864279, 0.0057711247354745865, 0.023920105770230293, 0.01872418448328972, 0.006232314743101597, 0.0004495864559430629, 0.0004470300336834043, 0.0018863256555050611, 0.0012447335757315159, 0.0032030728179961443, 0.0, 0.0, 0.0, 0.0], [0.19591927528381348, 0.011928503401577473, 0.35221755504608154, 0.009018851444125175, 0.39108291268348694, 0.000606411078479141, 0.00038167613092809916, 0.0012834778754040599, 0.0027171310503035784, 0.0015595464501529932, 0.031729791313409805, 0.0015549220843240619, 0.0, 0.0, 0.0], [0.8878721594810486, 0.0044036447070539, 0.018914490938186646, 0.006009249947965145, 0.013130477629601955, 0.0017337949248030782, 0.0006078315200284123, 0.0005778296035714447, 0.05183938518166542, 0.002075257245451212, 0.002955489093437791, 0.0017708784434944391, 0.008109517395496368, 0.0, 0.0], [0.9741849303245544, 0.0015543142799288034, 0.0013313519302755594, 0.0003907133359462023, 0.0008167051710188389, 0.0002448101877234876, 0.0005729030817747116, 0.0001202213388751261, 0.0022324142046272755, 0.0012384956935420632, 0.0003908937214873731, 0.0008206800557672977, 0.0012903691967949271, 0.014811157248914242, 0.0], [0.0983387753367424, 0.009148012846708298, 0.3815745711326599, 0.0017671744571998715, 0.47477588057518005, 0.0001370814279653132, 8.885386341717094e-05, 0.0005996925756335258, 0.0003626205143518746, 0.0010625203140079975, 0.02750261127948761, 0.00014109225594438612, 0.002898025093600154, 0.0004912526928819716, 0.001111842691898346]], [[1.0, 0.0, 0.0, 0.0, 0.0, 0.0, 0.0, 0.0, 0.0, 0.0, 0.0, 0.0, 0.0, 0.0, 0.0], [0.9982616901397705, 0.0017383890226483345, 0.0, 0.0, 0.0, 0.0, 0.0, 0.0, 0.0, 0.0, 0.0, 0.0, 0.0, 0.0, 0.0], [0.9945152997970581, 0.000729510560631752, 0.004755102097988129, 0.0, 0.0, 0.0, 0.0, 0.0, 0.0, 0.0, 0.0, 0.0, 0.0, 0.0, 0.0], [0.9052151441574097, 0.0009898807620629668, 0.09214130789041519, 0.0016536738257855177, 0.0, 0.0, 0.0, 0.0, 0.0, 0.0, 0.0, 0.0, 0.0, 0.0, 0.0], [0.9793537259101868, 0.0011637057177722454, 0.006033122539520264, 0.005824140273034573, 0.007625315338373184, 0.0, 0.0, 0.0, 0.0, 0.0, 0.0, 0.0, 0.0, 0.0, 0.0], [0.9945240020751953, 0.0006744067650288343, 0.0014488731976598501, 0.0003899316652677953, 0.0010136205237358809, 0.0019491773564368486, 0.0, 0.0, 0.0, 0.0, 0.0, 0.0, 0.0, 0.0, 0.0], [0.9773285388946533, 0.001644084695726633, 0.01037648506462574, 0.00043533730786293745, 0.006762954406440258, 0.0009672441519796848, 0.00248525058850646, 0.0, 0.0, 0.0, 0.0, 0.0, 0.0, 0.0, 0.0], [0.9941055774688721, 0.0010262788273394108, 0.0010850683320313692, 0.0005199771840125322, 0.0006984167266637087, 0.0004503231029957533, 0.001127016730606556, 0.0009872872615233064, 0.0, 0.0, 0.0, 0.0, 0.0, 0.0, 0.0], [0.974807620048523, 0.006466964725404978, 0.0014510391047224402, 0.00026021568919532, 0.0012046705232933164, 0.00034581072395667434, 0.001955135725438595, 0.0007788630318827927, 0.0127297043800354, 0.0, 0.0, 0.0, 0.0, 0.0, 0.0], [0.5774231553077698, 0.006452913396060467, 0.14446048438549042, 0.0024811855982989073, 0.25920119881629944, 0.0007872110581956804, 0.0004807534860447049, 0.0004262637812644243, 0.006937538739293814, 0.001349213533103466, 0.0, 0.0, 0.0, 0.0, 0.0], [0.9336602687835693, 0.0018418331164866686, 0.0031791694927960634, 0.022608626633882523, 0.015273877419531345, 0.007421998307108879, 0.00238808267749846, 0.0008246202487498522, 0.006557942368090153, 0.0016298957634717226, 0.0046136509627103806, 0.0, 0.0, 0.0, 0.0], [0.29626914858818054, 0.0021591156255453825, 0.15839830040931702, 0.005378523841500282, 0.48518073558807373, 0.0008874577470123768, 0.0004516986955422908, 0.0008572629885748029, 0.003793420735746622, 0.00036089602508582175, 0.04474984481930733, 0.001513562398031354, 0.0, 0.0, 0.0], [0.8873333930969238, 0.002311024582013488, 0.005899509415030479, 0.01104731485247612, 0.015069193206727505, 0.00299459183588624, 0.0010868348181247711, 0.00022122512746136636, 0.06406965851783752, 0.0015461876755580306, 0.0024539893493056297, 0.0017224608454853296, 0.004244663752615452, 0.0, 0.0], [0.9753476977348328, 0.0013571681920439005, 0.002086515771225095, 0.000370383495464921, 0.0017645701300352812, 0.00035511134774424136, 0.0011722672497853637, 0.0002516539243515581, 0.003200151491910219, 0.0012765146093443036, 0.0014512997586280107, 0.00048125372268259525, 0.0019225339638069272, 0.008962888270616531, 0.0], [0.16741864383220673, 0.0011178588028997183, 0.2988734841346741, 0.0009690616279840469, 0.4964674115180969, 0.00015993382839951664, 4.598043960868381e-05, 0.00010881514754146338, 0.0009416695102117956, 9.384511213283986e-05, 0.031580593436956406, 0.0001006887323455885, 0.0008205035701394081, 0.0009753903723321855, 0.0003261204110458493]], [[1.0, 0.0, 0.0, 0.0, 0.0, 0.0, 0.0, 0.0, 0.0, 0.0, 0.0, 0.0, 0.0, 0.0, 0.0], [0.9807032942771912, 0.019296692684292793, 0.0, 0.0, 0.0, 0.0, 0.0, 0.0, 0.0, 0.0, 0.0, 0.0, 0.0, 0.0, 0.0], [0.9365876317024231, 0.014715702272951603, 0.04869667440652847, 0.0, 0.0, 0.0, 0.0, 0.0, 0.0, 0.0, 0.0, 0.0, 0.0, 0.0, 0.0], [0.853786289691925, 0.007642357610166073, 0.11181526631116867, 0.02675613760948181, 0.0, 0.0, 0.0, 0.0, 0.0, 0.0, 0.0, 0.0, 0.0, 0.0, 0.0], [0.862921416759491, 0.018313007429242134, 0.04916493967175484, 0.015434515662491322, 0.05416616052389145, 0.0, 0.0, 0.0, 0.0, 0.0, 0.0, 0.0, 0.0, 0.0, 0.0], [0.9707478880882263, 0.004160057287663221, 0.001686935662291944, 0.008711869828402996, 0.005908925086259842, 0.008784308098256588, 0.0, 0.0, 0.0, 0.0, 0.0, 0.0, 0.0, 0.0, 0.0], [0.7560635805130005, 0.018519535660743713, 0.054751671850681305, 0.014936771243810654, 0.10818034410476685, 0.015644855797290802, 0.03190318122506142, 0.0, 0.0, 0.0, 0.0, 0.0, 0.0, 0.0, 0.0], [0.8467603325843811, 0.013943209312856197, 0.027311233803629875, 0.015852149575948715, 0.04357728734612465, 0.006975036580115557, 0.026266295462846756, 0.019314473494887352, 0.0, 0.0, 0.0, 0.0, 0.0, 0.0, 0.0], [0.9167343378067017, 0.004641370382159948, 0.016126440837979317, 0.0015967953950166702, 0.022550685331225395, 0.0011065404396504164, 0.001454644021578133, 0.0009346885490231216, 0.034854449331760406, 0.0, 0.0, 0.0, 0.0, 0.0, 0.0], [0.40107715129852295, 0.005766060668975115, 0.14772705733776093, 0.006764845922589302, 0.38764873147010803, 0.003118359949439764, 0.0024684201925992966, 0.0024934550747275352, 0.03517026826739311, 0.007765709422528744, 0.0, 0.0, 0.0, 0.0, 0.0], [0.8043431639671326, 0.012787549756467342, 0.016314269974827766, 0.014958980493247509, 0.040453653782606125, 0.01497744768857956, 0.0080337505787611, 0.004049425944685936, 0.0349234975874424, 0.022129062563180923, 0.02702927216887474, 0.0, 0.0, 0.0, 0.0], [0.3483826816082001, 0.010672464035451412, 0.20955972373485565, 0.011965773068368435, 0.32353121042251587, 0.0026044826954603195, 0.0041415635496377945, 0.0040077995508909225, 0.015816714614629745, 0.007456145249307156, 0.05758105218410492, 0.004280395805835724, 0.0, 0.0, 0.0], [0.679623007774353, 0.00631328672170639, 0.034985531121492386, 0.026401031762361526, 0.04800093173980713, 0.0072431499138474464, 0.01213924866169691, 0.004096251912415028, 0.1410471796989441, 0.011302649974822998, 0.011080190539360046, 0.010713838040828705, 0.007053763139992952, 0.0, 0.0], [0.9063906073570251, 0.00405797827988863, 0.006339014507830143, 0.0018839269177988172, 0.006802677176892757, 0.0009668126003816724, 0.0017922141123563051, 0.0009802996646612883, 0.02549676224589348, 0.0039005293510854244, 0.005256993696093559, 0.0035591491032391787, 0.0016815392300486565, 0.03089148737490177, 0.0], [0.43102917075157166, 0.007541724946349859, 0.17084962129592896, 0.0065763527527451515, 0.3028315007686615, 0.0015554121928289533, 0.0019247523741796613, 0.0014887817669659853, 0.014001419767737389, 0.004136492498219013, 0.03171761333942413, 0.0011210046941414475, 0.002468310995027423, 0.01590988226234913, 0.006847977638244629]]], \"attentionHeadNames\": [\"9.9\", \"9.6\", \"10.0\"], \"tokens\": [\"<|endoftext|>\", \"When\", \" John\", \" and\", \" Mary\", \" went\", \" to\", \" the\", \" shops\", \",\", \" John\", \" gave\", \" the\", \" bag\", \" to\"], \"maskUpperTri\": true}\n",
              "    )\n",
              "    </script>"
            ]
          },
          "metadata": {}
        },
        {
          "output_type": "display_data",
          "data": {
            "text/plain": [
              "<IPython.core.display.HTML object>"
            ],
            "text/html": [
              "<h2>Top 3 Negative Logit Attribution Heads</h2>"
            ]
          },
          "metadata": {}
        },
        {
          "output_type": "display_data",
          "data": {
            "text/plain": [
              "<circuitsvis.utils.render.RenderedHTML at 0x78c35af0b340>"
            ],
            "text/html": [
              "<div id=\"circuits-vis-781b263e-fff7\" style=\"margin: 15px 0;\"/>\n",
              "    <script crossorigin type=\"module\">\n",
              "    import { render, AttentionHeads } from \"https://unpkg.com/circuitsvis@1.41.0/dist/cdn/esm.js\";\n",
              "    render(\n",
              "      \"circuits-vis-781b263e-fff7\",\n",
              "      AttentionHeads,\n",
              "      {\"attention\": [[[1.0, 0.0, 0.0, 0.0, 0.0, 0.0, 0.0, 0.0, 0.0, 0.0, 0.0, 0.0, 0.0, 0.0, 0.0], [0.96136873960495, 0.03863127902150154, 0.0, 0.0, 0.0, 0.0, 0.0, 0.0, 0.0, 0.0, 0.0, 0.0, 0.0, 0.0, 0.0], [0.9806345701217651, 0.003704607021063566, 0.01566080003976822, 0.0, 0.0, 0.0, 0.0, 0.0, 0.0, 0.0, 0.0, 0.0, 0.0, 0.0, 0.0], [0.7969290018081665, 0.00606435164809227, 0.1652800440788269, 0.03172655776143074, 0.0, 0.0, 0.0, 0.0, 0.0, 0.0, 0.0, 0.0, 0.0, 0.0, 0.0], [0.922005295753479, 0.011583708226680756, 0.011504328809678555, 0.03564715012907982, 0.019259469583630562, 0.0, 0.0, 0.0, 0.0, 0.0, 0.0, 0.0, 0.0, 0.0, 0.0], [0.9755074381828308, 0.004000843968242407, 0.00029367231763899326, 0.00443224748596549, 0.0003632921725511551, 0.015402482822537422, 0.0, 0.0, 0.0, 0.0, 0.0, 0.0, 0.0, 0.0, 0.0], [0.7979713082313538, 0.007075958885252476, 0.014009855687618256, 0.03479091823101044, 0.0261897761374712, 0.03959351032972336, 0.08036871254444122, 0.0, 0.0, 0.0, 0.0, 0.0, 0.0, 0.0, 0.0], [0.8270436525344849, 0.009806530550122261, 0.004219983238726854, 0.03341519460082054, 0.008020934648811817, 0.00837345514446497, 0.07203397899866104, 0.037086281925439835, 0.0, 0.0, 0.0, 0.0, 0.0, 0.0, 0.0], [0.8182300329208374, 0.01760968565940857, 0.0027032974176108837, 0.01795949973165989, 0.0039473907090723515, 0.010499928146600723, 0.034000322222709656, 0.010616933926939964, 0.08443284034729004, 0.0, 0.0, 0.0, 0.0, 0.0, 0.0], [0.29915574193000793, 0.013350478373467922, 0.15597125887870789, 0.07339467853307724, 0.38500961661338806, 0.0077143386006355286, 0.014953226782381535, 0.01366699580103159, 0.007336350157856941, 0.029447341337800026, 0.0, 0.0, 0.0, 0.0, 0.0], [0.7702488303184509, 0.024731814861297607, 0.002286618109792471, 0.0729028657078743, 0.008041814900934696, 0.0411921888589859, 0.022477665916085243, 0.005776837468147278, 0.0035431189462542534, 0.040292222052812576, 0.008506067097187042, 0.0, 0.0, 0.0, 0.0], [0.13141858577728271, 0.013434022665023804, 0.24378950893878937, 0.021214699372649193, 0.4560120701789856, 0.005478353705257177, 0.007663170341402292, 0.006567716598510742, 0.0006128163659013808, 0.012400639243423939, 0.08472234755754471, 0.016686055809259415, 0.0, 0.0, 0.0], [0.6249704957008362, 0.015655886381864548, 0.01880921982228756, 0.05750599503517151, 0.02543412148952484, 0.012551611289381981, 0.03642936050891876, 0.020899277180433273, 0.07214081287384033, 0.024229584261775017, 0.011787819676101208, 0.028149936348199844, 0.0514359287917614, 0.0, 0.0], [0.8628612756729126, 0.00446145748719573, 0.002159996423870325, 0.007581593003123999, 0.0035816170275211334, 0.0034526612143963575, 0.009512338787317276, 0.002604992361739278, 0.009449167177081108, 0.010862307623028755, 0.004349304363131523, 0.014197949320077896, 0.004222444724291563, 0.060702964663505554, 0.0], [0.05995482951402664, 0.003886863589286804, 0.3804553151130676, 0.017042726278305054, 0.47335976362228394, 0.0013377961004152894, 0.0023901727981865406, 0.003516601165756583, 0.00019050092669203877, 0.004266629461199045, 0.03593401983380318, 0.001625948934815824, 0.00636633113026619, 0.0008289149845950305, 0.008843580260872841]], [[1.0, 0.0, 0.0, 0.0, 0.0, 0.0, 0.0, 0.0, 0.0, 0.0, 0.0, 0.0, 0.0, 0.0, 0.0], [0.9159101247787476, 0.08408985286951065, 0.0, 0.0, 0.0, 0.0, 0.0, 0.0, 0.0, 0.0, 0.0, 0.0, 0.0, 0.0, 0.0], [0.9572202563285828, 0.025203034281730652, 0.017576657235622406, 0.0, 0.0, 0.0, 0.0, 0.0, 0.0, 0.0, 0.0, 0.0, 0.0, 0.0, 0.0], [0.8114085793495178, 0.039560575038194656, 0.08558854460716248, 0.06344226002693176, 0.0, 0.0, 0.0, 0.0, 0.0, 0.0, 0.0, 0.0, 0.0, 0.0, 0.0], [0.6620078086853027, 0.14451158046722412, 0.05584302544593811, 0.0813479945063591, 0.056289561092853546, 0.0, 0.0, 0.0, 0.0, 0.0, 0.0, 0.0, 0.0, 0.0, 0.0], [0.9276677966117859, 0.03929740935564041, 0.0004479865019675344, 0.011186446994543076, 0.00039398460648953915, 0.021006397902965546, 0.0, 0.0, 0.0, 0.0, 0.0, 0.0, 0.0, 0.0, 0.0], [0.7048224806785583, 0.06263700127601624, 0.029190262779593468, 0.0272488035261631, 0.059347543865442276, 0.0641595795750618, 0.052594300359487534, 0.0, 0.0, 0.0, 0.0, 0.0, 0.0, 0.0, 0.0], [0.761257529258728, 0.04773891344666481, 0.010893622413277626, 0.030798910185694695, 0.009215530008077621, 0.017460573464632034, 0.08015061169862747, 0.04248427972197533, 0.0, 0.0, 0.0, 0.0, 0.0, 0.0, 0.0], [0.6269263625144958, 0.08047081530094147, 0.01892484538257122, 0.03472553566098213, 0.021243952214717865, 0.04038073122501373, 0.039881039410829544, 0.058206770569086075, 0.07923991233110428, 0.0, 0.0, 0.0, 0.0, 0.0, 0.0], [0.1336192488670349, 0.029530324041843414, 0.3443552255630493, 0.0363960862159729, 0.368828147649765, 0.0053136940114200115, 0.007874351926147938, 0.008964897133409977, 0.010313349775969982, 0.054804615676403046, 0.0, 0.0, 0.0, 0.0, 0.0], [0.5535772442817688, 0.12907348573207855, 0.008745737373828888, 0.06685944646596909, 0.00920089241117239, 0.030574558302760124, 0.014105618931353092, 0.003875874448567629, 0.013563253916800022, 0.1326185166835785, 0.037805378437042236, 0.0, 0.0, 0.0, 0.0], [0.07568243145942688, 0.023279303684830666, 0.3121486306190491, 0.042602866888046265, 0.34044793248176575, 0.0011643009493127465, 0.0012352874036878347, 0.0033204336650669575, 0.0012833442306146026, 0.03891269117593765, 0.14029863476753235, 0.019624168053269386, 0.0, 0.0, 0.0], [0.5352704524993896, 0.046531569212675095, 0.04064876213669777, 0.0539756715297699, 0.01766872964799404, 0.01888151839375496, 0.010571228340268135, 0.011010715737938881, 0.04412394389510155, 0.033398594707250595, 0.025438031181693077, 0.07452273368835449, 0.08795798569917679, 0.0, 0.0], [0.6547309160232544, 0.018681244924664497, 0.0035332462284713984, 0.013703975826501846, 0.0030990997329354286, 0.010325033217668533, 0.007464666850864887, 0.012537634000182152, 0.007658191490918398, 0.013390143401920795, 0.006239829119294882, 0.064694844186306, 0.08906405419111252, 0.09487704932689667, 0.0], [0.06460677832365036, 0.0194416344165802, 0.296762615442276, 0.034400735050439835, 0.4295421242713928, 0.001450475538149476, 0.0017175888642668724, 0.004099417943507433, 0.0008781016804277897, 0.030109332874417305, 0.07955122739076614, 0.013083826750516891, 0.006648793816566467, 0.000925700063817203, 0.016781603917479515]], [[1.0, 0.0, 0.0, 0.0, 0.0, 0.0, 0.0, 0.0, 0.0, 0.0, 0.0, 0.0, 0.0, 0.0, 0.0], [0.9710211157798767, 0.028978876769542694, 0.0, 0.0, 0.0, 0.0, 0.0, 0.0, 0.0, 0.0, 0.0, 0.0, 0.0, 0.0, 0.0], [0.9845665693283081, 0.008561822585761547, 0.006871601566672325, 0.0, 0.0, 0.0, 0.0, 0.0, 0.0, 0.0, 0.0, 0.0, 0.0, 0.0, 0.0], [0.9251185655593872, 0.011784086935222149, 0.0339805893599987, 0.02911669760942459, 0.0, 0.0, 0.0, 0.0, 0.0, 0.0, 0.0, 0.0, 0.0, 0.0, 0.0], [0.9106706976890564, 0.02295844256877899, 0.028004344552755356, 0.013816016726195812, 0.024550482630729675, 0.0, 0.0, 0.0, 0.0, 0.0, 0.0, 0.0, 0.0, 0.0, 0.0], [0.9801300764083862, 0.00738145038485527, 0.00354407774284482, 0.0021220389753580093, 0.0039570508524775505, 0.00286530377343297, 0.0, 0.0, 0.0, 0.0, 0.0, 0.0, 0.0, 0.0, 0.0], [0.8823450207710266, 0.018687361851334572, 0.03254152089357376, 0.008485056459903717, 0.040030013769865036, 0.003245060797780752, 0.014665988273918629, 0.0, 0.0, 0.0, 0.0, 0.0, 0.0, 0.0, 0.0], [0.9216858148574829, 0.013462893664836884, 0.013909326866269112, 0.0062366146594285965, 0.012211943045258522, 0.0018461956642568111, 0.014635145664215088, 0.016012145206332207, 0.0, 0.0, 0.0, 0.0, 0.0, 0.0, 0.0], [0.8206168413162231, 0.030062394216656685, 0.04597797989845276, 0.007286421488970518, 0.0668240636587143, 0.007735212333500385, 0.00697977002710104, 0.0033234560396522284, 0.011193860322237015, 0.0, 0.0, 0.0, 0.0, 0.0, 0.0], [0.634404182434082, 0.020608851686120033, 0.10489974915981293, 0.020668407902121544, 0.17440244555473328, 0.0014858243521302938, 0.003828390734270215, 0.0039247311651706696, 0.012597844935953617, 0.02317950502038002, 0.0, 0.0, 0.0, 0.0, 0.0], [0.8786821365356445, 0.0162690207362175, 0.013101407326757908, 0.01120800245553255, 0.028150374069809914, 0.02193821221590042, 0.0029190974310040474, 0.0008600027649663389, 0.006978075485676527, 0.010260184295475483, 0.009633461013436317, 0.0, 0.0, 0.0, 0.0], [0.6846536993980408, 0.023638930171728134, 0.07196421921253204, 0.0307177621871233, 0.11308908462524414, 0.0019178475486114621, 0.003346166107803583, 0.004636336117982864, 0.005094849970191717, 0.01808866858482361, 0.03299847990274429, 0.009853961877524853, 0.0, 0.0, 0.0], [0.8094357252120972, 0.018703270703554153, 0.024317588657140732, 0.014005872420966625, 0.04157043620944023, 0.006791169289499521, 0.005310294218361378, 0.005367139354348183, 0.04036666825413704, 0.009224670007824898, 0.008207288570702076, 0.00547706987708807, 0.011222796514630318, 0.0, 0.0], [0.8977056741714478, 0.008978338912129402, 0.009998582303524017, 0.004818463232368231, 0.02379598282277584, 0.0027967405039817095, 0.001825279206968844, 0.0010312327649444342, 0.006508986931294203, 0.008535557426512241, 0.012882508337497711, 0.003325493074953556, 0.0033020605333149433, 0.014495095238089561, 0.0], [0.6829171180725098, 0.01932394690811634, 0.07638590037822723, 0.03027881495654583, 0.09444541484117508, 0.0013117087073624134, 0.0026386319659650326, 0.0028013912960886955, 0.004264846909791231, 0.015131890773773193, 0.02999294549226761, 0.006477640941739082, 0.003917258698493242, 0.008176864124834538, 0.021935634315013885]]], \"attentionHeadNames\": [\"10.7\", \"11.10\", \"11.2\"], \"tokens\": [\"<|endoftext|>\", \"When\", \" John\", \" and\", \" Mary\", \" went\", \" to\", \" the\", \" shops\", \",\", \" John\", \" gave\", \" the\", \" bag\", \" to\"], \"maskUpperTri\": true}\n",
              "    )\n",
              "    </script>"
            ]
          },
          "metadata": {}
        }
      ],
      "source": [
        "def topk_of_Nd_tensor(tensor: Float[Tensor, \"rows cols\"], k: int):\n",
        "    '''\n",
        "    Helper function: does same as tensor.topk(k).indices, but works over 2D tensors.\n",
        "    Returns a list of indices, i.e. shape [k, tensor.ndim].\n",
        "\n",
        "    Example: if tensor is 2D array of values for each head in each layer, this will\n",
        "    return a list of heads.\n",
        "    '''\n",
        "    i = t.topk(tensor.flatten(), k).indices\n",
        "    return np.array(np.unravel_index(utils.to_numpy(i), tensor.shape)).T.tolist()\n",
        "\n",
        "\n",
        "k = 3\n",
        "\n",
        "for head_type in [\"Positive\", \"Negative\"]:\n",
        "\n",
        "    # Get the heads with largest (or smallest) contribution to the logit difference\n",
        "    top_heads = topk_of_Nd_tensor(per_head_logit_diffs * (1 if head_type==\"Positive\" else -1), k)\n",
        "\n",
        "    # Get all their attention patterns\n",
        "    attn_patterns_for_important_heads: Float[Tensor, \"head q k\"] = t.stack([\n",
        "        cache[\"pattern\", layer][:, head].mean(0)\n",
        "         for layer, head in top_heads\n",
        "    ])\n",
        "\n",
        "    # Display results\n",
        "    display(HTML(f\"<h2>Top {k} {head_type} Logit Attribution Heads</h2>\"))\n",
        "    display(cv.attention.attention_heads(\n",
        "        attention = attn_patterns_for_important_heads,\n",
        "        tokens = model.to_str_tokens(tokens[0]),\n",
        "        attention_head_names = [f\"{layer}.{head}\" for layer, head in top_heads],\n",
        "    ))"
      ]
    },
    {
      "cell_type": "markdown",
      "metadata": {
        "id": "tX970VEel6mK"
      },
      "source": [
        "Reminder - you can use `attention_patterns` or `attention_heads` for these visuals. The former lets you see the actual values, the latter lets you hover over tokens in a printed sentence (and it provides other useful features like locking on tokens, or a superposition of all heads in the display). Both can be useful in different contexts (although I'd recommend usually using `attention_patterns`, it's more useful in most cases for quickly getting a sense of attention patterns).\n",
        "\n",
        "Try replacing `attention_patterns` above with `attention_heads`, and compare the output.\n",
        "\n",
        "<details>\n",
        "<summary>Help - my <code>attention_heads</code> plots are behaving weirdly.</summary>\n",
        "\n",
        "This seems to be a bug in `circuitsvis` - on VSCode, the attention head plots continually shrink in size.\n",
        "\n",
        "Until this is fixed, one way to get around it is to open the plots in your browser. You can do this inline with the `webbrowser` library:\n",
        "\n",
        "```python\n",
        "attn_heads = cv.attention.attention_heads(\n",
        "    attention = attn_patterns_for_important_heads,\n",
        "    tokens = model.to_str_tokens(tokens[0]),\n",
        "    attention_head_names = [f\"{layer}.{head}\" for layer, head in top_heads],\n",
        ")\n",
        "\n",
        "path = \"attn_heads.html\"\n",
        "\n",
        "with open(path, \"w\") as f:\n",
        "    f.write(str(attn_heads))\n",
        "\n",
        "webbrowser.open(path)\n",
        "```\n",
        "\n",
        "To check exactly where this is getting saved, you can print your current working directory with `os.getcwd()`.\n",
        "</details>\n",
        "\n",
        "From these plots, you might want to start thinking about the algorithm which is being implemented. In particular, for the attention heads with high positive attribution scores, where is `\" to\"` attending to? How might this head be affecting the logit diff score?\n",
        "\n",
        "We'll save a full hypothesis for how the model works until the end of the next section.\n"
      ]
    },
    {
      "cell_type": "markdown",
      "metadata": {
        "id": "DnwdEGrGl6mK"
      },
      "source": [
        "# 3️⃣ Activation Patching\n"
      ]
    },
    {
      "cell_type": "markdown",
      "metadata": {
        "id": "P9o6eTqtd29_"
      },
      "source": [
        "> ##### Learning objectives\n",
        ">\n",
        "> * Understand the idea of activation patching, and how it can be used\n",
        ">     * Implement some of the activation patching helper functinos in transformerlens from scratch (i.e. using hooks)\n",
        "> * Use activation patching to track the layers & sequence positions in the residual stream where important information is stored and processed\n",
        "> * By the end of this section, you should be able to draw a rough sketch of the IOI circuit\n"
      ]
    },
    {
      "cell_type": "markdown",
      "metadata": {
        "id": "MlBQ6z16d29_"
      },
      "source": [
        "## Introduction\n"
      ]
    },
    {
      "cell_type": "markdown",
      "metadata": {
        "id": "hEs-paRpl6mK"
      },
      "source": [
        "The obvious limitation to the techniques used above is that they only look at the very end of the circuit - the parts that directly affect the logits. Clearly this is not sufficient to understand the circuit! We want to understand how things compose together to produce this final output, and ideally to produce an end-to-end circuit fully explaining this behaviour.\n",
        "\n",
        "The technique we'll use to investigate this is called **activation patching**. This was first introduced in [David Bau and Kevin Meng's excellent ROME paper](https://rome.baulab.info/), there called causal tracing.\n",
        "\n",
        "The setup of activation patching is to take two runs of the model on two different inputs, the clean run and the corrupted run. The clean run outputs the correct answer and the corrupted run does not. The key idea is that we give the model the corrupted input, but then **intervene** on a specific activation and **patch** in the corresponding activation from the clean run (i.e. replace the corrupted activation with the clean activation), and then continue the run. And we then measure how much the output has updated towards the correct answer.\n",
        "\n",
        "We can then iterate over many possible activations and look at how much they affect the corrupted run. If patching in an activation significantly increases the probability of the correct answer, this allows us to *localise* which activations matter.\n",
        "\n",
        "In other words, this is a **noising** algorithm (unlike last section which was mostly **denoising**).\n",
        "\n",
        "The ability to localise is a key move in mechanistic interpretability - if the computation is diffuse and spread across the entire model, it is likely much harder to form a clean mechanistic story for what's going on. But if we can identify precisely which parts of the model matter, we can then zoom in and determine what they represent and how they connect up with each other, and ultimately reverse engineer the underlying circuit that they represent.\n"
      ]
    },
    {
      "cell_type": "markdown",
      "metadata": {
        "id": "zWkoLfNWl6mK"
      },
      "source": [
        "The diagrams below demonstrate activation patching on an abstract neural network (the nodes represent activations, and the arrows between them are weight connections).\n",
        "\n",
        "A regular forward pass on the clean input looks like:\n",
        "\n",
        "<img src=\"https://raw.githubusercontent.com/callummcdougall/computational-thread-art/master/example_images/misc/simpler-patching-1c.png\" width=\"300\">\n",
        "\n",
        "And activation patching from a corrupted input (green) into a forward pass for the clean input (black) looks like:\n",
        "\n",
        "<img src=\"https://raw.githubusercontent.com/callummcdougall/computational-thread-art/master/example_images/misc/simpler-patching-2c.png\" width=\"440\">\n",
        "\n",
        "where the dotted line represents patching in a value (i.e. during the forward pass on the clean input, we replace node $D$ with the value it takes on the corrupted input). Nodes $H$, $G$ and $F$ are colored orange, to represent that they now follow a distribution which is not the same as clean or corrupted.\n"
      ]
    },
    {
      "cell_type": "markdown",
      "metadata": {
        "id": "fEstkWxdl6mL"
      },
      "source": [
        "We can patch into a transformer in many different ways (e.g. values of the residual stream, the MLP, or attention heads' output - see below). We can also get even more granular by patching at particular sequence positions (not shown in diagram).\n",
        "\n",
        "<img src=\"https://raw.githubusercontent.com/callummcdougall/computational-thread-art/master/example_images/misc/simpler-patching-examples.png\" width=\"840\">\n"
      ]
    },
    {
      "cell_type": "markdown",
      "metadata": {
        "id": "69Xx91aVl6mL"
      },
      "source": [
        "The above was all fairly abstract, so let's zoom in and lay out a concrete example to understand Indirect Object Identification.\n",
        "\n",
        "Here our clean input will be the original sentences (e.g. <code>\"When Mary and John went to the store, John gave a drink to\"</code>) and our corrupted input will have the subject token flipped (e.g. <code>\"When Mary and John went to the store, <u>Mary</u> gave a drink to\"</code>). Patching from the corrupted input to the clean input is a causal intervention which will allow us to understand precisely which parts of the network are identifying the indirect object. If a component is important, then patching into that component will reverse the signal that this component produces, hence making performance much worse.\n"
      ]
    },
    {
      "cell_type": "markdown",
      "metadata": {
        "id": "ft2GmPDgl6mL"
      },
      "source": [
        "Question - we could instead have our corrupted sentence be <code>\"When <u>John</u> and <u>Mary</u> went to the store, <u>Mary</u> gave a drink to\"</code> (i.e. flip all 3 occurrences of names in the sentence). Why do you think we don't do this?\n",
        "\n",
        "<details>\n",
        "<summary>Hint</summary>\n",
        "\n",
        "What if, at some point during the model's forward pass on the prompt `\"When Mary and John went to the store, John gave a drink to\"`, it contains some representation of the information **\"the indirect object is the fourth token in this sequence\"**?\n",
        "</details>\n",
        "\n",
        "<details>\n",
        "<summary>Answer</summary>\n",
        "\n",
        "The model could point to the indirect object `' Mary'` in two different ways:\n",
        "\n",
        "* Via **token information**, i.e. **\"the indirect object is the token `' Mary'`\"**.\n",
        "* Via **positional information**, i.e. **\"the indirect object is the fourth token in this sequence\"**.\n",
        "\n",
        "We want the corrupted dataset to reverse both these signals when it's patched into the clean dataset. But if we corrupted the dataset by flipping all three names, then:\n",
        "\n",
        "* The token information is flipped, because the corresponding information in the model for the corrupted prompt will be **\"the indirect object is the token `' Mary'`\"**.\n",
        "* The positional information is ***not*** flipped, because the corresponding information will still be **\"the indirect object is the fourth token in this sequence\"**.\n",
        "\n",
        "In fact, in the bonus section we'll take advantage of this fact to try and disentangle whether token or positional information is being used by the model (i.e. by flipping the token information but not the positional information, and vice-versa). Spoiler alert - it turns out to be using a bit of both!\n",
        "</details>\n"
      ]
    },
    {
      "cell_type": "markdown",
      "metadata": {
        "id": "R3pzDIjZl6mL"
      },
      "source": [
        "One natural thing to patch in is the residual stream at a specific layer and specific position. For example, the model is likely intitially doing some processing on the `S2` token to realise that it's a duplicate, but then uses attention to move that information to the `end` token. So patching in the residual stream at the `end` token will likely matter a lot in later layers but not at all in early layers.\n",
        "\n",
        "We can zoom in much further and patch in specific activations from specific layers. For example, we think that the output of head 9.9 on the final token is significant for directly connecting to the logits, so we predict that just patching the output of this head will significantly affect performance.\n",
        "\n",
        "Note that this technique does *not* tell us how the components of the circuit connect up, just what they are.\n"
      ]
    },
    {
      "cell_type": "markdown",
      "metadata": {
        "id": "4Akf4HyIl6mL"
      },
      "source": [
        "TransformerLens has helpful built-in functions to perform activation patching, but in order to understand the process better, you're now going to implement some of these functions from first principles (i.e. just using hooks). You'll be able to test your functions by comparing their output to the built-in functions.\n",
        "\n",
        "If you need a refresher on hooks, you can return to the exercises on induction heads (which take you through how to use hooks, as well as how to cache activations).\n"
      ]
    },
    {
      "cell_type": "code",
      "execution_count": 58,
      "metadata": {
        "id": "sQMB72Lwl6mM"
      },
      "outputs": [],
      "source": [
        "from transformer_lens import patching"
      ]
    },
    {
      "cell_type": "markdown",
      "metadata": {
        "id": "_HPIlUmzl6mM"
      },
      "source": [
        "## Creating a metric\n"
      ]
    },
    {
      "cell_type": "markdown",
      "metadata": {
        "id": "U-hMSH96l6mM"
      },
      "source": [
        "Before we patch, we need to create a metric for evaluating a set of logits. Since we'll be running our **corrupted prompts** (with `S2` replaced with the wrong name) and patching in our **clean prompts**, it makes sense to choose a metric such that:\n",
        "\n",
        "* A value of zero means no change (from the performance on the corrupted prompt)\n",
        "* A value of one means clean performance has been completely recovered\n",
        "\n",
        "For example, if we patched in the entire clean prompt, we'd get a value of one. If our patching actually makes the model even better at solving the task than its regular behaviour on the clean prompt then we'd get a value greater than 1, but generally we expect values between 0 and 1.\n",
        "\n",
        "It also makes sense to have the metric be a linear function of the logit difference. This is enough to uniquely specify a metric.\n"
      ]
    },
    {
      "cell_type": "code",
      "execution_count": 59,
      "metadata": {
        "id": "IzLtmTaNl6mM",
        "colab": {
          "base_uri": "https://localhost:8080/"
        },
        "outputId": "5c00bb55-4d20-435e-fa1c-c022625ecd6f"
      },
      "outputs": [
        {
          "output_type": "stream",
          "name": "stdout",
          "text": [
            "Clean string 0:     <|endoftext|>When John and Mary went to the shops, John gave the bag to \n",
            "Corrupted string 0: <|endoftext|>When John and Mary went to the shops, Mary gave the bag to\n",
            "Clean logit diff: 3.5519\n",
            "Corrupted logit diff: -3.5519\n"
          ]
        }
      ],
      "source": [
        "clean_tokens = tokens\n",
        "# Swap each adjacent pair to get corrupted tokens\n",
        "indices = [i+1 if i % 2 == 0 else i-1 for i in range(len(tokens))]\n",
        "corrupted_tokens = clean_tokens[indices]\n",
        "\n",
        "print(\n",
        "    \"Clean string 0:    \", model.to_string(clean_tokens[0]), \"\\n\"\n",
        "    \"Corrupted string 0:\", model.to_string(corrupted_tokens[0])\n",
        ")\n",
        "\n",
        "clean_logits, clean_cache = model.run_with_cache(clean_tokens)\n",
        "corrupted_logits, corrupted_cache = model.run_with_cache(corrupted_tokens)\n",
        "\n",
        "clean_logit_diff = logits_to_ave_logit_diff(clean_logits, answer_tokens)\n",
        "print(f\"Clean logit diff: {clean_logit_diff:.4f}\")\n",
        "\n",
        "corrupted_logit_diff = logits_to_ave_logit_diff(corrupted_logits, answer_tokens)\n",
        "print(f\"Corrupted logit diff: {corrupted_logit_diff:.4f}\")"
      ]
    },
    {
      "cell_type": "markdown",
      "metadata": {
        "id": "6fc8TiqNl6mM"
      },
      "source": [
        "### Exercise - create a metric\n",
        "\n",
        "```c\n",
        "Difficulty: 🔴🔴⚪⚪⚪\n",
        "Importance: 🔵🔵🔵⚪⚪\n",
        "\n",
        "You should spend up to ~10 minutes on this exercise.\n",
        "```\n",
        "\n",
        "Fill in the function `ioi_metric` below, to create the required metric. Note that we can afford to use default arguments in this function, because we'll be using the same dataset for this whole section.\n",
        "\n",
        "**Important note** - this function needs to return a scalar tensor, rather than a float. If not, then some of the patching functions later on won't work. The type signature of this is `Float[Tensor, \"\"]`.\n",
        "\n",
        "**Second important note** - we've defined this to be 0 when performance is the same as on corrupted input, and 1 when it's the same as on clean input. Why have we done it this way around? The answer is that, in this section, we'll be applying **denoising** rather than **noising** methods. **Denoising** means we start with the corrupted input (i.e. no signal, or negative signal) and patch in with the clean input (i.e. positive signal). This is an important conceptual distinction. When we perform denoising, we're looking for parts of the model which are **sufficient** for the task (e.g. which parts of the model have enough information to recover the correct answer from the corrupted input). Our \"null hypothesis\" is that a part of the model isn't important, and so changing its value won't get us from corrupted to clean values. On the other hand, **noising** means taking a clean run and patching in with corrupted values, and it tests whether a component is **necessary**. Our \"null hypothesis\" is that a component isn't important, and so replacing its values with those on the corrupted input won't make the model worse. In this section, we'll be doing denoising (i.e. starting with corrupted values and patching in with clean values). In later sections, we'll be doing noising, and we'll define a new metric function for this.\n",
        "\n",
        "<details>\n",
        "<summary>More on noising vs. denoising</summary>\n",
        "\n",
        "Although algorithms like activation and path patching generally use noising, it has some problems relative to denoising.\n",
        "\n",
        "The results of denoising are much stronger, because showing that a component or set of components is sufficient for a task is a big deal. On the other hand, the complexity of transformers and interdependence of components means that noising a model can have unpredictable consequences. If loss goes up when we ablate a component, it doesn't necessarily mean that this component was necessary for the task. As an example, ablating MLP0 in gpt2-small seems to make performance much worse on basically any task (because it acts as a kind of extended embedding; more on this later in these exercises), but it's not doing anything important which is *specfic* for the IOI task.\n",
        "</details>"
      ]
    },
    {
      "cell_type": "code",
      "execution_count": 60,
      "metadata": {
        "id": "iwh5CS4Zl6mM"
      },
      "outputs": [],
      "source": [
        "def ioi_metric(\n",
        "    logits: Float[Tensor, \"batch seq d_vocab\"],\n",
        "    answer_tokens: Float[Tensor, \"batch 2\"] = answer_tokens,\n",
        "    corrupted_logit_diff: float = corrupted_logit_diff,\n",
        "    clean_logit_diff: float = clean_logit_diff,\n",
        ") -> Float[Tensor, \"\"]:\n",
        "    '''\n",
        "    Linear function of logit diff, calibrated so that it equals 0 when performance is\n",
        "    same as on corrupted input, and 1 when performance is same as on clean input.\n",
        "    '''\n",
        "    logit_diff = logits_to_ave_logit_diff(logits, answer_tokens) - corrupted_logit_diff #per_prompt = False for mean\n",
        "    return logit_diff / (clean_logit_diff - corrupted_logit_diff)  #should be linear?\n",
        "\n",
        "t.testing.assert_close(ioi_metric(clean_logits).item(), 1.0)\n",
        "t.testing.assert_close(ioi_metric(corrupted_logits).item(), 0.0)\n",
        "t.testing.assert_close(ioi_metric((clean_logits + corrupted_logits) / 2).item(), 0.5)"
      ]
    },
    {
      "cell_type": "markdown",
      "metadata": {
        "id": "GETfJljll6mN"
      },
      "source": [
        "## Residual Stream Patching\n"
      ]
    },
    {
      "cell_type": "markdown",
      "metadata": {
        "id": "qjCDgiYGl6mN"
      },
      "source": [
        "Lets begin with a simple example: we patch in the residual stream at the start of each layer and for each token position. Before you write your own function to do this, let's see what this looks like with TransformerLens' `patching` module. Run the code below.\n"
      ]
    },
    {
      "cell_type": "code",
      "execution_count": 61,
      "metadata": {
        "id": "ZFccL4TT0Xea",
        "colab": {
          "base_uri": "https://localhost:8080/",
          "height": 49,
          "referenced_widgets": [
            "8bfdac69709146109f959d4225ef2008",
            "a5a4f447cbd74ac2b1bc6c863b1c70cf",
            "fc958b7157ea4cf6b8a98b52f0ed0fab",
            "e9e4dc32ea424dcf87a859c654550a0f",
            "0c7f9b160df549308357e173e0af2068",
            "462b9e15fd154ba589e24b4b90c553d4",
            "b9077d8d9acd4d688079ab3c4a913aa8",
            "f07d53802556442babecba18e911724b",
            "94247f22480a42f38db2f515ee4de24b",
            "e1934e1f132f4c40acab1851de0537ab",
            "bf1946ca96ed490db51fd9ac56939711"
          ]
        },
        "outputId": "4a5ad89b-a6b8-4dff-a018-e877eb526285"
      },
      "outputs": [
        {
          "output_type": "display_data",
          "data": {
            "text/plain": [
              "  0%|          | 0/180 [00:00<?, ?it/s]"
            ],
            "application/vnd.jupyter.widget-view+json": {
              "version_major": 2,
              "version_minor": 0,
              "model_id": "8bfdac69709146109f959d4225ef2008"
            }
          },
          "metadata": {}
        }
      ],
      "source": [
        "act_patch_resid_pre = patching.get_act_patch_resid_pre(\n",
        "    model = model,\n",
        "    corrupted_tokens = corrupted_tokens,\n",
        "    clean_cache = clean_cache,\n",
        "    patching_metric = ioi_metric\n",
        ")\n",
        "\n",
        "labels = [f\"{tok} {i}\" for i, tok in enumerate(model.to_str_tokens(clean_tokens[0]))]"
      ]
    },
    {
      "cell_type": "code",
      "source": [
        "imshow(\n",
        "    act_patch_resid_pre,\n",
        "    labels={\"x\": \"Position\", \"y\": \"Layer\"},\n",
        "    x=labels,\n",
        "    title=\"resid_pre Activation Patching\",\n",
        "    width=600\n",
        ")"
      ],
      "metadata": {
        "id": "ihsycX8wziNQ",
        "colab": {
          "base_uri": "https://localhost:8080/",
          "height": 542
        },
        "outputId": "a765e7cb-4d98-4821-885b-e9d836c5aa1f"
      },
      "execution_count": 62,
      "outputs": [
        {
          "output_type": "display_data",
          "data": {
            "text/html": [
              "<html>\n",
              "<head><meta charset=\"utf-8\" /></head>\n",
              "<body>\n",
              "    <div>            <script src=\"https://cdnjs.cloudflare.com/ajax/libs/mathjax/2.7.5/MathJax.js?config=TeX-AMS-MML_SVG\"></script><script type=\"text/javascript\">if (window.MathJax && window.MathJax.Hub && window.MathJax.Hub.Config) {window.MathJax.Hub.Config({SVG: {font: \"STIX-Web\"}});}</script>                <script type=\"text/javascript\">window.PlotlyConfig = {MathJaxConfig: 'local'};</script>\n",
              "        <script charset=\"utf-8\" src=\"https://cdn.plot.ly/plotly-2.24.1.min.js\"></script>                <div id=\"a6a759e1-5c88-4233-b9d1-5b3c31035660\" class=\"plotly-graph-div\" style=\"height:525px; width:600px;\"></div>            <script type=\"text/javascript\">                                    window.PLOTLYENV=window.PLOTLYENV || {};                                    if (document.getElementById(\"a6a759e1-5c88-4233-b9d1-5b3c31035660\")) {                    Plotly.newPlot(                        \"a6a759e1-5c88-4233-b9d1-5b3c31035660\",                        [{\"coloraxis\":\"coloraxis\",\"name\":\"0\",\"x\":[\"\\u003c|endoftext|\\u003e 0\",\"When 1\",\" John 2\",\" and 3\",\" Mary 4\",\" went 5\",\" to 6\",\" the 7\",\" shops 8\",\", 9\",\" John 10\",\" gave 11\",\" the 12\",\" bag 13\",\" to 14\"],\"z\":[[0.0,0.0,0.0,0.0,0.0,0.0,0.0,0.0,0.0,0.0,1.0,0.0,0.0,0.0,0.0],[0.0,0.0,0.0,0.0,0.0,0.0,0.0,0.0,0.0,0.0,1.0006505250930786,-0.0002470182371325791,8.826874363876414e-06,-0.00036458682734519243,-4.836321386392228e-05],[0.0,0.0,0.0,0.0,0.0,0.0,0.0,0.0,0.0,0.0,1.0010522603988647,-2.705118095036596e-05,-2.0439416402950883e-05,-0.0004594337660819292,-0.0005942197749391198],[0.0,0.0,0.0,0.0,0.0,0.0,0.0,0.0,0.0,0.0,1.000266671180725,0.0008678193553350866,0.0005162211018614471,-0.0009935771813616157,-0.0008656042045913637],[0.0,0.0,0.0,0.0,0.0,0.0,0.0,0.0,0.0,0.0,0.994908332824707,0.00542919896543026,0.0016054506413638592,-0.0006179818883538246,-0.0016326360637322068],[0.0,0.0,0.0,0.0,0.0,0.0,0.0,0.0,0.0,0.0,0.9675663709640503,0.03134198114275932,0.002841347362846136,-0.001230493071489036,-0.000986361294053495],[0.0,0.0,0.0,0.0,0.0,0.0,0.0,0.0,0.0,0.0,0.9675210118293762,0.031000619754195213,0.0017823238158598542,-0.0004857465683016926,-0.0006470467778854072],[0.0,0.0,0.0,0.0,0.0,0.0,0.0,0.0,0.0,0.0,0.9228323101997375,0.051345791667699814,0.004729157313704491,0.0009343732963316143,0.01704670861363411],[0.0,0.0,0.0,0.0,0.0,0.0,0.0,0.0,0.0,0.0,0.6565485000610352,0.023856624960899353,0.00235744658857584,-1.7284563000430353e-05,0.31869134306907654],[0.0,0.0,0.0,0.0,0.0,0.0,0.0,0.0,0.0,0.0,0.02730138786137104,0.03142477944493294,0.0018205175874754786,0.0007990838494151831,0.9383877515792847],[0.0,0.0,0.0,0.0,0.0,0.0,0.0,0.0,0.0,0.0,-0.0268423892557621,0.020981144160032272,0.001251167501322925,0.00032354018185287714,1.004828691482544],[0.0,0.0,0.0,0.0,0.0,0.0,0.0,0.0,0.0,0.0,-0.005688433535397053,0.014263389632105827,0.00048685414367355406,-9.028247586684301e-05,0.9914223551750183]],\"type\":\"heatmap\",\"xaxis\":\"x\",\"yaxis\":\"y\",\"hovertemplate\":\"Position: %{x}\\u003cbr\\u003eLayer: %{y}\\u003cbr\\u003ecolor: %{z}\\u003cextra\\u003e\\u003c\\u002fextra\\u003e\"}],                        {\"template\":{\"data\":{\"histogram2dcontour\":[{\"type\":\"histogram2dcontour\",\"colorbar\":{\"outlinewidth\":0,\"ticks\":\"\"},\"colorscale\":[[0.0,\"#0d0887\"],[0.1111111111111111,\"#46039f\"],[0.2222222222222222,\"#7201a8\"],[0.3333333333333333,\"#9c179e\"],[0.4444444444444444,\"#bd3786\"],[0.5555555555555556,\"#d8576b\"],[0.6666666666666666,\"#ed7953\"],[0.7777777777777778,\"#fb9f3a\"],[0.8888888888888888,\"#fdca26\"],[1.0,\"#f0f921\"]]}],\"choropleth\":[{\"type\":\"choropleth\",\"colorbar\":{\"outlinewidth\":0,\"ticks\":\"\"}}],\"histogram2d\":[{\"type\":\"histogram2d\",\"colorbar\":{\"outlinewidth\":0,\"ticks\":\"\"},\"colorscale\":[[0.0,\"#0d0887\"],[0.1111111111111111,\"#46039f\"],[0.2222222222222222,\"#7201a8\"],[0.3333333333333333,\"#9c179e\"],[0.4444444444444444,\"#bd3786\"],[0.5555555555555556,\"#d8576b\"],[0.6666666666666666,\"#ed7953\"],[0.7777777777777778,\"#fb9f3a\"],[0.8888888888888888,\"#fdca26\"],[1.0,\"#f0f921\"]]}],\"heatmap\":[{\"type\":\"heatmap\",\"colorbar\":{\"outlinewidth\":0,\"ticks\":\"\"},\"colorscale\":[[0.0,\"#0d0887\"],[0.1111111111111111,\"#46039f\"],[0.2222222222222222,\"#7201a8\"],[0.3333333333333333,\"#9c179e\"],[0.4444444444444444,\"#bd3786\"],[0.5555555555555556,\"#d8576b\"],[0.6666666666666666,\"#ed7953\"],[0.7777777777777778,\"#fb9f3a\"],[0.8888888888888888,\"#fdca26\"],[1.0,\"#f0f921\"]]}],\"heatmapgl\":[{\"type\":\"heatmapgl\",\"colorbar\":{\"outlinewidth\":0,\"ticks\":\"\"},\"colorscale\":[[0.0,\"#0d0887\"],[0.1111111111111111,\"#46039f\"],[0.2222222222222222,\"#7201a8\"],[0.3333333333333333,\"#9c179e\"],[0.4444444444444444,\"#bd3786\"],[0.5555555555555556,\"#d8576b\"],[0.6666666666666666,\"#ed7953\"],[0.7777777777777778,\"#fb9f3a\"],[0.8888888888888888,\"#fdca26\"],[1.0,\"#f0f921\"]]}],\"contourcarpet\":[{\"type\":\"contourcarpet\",\"colorbar\":{\"outlinewidth\":0,\"ticks\":\"\"}}],\"contour\":[{\"type\":\"contour\",\"colorbar\":{\"outlinewidth\":0,\"ticks\":\"\"},\"colorscale\":[[0.0,\"#0d0887\"],[0.1111111111111111,\"#46039f\"],[0.2222222222222222,\"#7201a8\"],[0.3333333333333333,\"#9c179e\"],[0.4444444444444444,\"#bd3786\"],[0.5555555555555556,\"#d8576b\"],[0.6666666666666666,\"#ed7953\"],[0.7777777777777778,\"#fb9f3a\"],[0.8888888888888888,\"#fdca26\"],[1.0,\"#f0f921\"]]}],\"surface\":[{\"type\":\"surface\",\"colorbar\":{\"outlinewidth\":0,\"ticks\":\"\"},\"colorscale\":[[0.0,\"#0d0887\"],[0.1111111111111111,\"#46039f\"],[0.2222222222222222,\"#7201a8\"],[0.3333333333333333,\"#9c179e\"],[0.4444444444444444,\"#bd3786\"],[0.5555555555555556,\"#d8576b\"],[0.6666666666666666,\"#ed7953\"],[0.7777777777777778,\"#fb9f3a\"],[0.8888888888888888,\"#fdca26\"],[1.0,\"#f0f921\"]]}],\"mesh3d\":[{\"type\":\"mesh3d\",\"colorbar\":{\"outlinewidth\":0,\"ticks\":\"\"}}],\"scatter\":[{\"fillpattern\":{\"fillmode\":\"overlay\",\"size\":10,\"solidity\":0.2},\"type\":\"scatter\"}],\"parcoords\":[{\"type\":\"parcoords\",\"line\":{\"colorbar\":{\"outlinewidth\":0,\"ticks\":\"\"}}}],\"scatterpolargl\":[{\"type\":\"scatterpolargl\",\"marker\":{\"colorbar\":{\"outlinewidth\":0,\"ticks\":\"\"}}}],\"bar\":[{\"error_x\":{\"color\":\"#2a3f5f\"},\"error_y\":{\"color\":\"#2a3f5f\"},\"marker\":{\"line\":{\"color\":\"#E5ECF6\",\"width\":0.5},\"pattern\":{\"fillmode\":\"overlay\",\"size\":10,\"solidity\":0.2}},\"type\":\"bar\"}],\"scattergeo\":[{\"type\":\"scattergeo\",\"marker\":{\"colorbar\":{\"outlinewidth\":0,\"ticks\":\"\"}}}],\"scatterpolar\":[{\"type\":\"scatterpolar\",\"marker\":{\"colorbar\":{\"outlinewidth\":0,\"ticks\":\"\"}}}],\"histogram\":[{\"marker\":{\"pattern\":{\"fillmode\":\"overlay\",\"size\":10,\"solidity\":0.2}},\"type\":\"histogram\"}],\"scattergl\":[{\"type\":\"scattergl\",\"marker\":{\"colorbar\":{\"outlinewidth\":0,\"ticks\":\"\"}}}],\"scatter3d\":[{\"type\":\"scatter3d\",\"line\":{\"colorbar\":{\"outlinewidth\":0,\"ticks\":\"\"}},\"marker\":{\"colorbar\":{\"outlinewidth\":0,\"ticks\":\"\"}}}],\"scattermapbox\":[{\"type\":\"scattermapbox\",\"marker\":{\"colorbar\":{\"outlinewidth\":0,\"ticks\":\"\"}}}],\"scatterternary\":[{\"type\":\"scatterternary\",\"marker\":{\"colorbar\":{\"outlinewidth\":0,\"ticks\":\"\"}}}],\"scattercarpet\":[{\"type\":\"scattercarpet\",\"marker\":{\"colorbar\":{\"outlinewidth\":0,\"ticks\":\"\"}}}],\"carpet\":[{\"aaxis\":{\"endlinecolor\":\"#2a3f5f\",\"gridcolor\":\"white\",\"linecolor\":\"white\",\"minorgridcolor\":\"white\",\"startlinecolor\":\"#2a3f5f\"},\"baxis\":{\"endlinecolor\":\"#2a3f5f\",\"gridcolor\":\"white\",\"linecolor\":\"white\",\"minorgridcolor\":\"white\",\"startlinecolor\":\"#2a3f5f\"},\"type\":\"carpet\"}],\"table\":[{\"cells\":{\"fill\":{\"color\":\"#EBF0F8\"},\"line\":{\"color\":\"white\"}},\"header\":{\"fill\":{\"color\":\"#C8D4E3\"},\"line\":{\"color\":\"white\"}},\"type\":\"table\"}],\"barpolar\":[{\"marker\":{\"line\":{\"color\":\"#E5ECF6\",\"width\":0.5},\"pattern\":{\"fillmode\":\"overlay\",\"size\":10,\"solidity\":0.2}},\"type\":\"barpolar\"}],\"pie\":[{\"automargin\":true,\"type\":\"pie\"}]},\"layout\":{\"autotypenumbers\":\"strict\",\"colorway\":[\"#636efa\",\"#EF553B\",\"#00cc96\",\"#ab63fa\",\"#FFA15A\",\"#19d3f3\",\"#FF6692\",\"#B6E880\",\"#FF97FF\",\"#FECB52\"],\"font\":{\"color\":\"#2a3f5f\"},\"hovermode\":\"closest\",\"hoverlabel\":{\"align\":\"left\"},\"paper_bgcolor\":\"white\",\"plot_bgcolor\":\"#E5ECF6\",\"polar\":{\"bgcolor\":\"#E5ECF6\",\"angularaxis\":{\"gridcolor\":\"white\",\"linecolor\":\"white\",\"ticks\":\"\"},\"radialaxis\":{\"gridcolor\":\"white\",\"linecolor\":\"white\",\"ticks\":\"\"}},\"ternary\":{\"bgcolor\":\"#E5ECF6\",\"aaxis\":{\"gridcolor\":\"white\",\"linecolor\":\"white\",\"ticks\":\"\"},\"baxis\":{\"gridcolor\":\"white\",\"linecolor\":\"white\",\"ticks\":\"\"},\"caxis\":{\"gridcolor\":\"white\",\"linecolor\":\"white\",\"ticks\":\"\"}},\"coloraxis\":{\"colorbar\":{\"outlinewidth\":0,\"ticks\":\"\"}},\"colorscale\":{\"sequential\":[[0.0,\"#0d0887\"],[0.1111111111111111,\"#46039f\"],[0.2222222222222222,\"#7201a8\"],[0.3333333333333333,\"#9c179e\"],[0.4444444444444444,\"#bd3786\"],[0.5555555555555556,\"#d8576b\"],[0.6666666666666666,\"#ed7953\"],[0.7777777777777778,\"#fb9f3a\"],[0.8888888888888888,\"#fdca26\"],[1.0,\"#f0f921\"]],\"sequentialminus\":[[0.0,\"#0d0887\"],[0.1111111111111111,\"#46039f\"],[0.2222222222222222,\"#7201a8\"],[0.3333333333333333,\"#9c179e\"],[0.4444444444444444,\"#bd3786\"],[0.5555555555555556,\"#d8576b\"],[0.6666666666666666,\"#ed7953\"],[0.7777777777777778,\"#fb9f3a\"],[0.8888888888888888,\"#fdca26\"],[1.0,\"#f0f921\"]],\"diverging\":[[0,\"#8e0152\"],[0.1,\"#c51b7d\"],[0.2,\"#de77ae\"],[0.3,\"#f1b6da\"],[0.4,\"#fde0ef\"],[0.5,\"#f7f7f7\"],[0.6,\"#e6f5d0\"],[0.7,\"#b8e186\"],[0.8,\"#7fbc41\"],[0.9,\"#4d9221\"],[1,\"#276419\"]]},\"xaxis\":{\"gridcolor\":\"white\",\"linecolor\":\"white\",\"ticks\":\"\",\"title\":{\"standoff\":15},\"zerolinecolor\":\"white\",\"automargin\":true,\"zerolinewidth\":2},\"yaxis\":{\"gridcolor\":\"white\",\"linecolor\":\"white\",\"ticks\":\"\",\"title\":{\"standoff\":15},\"zerolinecolor\":\"white\",\"automargin\":true,\"zerolinewidth\":2},\"scene\":{\"xaxis\":{\"backgroundcolor\":\"#E5ECF6\",\"gridcolor\":\"white\",\"linecolor\":\"white\",\"showbackground\":true,\"ticks\":\"\",\"zerolinecolor\":\"white\",\"gridwidth\":2},\"yaxis\":{\"backgroundcolor\":\"#E5ECF6\",\"gridcolor\":\"white\",\"linecolor\":\"white\",\"showbackground\":true,\"ticks\":\"\",\"zerolinecolor\":\"white\",\"gridwidth\":2},\"zaxis\":{\"backgroundcolor\":\"#E5ECF6\",\"gridcolor\":\"white\",\"linecolor\":\"white\",\"showbackground\":true,\"ticks\":\"\",\"zerolinecolor\":\"white\",\"gridwidth\":2}},\"shapedefaults\":{\"line\":{\"color\":\"#2a3f5f\"}},\"annotationdefaults\":{\"arrowcolor\":\"#2a3f5f\",\"arrowhead\":0,\"arrowwidth\":1},\"geo\":{\"bgcolor\":\"white\",\"landcolor\":\"#E5ECF6\",\"subunitcolor\":\"white\",\"showland\":true,\"showlakes\":true,\"lakecolor\":\"white\"},\"title\":{\"x\":0.05},\"mapbox\":{\"style\":\"light\"}}},\"xaxis\":{\"anchor\":\"y\",\"domain\":[0.0,1.0],\"scaleanchor\":\"y\",\"constrain\":\"domain\",\"title\":{\"text\":\"Position\"}},\"yaxis\":{\"anchor\":\"x\",\"domain\":[0.0,1.0],\"autorange\":\"reversed\",\"constrain\":\"domain\",\"title\":{\"text\":\"Layer\"}},\"coloraxis\":{\"colorscale\":[[0.0,\"rgb(103,0,31)\"],[0.1,\"rgb(178,24,43)\"],[0.2,\"rgb(214,96,77)\"],[0.3,\"rgb(244,165,130)\"],[0.4,\"rgb(253,219,199)\"],[0.5,\"rgb(247,247,247)\"],[0.6,\"rgb(209,229,240)\"],[0.7,\"rgb(146,197,222)\"],[0.8,\"rgb(67,147,195)\"],[0.9,\"rgb(33,102,172)\"],[1.0,\"rgb(5,48,97)\"]],\"cmid\":0.0},\"title\":{\"text\":\"resid_pre Activation Patching\"},\"width\":600},                        {\"staticPlot\": false, \"responsive\": true}                    ).then(function(){\n",
              "                            \n",
              "var gd = document.getElementById('a6a759e1-5c88-4233-b9d1-5b3c31035660');\n",
              "var x = new MutationObserver(function (mutations, observer) {{\n",
              "        var display = window.getComputedStyle(gd).display;\n",
              "        if (!display || display === 'none') {{\n",
              "            console.log([gd, 'removed!']);\n",
              "            Plotly.purge(gd);\n",
              "            observer.disconnect();\n",
              "        }}\n",
              "}});\n",
              "\n",
              "// Listen for the removal of the full notebook cells\n",
              "var notebookContainer = gd.closest('#notebook-container');\n",
              "if (notebookContainer) {{\n",
              "    x.observe(notebookContainer, {childList: true});\n",
              "}}\n",
              "\n",
              "// Listen for the clearing of the current output cell\n",
              "var outputEl = gd.closest('.output');\n",
              "if (outputEl) {{\n",
              "    x.observe(outputEl, {childList: true});\n",
              "}}\n",
              "\n",
              "                        })                };                            </script>        </div>\n",
              "</body>\n",
              "</html>"
            ]
          },
          "metadata": {}
        }
      ]
    },
    {
      "cell_type": "markdown",
      "metadata": {
        "id": "RN_CeEHgl6mN"
      },
      "source": [
        "Question - what is the interpretation of this graph? What significant things does it tell you about the nature of how the model solves this task?\n",
        "\n",
        "(Dylan: patching this specific intervention on head 10 [John], layers 1-8 seems like it gives you most of the relevant information for performance)\n",
        "\n",
        "<details>\n",
        "<summary>Hint</summary>\n",
        "\n",
        "Think about locality of computation.\n",
        "</details>\n",
        "\n",
        "<details>\n",
        "<summary>Answer</summary>\n",
        "\n",
        "Originally all relevant computation happens on `S2`, and at layers 7 and 8, the information is moved to `END`. Moving the residual stream at the correct position near *exactly* recovers performance!\n",
        "\n",
        "To be clear, the striking thing about this graph isn't that the first row is zero everywhere except for `S2` where it is 1, or that the rows near the end trend to being zero everywhere except for `END` where they are 1; both of these are exactly what we'd expect. The striking things are:\n",
        "\n",
        "* The computation is highly localized; the relevant information for choosing `IO` over `S` is initially stored in `S2` token and then moved to `END` token without taking any detours.\n",
        "* The model is basically done after layer 8, and the rest of the layers actually slightly impede performance on this particular task.\n",
        "\n",
        "(Note - for reference, tokens and their index from the first prompt are on the x-axis. In an abuse of notation, note that the difference here is averaged over *all* 8 prompts, while the labels only come from the *first* prompt.)\n",
        "</details>\n"
      ]
    },
    {
      "cell_type": "markdown",
      "metadata": {
        "id": "qwjkJ5NRl6mN"
      },
      "source": [
        "### Exercise - implement head-to-residual patching\n",
        "\n",
        "```c\n",
        "Difficulty: 🔴🔴🔴🔴⚪\n",
        "Importance: 🔵🔵🔵🔵🔵\n",
        "\n",
        "You should spend up to 20-25 minutes on this exercise.\n",
        "\n",
        "It's very important to understand how patching works. Many subsequent exercises will build on this one.\n",
        "```\n",
        "\n",
        "Now, you should implement the `get_act_patch_resid_pre` function below, which should behave just like the one above. A quick refresher on how to use hooks in this way:\n",
        "\n",
        "* Hook functions take arguments `tensor: t.Tensor` and `hook: HookPoint`. It's often easier to define a hook function taking more arguments than these, and then use `functools.partial` when it actually comes time to add your hook.\n",
        "* The function `model.run_with_hooks` takes arguments:\n",
        "    * The tokens to run (as first argument)\n",
        "    * `fwd_hooks` - a list of `(hook_name, hook_fn)` tuples. Remember that you can use `utils.get_act_name` to get hook names.\n",
        "* Tip - it's good practice to have `model.reset_hooks()` at the start of functions which add and run hooks. This is because sometimes hooks fail to be removed (if they cause an error while running). There's nothing more frustrating than fixing a hook error only to get the same error message, not realising that you've failed to clear the broken hook!\n"
      ]
    },
    {
      "cell_type": "code",
      "execution_count": 65,
      "metadata": {
        "id": "DtyotOUGl6mN"
      },
      "outputs": [],
      "source": [
        "def patch_residual_component(\n",
        "    corrupted_residual_component: Float[Tensor, \"batch pos d_model\"],\n",
        "    hook: HookPoint,\n",
        "    pos: int,\n",
        "    clean_cache: ActivationCache\n",
        ") -> Float[Tensor, \"batch pos d_model\"]:\n",
        "    '''\n",
        "    Patches a given sequence position in the residual stream, using the value\n",
        "    from the clean cache.\n",
        "    '''\n",
        "    corrupted_residual_component[:, pos, :] = clean_cache[hook.name][:, pos, :]\n",
        "    return corrupted_residual_component\n",
        "\n",
        "\n",
        "def get_act_patch_resid_pre(\n",
        "    model: HookedTransformer,\n",
        "    corrupted_tokens: Float[Tensor, \"batch pos\"],\n",
        "    clean_cache: ActivationCache,\n",
        "    patching_metric: Callable[[Float[Tensor, \"batch pos d_vocab\"]], float]\n",
        ") -> Float[Tensor, \"layer pos\"]:\n",
        "    '''\n",
        "    Returns an array of results of patching each position at each layer in the residual\n",
        "    stream, using the value from the clean cache.\n",
        "\n",
        "    The results are calculated using the patching_metric function, which should be\n",
        "    called on the model's logit output.\n",
        "    '''\n",
        "    model.reset_hooks()\n",
        "\n",
        "    out = t.zeros((model.cfg.n_layers, corrupted_tokens.shape[-1])).to(device)\n",
        "    for layer in range(model.cfg.n_layers):\n",
        "        for pos in range(corrupted_tokens.shape[-1]):\n",
        "            hook_fn = lambda corr_resid, hook: patch_residual_component(corr_resid, hook, pos, clean_cache)\n",
        "            layer_out = model.run_with_hooks(corrupted_tokens, fwd_hooks = [\n",
        "                (utils.get_act_name(\"resid_pre\", layer), hook_fn) #I should remember the prompts for hook activation names lol\n",
        "            ])\n",
        "            out[layer, pos] = patching_metric(layer_out)\n",
        "    return out\n",
        "\n",
        "\n",
        "act_patch_resid_pre_own = get_act_patch_resid_pre(model, corrupted_tokens, clean_cache, ioi_metric)\n",
        "\n",
        "t.testing.assert_close(act_patch_resid_pre, act_patch_resid_pre_own)"
      ]
    },
    {
      "cell_type": "markdown",
      "metadata": {
        "id": "zG0uGMIJl6mN"
      },
      "source": [
        "Once you've passed the tests, you can plot your results.\n"
      ]
    },
    {
      "cell_type": "code",
      "execution_count": 66,
      "metadata": {
        "id": "QjR3fEXEl6mO",
        "colab": {
          "base_uri": "https://localhost:8080/",
          "height": 542
        },
        "outputId": "9b71d88e-2850-42b8-af17-2f2391b70037"
      },
      "outputs": [
        {
          "output_type": "display_data",
          "data": {
            "text/html": [
              "<html>\n",
              "<head><meta charset=\"utf-8\" /></head>\n",
              "<body>\n",
              "    <div>            <script src=\"https://cdnjs.cloudflare.com/ajax/libs/mathjax/2.7.5/MathJax.js?config=TeX-AMS-MML_SVG\"></script><script type=\"text/javascript\">if (window.MathJax && window.MathJax.Hub && window.MathJax.Hub.Config) {window.MathJax.Hub.Config({SVG: {font: \"STIX-Web\"}});}</script>                <script type=\"text/javascript\">window.PlotlyConfig = {MathJaxConfig: 'local'};</script>\n",
              "        <script charset=\"utf-8\" src=\"https://cdn.plot.ly/plotly-2.24.1.min.js\"></script>                <div id=\"02a46cd1-c0fc-41b2-9074-5e3784ce5a3f\" class=\"plotly-graph-div\" style=\"height:525px; width:600px;\"></div>            <script type=\"text/javascript\">                                    window.PLOTLYENV=window.PLOTLYENV || {};                                    if (document.getElementById(\"02a46cd1-c0fc-41b2-9074-5e3784ce5a3f\")) {                    Plotly.newPlot(                        \"02a46cd1-c0fc-41b2-9074-5e3784ce5a3f\",                        [{\"coloraxis\":\"coloraxis\",\"name\":\"0\",\"x\":[\"\\u003c|endoftext|\\u003e 0\",\"When 1\",\" John 2\",\" and 3\",\" Mary 4\",\" went 5\",\" to 6\",\" the 7\",\" shops 8\",\", 9\",\" John 10\",\" gave 11\",\" the 12\",\" bag 13\",\" to 14\"],\"z\":[[0.0,0.0,0.0,0.0,0.0,0.0,0.0,0.0,0.0,0.0,1.0,0.0,0.0,0.0,0.0],[0.0,0.0,0.0,0.0,0.0,0.0,0.0,0.0,0.0,0.0,1.0006505250930786,-0.0002470182371325791,8.826874363876414e-06,-0.00036458682734519243,-4.836321386392228e-05],[0.0,0.0,0.0,0.0,0.0,0.0,0.0,0.0,0.0,0.0,1.0010522603988647,-2.705118095036596e-05,-2.0439416402950883e-05,-0.0004594337660819292,-0.0005942197749391198],[0.0,0.0,0.0,0.0,0.0,0.0,0.0,0.0,0.0,0.0,1.000266671180725,0.0008678193553350866,0.0005162211018614471,-0.0009935771813616157,-0.0008656042045913637],[0.0,0.0,0.0,0.0,0.0,0.0,0.0,0.0,0.0,0.0,0.994908332824707,0.00542919896543026,0.0016054506413638592,-0.0006179818883538246,-0.0016326360637322068],[0.0,0.0,0.0,0.0,0.0,0.0,0.0,0.0,0.0,0.0,0.9675663709640503,0.03134198114275932,0.002841347362846136,-0.001230493071489036,-0.000986361294053495],[0.0,0.0,0.0,0.0,0.0,0.0,0.0,0.0,0.0,0.0,0.9675210118293762,0.031000619754195213,0.0017823238158598542,-0.0004857465683016926,-0.0006470467778854072],[0.0,0.0,0.0,0.0,0.0,0.0,0.0,0.0,0.0,0.0,0.9228323101997375,0.051345791667699814,0.004729157313704491,0.0009343732963316143,0.01704670861363411],[0.0,0.0,0.0,0.0,0.0,0.0,0.0,0.0,0.0,0.0,0.6565485000610352,0.023856624960899353,0.00235744658857584,-1.7284563000430353e-05,0.31869134306907654],[0.0,0.0,0.0,0.0,0.0,0.0,0.0,0.0,0.0,0.0,0.02730138786137104,0.03142477944493294,0.0018205175874754786,0.0007990838494151831,0.9383877515792847],[0.0,0.0,0.0,0.0,0.0,0.0,0.0,0.0,0.0,0.0,-0.0268423892557621,0.020981144160032272,0.001251167501322925,0.00032354018185287714,1.004828691482544],[0.0,0.0,0.0,0.0,0.0,0.0,0.0,0.0,0.0,0.0,-0.005688433535397053,0.014263389632105827,0.00048685414367355406,-9.028247586684301e-05,0.9914223551750183]],\"type\":\"heatmap\",\"xaxis\":\"x\",\"yaxis\":\"y\",\"hovertemplate\":\"Sequence Position: %{x}\\u003cbr\\u003eLayer: %{y}\\u003cbr\\u003ecolor: %{z}\\u003cextra\\u003e\\u003c\\u002fextra\\u003e\"}],                        {\"template\":{\"data\":{\"histogram2dcontour\":[{\"type\":\"histogram2dcontour\",\"colorbar\":{\"outlinewidth\":0,\"ticks\":\"\"},\"colorscale\":[[0.0,\"#0d0887\"],[0.1111111111111111,\"#46039f\"],[0.2222222222222222,\"#7201a8\"],[0.3333333333333333,\"#9c179e\"],[0.4444444444444444,\"#bd3786\"],[0.5555555555555556,\"#d8576b\"],[0.6666666666666666,\"#ed7953\"],[0.7777777777777778,\"#fb9f3a\"],[0.8888888888888888,\"#fdca26\"],[1.0,\"#f0f921\"]]}],\"choropleth\":[{\"type\":\"choropleth\",\"colorbar\":{\"outlinewidth\":0,\"ticks\":\"\"}}],\"histogram2d\":[{\"type\":\"histogram2d\",\"colorbar\":{\"outlinewidth\":0,\"ticks\":\"\"},\"colorscale\":[[0.0,\"#0d0887\"],[0.1111111111111111,\"#46039f\"],[0.2222222222222222,\"#7201a8\"],[0.3333333333333333,\"#9c179e\"],[0.4444444444444444,\"#bd3786\"],[0.5555555555555556,\"#d8576b\"],[0.6666666666666666,\"#ed7953\"],[0.7777777777777778,\"#fb9f3a\"],[0.8888888888888888,\"#fdca26\"],[1.0,\"#f0f921\"]]}],\"heatmap\":[{\"type\":\"heatmap\",\"colorbar\":{\"outlinewidth\":0,\"ticks\":\"\"},\"colorscale\":[[0.0,\"#0d0887\"],[0.1111111111111111,\"#46039f\"],[0.2222222222222222,\"#7201a8\"],[0.3333333333333333,\"#9c179e\"],[0.4444444444444444,\"#bd3786\"],[0.5555555555555556,\"#d8576b\"],[0.6666666666666666,\"#ed7953\"],[0.7777777777777778,\"#fb9f3a\"],[0.8888888888888888,\"#fdca26\"],[1.0,\"#f0f921\"]]}],\"heatmapgl\":[{\"type\":\"heatmapgl\",\"colorbar\":{\"outlinewidth\":0,\"ticks\":\"\"},\"colorscale\":[[0.0,\"#0d0887\"],[0.1111111111111111,\"#46039f\"],[0.2222222222222222,\"#7201a8\"],[0.3333333333333333,\"#9c179e\"],[0.4444444444444444,\"#bd3786\"],[0.5555555555555556,\"#d8576b\"],[0.6666666666666666,\"#ed7953\"],[0.7777777777777778,\"#fb9f3a\"],[0.8888888888888888,\"#fdca26\"],[1.0,\"#f0f921\"]]}],\"contourcarpet\":[{\"type\":\"contourcarpet\",\"colorbar\":{\"outlinewidth\":0,\"ticks\":\"\"}}],\"contour\":[{\"type\":\"contour\",\"colorbar\":{\"outlinewidth\":0,\"ticks\":\"\"},\"colorscale\":[[0.0,\"#0d0887\"],[0.1111111111111111,\"#46039f\"],[0.2222222222222222,\"#7201a8\"],[0.3333333333333333,\"#9c179e\"],[0.4444444444444444,\"#bd3786\"],[0.5555555555555556,\"#d8576b\"],[0.6666666666666666,\"#ed7953\"],[0.7777777777777778,\"#fb9f3a\"],[0.8888888888888888,\"#fdca26\"],[1.0,\"#f0f921\"]]}],\"surface\":[{\"type\":\"surface\",\"colorbar\":{\"outlinewidth\":0,\"ticks\":\"\"},\"colorscale\":[[0.0,\"#0d0887\"],[0.1111111111111111,\"#46039f\"],[0.2222222222222222,\"#7201a8\"],[0.3333333333333333,\"#9c179e\"],[0.4444444444444444,\"#bd3786\"],[0.5555555555555556,\"#d8576b\"],[0.6666666666666666,\"#ed7953\"],[0.7777777777777778,\"#fb9f3a\"],[0.8888888888888888,\"#fdca26\"],[1.0,\"#f0f921\"]]}],\"mesh3d\":[{\"type\":\"mesh3d\",\"colorbar\":{\"outlinewidth\":0,\"ticks\":\"\"}}],\"scatter\":[{\"fillpattern\":{\"fillmode\":\"overlay\",\"size\":10,\"solidity\":0.2},\"type\":\"scatter\"}],\"parcoords\":[{\"type\":\"parcoords\",\"line\":{\"colorbar\":{\"outlinewidth\":0,\"ticks\":\"\"}}}],\"scatterpolargl\":[{\"type\":\"scatterpolargl\",\"marker\":{\"colorbar\":{\"outlinewidth\":0,\"ticks\":\"\"}}}],\"bar\":[{\"error_x\":{\"color\":\"#2a3f5f\"},\"error_y\":{\"color\":\"#2a3f5f\"},\"marker\":{\"line\":{\"color\":\"#E5ECF6\",\"width\":0.5},\"pattern\":{\"fillmode\":\"overlay\",\"size\":10,\"solidity\":0.2}},\"type\":\"bar\"}],\"scattergeo\":[{\"type\":\"scattergeo\",\"marker\":{\"colorbar\":{\"outlinewidth\":0,\"ticks\":\"\"}}}],\"scatterpolar\":[{\"type\":\"scatterpolar\",\"marker\":{\"colorbar\":{\"outlinewidth\":0,\"ticks\":\"\"}}}],\"histogram\":[{\"marker\":{\"pattern\":{\"fillmode\":\"overlay\",\"size\":10,\"solidity\":0.2}},\"type\":\"histogram\"}],\"scattergl\":[{\"type\":\"scattergl\",\"marker\":{\"colorbar\":{\"outlinewidth\":0,\"ticks\":\"\"}}}],\"scatter3d\":[{\"type\":\"scatter3d\",\"line\":{\"colorbar\":{\"outlinewidth\":0,\"ticks\":\"\"}},\"marker\":{\"colorbar\":{\"outlinewidth\":0,\"ticks\":\"\"}}}],\"scattermapbox\":[{\"type\":\"scattermapbox\",\"marker\":{\"colorbar\":{\"outlinewidth\":0,\"ticks\":\"\"}}}],\"scatterternary\":[{\"type\":\"scatterternary\",\"marker\":{\"colorbar\":{\"outlinewidth\":0,\"ticks\":\"\"}}}],\"scattercarpet\":[{\"type\":\"scattercarpet\",\"marker\":{\"colorbar\":{\"outlinewidth\":0,\"ticks\":\"\"}}}],\"carpet\":[{\"aaxis\":{\"endlinecolor\":\"#2a3f5f\",\"gridcolor\":\"white\",\"linecolor\":\"white\",\"minorgridcolor\":\"white\",\"startlinecolor\":\"#2a3f5f\"},\"baxis\":{\"endlinecolor\":\"#2a3f5f\",\"gridcolor\":\"white\",\"linecolor\":\"white\",\"minorgridcolor\":\"white\",\"startlinecolor\":\"#2a3f5f\"},\"type\":\"carpet\"}],\"table\":[{\"cells\":{\"fill\":{\"color\":\"#EBF0F8\"},\"line\":{\"color\":\"white\"}},\"header\":{\"fill\":{\"color\":\"#C8D4E3\"},\"line\":{\"color\":\"white\"}},\"type\":\"table\"}],\"barpolar\":[{\"marker\":{\"line\":{\"color\":\"#E5ECF6\",\"width\":0.5},\"pattern\":{\"fillmode\":\"overlay\",\"size\":10,\"solidity\":0.2}},\"type\":\"barpolar\"}],\"pie\":[{\"automargin\":true,\"type\":\"pie\"}]},\"layout\":{\"autotypenumbers\":\"strict\",\"colorway\":[\"#636efa\",\"#EF553B\",\"#00cc96\",\"#ab63fa\",\"#FFA15A\",\"#19d3f3\",\"#FF6692\",\"#B6E880\",\"#FF97FF\",\"#FECB52\"],\"font\":{\"color\":\"#2a3f5f\"},\"hovermode\":\"closest\",\"hoverlabel\":{\"align\":\"left\"},\"paper_bgcolor\":\"white\",\"plot_bgcolor\":\"#E5ECF6\",\"polar\":{\"bgcolor\":\"#E5ECF6\",\"angularaxis\":{\"gridcolor\":\"white\",\"linecolor\":\"white\",\"ticks\":\"\"},\"radialaxis\":{\"gridcolor\":\"white\",\"linecolor\":\"white\",\"ticks\":\"\"}},\"ternary\":{\"bgcolor\":\"#E5ECF6\",\"aaxis\":{\"gridcolor\":\"white\",\"linecolor\":\"white\",\"ticks\":\"\"},\"baxis\":{\"gridcolor\":\"white\",\"linecolor\":\"white\",\"ticks\":\"\"},\"caxis\":{\"gridcolor\":\"white\",\"linecolor\":\"white\",\"ticks\":\"\"}},\"coloraxis\":{\"colorbar\":{\"outlinewidth\":0,\"ticks\":\"\"}},\"colorscale\":{\"sequential\":[[0.0,\"#0d0887\"],[0.1111111111111111,\"#46039f\"],[0.2222222222222222,\"#7201a8\"],[0.3333333333333333,\"#9c179e\"],[0.4444444444444444,\"#bd3786\"],[0.5555555555555556,\"#d8576b\"],[0.6666666666666666,\"#ed7953\"],[0.7777777777777778,\"#fb9f3a\"],[0.8888888888888888,\"#fdca26\"],[1.0,\"#f0f921\"]],\"sequentialminus\":[[0.0,\"#0d0887\"],[0.1111111111111111,\"#46039f\"],[0.2222222222222222,\"#7201a8\"],[0.3333333333333333,\"#9c179e\"],[0.4444444444444444,\"#bd3786\"],[0.5555555555555556,\"#d8576b\"],[0.6666666666666666,\"#ed7953\"],[0.7777777777777778,\"#fb9f3a\"],[0.8888888888888888,\"#fdca26\"],[1.0,\"#f0f921\"]],\"diverging\":[[0,\"#8e0152\"],[0.1,\"#c51b7d\"],[0.2,\"#de77ae\"],[0.3,\"#f1b6da\"],[0.4,\"#fde0ef\"],[0.5,\"#f7f7f7\"],[0.6,\"#e6f5d0\"],[0.7,\"#b8e186\"],[0.8,\"#7fbc41\"],[0.9,\"#4d9221\"],[1,\"#276419\"]]},\"xaxis\":{\"gridcolor\":\"white\",\"linecolor\":\"white\",\"ticks\":\"\",\"title\":{\"standoff\":15},\"zerolinecolor\":\"white\",\"automargin\":true,\"zerolinewidth\":2},\"yaxis\":{\"gridcolor\":\"white\",\"linecolor\":\"white\",\"ticks\":\"\",\"title\":{\"standoff\":15},\"zerolinecolor\":\"white\",\"automargin\":true,\"zerolinewidth\":2},\"scene\":{\"xaxis\":{\"backgroundcolor\":\"#E5ECF6\",\"gridcolor\":\"white\",\"linecolor\":\"white\",\"showbackground\":true,\"ticks\":\"\",\"zerolinecolor\":\"white\",\"gridwidth\":2},\"yaxis\":{\"backgroundcolor\":\"#E5ECF6\",\"gridcolor\":\"white\",\"linecolor\":\"white\",\"showbackground\":true,\"ticks\":\"\",\"zerolinecolor\":\"white\",\"gridwidth\":2},\"zaxis\":{\"backgroundcolor\":\"#E5ECF6\",\"gridcolor\":\"white\",\"linecolor\":\"white\",\"showbackground\":true,\"ticks\":\"\",\"zerolinecolor\":\"white\",\"gridwidth\":2}},\"shapedefaults\":{\"line\":{\"color\":\"#2a3f5f\"}},\"annotationdefaults\":{\"arrowcolor\":\"#2a3f5f\",\"arrowhead\":0,\"arrowwidth\":1},\"geo\":{\"bgcolor\":\"white\",\"landcolor\":\"#E5ECF6\",\"subunitcolor\":\"white\",\"showland\":true,\"showlakes\":true,\"lakecolor\":\"white\"},\"title\":{\"x\":0.05},\"mapbox\":{\"style\":\"light\"}}},\"xaxis\":{\"anchor\":\"y\",\"domain\":[0.0,1.0],\"scaleanchor\":\"y\",\"constrain\":\"domain\",\"title\":{\"text\":\"Sequence Position\"}},\"yaxis\":{\"anchor\":\"x\",\"domain\":[0.0,1.0],\"autorange\":\"reversed\",\"constrain\":\"domain\",\"title\":{\"text\":\"Layer\"}},\"coloraxis\":{\"colorscale\":[[0.0,\"rgb(103,0,31)\"],[0.1,\"rgb(178,24,43)\"],[0.2,\"rgb(214,96,77)\"],[0.3,\"rgb(244,165,130)\"],[0.4,\"rgb(253,219,199)\"],[0.5,\"rgb(247,247,247)\"],[0.6,\"rgb(209,229,240)\"],[0.7,\"rgb(146,197,222)\"],[0.8,\"rgb(67,147,195)\"],[0.9,\"rgb(33,102,172)\"],[1.0,\"rgb(5,48,97)\"]],\"cmid\":0.0},\"title\":{\"text\":\"Logit Difference From Patched Residual Stream\"},\"width\":600},                        {\"staticPlot\": false, \"responsive\": true}                    ).then(function(){\n",
              "                            \n",
              "var gd = document.getElementById('02a46cd1-c0fc-41b2-9074-5e3784ce5a3f');\n",
              "var x = new MutationObserver(function (mutations, observer) {{\n",
              "        var display = window.getComputedStyle(gd).display;\n",
              "        if (!display || display === 'none') {{\n",
              "            console.log([gd, 'removed!']);\n",
              "            Plotly.purge(gd);\n",
              "            observer.disconnect();\n",
              "        }}\n",
              "}});\n",
              "\n",
              "// Listen for the removal of the full notebook cells\n",
              "var notebookContainer = gd.closest('#notebook-container');\n",
              "if (notebookContainer) {{\n",
              "    x.observe(notebookContainer, {childList: true});\n",
              "}}\n",
              "\n",
              "// Listen for the clearing of the current output cell\n",
              "var outputEl = gd.closest('.output');\n",
              "if (outputEl) {{\n",
              "    x.observe(outputEl, {childList: true});\n",
              "}}\n",
              "\n",
              "                        })                };                            </script>        </div>\n",
              "</body>\n",
              "</html>"
            ]
          },
          "metadata": {}
        }
      ],
      "source": [
        "imshow(\n",
        "    act_patch_resid_pre_own,\n",
        "    x=labels,\n",
        "    title=\"Logit Difference From Patched Residual Stream\",\n",
        "    labels={\"x\":\"Sequence Position\", \"y\":\"Layer\"},\n",
        "    width=600 # If you remove this argument, the plot will usually fill the available space\n",
        ")"
      ]
    },
    {
      "cell_type": "markdown",
      "metadata": {
        "id": "99rA4NrHl6mO"
      },
      "source": [
        "## Patching in residual stream by block\n"
      ]
    },
    {
      "cell_type": "markdown",
      "metadata": {
        "id": "5l0ACZcql6mO"
      },
      "source": [
        "Rather than just patching to the residual stream in each layer, we can also patch just after the attention layer or just after the MLP. This gives is a slightly more refined view of which tokens matter and when.\n",
        "\n",
        "The function `patching.get_act_patch_block_every` works just like `get_act_patch_resid_pre`, but rather than just patching to the residual stream, it patches to `resid_pre`, `attn_out` and `mlp_out`, and returns a tensor of shape `(3, n_layers, seq_len)`.\n",
        "\n",
        "One important thing to note - we're cycling through the `resid_pre`, `attn_out` and `mlp_out` and only patching one of them at a time, rather than patching all three at once.\n"
      ]
    },
    {
      "cell_type": "code",
      "execution_count": 67,
      "metadata": {
        "id": "6hLDTEJW0aUA",
        "colab": {
          "base_uri": "https://localhost:8080/",
          "height": 113,
          "referenced_widgets": [
            "4b432324145b4806b5c1c6cc3cefe182",
            "161e265a1afd4216af901b2661e809bb",
            "07b5de8ccdc9472aba5e904a8a0c7546",
            "5ad63de5d10f46c387f367b0036d92e4",
            "3cca0ec8f0f44f949e80cd3371ce2a9f",
            "e7002fb2c76146a2a514181e2725e727",
            "d4c572826c2d48e281a1b848dc2d96de",
            "bc59eba9f0b8480eba6a8a99d02cde43",
            "29228e5efff54c83a161d7eeca681b6e",
            "eb4910d1994b4612bcd37e2d20768319",
            "408e440ce8d34c548822c7aff7185af2",
            "d7f3cb2d3faa486aa19e260e5d41ed50",
            "04a227052b0748ea986f87fec4ddeae0",
            "f8ca767fc7cb41efb6cc7834e963df22",
            "24d418ac84fb4bb78cf32c500212e4fc",
            "51875bbed70b49b09ed7c2fd43bc99d2",
            "9e355bd9dc2a4b1e8e948db1b0c41f3f",
            "3e53ed7678304626b538140139c42f80",
            "a7310c0bd26f43e98e2970bcb9bf50af",
            "b61ec155a8484833b0f50a61a90aa221",
            "3023144ad8d1427e958876f88729abba",
            "e2f20302adde4be3b009aeec7fd58e13",
            "942753c5ce0e476fa678ab1a630dc0e9",
            "5de58e954c5c41ba96e53c9686bba8e1",
            "b86a319979fa4b839f279c1048a3b2c6",
            "78dd892f30a6434e82f0fb9c0b836d81",
            "8869ac2a56d14bfbba697882226f0e34",
            "430e3f4b304e41439d407ccfa072bfbd",
            "622942a3eaa94a3cae0c905df8c2044e",
            "b3c6bb2579d1443881a0cf46784ccad7",
            "c407146e80a44440b489ed24d68524cb",
            "6a24d3cffa06439b8d8b7381ddc1ddde",
            "7df685725e0348559ff866ecc0576b67"
          ]
        },
        "outputId": "fda39c76-5209-4d8e-f27d-e41542d0a0c8"
      },
      "outputs": [
        {
          "output_type": "display_data",
          "data": {
            "text/plain": [
              "  0%|          | 0/180 [00:00<?, ?it/s]"
            ],
            "application/vnd.jupyter.widget-view+json": {
              "version_major": 2,
              "version_minor": 0,
              "model_id": "4b432324145b4806b5c1c6cc3cefe182"
            }
          },
          "metadata": {}
        },
        {
          "output_type": "display_data",
          "data": {
            "text/plain": [
              "  0%|          | 0/180 [00:00<?, ?it/s]"
            ],
            "application/vnd.jupyter.widget-view+json": {
              "version_major": 2,
              "version_minor": 0,
              "model_id": "d7f3cb2d3faa486aa19e260e5d41ed50"
            }
          },
          "metadata": {}
        },
        {
          "output_type": "display_data",
          "data": {
            "text/plain": [
              "  0%|          | 0/180 [00:00<?, ?it/s]"
            ],
            "application/vnd.jupyter.widget-view+json": {
              "version_major": 2,
              "version_minor": 0,
              "model_id": "942753c5ce0e476fa678ab1a630dc0e9"
            }
          },
          "metadata": {}
        }
      ],
      "source": [
        "act_patch_block_every = patching.get_act_patch_block_every(model, corrupted_tokens, clean_cache, ioi_metric)"
      ]
    },
    {
      "cell_type": "code",
      "source": [
        "imshow(\n",
        "    act_patch_block_every,\n",
        "    x=labels,\n",
        "    facet_col=0, # This argument tells plotly which dimension to split into separate plots\n",
        "    facet_labels=[\"Residual Stream\", \"Attn Output\", \"MLP Output\"], # Subtitles of separate plots\n",
        "    title=\"Logit Difference From Patched Attn Head Output\",\n",
        "    labels={\"x\": \"Sequence Position\", \"y\": \"Layer\"},\n",
        "    width=1000,\n",
        ")"
      ],
      "metadata": {
        "id": "Wqgng-57zeM9",
        "colab": {
          "base_uri": "https://localhost:8080/",
          "height": 542
        },
        "outputId": "859952df-a914-4e02-86ac-7102e31e07da"
      },
      "execution_count": 68,
      "outputs": [
        {
          "output_type": "display_data",
          "data": {
            "text/html": [
              "<html>\n",
              "<head><meta charset=\"utf-8\" /></head>\n",
              "<body>\n",
              "    <div>            <script src=\"https://cdnjs.cloudflare.com/ajax/libs/mathjax/2.7.5/MathJax.js?config=TeX-AMS-MML_SVG\"></script><script type=\"text/javascript\">if (window.MathJax && window.MathJax.Hub && window.MathJax.Hub.Config) {window.MathJax.Hub.Config({SVG: {font: \"STIX-Web\"}});}</script>                <script type=\"text/javascript\">window.PlotlyConfig = {MathJaxConfig: 'local'};</script>\n",
              "        <script charset=\"utf-8\" src=\"https://cdn.plot.ly/plotly-2.24.1.min.js\"></script>                <div id=\"1c37efd5-a78e-4d0d-8dbb-e91b795edb3a\" class=\"plotly-graph-div\" style=\"height:525px; width:1000px;\"></div>            <script type=\"text/javascript\">                                    window.PLOTLYENV=window.PLOTLYENV || {};                                    if (document.getElementById(\"1c37efd5-a78e-4d0d-8dbb-e91b795edb3a\")) {                    Plotly.newPlot(                        \"1c37efd5-a78e-4d0d-8dbb-e91b795edb3a\",                        [{\"coloraxis\":\"coloraxis\",\"name\":\"0\",\"x\":[\"\\u003c|endoftext|\\u003e 0\",\"When 1\",\" John 2\",\" and 3\",\" Mary 4\",\" went 5\",\" to 6\",\" the 7\",\" shops 8\",\", 9\",\" John 10\",\" gave 11\",\" the 12\",\" bag 13\",\" to 14\"],\"z\":[[0.0,0.0,0.0,0.0,0.0,0.0,0.0,0.0,0.0,0.0,1.0,0.0,0.0,0.0,0.0],[0.0,0.0,0.0,0.0,0.0,0.0,0.0,0.0,0.0,0.0,1.0006505250930786,-0.0002470182371325791,8.826874363876414e-06,-0.00036458682734519243,-4.836321386392228e-05],[0.0,0.0,0.0,0.0,0.0,0.0,0.0,0.0,0.0,0.0,1.0010522603988647,-2.705118095036596e-05,-2.0439416402950883e-05,-0.0004594337660819292,-0.0005942197749391198],[0.0,0.0,0.0,0.0,0.0,0.0,0.0,0.0,0.0,0.0,1.000266671180725,0.0008678193553350866,0.0005162211018614471,-0.0009935771813616157,-0.0008656042045913637],[0.0,0.0,0.0,0.0,0.0,0.0,0.0,0.0,0.0,0.0,0.994908332824707,0.00542919896543026,0.0016054506413638592,-0.0006179818883538246,-0.0016326360637322068],[0.0,0.0,0.0,0.0,0.0,0.0,0.0,0.0,0.0,0.0,0.9675663709640503,0.03134198114275932,0.002841347362846136,-0.001230493071489036,-0.000986361294053495],[0.0,0.0,0.0,0.0,0.0,0.0,0.0,0.0,0.0,0.0,0.9675210118293762,0.031000619754195213,0.0017823238158598542,-0.0004857465683016926,-0.0006470467778854072],[0.0,0.0,0.0,0.0,0.0,0.0,0.0,0.0,0.0,0.0,0.9228323101997375,0.051345791667699814,0.004729157313704491,0.0009343732963316143,0.01704670861363411],[0.0,0.0,0.0,0.0,0.0,0.0,0.0,0.0,0.0,0.0,0.6565485000610352,0.023856624960899353,0.00235744658857584,-1.7284563000430353e-05,0.31869134306907654],[0.0,0.0,0.0,0.0,0.0,0.0,0.0,0.0,0.0,0.0,0.02730138786137104,0.03142477944493294,0.0018205175874754786,0.0007990838494151831,0.9383877515792847],[0.0,0.0,0.0,0.0,0.0,0.0,0.0,0.0,0.0,0.0,-0.0268423892557621,0.020981144160032272,0.001251167501322925,0.00032354018185287714,1.004828691482544],[0.0,0.0,0.0,0.0,0.0,0.0,0.0,0.0,0.0,0.0,-0.005688433535397053,0.014263389632105827,0.00048685414367355406,-9.028247586684301e-05,0.9914223551750183]],\"type\":\"heatmap\",\"xaxis\":\"x\",\"yaxis\":\"y\",\"hovertemplate\":\"Sequence Position: %{x}\\u003cbr\\u003eLayer: %{y}\\u003cbr\\u003ecolor: %{z}\\u003cextra\\u003e\\u003c\\u002fextra\\u003e\"},{\"coloraxis\":\"coloraxis\",\"name\":\"1\",\"x\":[\"\\u003c|endoftext|\\u003e 0\",\"When 1\",\" John 2\",\" and 3\",\" Mary 4\",\" went 5\",\" to 6\",\" the 7\",\" shops 8\",\", 9\",\" John 10\",\" gave 11\",\" the 12\",\" bag 13\",\" to 14\"],\"z\":[[0.0,0.0,0.0,0.0,0.0,0.0,0.0,0.0,0.0,0.0,0.03545694798231125,-0.0002470182371325791,8.826874363876414e-06,-0.00036458682734519243,-4.836321386392228e-05],[0.0,0.0,0.0,0.0,0.0,0.0,0.0,0.0,0.0,0.0,-0.0029833829030394554,7.937474583741277e-05,2.077503813779913e-05,8.018023800104856e-05,-0.0005962335271760821],[0.0,0.0,0.0,0.0,0.0,0.0,0.0,0.0,0.0,0.0,-0.0019128473941236734,0.0006665800465270877,0.0003947928489651531,-0.0007048409897834063,-0.00027316322666592896],[0.0,0.0,0.0,0.0,0.0,0.0,0.0,0.0,0.0,0.0,0.1546313315629959,0.00380196631886065,0.0005170937511138618,-0.00012005220196442679,-0.0005610267398878932],[0.0,0.0,0.0,0.0,0.0,0.0,0.0,0.0,0.0,0.0,-0.005406309384852648,0.019581597298383713,0.0010075054597109556,-0.00024292363377753645,0.0007940830546431243],[0.0,0.0,0.0,0.0,0.0,0.0,0.0,0.0,0.0,0.0,0.35209742188453674,0.0010528815910220146,0.0002243972703581676,0.0001329401129623875,8.25295937829651e-05],[0.0,0.0,0.0,0.0,0.0,0.0,0.0,0.0,0.0,0.0,0.11986066401004791,0.021244272589683533,0.002728242427110672,0.001341248513199389,0.017973294481635094],[0.0,0.0,0.0,0.0,0.0,0.0,0.0,0.0,0.0,0.0,0.013310959562659264,0.011509169824421406,0.00037462194450199604,-4.1046641854336485e-05,0.2976023256778717],[0.0,0.0,0.0,0.0,0.0,0.0,0.0,0.0,0.0,0.0,-0.0015005015302449465,0.01735222525894642,0.0005842853570356965,0.0010112980380654335,0.5697327256202698],[0.0,0.0,0.0,0.0,0.0,0.0,0.0,0.0,0.0,0.0,-0.00012871126818936318,0.006301079411059618,0.00014146491594146937,0.00031243107514455914,0.27152323722839355],[0.0,0.0,0.0,0.0,0.0,0.0,0.0,0.0,0.0,0.0,-0.0009372261120006442,8.669131784699857e-05,0.0003318971721455455,1.3089280628264532e-06,-0.1929788589477539],[0.0,0.0,0.0,0.0,0.0,0.0,0.0,0.0,0.0,0.0,0.0,0.0,0.0,0.0,-0.4061790108680725]],\"type\":\"heatmap\",\"xaxis\":\"x2\",\"yaxis\":\"y2\",\"hovertemplate\":\"Sequence Position: %{x}\\u003cbr\\u003eLayer: %{y}\\u003cbr\\u003ecolor: %{z}\\u003cextra\\u003e\\u003c\\u002fextra\\u003e\"},{\"coloraxis\":\"coloraxis\",\"name\":\"2\",\"x\":[\"\\u003c|endoftext|\\u003e 0\",\"When 1\",\" John 2\",\" and 3\",\" Mary 4\",\" went 5\",\" to 6\",\" the 7\",\" shops 8\",\", 9\",\" John 10\",\" gave 11\",\" the 12\",\" bag 13\",\" to 14\"],\"z\":[[0.0,0.0,0.0,0.0,0.0,0.0,0.0,0.0,0.0,0.0,0.8507898449897766,-0.0002782311348710209,-7.326641207328066e-05,-0.00047306003398261964,3.990552795585245e-05],[0.0,0.0,0.0,0.0,0.0,0.0,0.0,0.0,0.0,0.0,0.008864598348736763,0.00022141022782307118,0.00014985549205448478,-4.8698839236749336e-05,0.00030367131694220006],[0.0,0.0,0.0,0.0,0.0,0.0,0.0,0.0,0.0,0.0,0.013550259172916412,5.8230518334312364e-05,-0.00033008481841534376,-0.000639058998785913,0.0007726032054051757],[0.0,0.0,0.0,0.0,0.0,0.0,0.0,0.0,0.0,0.0,0.001947013777680695,0.0004985673585906625,0.00017274494166485965,0.00016848254017531872,0.0004077478952240199],[0.0,0.0,0.0,0.0,0.0,0.0,0.0,0.0,0.0,0.0,-0.019786864519119263,0.004128795582801104,-4.856459054281004e-05,-0.00017016065248753875,0.0007912974106147885],[0.0,0.0,0.0,0.0,0.0,0.0,0.0,0.0,0.0,0.0,0.09652556478977203,-0.0018826413433998823,-0.00048390065785497427,0.000709841784555465,-0.00018368625023867935],[0.0,0.0,0.0,0.0,0.0,0.0,0.0,0.0,0.0,0.0,-0.0158994160592556,-0.0008503334247507155,0.00012381117267068475,2.839367152773775e-05,-0.007237466052174568],[0.0,0.0,0.0,0.0,0.0,0.0,0.0,0.0,0.0,0.0,0.010361173190176487,0.00315119419246912,0.0005309549160301685,0.00023530499311164021,0.008496521040797234],[0.0,0.0,0.0,0.0,0.0,0.0,0.0,0.0,0.0,0.0,-0.012533187866210938,2.211752871517092e-05,-0.00035418252809904516,8.618787978775799e-05,-0.021631211042404175],[0.0,0.0,0.0,0.0,0.0,0.0,0.0,0.0,0.0,0.0,-0.00033464928856119514,0.0008097230456769466,1.6076322935987264e-05,0.00012931539095006883,0.031624507158994675],[0.0,0.0,0.0,0.0,0.0,0.0,0.0,0.0,0.0,0.0,0.0013596407370641828,-0.00019486247038003057,-9.924360347213224e-05,-0.00014166629989631474,0.02876419946551323],[0.0,0.0,0.0,0.0,0.0,0.0,0.0,0.0,0.0,0.0,0.0,0.0,0.0,0.0,0.020449014380574226]],\"type\":\"heatmap\",\"xaxis\":\"x3\",\"yaxis\":\"y3\",\"hovertemplate\":\"Sequence Position: %{x}\\u003cbr\\u003eLayer: %{y}\\u003cbr\\u003ecolor: %{z}\\u003cextra\\u003e\\u003c\\u002fextra\\u003e\"}],                        {\"template\":{\"data\":{\"histogram2dcontour\":[{\"type\":\"histogram2dcontour\",\"colorbar\":{\"outlinewidth\":0,\"ticks\":\"\"},\"colorscale\":[[0.0,\"#0d0887\"],[0.1111111111111111,\"#46039f\"],[0.2222222222222222,\"#7201a8\"],[0.3333333333333333,\"#9c179e\"],[0.4444444444444444,\"#bd3786\"],[0.5555555555555556,\"#d8576b\"],[0.6666666666666666,\"#ed7953\"],[0.7777777777777778,\"#fb9f3a\"],[0.8888888888888888,\"#fdca26\"],[1.0,\"#f0f921\"]]}],\"choropleth\":[{\"type\":\"choropleth\",\"colorbar\":{\"outlinewidth\":0,\"ticks\":\"\"}}],\"histogram2d\":[{\"type\":\"histogram2d\",\"colorbar\":{\"outlinewidth\":0,\"ticks\":\"\"},\"colorscale\":[[0.0,\"#0d0887\"],[0.1111111111111111,\"#46039f\"],[0.2222222222222222,\"#7201a8\"],[0.3333333333333333,\"#9c179e\"],[0.4444444444444444,\"#bd3786\"],[0.5555555555555556,\"#d8576b\"],[0.6666666666666666,\"#ed7953\"],[0.7777777777777778,\"#fb9f3a\"],[0.8888888888888888,\"#fdca26\"],[1.0,\"#f0f921\"]]}],\"heatmap\":[{\"type\":\"heatmap\",\"colorbar\":{\"outlinewidth\":0,\"ticks\":\"\"},\"colorscale\":[[0.0,\"#0d0887\"],[0.1111111111111111,\"#46039f\"],[0.2222222222222222,\"#7201a8\"],[0.3333333333333333,\"#9c179e\"],[0.4444444444444444,\"#bd3786\"],[0.5555555555555556,\"#d8576b\"],[0.6666666666666666,\"#ed7953\"],[0.7777777777777778,\"#fb9f3a\"],[0.8888888888888888,\"#fdca26\"],[1.0,\"#f0f921\"]]}],\"heatmapgl\":[{\"type\":\"heatmapgl\",\"colorbar\":{\"outlinewidth\":0,\"ticks\":\"\"},\"colorscale\":[[0.0,\"#0d0887\"],[0.1111111111111111,\"#46039f\"],[0.2222222222222222,\"#7201a8\"],[0.3333333333333333,\"#9c179e\"],[0.4444444444444444,\"#bd3786\"],[0.5555555555555556,\"#d8576b\"],[0.6666666666666666,\"#ed7953\"],[0.7777777777777778,\"#fb9f3a\"],[0.8888888888888888,\"#fdca26\"],[1.0,\"#f0f921\"]]}],\"contourcarpet\":[{\"type\":\"contourcarpet\",\"colorbar\":{\"outlinewidth\":0,\"ticks\":\"\"}}],\"contour\":[{\"type\":\"contour\",\"colorbar\":{\"outlinewidth\":0,\"ticks\":\"\"},\"colorscale\":[[0.0,\"#0d0887\"],[0.1111111111111111,\"#46039f\"],[0.2222222222222222,\"#7201a8\"],[0.3333333333333333,\"#9c179e\"],[0.4444444444444444,\"#bd3786\"],[0.5555555555555556,\"#d8576b\"],[0.6666666666666666,\"#ed7953\"],[0.7777777777777778,\"#fb9f3a\"],[0.8888888888888888,\"#fdca26\"],[1.0,\"#f0f921\"]]}],\"surface\":[{\"type\":\"surface\",\"colorbar\":{\"outlinewidth\":0,\"ticks\":\"\"},\"colorscale\":[[0.0,\"#0d0887\"],[0.1111111111111111,\"#46039f\"],[0.2222222222222222,\"#7201a8\"],[0.3333333333333333,\"#9c179e\"],[0.4444444444444444,\"#bd3786\"],[0.5555555555555556,\"#d8576b\"],[0.6666666666666666,\"#ed7953\"],[0.7777777777777778,\"#fb9f3a\"],[0.8888888888888888,\"#fdca26\"],[1.0,\"#f0f921\"]]}],\"mesh3d\":[{\"type\":\"mesh3d\",\"colorbar\":{\"outlinewidth\":0,\"ticks\":\"\"}}],\"scatter\":[{\"fillpattern\":{\"fillmode\":\"overlay\",\"size\":10,\"solidity\":0.2},\"type\":\"scatter\"}],\"parcoords\":[{\"type\":\"parcoords\",\"line\":{\"colorbar\":{\"outlinewidth\":0,\"ticks\":\"\"}}}],\"scatterpolargl\":[{\"type\":\"scatterpolargl\",\"marker\":{\"colorbar\":{\"outlinewidth\":0,\"ticks\":\"\"}}}],\"bar\":[{\"error_x\":{\"color\":\"#2a3f5f\"},\"error_y\":{\"color\":\"#2a3f5f\"},\"marker\":{\"line\":{\"color\":\"#E5ECF6\",\"width\":0.5},\"pattern\":{\"fillmode\":\"overlay\",\"size\":10,\"solidity\":0.2}},\"type\":\"bar\"}],\"scattergeo\":[{\"type\":\"scattergeo\",\"marker\":{\"colorbar\":{\"outlinewidth\":0,\"ticks\":\"\"}}}],\"scatterpolar\":[{\"type\":\"scatterpolar\",\"marker\":{\"colorbar\":{\"outlinewidth\":0,\"ticks\":\"\"}}}],\"histogram\":[{\"marker\":{\"pattern\":{\"fillmode\":\"overlay\",\"size\":10,\"solidity\":0.2}},\"type\":\"histogram\"}],\"scattergl\":[{\"type\":\"scattergl\",\"marker\":{\"colorbar\":{\"outlinewidth\":0,\"ticks\":\"\"}}}],\"scatter3d\":[{\"type\":\"scatter3d\",\"line\":{\"colorbar\":{\"outlinewidth\":0,\"ticks\":\"\"}},\"marker\":{\"colorbar\":{\"outlinewidth\":0,\"ticks\":\"\"}}}],\"scattermapbox\":[{\"type\":\"scattermapbox\",\"marker\":{\"colorbar\":{\"outlinewidth\":0,\"ticks\":\"\"}}}],\"scatterternary\":[{\"type\":\"scatterternary\",\"marker\":{\"colorbar\":{\"outlinewidth\":0,\"ticks\":\"\"}}}],\"scattercarpet\":[{\"type\":\"scattercarpet\",\"marker\":{\"colorbar\":{\"outlinewidth\":0,\"ticks\":\"\"}}}],\"carpet\":[{\"aaxis\":{\"endlinecolor\":\"#2a3f5f\",\"gridcolor\":\"white\",\"linecolor\":\"white\",\"minorgridcolor\":\"white\",\"startlinecolor\":\"#2a3f5f\"},\"baxis\":{\"endlinecolor\":\"#2a3f5f\",\"gridcolor\":\"white\",\"linecolor\":\"white\",\"minorgridcolor\":\"white\",\"startlinecolor\":\"#2a3f5f\"},\"type\":\"carpet\"}],\"table\":[{\"cells\":{\"fill\":{\"color\":\"#EBF0F8\"},\"line\":{\"color\":\"white\"}},\"header\":{\"fill\":{\"color\":\"#C8D4E3\"},\"line\":{\"color\":\"white\"}},\"type\":\"table\"}],\"barpolar\":[{\"marker\":{\"line\":{\"color\":\"#E5ECF6\",\"width\":0.5},\"pattern\":{\"fillmode\":\"overlay\",\"size\":10,\"solidity\":0.2}},\"type\":\"barpolar\"}],\"pie\":[{\"automargin\":true,\"type\":\"pie\"}]},\"layout\":{\"autotypenumbers\":\"strict\",\"colorway\":[\"#636efa\",\"#EF553B\",\"#00cc96\",\"#ab63fa\",\"#FFA15A\",\"#19d3f3\",\"#FF6692\",\"#B6E880\",\"#FF97FF\",\"#FECB52\"],\"font\":{\"color\":\"#2a3f5f\"},\"hovermode\":\"closest\",\"hoverlabel\":{\"align\":\"left\"},\"paper_bgcolor\":\"white\",\"plot_bgcolor\":\"#E5ECF6\",\"polar\":{\"bgcolor\":\"#E5ECF6\",\"angularaxis\":{\"gridcolor\":\"white\",\"linecolor\":\"white\",\"ticks\":\"\"},\"radialaxis\":{\"gridcolor\":\"white\",\"linecolor\":\"white\",\"ticks\":\"\"}},\"ternary\":{\"bgcolor\":\"#E5ECF6\",\"aaxis\":{\"gridcolor\":\"white\",\"linecolor\":\"white\",\"ticks\":\"\"},\"baxis\":{\"gridcolor\":\"white\",\"linecolor\":\"white\",\"ticks\":\"\"},\"caxis\":{\"gridcolor\":\"white\",\"linecolor\":\"white\",\"ticks\":\"\"}},\"coloraxis\":{\"colorbar\":{\"outlinewidth\":0,\"ticks\":\"\"}},\"colorscale\":{\"sequential\":[[0.0,\"#0d0887\"],[0.1111111111111111,\"#46039f\"],[0.2222222222222222,\"#7201a8\"],[0.3333333333333333,\"#9c179e\"],[0.4444444444444444,\"#bd3786\"],[0.5555555555555556,\"#d8576b\"],[0.6666666666666666,\"#ed7953\"],[0.7777777777777778,\"#fb9f3a\"],[0.8888888888888888,\"#fdca26\"],[1.0,\"#f0f921\"]],\"sequentialminus\":[[0.0,\"#0d0887\"],[0.1111111111111111,\"#46039f\"],[0.2222222222222222,\"#7201a8\"],[0.3333333333333333,\"#9c179e\"],[0.4444444444444444,\"#bd3786\"],[0.5555555555555556,\"#d8576b\"],[0.6666666666666666,\"#ed7953\"],[0.7777777777777778,\"#fb9f3a\"],[0.8888888888888888,\"#fdca26\"],[1.0,\"#f0f921\"]],\"diverging\":[[0,\"#8e0152\"],[0.1,\"#c51b7d\"],[0.2,\"#de77ae\"],[0.3,\"#f1b6da\"],[0.4,\"#fde0ef\"],[0.5,\"#f7f7f7\"],[0.6,\"#e6f5d0\"],[0.7,\"#b8e186\"],[0.8,\"#7fbc41\"],[0.9,\"#4d9221\"],[1,\"#276419\"]]},\"xaxis\":{\"gridcolor\":\"white\",\"linecolor\":\"white\",\"ticks\":\"\",\"title\":{\"standoff\":15},\"zerolinecolor\":\"white\",\"automargin\":true,\"zerolinewidth\":2},\"yaxis\":{\"gridcolor\":\"white\",\"linecolor\":\"white\",\"ticks\":\"\",\"title\":{\"standoff\":15},\"zerolinecolor\":\"white\",\"automargin\":true,\"zerolinewidth\":2},\"scene\":{\"xaxis\":{\"backgroundcolor\":\"#E5ECF6\",\"gridcolor\":\"white\",\"linecolor\":\"white\",\"showbackground\":true,\"ticks\":\"\",\"zerolinecolor\":\"white\",\"gridwidth\":2},\"yaxis\":{\"backgroundcolor\":\"#E5ECF6\",\"gridcolor\":\"white\",\"linecolor\":\"white\",\"showbackground\":true,\"ticks\":\"\",\"zerolinecolor\":\"white\",\"gridwidth\":2},\"zaxis\":{\"backgroundcolor\":\"#E5ECF6\",\"gridcolor\":\"white\",\"linecolor\":\"white\",\"showbackground\":true,\"ticks\":\"\",\"zerolinecolor\":\"white\",\"gridwidth\":2}},\"shapedefaults\":{\"line\":{\"color\":\"#2a3f5f\"}},\"annotationdefaults\":{\"arrowcolor\":\"#2a3f5f\",\"arrowhead\":0,\"arrowwidth\":1},\"geo\":{\"bgcolor\":\"white\",\"landcolor\":\"#E5ECF6\",\"subunitcolor\":\"white\",\"showland\":true,\"showlakes\":true,\"lakecolor\":\"white\"},\"title\":{\"x\":0.05},\"mapbox\":{\"style\":\"light\"}}},\"xaxis\":{\"anchor\":\"y\",\"domain\":[0.0,0.31999999999999995],\"scaleanchor\":\"y\",\"constrain\":\"domain\",\"title\":{\"text\":\"Sequence Position\"}},\"yaxis\":{\"anchor\":\"x\",\"domain\":[0.0,1.0],\"autorange\":\"reversed\",\"constrain\":\"domain\",\"title\":{\"text\":\"Layer\"}},\"xaxis2\":{\"anchor\":\"y2\",\"domain\":[0.33999999999999997,0.6599999999999999],\"matches\":\"x\",\"title\":{\"text\":\"Sequence Position\"}},\"yaxis2\":{\"anchor\":\"x2\",\"domain\":[0.0,1.0],\"matches\":\"y\",\"showticklabels\":false},\"xaxis3\":{\"anchor\":\"y3\",\"domain\":[0.6799999999999999,0.9999999999999999],\"matches\":\"x\",\"title\":{\"text\":\"Sequence Position\"}},\"yaxis3\":{\"anchor\":\"x3\",\"domain\":[0.0,1.0],\"matches\":\"y\",\"showticklabels\":false},\"annotations\":[{\"font\":{},\"showarrow\":false,\"text\":\"Residual Stream\",\"x\":0.15999999999999998,\"xanchor\":\"center\",\"xref\":\"paper\",\"y\":1.0,\"yanchor\":\"bottom\",\"yref\":\"paper\"},{\"font\":{},\"showarrow\":false,\"text\":\"Attn Output\",\"x\":0.49999999999999994,\"xanchor\":\"center\",\"xref\":\"paper\",\"y\":1.0,\"yanchor\":\"bottom\",\"yref\":\"paper\"},{\"font\":{},\"showarrow\":false,\"text\":\"MLP Output\",\"x\":0.8399999999999999,\"xanchor\":\"center\",\"xref\":\"paper\",\"y\":1.0,\"yanchor\":\"bottom\",\"yref\":\"paper\"}],\"coloraxis\":{\"colorscale\":[[0.0,\"rgb(103,0,31)\"],[0.1,\"rgb(178,24,43)\"],[0.2,\"rgb(214,96,77)\"],[0.3,\"rgb(244,165,130)\"],[0.4,\"rgb(253,219,199)\"],[0.5,\"rgb(247,247,247)\"],[0.6,\"rgb(209,229,240)\"],[0.7,\"rgb(146,197,222)\"],[0.8,\"rgb(67,147,195)\"],[0.9,\"rgb(33,102,172)\"],[1.0,\"rgb(5,48,97)\"]],\"cmid\":0.0},\"title\":{\"text\":\"Logit Difference From Patched Attn Head Output\"},\"width\":1000},                        {\"staticPlot\": false, \"responsive\": true}                    ).then(function(){\n",
              "                            \n",
              "var gd = document.getElementById('1c37efd5-a78e-4d0d-8dbb-e91b795edb3a');\n",
              "var x = new MutationObserver(function (mutations, observer) {{\n",
              "        var display = window.getComputedStyle(gd).display;\n",
              "        if (!display || display === 'none') {{\n",
              "            console.log([gd, 'removed!']);\n",
              "            Plotly.purge(gd);\n",
              "            observer.disconnect();\n",
              "        }}\n",
              "}});\n",
              "\n",
              "// Listen for the removal of the full notebook cells\n",
              "var notebookContainer = gd.closest('#notebook-container');\n",
              "if (notebookContainer) {{\n",
              "    x.observe(notebookContainer, {childList: true});\n",
              "}}\n",
              "\n",
              "// Listen for the clearing of the current output cell\n",
              "var outputEl = gd.closest('.output');\n",
              "if (outputEl) {{\n",
              "    x.observe(outputEl, {childList: true});\n",
              "}}\n",
              "\n",
              "                        })                };                            </script>        </div>\n",
              "</body>\n",
              "</html>"
            ]
          },
          "metadata": {}
        }
      ]
    },
    {
      "cell_type": "markdown",
      "metadata": {
        "id": "-ibpjHZil6mO"
      },
      "source": [
        "<details>\n",
        "<summary>What is the interpretation of the second two plots?</summary>\n",
        "\n",
        "We see that several attention layers are significant but that, matching the residual stream results, early layers matter on `S2`, and later layers matter on `END`, and layers essentially don't matter on any other token. Extremely localised!\n",
        "\n",
        "As with direct logit attribution, layer 9 is positive and layers 10 and 11 are not, suggesting that the late layers only matter for direct logit effects, but we also see that layers 7 and 8 matter significantly. Presumably these are the heads that move information about which name is duplicated from `S2` to `END`.\n",
        "\n",
        "In contrast, the MLP layers do not matter much. This makes sense, since this is more a task about moving information than about processing it, and the MLP layers specialise in processing information. The one exception is MLP 0, which matters a lot, but I think this is misleading and just a generally true statement about MLP 0 rather than being about the circuit on this task.\n",
        "\n",
        "<details> <summary>My takes on MLP0</summary>\n",
        "\n",
        "It's often observed on GPT-2 Small that MLP0 matters a lot, and that ablating it utterly destroys performance. My current best guess is that the first MLP layer is essentially acting as an extension of the embedding (for whatever reason) and that when later layers want to access the input tokens they mostly read in the output of the first MLP layer, rather than the token embeddings. Within this frame, the first attention layer doesn't do much.\n",
        "\n",
        "In this framing, it makes sense that MLP0 matters on `S2`, because that's the one position with a different input token!\n",
        "\n",
        "I'm not entirely sure why this happens, but I would guess that it's because the embedding and unembedding matrices in GPT-2 Small are the same. This is pretty unprincipled, as the tasks of embedding and unembedding tokens are <i>not</i> inverses, but this is common practice, and plausibly models want to dedicate some parameters to overcoming this.\n",
        "\n",
        "I only have suggestive evidence of this, and would love to see someone look into this properly!\n",
        "</details>\n",
        "</details>\n"
      ]
    },
    {
      "cell_type": "markdown",
      "metadata": {
        "id": "kc1vkXDvl6mO"
      },
      "source": [
        "### Exercise (optional) - implement head-to-block patching\n",
        "\n",
        "```c\n",
        "Difficulty: 🔴🔴⚪⚪⚪\n",
        "Importance: 🔵🔵⚪⚪⚪\n",
        "\n",
        "You should spend up to ~10 minutes on this exercise.\n",
        "\n",
        "Most code can be copied from the last exercise.\n",
        "```\n",
        "\n",
        "If you want, you can implement the `get_act_patch_resid_pre` function for fun, although it's similar enough to the previous exercise that doing this isn't compulsory.\n"
      ]
    },
    {
      "cell_type": "code",
      "execution_count": 69,
      "metadata": {
        "id": "CuvKkpezd2-D"
      },
      "outputs": [],
      "source": [
        "def get_act_patch_block_every(\n",
        "    model: HookedTransformer,\n",
        "    corrupted_tokens: Float[Tensor, \"batch pos\"],\n",
        "    clean_cache: ActivationCache,\n",
        "    patching_metric: Callable[[Float[Tensor, \"batch pos d_vocab\"]], float]\n",
        ") -> Float[Tensor, \"layer pos\"]:\n",
        "    '''\n",
        "    Returns an array of results of patching each position at each layer in the residual\n",
        "    stream, using the value from the clean cache.\n",
        "\n",
        "    The results are calculated using the patching_metric function, which should be\n",
        "    called on the model's logit output.\n",
        "    '''\n",
        "    # TODO: edit this below\n",
        "    model.reset_hooks()\n",
        "\n",
        "    out = t.zeros((model.cfg.n_layers, corrupted_tokens.shape[-1])).to(device)\n",
        "    for layer in range(model.cfg.n_layers):\n",
        "        for pos in range(corrupted_tokens.shape[-1]):\n",
        "            hook_fn = lambda corr_resid, hook: patch_residual_component(corr_resid, hook, pos, clean_cache)\n",
        "            layer_out = model.run_with_hooks(corrupted_tokens, fwd_hooks = [\n",
        "                (utils.get_act_name(\"resid_pre\", layer), hook_fn) #I should remember the prompts for hook activation names lol\n",
        "            ])\n",
        "            out[layer, pos] = patching_metric(layer_out)\n",
        "    return out"
      ]
    },
    {
      "cell_type": "code",
      "execution_count": null,
      "metadata": {
        "id": "Fa0OHcqhl6mO"
      },
      "outputs": [],
      "source": [
        "act_patch_block_every_own = get_act_patch_block_every(model, corrupted_tokens, clean_cache, ioi_metric)\n",
        "\n",
        "t.testing.assert_close(act_patch_block_every, act_patch_block_every_own)"
      ]
    },
    {
      "cell_type": "code",
      "source": [
        "imshow(\n",
        "    act_patch_block_every_own,\n",
        "    x=labels,\n",
        "    facet_col=0,\n",
        "    facet_labels=[\"Residual Stream\", \"Attn Output\", \"MLP Output\"],\n",
        "    title=\"Logit Difference From Patched Attn Head Output\",\n",
        "    labels={\"x\": \"Sequence Position\", \"y\": \"Layer\"},\n",
        "    width=1000\n",
        ")"
      ],
      "metadata": {
        "id": "9Y5tzF_ezbIi"
      },
      "execution_count": null,
      "outputs": []
    },
    {
      "cell_type": "markdown",
      "metadata": {
        "id": "kwY0twQgl6mP"
      },
      "source": [
        "## Head Patching\n"
      ]
    },
    {
      "cell_type": "markdown",
      "metadata": {
        "id": "uV0XcpsHl6mP"
      },
      "source": [
        "We can refine the above analysis by patching in individual heads! This is somewhat more annoying, because there are now three dimensions `(head_index, position and layer)`.\n",
        "\n",
        "The code below patches a head's output over all sequence positions, and returns the results (for each head in the model).\n"
      ]
    },
    {
      "cell_type": "code",
      "execution_count": 70,
      "metadata": {
        "id": "o-st8Eo90cti",
        "colab": {
          "base_uri": "https://localhost:8080/",
          "height": 49,
          "referenced_widgets": [
            "61ff67de31dc46b48e42d9faffdc0c43",
            "0232b1860fff4999b249230bcf0752af",
            "78d1d4b964c04ec7a1085ec2955a9927",
            "e89757ca18e4484d998b7c86d41d16e8",
            "2eeba75f0ee3495b848216718c93151b",
            "5fe14a369f374eefb559d8ef4d5181c1",
            "4fd9ac519c844387960ddc359cb804a4",
            "45dfbc1e1e7242d38e5742c1fa6b5963",
            "47f3efbce96747d7808cdc5f7c793a13",
            "7c42d86085704584bef01bde45b4dc95",
            "af45f601f70147a2ada5bb57061e8433"
          ]
        },
        "outputId": "3bc8e0f5-a1c9-444e-cd3d-1b8bb61a86c7"
      },
      "outputs": [
        {
          "output_type": "display_data",
          "data": {
            "text/plain": [
              "  0%|          | 0/144 [00:00<?, ?it/s]"
            ],
            "application/vnd.jupyter.widget-view+json": {
              "version_major": 2,
              "version_minor": 0,
              "model_id": "61ff67de31dc46b48e42d9faffdc0c43"
            }
          },
          "metadata": {}
        }
      ],
      "source": [
        "act_patch_attn_head_out_all_pos = patching.get_act_patch_attn_head_out_all_pos(\n",
        "    model,\n",
        "    corrupted_tokens,\n",
        "    clean_cache,\n",
        "    ioi_metric\n",
        ")"
      ]
    },
    {
      "cell_type": "code",
      "source": [
        "imshow(\n",
        "    act_patch_attn_head_out_all_pos,\n",
        "    labels={\"y\": \"Layer\", \"x\": \"Head\"},\n",
        "    title=\"attn_head_out Activation Patching (All Pos)\",\n",
        "    width=600\n",
        ")"
      ],
      "metadata": {
        "id": "umQ-feVzzlei",
        "colab": {
          "base_uri": "https://localhost:8080/",
          "height": 542
        },
        "outputId": "85e226c5-07f5-4645-adde-0f68ce5fbf5f"
      },
      "execution_count": 71,
      "outputs": [
        {
          "output_type": "display_data",
          "data": {
            "text/html": [
              "<html>\n",
              "<head><meta charset=\"utf-8\" /></head>\n",
              "<body>\n",
              "    <div>            <script src=\"https://cdnjs.cloudflare.com/ajax/libs/mathjax/2.7.5/MathJax.js?config=TeX-AMS-MML_SVG\"></script><script type=\"text/javascript\">if (window.MathJax && window.MathJax.Hub && window.MathJax.Hub.Config) {window.MathJax.Hub.Config({SVG: {font: \"STIX-Web\"}});}</script>                <script type=\"text/javascript\">window.PlotlyConfig = {MathJaxConfig: 'local'};</script>\n",
              "        <script charset=\"utf-8\" src=\"https://cdn.plot.ly/plotly-2.24.1.min.js\"></script>                <div id=\"a666ee58-d810-425b-b7a7-ae691c0447fb\" class=\"plotly-graph-div\" style=\"height:525px; width:600px;\"></div>            <script type=\"text/javascript\">                                    window.PLOTLYENV=window.PLOTLYENV || {};                                    if (document.getElementById(\"a666ee58-d810-425b-b7a7-ae691c0447fb\")) {                    Plotly.newPlot(                        \"a666ee58-d810-425b-b7a7-ae691c0447fb\",                        [{\"coloraxis\":\"coloraxis\",\"name\":\"0\",\"z\":[[0.000949207809753716,0.016124147921800613,0.0018557580187916756,0.0034391582012176514,-0.009823303669691086,0.011059905402362347,-0.004063752014189959,-0.0015781645197421312,-0.001207972876727581,0.0038290175143629313,-0.004257204942405224,-0.0011426942655816674],[-0.0010763080790638924,-0.0003782466519623995,2.9870411708543543e-06,-0.0002605438057798892,-0.00014099504915066063,0.0038329106755554676,-0.0004278181295376271,-0.0014291146071627736,-0.0009217203478328884,0.0006938996957615018,0.000433657958637923,-0.0035707224160432816],[-0.0004967550048604608,0.0008065346628427505,0.0005421983078122139,-0.0005315926391631365,-0.0007148425793275237,-0.0010381813626736403,-0.000949207809753716,-8.56508850120008e-05,0.000277291372185573,0.0021077434066683054,-0.00019724540470633656,-0.0016404225025326014],[0.1162620484828949,0.0002499716938473284,-0.001467308378778398,-0.00039714222657494247,0.01896190457046032,-0.00018898908456321806,0.011170560494065285,-0.0013303072191774845,-0.0007360203308053315,-0.00030310076544992626,-0.00014589514466933906,-0.00022258490207605064],[-0.0016502898652106524,0.0002923272841144353,-0.0014357599429786205,0.030842004343867302,-0.007431388832628727,-0.0002822586102411151,0.006017008330672979,-0.011006776243448257,-0.0012652300065383315,0.001489526592195034,-0.0001801286416593939,0.002944786101579666],[-0.004210888873785734,0.0029607617761939764,0.002045720349997282,0.0013413828564807773,-0.0012188134714961052,0.34349918365478516,0.0005628390936180949,-0.00012558996968436986,-0.0051524443551898,0.016241280362010002,0.01709020510315895,-0.00417390326038003],[0.0397755391895771,0.01522696204483509,-0.0010229441104456782,0.0008078099926933646,-0.004935430828481913,-0.0021235847380012274,-0.01427332405000925,0.0013751464430242777,0.0014837539056316018,0.13027188181877136,-0.0003350520273670554,0.0012915764236822724],[0.0003721718967426568,0.019514674320816994,0.00022258490207605064,0.124249666929245,-0.000404123158659786,-0.007651892956346273,0.0013012087438255548,-0.0011247048387303948,-0.007449714001268148,0.19224156439304352,-0.0032755087595432997,-0.0005020578391849995],[-0.0010078410850837827,3.0977964343037456e-05,-0.0008588917553424835,0.012360342778265476,-0.00040445878403261304,-0.0043292962945997715,0.3185548782348633,0.0023296570871025324,0.002117543714120984,0.0001410621771356091,0.27793630957603455,0.005738441366702318],[0.00588974030688405,-0.0009686739067547023,0.009125745855271816,0.020675459876656532,-0.03700457140803337,0.014263255521655083,-0.04828397557139397,0.05834104120731354,0.0006515105487778783,0.2636086642742157,0.0004916535108350217,-0.0026111772749572992],[0.08374236524105072,0.020676130428910255,-0.0037437023129314184,0.010850845836102962,-0.0010961098596453667,0.0004736306145787239,0.0481792613863945,-0.4799131453037262,0.0001839211763581261,0.01186167448759079,0.060884926468133926,0.0008459367672912776],[0.005327941384166479,-0.01149386540055275,-0.11350833624601364,0.006329808384180069,0.00031608936842530966,-0.0011603479506447911,-0.022669393569231033,0.004070329945534468,0.007316069211810827,-0.008345255628228188,-0.27817586064338684,0.003634893335402012]],\"type\":\"heatmap\",\"xaxis\":\"x\",\"yaxis\":\"y\",\"hovertemplate\":\"Head: %{x}\\u003cbr\\u003eLayer: %{y}\\u003cbr\\u003ecolor: %{z}\\u003cextra\\u003e\\u003c\\u002fextra\\u003e\"}],                        {\"template\":{\"data\":{\"histogram2dcontour\":[{\"type\":\"histogram2dcontour\",\"colorbar\":{\"outlinewidth\":0,\"ticks\":\"\"},\"colorscale\":[[0.0,\"#0d0887\"],[0.1111111111111111,\"#46039f\"],[0.2222222222222222,\"#7201a8\"],[0.3333333333333333,\"#9c179e\"],[0.4444444444444444,\"#bd3786\"],[0.5555555555555556,\"#d8576b\"],[0.6666666666666666,\"#ed7953\"],[0.7777777777777778,\"#fb9f3a\"],[0.8888888888888888,\"#fdca26\"],[1.0,\"#f0f921\"]]}],\"choropleth\":[{\"type\":\"choropleth\",\"colorbar\":{\"outlinewidth\":0,\"ticks\":\"\"}}],\"histogram2d\":[{\"type\":\"histogram2d\",\"colorbar\":{\"outlinewidth\":0,\"ticks\":\"\"},\"colorscale\":[[0.0,\"#0d0887\"],[0.1111111111111111,\"#46039f\"],[0.2222222222222222,\"#7201a8\"],[0.3333333333333333,\"#9c179e\"],[0.4444444444444444,\"#bd3786\"],[0.5555555555555556,\"#d8576b\"],[0.6666666666666666,\"#ed7953\"],[0.7777777777777778,\"#fb9f3a\"],[0.8888888888888888,\"#fdca26\"],[1.0,\"#f0f921\"]]}],\"heatmap\":[{\"type\":\"heatmap\",\"colorbar\":{\"outlinewidth\":0,\"ticks\":\"\"},\"colorscale\":[[0.0,\"#0d0887\"],[0.1111111111111111,\"#46039f\"],[0.2222222222222222,\"#7201a8\"],[0.3333333333333333,\"#9c179e\"],[0.4444444444444444,\"#bd3786\"],[0.5555555555555556,\"#d8576b\"],[0.6666666666666666,\"#ed7953\"],[0.7777777777777778,\"#fb9f3a\"],[0.8888888888888888,\"#fdca26\"],[1.0,\"#f0f921\"]]}],\"heatmapgl\":[{\"type\":\"heatmapgl\",\"colorbar\":{\"outlinewidth\":0,\"ticks\":\"\"},\"colorscale\":[[0.0,\"#0d0887\"],[0.1111111111111111,\"#46039f\"],[0.2222222222222222,\"#7201a8\"],[0.3333333333333333,\"#9c179e\"],[0.4444444444444444,\"#bd3786\"],[0.5555555555555556,\"#d8576b\"],[0.6666666666666666,\"#ed7953\"],[0.7777777777777778,\"#fb9f3a\"],[0.8888888888888888,\"#fdca26\"],[1.0,\"#f0f921\"]]}],\"contourcarpet\":[{\"type\":\"contourcarpet\",\"colorbar\":{\"outlinewidth\":0,\"ticks\":\"\"}}],\"contour\":[{\"type\":\"contour\",\"colorbar\":{\"outlinewidth\":0,\"ticks\":\"\"},\"colorscale\":[[0.0,\"#0d0887\"],[0.1111111111111111,\"#46039f\"],[0.2222222222222222,\"#7201a8\"],[0.3333333333333333,\"#9c179e\"],[0.4444444444444444,\"#bd3786\"],[0.5555555555555556,\"#d8576b\"],[0.6666666666666666,\"#ed7953\"],[0.7777777777777778,\"#fb9f3a\"],[0.8888888888888888,\"#fdca26\"],[1.0,\"#f0f921\"]]}],\"surface\":[{\"type\":\"surface\",\"colorbar\":{\"outlinewidth\":0,\"ticks\":\"\"},\"colorscale\":[[0.0,\"#0d0887\"],[0.1111111111111111,\"#46039f\"],[0.2222222222222222,\"#7201a8\"],[0.3333333333333333,\"#9c179e\"],[0.4444444444444444,\"#bd3786\"],[0.5555555555555556,\"#d8576b\"],[0.6666666666666666,\"#ed7953\"],[0.7777777777777778,\"#fb9f3a\"],[0.8888888888888888,\"#fdca26\"],[1.0,\"#f0f921\"]]}],\"mesh3d\":[{\"type\":\"mesh3d\",\"colorbar\":{\"outlinewidth\":0,\"ticks\":\"\"}}],\"scatter\":[{\"fillpattern\":{\"fillmode\":\"overlay\",\"size\":10,\"solidity\":0.2},\"type\":\"scatter\"}],\"parcoords\":[{\"type\":\"parcoords\",\"line\":{\"colorbar\":{\"outlinewidth\":0,\"ticks\":\"\"}}}],\"scatterpolargl\":[{\"type\":\"scatterpolargl\",\"marker\":{\"colorbar\":{\"outlinewidth\":0,\"ticks\":\"\"}}}],\"bar\":[{\"error_x\":{\"color\":\"#2a3f5f\"},\"error_y\":{\"color\":\"#2a3f5f\"},\"marker\":{\"line\":{\"color\":\"#E5ECF6\",\"width\":0.5},\"pattern\":{\"fillmode\":\"overlay\",\"size\":10,\"solidity\":0.2}},\"type\":\"bar\"}],\"scattergeo\":[{\"type\":\"scattergeo\",\"marker\":{\"colorbar\":{\"outlinewidth\":0,\"ticks\":\"\"}}}],\"scatterpolar\":[{\"type\":\"scatterpolar\",\"marker\":{\"colorbar\":{\"outlinewidth\":0,\"ticks\":\"\"}}}],\"histogram\":[{\"marker\":{\"pattern\":{\"fillmode\":\"overlay\",\"size\":10,\"solidity\":0.2}},\"type\":\"histogram\"}],\"scattergl\":[{\"type\":\"scattergl\",\"marker\":{\"colorbar\":{\"outlinewidth\":0,\"ticks\":\"\"}}}],\"scatter3d\":[{\"type\":\"scatter3d\",\"line\":{\"colorbar\":{\"outlinewidth\":0,\"ticks\":\"\"}},\"marker\":{\"colorbar\":{\"outlinewidth\":0,\"ticks\":\"\"}}}],\"scattermapbox\":[{\"type\":\"scattermapbox\",\"marker\":{\"colorbar\":{\"outlinewidth\":0,\"ticks\":\"\"}}}],\"scatterternary\":[{\"type\":\"scatterternary\",\"marker\":{\"colorbar\":{\"outlinewidth\":0,\"ticks\":\"\"}}}],\"scattercarpet\":[{\"type\":\"scattercarpet\",\"marker\":{\"colorbar\":{\"outlinewidth\":0,\"ticks\":\"\"}}}],\"carpet\":[{\"aaxis\":{\"endlinecolor\":\"#2a3f5f\",\"gridcolor\":\"white\",\"linecolor\":\"white\",\"minorgridcolor\":\"white\",\"startlinecolor\":\"#2a3f5f\"},\"baxis\":{\"endlinecolor\":\"#2a3f5f\",\"gridcolor\":\"white\",\"linecolor\":\"white\",\"minorgridcolor\":\"white\",\"startlinecolor\":\"#2a3f5f\"},\"type\":\"carpet\"}],\"table\":[{\"cells\":{\"fill\":{\"color\":\"#EBF0F8\"},\"line\":{\"color\":\"white\"}},\"header\":{\"fill\":{\"color\":\"#C8D4E3\"},\"line\":{\"color\":\"white\"}},\"type\":\"table\"}],\"barpolar\":[{\"marker\":{\"line\":{\"color\":\"#E5ECF6\",\"width\":0.5},\"pattern\":{\"fillmode\":\"overlay\",\"size\":10,\"solidity\":0.2}},\"type\":\"barpolar\"}],\"pie\":[{\"automargin\":true,\"type\":\"pie\"}]},\"layout\":{\"autotypenumbers\":\"strict\",\"colorway\":[\"#636efa\",\"#EF553B\",\"#00cc96\",\"#ab63fa\",\"#FFA15A\",\"#19d3f3\",\"#FF6692\",\"#B6E880\",\"#FF97FF\",\"#FECB52\"],\"font\":{\"color\":\"#2a3f5f\"},\"hovermode\":\"closest\",\"hoverlabel\":{\"align\":\"left\"},\"paper_bgcolor\":\"white\",\"plot_bgcolor\":\"#E5ECF6\",\"polar\":{\"bgcolor\":\"#E5ECF6\",\"angularaxis\":{\"gridcolor\":\"white\",\"linecolor\":\"white\",\"ticks\":\"\"},\"radialaxis\":{\"gridcolor\":\"white\",\"linecolor\":\"white\",\"ticks\":\"\"}},\"ternary\":{\"bgcolor\":\"#E5ECF6\",\"aaxis\":{\"gridcolor\":\"white\",\"linecolor\":\"white\",\"ticks\":\"\"},\"baxis\":{\"gridcolor\":\"white\",\"linecolor\":\"white\",\"ticks\":\"\"},\"caxis\":{\"gridcolor\":\"white\",\"linecolor\":\"white\",\"ticks\":\"\"}},\"coloraxis\":{\"colorbar\":{\"outlinewidth\":0,\"ticks\":\"\"}},\"colorscale\":{\"sequential\":[[0.0,\"#0d0887\"],[0.1111111111111111,\"#46039f\"],[0.2222222222222222,\"#7201a8\"],[0.3333333333333333,\"#9c179e\"],[0.4444444444444444,\"#bd3786\"],[0.5555555555555556,\"#d8576b\"],[0.6666666666666666,\"#ed7953\"],[0.7777777777777778,\"#fb9f3a\"],[0.8888888888888888,\"#fdca26\"],[1.0,\"#f0f921\"]],\"sequentialminus\":[[0.0,\"#0d0887\"],[0.1111111111111111,\"#46039f\"],[0.2222222222222222,\"#7201a8\"],[0.3333333333333333,\"#9c179e\"],[0.4444444444444444,\"#bd3786\"],[0.5555555555555556,\"#d8576b\"],[0.6666666666666666,\"#ed7953\"],[0.7777777777777778,\"#fb9f3a\"],[0.8888888888888888,\"#fdca26\"],[1.0,\"#f0f921\"]],\"diverging\":[[0,\"#8e0152\"],[0.1,\"#c51b7d\"],[0.2,\"#de77ae\"],[0.3,\"#f1b6da\"],[0.4,\"#fde0ef\"],[0.5,\"#f7f7f7\"],[0.6,\"#e6f5d0\"],[0.7,\"#b8e186\"],[0.8,\"#7fbc41\"],[0.9,\"#4d9221\"],[1,\"#276419\"]]},\"xaxis\":{\"gridcolor\":\"white\",\"linecolor\":\"white\",\"ticks\":\"\",\"title\":{\"standoff\":15},\"zerolinecolor\":\"white\",\"automargin\":true,\"zerolinewidth\":2},\"yaxis\":{\"gridcolor\":\"white\",\"linecolor\":\"white\",\"ticks\":\"\",\"title\":{\"standoff\":15},\"zerolinecolor\":\"white\",\"automargin\":true,\"zerolinewidth\":2},\"scene\":{\"xaxis\":{\"backgroundcolor\":\"#E5ECF6\",\"gridcolor\":\"white\",\"linecolor\":\"white\",\"showbackground\":true,\"ticks\":\"\",\"zerolinecolor\":\"white\",\"gridwidth\":2},\"yaxis\":{\"backgroundcolor\":\"#E5ECF6\",\"gridcolor\":\"white\",\"linecolor\":\"white\",\"showbackground\":true,\"ticks\":\"\",\"zerolinecolor\":\"white\",\"gridwidth\":2},\"zaxis\":{\"backgroundcolor\":\"#E5ECF6\",\"gridcolor\":\"white\",\"linecolor\":\"white\",\"showbackground\":true,\"ticks\":\"\",\"zerolinecolor\":\"white\",\"gridwidth\":2}},\"shapedefaults\":{\"line\":{\"color\":\"#2a3f5f\"}},\"annotationdefaults\":{\"arrowcolor\":\"#2a3f5f\",\"arrowhead\":0,\"arrowwidth\":1},\"geo\":{\"bgcolor\":\"white\",\"landcolor\":\"#E5ECF6\",\"subunitcolor\":\"white\",\"showland\":true,\"showlakes\":true,\"lakecolor\":\"white\"},\"title\":{\"x\":0.05},\"mapbox\":{\"style\":\"light\"}}},\"xaxis\":{\"anchor\":\"y\",\"domain\":[0.0,1.0],\"scaleanchor\":\"y\",\"constrain\":\"domain\",\"title\":{\"text\":\"Head\"}},\"yaxis\":{\"anchor\":\"x\",\"domain\":[0.0,1.0],\"autorange\":\"reversed\",\"constrain\":\"domain\",\"title\":{\"text\":\"Layer\"}},\"coloraxis\":{\"colorscale\":[[0.0,\"rgb(103,0,31)\"],[0.1,\"rgb(178,24,43)\"],[0.2,\"rgb(214,96,77)\"],[0.3,\"rgb(244,165,130)\"],[0.4,\"rgb(253,219,199)\"],[0.5,\"rgb(247,247,247)\"],[0.6,\"rgb(209,229,240)\"],[0.7,\"rgb(146,197,222)\"],[0.8,\"rgb(67,147,195)\"],[0.9,\"rgb(33,102,172)\"],[1.0,\"rgb(5,48,97)\"]],\"cmid\":0.0},\"title\":{\"text\":\"attn_head_out Activation Patching (All Pos)\"},\"width\":600},                        {\"staticPlot\": false, \"responsive\": true}                    ).then(function(){\n",
              "                            \n",
              "var gd = document.getElementById('a666ee58-d810-425b-b7a7-ae691c0447fb');\n",
              "var x = new MutationObserver(function (mutations, observer) {{\n",
              "        var display = window.getComputedStyle(gd).display;\n",
              "        if (!display || display === 'none') {{\n",
              "            console.log([gd, 'removed!']);\n",
              "            Plotly.purge(gd);\n",
              "            observer.disconnect();\n",
              "        }}\n",
              "}});\n",
              "\n",
              "// Listen for the removal of the full notebook cells\n",
              "var notebookContainer = gd.closest('#notebook-container');\n",
              "if (notebookContainer) {{\n",
              "    x.observe(notebookContainer, {childList: true});\n",
              "}}\n",
              "\n",
              "// Listen for the clearing of the current output cell\n",
              "var outputEl = gd.closest('.output');\n",
              "if (outputEl) {{\n",
              "    x.observe(outputEl, {childList: true});\n",
              "}}\n",
              "\n",
              "                        })                };                            </script>        </div>\n",
              "</body>\n",
              "</html>"
            ]
          },
          "metadata": {}
        }
      ]
    },
    {
      "cell_type": "markdown",
      "metadata": {
        "id": "QDJPL78Ul6mP"
      },
      "source": [
        "<details>\n",
        "<summary>What are the interpretations of this graph? Which heads do you think are important?</summary>\n",
        "\n",
        "We see some of the heads that we observed in our attention plots at the end of last section (e.g. `9.9` having a large positive score, and `10.7` having a large negative score). But we can also see some other important heads, for instance:\n",
        "\n",
        "* In layers 7-8 there are several important heads. We might deduce that these are the ones responsible for moving information from `S2` to `end`.\n",
        "* In the earlier layers, there are some more important heads (e.g. `3.0` and `5.5`). We might guess these are performing some primitive logic, e.g. causing the second `\" John\"` token to attend to previous instances of itself.\n",
        "\n",
        "</details>\n"
      ]
    },
    {
      "cell_type": "markdown",
      "metadata": {
        "id": "347vm7mVl6mP"
      },
      "source": [
        "### Exercise - implement head-to-head patching\n",
        "\n",
        "```c\n",
        "Difficulty: 🔴🔴🔴⚪⚪\n",
        "Importance: 🔵🔵🔵🔵⚪\n",
        "\n",
        "You should spend up to 10-15 minutes on this exercise.\n",
        "\n",
        "Again, it should be similar to the first patching exercise (you can copy code).\n",
        "```\n",
        "\n",
        "You should implement your own version of this patching function below.\n",
        "\n",
        "You'll need to define a new hook function, but most of the code from the previous exercise should be reusable.\n",
        "\n",
        "<details>\n",
        "<summary>Help - I'm not sure what hook name to use for my patching.</summary>\n",
        "\n",
        "You should patch at:\n",
        "\n",
        "```python\n",
        "utils.get_act_name(\"z\", layer)\n",
        "```\n",
        "\n",
        "This is the linear combination of value vectors, i.e. it's the thing you multiply by $W_O$ before adding back into the residual stream. There's no point patching after the $W_O$ multiplication, because it will have the same effect, but take up more memory (since `d_model` is larger than `d_head`).\n",
        "</details>\n"
      ]
    },
    {
      "cell_type": "code",
      "execution_count": 76,
      "metadata": {
        "id": "vykTXb_Yl6mP"
      },
      "outputs": [],
      "source": [
        "def patch_head_vector(\n",
        "    corrupted_head_vector: Float[Tensor, \"batch pos head_index d_head\"],\n",
        "    hook: HookPoint,\n",
        "    head_index: int,\n",
        "    clean_cache: ActivationCache\n",
        ") -> Float[Tensor, \"batch pos head_index d_head\"]:\n",
        "    '''\n",
        "    Patches the output of a given head (before it's added to the residual stream) at\n",
        "    every sequence position, using the value from the clean cache.\n",
        "    '''\n",
        "    corrupted_head_vector[:, :, head_index] = clean_cache[hook.name][:, :, head_index]\n",
        "    return corrupted_head_vector\n",
        "\n",
        "def get_act_patch_attn_head_out_all_pos(\n",
        "    model: HookedTransformer,\n",
        "    corrupted_tokens: Float[Tensor, \"batch pos\"],\n",
        "    clean_cache: ActivationCache,\n",
        "    patching_metric: Callable\n",
        ") -> Float[Tensor, \"layer head\"]:\n",
        "    '''\n",
        "    Returns an array of results of patching at all positions for each head in each\n",
        "    layer, using the value from the clean cache.\n",
        "\n",
        "    The results are calculated using the patching_metric function, which should be\n",
        "    called on the model's logit output.\n",
        "    '''\n",
        "    model.reset_hooks()\n",
        "\n",
        "    out = t.zeros((model.cfg.n_layers, model.cfg.n_heads)).to(device)\n",
        "    for layer in range(model.cfg.n_layers):\n",
        "        for head in range(model.cfg.n_heads):\n",
        "            hook_fn = lambda corr_resid, hook: patch_head_vector(corr_resid, hook, head, clean_cache)\n",
        "            layer_out = model.run_with_hooks(corrupted_tokens, fwd_hooks = [\n",
        "                (utils.get_act_name(\"z\", layer), hook_fn) #I should remember the prompts for hook activation names lol\n",
        "            ])\n",
        "            # print(layer_out)\n",
        "            out[layer, head] = patching_metric(layer_out)\n",
        "    return out\n",
        "\n",
        "\n",
        "act_patch_attn_head_out_all_pos_own = get_act_patch_attn_head_out_all_pos(model, corrupted_tokens, clean_cache, ioi_metric)\n",
        "\n",
        "t.testing.assert_close(act_patch_attn_head_out_all_pos, act_patch_attn_head_out_all_pos_own)"
      ]
    },
    {
      "cell_type": "code",
      "source": [
        "imshow(\n",
        "    act_patch_attn_head_out_all_pos_own,\n",
        "    title=\"Logit Difference From Patched Attn Head Output\",\n",
        "    labels={\"x\":\"Head\", \"y\":\"Layer\"},\n",
        "    width=600\n",
        ")"
      ],
      "metadata": {
        "id": "tXfLlvsMznKG",
        "colab": {
          "base_uri": "https://localhost:8080/",
          "height": 542
        },
        "outputId": "244ae09b-82d0-4f2d-a1e9-f40a3bcddd9a"
      },
      "execution_count": 77,
      "outputs": [
        {
          "output_type": "display_data",
          "data": {
            "text/html": [
              "<html>\n",
              "<head><meta charset=\"utf-8\" /></head>\n",
              "<body>\n",
              "    <div>            <script src=\"https://cdnjs.cloudflare.com/ajax/libs/mathjax/2.7.5/MathJax.js?config=TeX-AMS-MML_SVG\"></script><script type=\"text/javascript\">if (window.MathJax && window.MathJax.Hub && window.MathJax.Hub.Config) {window.MathJax.Hub.Config({SVG: {font: \"STIX-Web\"}});}</script>                <script type=\"text/javascript\">window.PlotlyConfig = {MathJaxConfig: 'local'};</script>\n",
              "        <script charset=\"utf-8\" src=\"https://cdn.plot.ly/plotly-2.24.1.min.js\"></script>                <div id=\"5835f6b8-1fe0-4578-b758-93d0bbe6e800\" class=\"plotly-graph-div\" style=\"height:525px; width:600px;\"></div>            <script type=\"text/javascript\">                                    window.PLOTLYENV=window.PLOTLYENV || {};                                    if (document.getElementById(\"5835f6b8-1fe0-4578-b758-93d0bbe6e800\")) {                    Plotly.newPlot(                        \"5835f6b8-1fe0-4578-b758-93d0bbe6e800\",                        [{\"coloraxis\":\"coloraxis\",\"name\":\"0\",\"z\":[[0.000949207809753716,0.016124147921800613,0.0018557580187916756,0.0034391582012176514,-0.009823303669691086,0.011059905402362347,-0.004063752014189959,-0.0015781645197421312,-0.001207972876727581,0.0038290175143629313,-0.004257204942405224,-0.0011426942655816674],[-0.0010763080790638924,-0.0003782466519623995,2.9870411708543543e-06,-0.0002605438057798892,-0.00014099504915066063,0.0038329106755554676,-0.0004278181295376271,-0.0014291146071627736,-0.0009217203478328884,0.0006938996957615018,0.000433657958637923,-0.0035707224160432816],[-0.0004967550048604608,0.0008065346628427505,0.0005421983078122139,-0.0005315926391631365,-0.0007148425793275237,-0.0010381813626736403,-0.000949207809753716,-8.56508850120008e-05,0.000277291372185573,0.0021077434066683054,-0.00019724540470633656,-0.0016404225025326014],[0.1162620484828949,0.0002499716938473284,-0.001467308378778398,-0.00039714222657494247,0.01896190457046032,-0.00018898908456321806,0.011170560494065285,-0.0013303072191774845,-0.0007360203308053315,-0.00030310076544992626,-0.00014589514466933906,-0.00022258490207605064],[-0.0016502898652106524,0.0002923272841144353,-0.0014357599429786205,0.030842004343867302,-0.007431388832628727,-0.0002822586102411151,0.006017008330672979,-0.011006776243448257,-0.0012652300065383315,0.001489526592195034,-0.0001801286416593939,0.002944786101579666],[-0.004210888873785734,0.0029607617761939764,0.002045720349997282,0.0013413828564807773,-0.0012188134714961052,0.34349918365478516,0.0005628390936180949,-0.00012558996968436986,-0.0051524443551898,0.016241280362010002,0.01709020510315895,-0.00417390326038003],[0.0397755391895771,0.01522696204483509,-0.0010229441104456782,0.0008078099926933646,-0.004935430828481913,-0.0021235847380012274,-0.01427332405000925,0.0013751464430242777,0.0014837539056316018,0.13027188181877136,-0.0003350520273670554,0.0012915764236822724],[0.0003721718967426568,0.019514674320816994,0.00022258490207605064,0.124249666929245,-0.000404123158659786,-0.007651892956346273,0.0013012087438255548,-0.0011247048387303948,-0.007449714001268148,0.19224156439304352,-0.0032755087595432997,-0.0005020578391849995],[-0.0010078410850837827,3.0977964343037456e-05,-0.0008588917553424835,0.012360342778265476,-0.00040445878403261304,-0.0043292962945997715,0.3185548782348633,0.0023296570871025324,0.002117543714120984,0.0001410621771356091,0.27793630957603455,0.005738441366702318],[0.00588974030688405,-0.0009686739067547023,0.009125745855271816,0.020675459876656532,-0.03700457140803337,0.014263255521655083,-0.04828397557139397,0.05834104120731354,0.0006515105487778783,0.2636086642742157,0.0004916535108350217,-0.0026111772749572992],[0.08374236524105072,0.020676130428910255,-0.0037437023129314184,0.010850845836102962,-0.0010961098596453667,0.0004736306145787239,0.0481792613863945,-0.4799131453037262,0.0001839211763581261,0.01186167448759079,0.060884926468133926,0.0008459367672912776],[0.005327941384166479,-0.01149386540055275,-0.11350833624601364,0.006329808384180069,0.00031608936842530966,-0.0011603479506447911,-0.022669393569231033,0.004070329945534468,0.007316069211810827,-0.008345255628228188,-0.27817586064338684,0.003634893335402012]],\"type\":\"heatmap\",\"xaxis\":\"x\",\"yaxis\":\"y\",\"hovertemplate\":\"Head: %{x}\\u003cbr\\u003eLayer: %{y}\\u003cbr\\u003ecolor: %{z}\\u003cextra\\u003e\\u003c\\u002fextra\\u003e\"}],                        {\"template\":{\"data\":{\"histogram2dcontour\":[{\"type\":\"histogram2dcontour\",\"colorbar\":{\"outlinewidth\":0,\"ticks\":\"\"},\"colorscale\":[[0.0,\"#0d0887\"],[0.1111111111111111,\"#46039f\"],[0.2222222222222222,\"#7201a8\"],[0.3333333333333333,\"#9c179e\"],[0.4444444444444444,\"#bd3786\"],[0.5555555555555556,\"#d8576b\"],[0.6666666666666666,\"#ed7953\"],[0.7777777777777778,\"#fb9f3a\"],[0.8888888888888888,\"#fdca26\"],[1.0,\"#f0f921\"]]}],\"choropleth\":[{\"type\":\"choropleth\",\"colorbar\":{\"outlinewidth\":0,\"ticks\":\"\"}}],\"histogram2d\":[{\"type\":\"histogram2d\",\"colorbar\":{\"outlinewidth\":0,\"ticks\":\"\"},\"colorscale\":[[0.0,\"#0d0887\"],[0.1111111111111111,\"#46039f\"],[0.2222222222222222,\"#7201a8\"],[0.3333333333333333,\"#9c179e\"],[0.4444444444444444,\"#bd3786\"],[0.5555555555555556,\"#d8576b\"],[0.6666666666666666,\"#ed7953\"],[0.7777777777777778,\"#fb9f3a\"],[0.8888888888888888,\"#fdca26\"],[1.0,\"#f0f921\"]]}],\"heatmap\":[{\"type\":\"heatmap\",\"colorbar\":{\"outlinewidth\":0,\"ticks\":\"\"},\"colorscale\":[[0.0,\"#0d0887\"],[0.1111111111111111,\"#46039f\"],[0.2222222222222222,\"#7201a8\"],[0.3333333333333333,\"#9c179e\"],[0.4444444444444444,\"#bd3786\"],[0.5555555555555556,\"#d8576b\"],[0.6666666666666666,\"#ed7953\"],[0.7777777777777778,\"#fb9f3a\"],[0.8888888888888888,\"#fdca26\"],[1.0,\"#f0f921\"]]}],\"heatmapgl\":[{\"type\":\"heatmapgl\",\"colorbar\":{\"outlinewidth\":0,\"ticks\":\"\"},\"colorscale\":[[0.0,\"#0d0887\"],[0.1111111111111111,\"#46039f\"],[0.2222222222222222,\"#7201a8\"],[0.3333333333333333,\"#9c179e\"],[0.4444444444444444,\"#bd3786\"],[0.5555555555555556,\"#d8576b\"],[0.6666666666666666,\"#ed7953\"],[0.7777777777777778,\"#fb9f3a\"],[0.8888888888888888,\"#fdca26\"],[1.0,\"#f0f921\"]]}],\"contourcarpet\":[{\"type\":\"contourcarpet\",\"colorbar\":{\"outlinewidth\":0,\"ticks\":\"\"}}],\"contour\":[{\"type\":\"contour\",\"colorbar\":{\"outlinewidth\":0,\"ticks\":\"\"},\"colorscale\":[[0.0,\"#0d0887\"],[0.1111111111111111,\"#46039f\"],[0.2222222222222222,\"#7201a8\"],[0.3333333333333333,\"#9c179e\"],[0.4444444444444444,\"#bd3786\"],[0.5555555555555556,\"#d8576b\"],[0.6666666666666666,\"#ed7953\"],[0.7777777777777778,\"#fb9f3a\"],[0.8888888888888888,\"#fdca26\"],[1.0,\"#f0f921\"]]}],\"surface\":[{\"type\":\"surface\",\"colorbar\":{\"outlinewidth\":0,\"ticks\":\"\"},\"colorscale\":[[0.0,\"#0d0887\"],[0.1111111111111111,\"#46039f\"],[0.2222222222222222,\"#7201a8\"],[0.3333333333333333,\"#9c179e\"],[0.4444444444444444,\"#bd3786\"],[0.5555555555555556,\"#d8576b\"],[0.6666666666666666,\"#ed7953\"],[0.7777777777777778,\"#fb9f3a\"],[0.8888888888888888,\"#fdca26\"],[1.0,\"#f0f921\"]]}],\"mesh3d\":[{\"type\":\"mesh3d\",\"colorbar\":{\"outlinewidth\":0,\"ticks\":\"\"}}],\"scatter\":[{\"fillpattern\":{\"fillmode\":\"overlay\",\"size\":10,\"solidity\":0.2},\"type\":\"scatter\"}],\"parcoords\":[{\"type\":\"parcoords\",\"line\":{\"colorbar\":{\"outlinewidth\":0,\"ticks\":\"\"}}}],\"scatterpolargl\":[{\"type\":\"scatterpolargl\",\"marker\":{\"colorbar\":{\"outlinewidth\":0,\"ticks\":\"\"}}}],\"bar\":[{\"error_x\":{\"color\":\"#2a3f5f\"},\"error_y\":{\"color\":\"#2a3f5f\"},\"marker\":{\"line\":{\"color\":\"#E5ECF6\",\"width\":0.5},\"pattern\":{\"fillmode\":\"overlay\",\"size\":10,\"solidity\":0.2}},\"type\":\"bar\"}],\"scattergeo\":[{\"type\":\"scattergeo\",\"marker\":{\"colorbar\":{\"outlinewidth\":0,\"ticks\":\"\"}}}],\"scatterpolar\":[{\"type\":\"scatterpolar\",\"marker\":{\"colorbar\":{\"outlinewidth\":0,\"ticks\":\"\"}}}],\"histogram\":[{\"marker\":{\"pattern\":{\"fillmode\":\"overlay\",\"size\":10,\"solidity\":0.2}},\"type\":\"histogram\"}],\"scattergl\":[{\"type\":\"scattergl\",\"marker\":{\"colorbar\":{\"outlinewidth\":0,\"ticks\":\"\"}}}],\"scatter3d\":[{\"type\":\"scatter3d\",\"line\":{\"colorbar\":{\"outlinewidth\":0,\"ticks\":\"\"}},\"marker\":{\"colorbar\":{\"outlinewidth\":0,\"ticks\":\"\"}}}],\"scattermapbox\":[{\"type\":\"scattermapbox\",\"marker\":{\"colorbar\":{\"outlinewidth\":0,\"ticks\":\"\"}}}],\"scatterternary\":[{\"type\":\"scatterternary\",\"marker\":{\"colorbar\":{\"outlinewidth\":0,\"ticks\":\"\"}}}],\"scattercarpet\":[{\"type\":\"scattercarpet\",\"marker\":{\"colorbar\":{\"outlinewidth\":0,\"ticks\":\"\"}}}],\"carpet\":[{\"aaxis\":{\"endlinecolor\":\"#2a3f5f\",\"gridcolor\":\"white\",\"linecolor\":\"white\",\"minorgridcolor\":\"white\",\"startlinecolor\":\"#2a3f5f\"},\"baxis\":{\"endlinecolor\":\"#2a3f5f\",\"gridcolor\":\"white\",\"linecolor\":\"white\",\"minorgridcolor\":\"white\",\"startlinecolor\":\"#2a3f5f\"},\"type\":\"carpet\"}],\"table\":[{\"cells\":{\"fill\":{\"color\":\"#EBF0F8\"},\"line\":{\"color\":\"white\"}},\"header\":{\"fill\":{\"color\":\"#C8D4E3\"},\"line\":{\"color\":\"white\"}},\"type\":\"table\"}],\"barpolar\":[{\"marker\":{\"line\":{\"color\":\"#E5ECF6\",\"width\":0.5},\"pattern\":{\"fillmode\":\"overlay\",\"size\":10,\"solidity\":0.2}},\"type\":\"barpolar\"}],\"pie\":[{\"automargin\":true,\"type\":\"pie\"}]},\"layout\":{\"autotypenumbers\":\"strict\",\"colorway\":[\"#636efa\",\"#EF553B\",\"#00cc96\",\"#ab63fa\",\"#FFA15A\",\"#19d3f3\",\"#FF6692\",\"#B6E880\",\"#FF97FF\",\"#FECB52\"],\"font\":{\"color\":\"#2a3f5f\"},\"hovermode\":\"closest\",\"hoverlabel\":{\"align\":\"left\"},\"paper_bgcolor\":\"white\",\"plot_bgcolor\":\"#E5ECF6\",\"polar\":{\"bgcolor\":\"#E5ECF6\",\"angularaxis\":{\"gridcolor\":\"white\",\"linecolor\":\"white\",\"ticks\":\"\"},\"radialaxis\":{\"gridcolor\":\"white\",\"linecolor\":\"white\",\"ticks\":\"\"}},\"ternary\":{\"bgcolor\":\"#E5ECF6\",\"aaxis\":{\"gridcolor\":\"white\",\"linecolor\":\"white\",\"ticks\":\"\"},\"baxis\":{\"gridcolor\":\"white\",\"linecolor\":\"white\",\"ticks\":\"\"},\"caxis\":{\"gridcolor\":\"white\",\"linecolor\":\"white\",\"ticks\":\"\"}},\"coloraxis\":{\"colorbar\":{\"outlinewidth\":0,\"ticks\":\"\"}},\"colorscale\":{\"sequential\":[[0.0,\"#0d0887\"],[0.1111111111111111,\"#46039f\"],[0.2222222222222222,\"#7201a8\"],[0.3333333333333333,\"#9c179e\"],[0.4444444444444444,\"#bd3786\"],[0.5555555555555556,\"#d8576b\"],[0.6666666666666666,\"#ed7953\"],[0.7777777777777778,\"#fb9f3a\"],[0.8888888888888888,\"#fdca26\"],[1.0,\"#f0f921\"]],\"sequentialminus\":[[0.0,\"#0d0887\"],[0.1111111111111111,\"#46039f\"],[0.2222222222222222,\"#7201a8\"],[0.3333333333333333,\"#9c179e\"],[0.4444444444444444,\"#bd3786\"],[0.5555555555555556,\"#d8576b\"],[0.6666666666666666,\"#ed7953\"],[0.7777777777777778,\"#fb9f3a\"],[0.8888888888888888,\"#fdca26\"],[1.0,\"#f0f921\"]],\"diverging\":[[0,\"#8e0152\"],[0.1,\"#c51b7d\"],[0.2,\"#de77ae\"],[0.3,\"#f1b6da\"],[0.4,\"#fde0ef\"],[0.5,\"#f7f7f7\"],[0.6,\"#e6f5d0\"],[0.7,\"#b8e186\"],[0.8,\"#7fbc41\"],[0.9,\"#4d9221\"],[1,\"#276419\"]]},\"xaxis\":{\"gridcolor\":\"white\",\"linecolor\":\"white\",\"ticks\":\"\",\"title\":{\"standoff\":15},\"zerolinecolor\":\"white\",\"automargin\":true,\"zerolinewidth\":2},\"yaxis\":{\"gridcolor\":\"white\",\"linecolor\":\"white\",\"ticks\":\"\",\"title\":{\"standoff\":15},\"zerolinecolor\":\"white\",\"automargin\":true,\"zerolinewidth\":2},\"scene\":{\"xaxis\":{\"backgroundcolor\":\"#E5ECF6\",\"gridcolor\":\"white\",\"linecolor\":\"white\",\"showbackground\":true,\"ticks\":\"\",\"zerolinecolor\":\"white\",\"gridwidth\":2},\"yaxis\":{\"backgroundcolor\":\"#E5ECF6\",\"gridcolor\":\"white\",\"linecolor\":\"white\",\"showbackground\":true,\"ticks\":\"\",\"zerolinecolor\":\"white\",\"gridwidth\":2},\"zaxis\":{\"backgroundcolor\":\"#E5ECF6\",\"gridcolor\":\"white\",\"linecolor\":\"white\",\"showbackground\":true,\"ticks\":\"\",\"zerolinecolor\":\"white\",\"gridwidth\":2}},\"shapedefaults\":{\"line\":{\"color\":\"#2a3f5f\"}},\"annotationdefaults\":{\"arrowcolor\":\"#2a3f5f\",\"arrowhead\":0,\"arrowwidth\":1},\"geo\":{\"bgcolor\":\"white\",\"landcolor\":\"#E5ECF6\",\"subunitcolor\":\"white\",\"showland\":true,\"showlakes\":true,\"lakecolor\":\"white\"},\"title\":{\"x\":0.05},\"mapbox\":{\"style\":\"light\"}}},\"xaxis\":{\"anchor\":\"y\",\"domain\":[0.0,1.0],\"scaleanchor\":\"y\",\"constrain\":\"domain\",\"title\":{\"text\":\"Head\"}},\"yaxis\":{\"anchor\":\"x\",\"domain\":[0.0,1.0],\"autorange\":\"reversed\",\"constrain\":\"domain\",\"title\":{\"text\":\"Layer\"}},\"coloraxis\":{\"colorscale\":[[0.0,\"rgb(103,0,31)\"],[0.1,\"rgb(178,24,43)\"],[0.2,\"rgb(214,96,77)\"],[0.3,\"rgb(244,165,130)\"],[0.4,\"rgb(253,219,199)\"],[0.5,\"rgb(247,247,247)\"],[0.6,\"rgb(209,229,240)\"],[0.7,\"rgb(146,197,222)\"],[0.8,\"rgb(67,147,195)\"],[0.9,\"rgb(33,102,172)\"],[1.0,\"rgb(5,48,97)\"]],\"cmid\":0.0},\"title\":{\"text\":\"Logit Difference From Patched Attn Head Output\"},\"width\":600},                        {\"staticPlot\": false, \"responsive\": true}                    ).then(function(){\n",
              "                            \n",
              "var gd = document.getElementById('5835f6b8-1fe0-4578-b758-93d0bbe6e800');\n",
              "var x = new MutationObserver(function (mutations, observer) {{\n",
              "        var display = window.getComputedStyle(gd).display;\n",
              "        if (!display || display === 'none') {{\n",
              "            console.log([gd, 'removed!']);\n",
              "            Plotly.purge(gd);\n",
              "            observer.disconnect();\n",
              "        }}\n",
              "}});\n",
              "\n",
              "// Listen for the removal of the full notebook cells\n",
              "var notebookContainer = gd.closest('#notebook-container');\n",
              "if (notebookContainer) {{\n",
              "    x.observe(notebookContainer, {childList: true});\n",
              "}}\n",
              "\n",
              "// Listen for the clearing of the current output cell\n",
              "var outputEl = gd.closest('.output');\n",
              "if (outputEl) {{\n",
              "    x.observe(outputEl, {childList: true});\n",
              "}}\n",
              "\n",
              "                        })                };                            </script>        </div>\n",
              "</body>\n",
              "</html>"
            ]
          },
          "metadata": {}
        }
      ]
    },
    {
      "cell_type": "markdown",
      "metadata": {
        "id": "xTdAiHL5l6mQ"
      },
      "source": [
        "## Decomposing Heads\n"
      ]
    },
    {
      "cell_type": "markdown",
      "metadata": {
        "id": "6ZYFq5WPl6mQ"
      },
      "source": [
        "Finally, we'll look at one more example of activation patching.\n",
        "\n",
        "Decomposing attention layers into patching in individual heads has already helped us localise the behaviour a lot. But we can understand it further by decomposing heads. An attention head consists of two semi-independent operations - calculating *where* to move information from and to (represented by the attention pattern and implemented via the QK-circuit) and calculating *what* information to move (represented by the value vectors and implemented by the OV circuit). We can disentangle which of these is important by patching in just the attention pattern *or* the value vectors. See [A Mathematical Framework](https://transformer-circuits.pub/2021/framework/index.html) or [Neel's walkthrough video](https://www.youtube.com/watch?v=KV5gbOmHbjU) for more on this decomposition.\n"
      ]
    },
    {
      "cell_type": "markdown",
      "metadata": {
        "id": "D3Yw4X6ll6mQ"
      },
      "source": [
        "A useful function for doing this is `get_act_patch_attn_head_all_pos_every`. Rather than just patching on head output (like the previous one), it patches on:\n",
        "* Output (this is equivalent to patching the value the head writes to the residual stream)\n",
        "* Querys (i.e. the patching the query vectors, without changing the key or value vectors)\n",
        "* Keys\n",
        "* Values\n",
        "* Patterns (i.e. the attention patterns).\n",
        "\n",
        "Again, note that this function isn't patching multiple things at once. It's looping through each of these five, and getting the results from patching them one at a time.\n"
      ]
    },
    {
      "cell_type": "code",
      "execution_count": 78,
      "metadata": {
        "id": "4x5AZIdRl6mQ",
        "colab": {
          "base_uri": "https://localhost:8080/",
          "height": 177,
          "referenced_widgets": [
            "25cd922b285d4682bcc8c85282eac7dc",
            "9046d6a3bb064a978f57c9be17eb2bb8",
            "8fcbe72260b34af1b0d7d78bd0fea984",
            "85f7447f0293451f912c39a80e895a7e",
            "ae184cfaa8ce42ecb196a16699f7c44e",
            "255cf36b86a14c71a2ef5c9567c6b2b1",
            "d9379b1559404b969e12c935c41a389a",
            "0f26beec02ac45ea931bfd3e30e466f4",
            "aab1445735b34b889e569f4d987b42fe",
            "51e21e45c1804835af07d5204d12d94b",
            "c8dc546bf5bc47db805307da362d7a64",
            "c580e12252a245cd8b25a4a89fdc4cc4",
            "8b95798b26e942d1a124e7ddfc99890c",
            "cc21e5142987401280433e3ba3ef4ce0",
            "f9ab5b2d609d4aa180d4ffe77fc4f830",
            "6daab57016af40e9a030d56007349575",
            "1c23197d525c402493c8f37642413a9a",
            "a3e70ce189a24992ac3fdd20b156255e",
            "fb9f0c891d6646bab1e5e615e8868acd",
            "e89c2d2773ca4231acbb56305c09b241",
            "947c0757a8c84dec9c19bbdaa980025c",
            "a70ac1a2367f498d911846819debde37",
            "0c9435e1ab014e3594849a83fde3c109",
            "f6f08a4349b342a68b1d338dcd616ab3",
            "a717381bcade41aba9c7a639a5ba0131",
            "b81028daee9e48e187d28818ab9d244b",
            "8f3ca15e11fd4b0ba83a90b9bf426b52",
            "63affec115fb466288ea6a6f35b84d42",
            "d2e54b24eaa04f1bacd4b4e4aaa187ed",
            "290a0f6e8953430c8f719047d7a8cbcc",
            "309c74083b30485d811b7608dee97bd4",
            "ccc9a737f9954e50b4221e5351c8facc",
            "8c24ac9a77e242d8b647a4fb0f80f391",
            "7613039bec4045c2a6f0a303d156f77a",
            "be028007f3cf479ab3199f8466f39aa8",
            "6a78c415087d423aabc9cb4d7d92f547",
            "63ba38f1545146348ffc0ee0e4af53ed",
            "8469124e65604531b4744d8e72645b3d",
            "6eb56391a29c421e9bca95bec69d796d",
            "e6ebaea007bb4523956e70bff92ff141",
            "556426c435b944a88854ea5b7502f2fe",
            "834c82d73e634fbe9e0a4cb0a913e3fc",
            "15974469427e461ebdd4b0d61f404953",
            "65345d5a227f400cb289bfd50d66b832",
            "a237044cade442cf966d1157e75d0e8a",
            "be41466dd7f5451b8174d09e9a887d27",
            "e7d88624d9804c5b862fbcf1a09a4cab",
            "060e5bdc481f49e5af4b9582da515331",
            "ab8d55094517449b96bdc42e925a4694",
            "8a7dc388609e461bb30002db6c09fc6e",
            "c1cee87503734397be172447905b8f2e",
            "64d5cbea7c684b53a91a45abe2d59c79",
            "17b98134b1184198a69b5f5a08a0f705",
            "0cd16f8271344d5f934a58623b8d3a1b",
            "aa928d40e0534752a7215b0b9b72e46b"
          ]
        },
        "outputId": "f5d523e5-ea04-418a-a448-31e7591319d4"
      },
      "outputs": [
        {
          "output_type": "display_data",
          "data": {
            "text/plain": [
              "  0%|          | 0/144 [00:00<?, ?it/s]"
            ],
            "application/vnd.jupyter.widget-view+json": {
              "version_major": 2,
              "version_minor": 0,
              "model_id": "25cd922b285d4682bcc8c85282eac7dc"
            }
          },
          "metadata": {}
        },
        {
          "output_type": "display_data",
          "data": {
            "text/plain": [
              "  0%|          | 0/144 [00:00<?, ?it/s]"
            ],
            "application/vnd.jupyter.widget-view+json": {
              "version_major": 2,
              "version_minor": 0,
              "model_id": "c580e12252a245cd8b25a4a89fdc4cc4"
            }
          },
          "metadata": {}
        },
        {
          "output_type": "display_data",
          "data": {
            "text/plain": [
              "  0%|          | 0/144 [00:00<?, ?it/s]"
            ],
            "application/vnd.jupyter.widget-view+json": {
              "version_major": 2,
              "version_minor": 0,
              "model_id": "0c9435e1ab014e3594849a83fde3c109"
            }
          },
          "metadata": {}
        },
        {
          "output_type": "display_data",
          "data": {
            "text/plain": [
              "  0%|          | 0/144 [00:00<?, ?it/s]"
            ],
            "application/vnd.jupyter.widget-view+json": {
              "version_major": 2,
              "version_minor": 0,
              "model_id": "7613039bec4045c2a6f0a303d156f77a"
            }
          },
          "metadata": {}
        },
        {
          "output_type": "display_data",
          "data": {
            "text/plain": [
              "  0%|          | 0/144 [00:00<?, ?it/s]"
            ],
            "application/vnd.jupyter.widget-view+json": {
              "version_major": 2,
              "version_minor": 0,
              "model_id": "a237044cade442cf966d1157e75d0e8a"
            }
          },
          "metadata": {}
        }
      ],
      "source": [
        "act_patch_attn_head_all_pos_every = patching.get_act_patch_attn_head_all_pos_every(\n",
        "    model,\n",
        "    corrupted_tokens,\n",
        "    clean_cache,\n",
        "    ioi_metric\n",
        ")"
      ]
    },
    {
      "cell_type": "code",
      "source": [
        "imshow(\n",
        "    act_patch_attn_head_all_pos_every,\n",
        "    facet_col=0,\n",
        "    facet_labels=[\"Output\", \"Query\", \"Key\", \"Value\", \"Pattern\"],\n",
        "    title=\"Activation Patching Per Head (All Pos)\",\n",
        "    labels={\"x\": \"Head\", \"y\": \"Layer\"},\n",
        ")"
      ],
      "metadata": {
        "id": "yNCTJfzmzofq",
        "colab": {
          "base_uri": "https://localhost:8080/",
          "height": 542
        },
        "outputId": "23410ee5-29fb-4578-a5dd-3af4f1ac9dd8"
      },
      "execution_count": 79,
      "outputs": [
        {
          "output_type": "display_data",
          "data": {
            "text/html": [
              "<html>\n",
              "<head><meta charset=\"utf-8\" /></head>\n",
              "<body>\n",
              "    <div>            <script src=\"https://cdnjs.cloudflare.com/ajax/libs/mathjax/2.7.5/MathJax.js?config=TeX-AMS-MML_SVG\"></script><script type=\"text/javascript\">if (window.MathJax && window.MathJax.Hub && window.MathJax.Hub.Config) {window.MathJax.Hub.Config({SVG: {font: \"STIX-Web\"}});}</script>                <script type=\"text/javascript\">window.PlotlyConfig = {MathJaxConfig: 'local'};</script>\n",
              "        <script charset=\"utf-8\" src=\"https://cdn.plot.ly/plotly-2.24.1.min.js\"></script>                <div id=\"b61dbd26-235f-467b-b726-e3cce25f95e1\" class=\"plotly-graph-div\" style=\"height:525px; width:100%;\"></div>            <script type=\"text/javascript\">                                    window.PLOTLYENV=window.PLOTLYENV || {};                                    if (document.getElementById(\"b61dbd26-235f-467b-b726-e3cce25f95e1\")) {                    Plotly.newPlot(                        \"b61dbd26-235f-467b-b726-e3cce25f95e1\",                        [{\"coloraxis\":\"coloraxis\",\"name\":\"0\",\"z\":[[0.000949207809753716,0.016124147921800613,0.0018557580187916756,0.0034391582012176514,-0.009823303669691086,0.011059905402362347,-0.004063752014189959,-0.0015781645197421312,-0.001207972876727581,0.0038290175143629313,-0.004257204942405224,-0.0011426942655816674],[-0.0010763080790638924,-0.0003782466519623995,2.9870411708543543e-06,-0.0002605438057798892,-0.00014099504915066063,0.0038329106755554676,-0.0004278181295376271,-0.0014291146071627736,-0.0009217203478328884,0.0006938996957615018,0.000433657958637923,-0.0035707224160432816],[-0.0004967550048604608,0.0008065346628427505,0.0005421983078122139,-0.0005315926391631365,-0.0007148425793275237,-0.0010381813626736403,-0.000949207809753716,-8.56508850120008e-05,0.000277291372185573,0.0021077434066683054,-0.00019724540470633656,-0.0016404225025326014],[0.1162620484828949,0.0002499716938473284,-0.001467308378778398,-0.00039714222657494247,0.01896190457046032,-0.00018898908456321806,0.011170560494065285,-0.0013303072191774845,-0.0007360203308053315,-0.00030310076544992626,-0.00014589514466933906,-0.00022258490207605064],[-0.0016502898652106524,0.0002923272841144353,-0.0014357599429786205,0.030842004343867302,-0.007431388832628727,-0.0002822586102411151,0.006017008330672979,-0.011006776243448257,-0.0012652300065383315,0.001489526592195034,-0.0001801286416593939,0.002944786101579666],[-0.004210888873785734,0.0029607617761939764,0.002045720349997282,0.0013413828564807773,-0.0012188134714961052,0.34349918365478516,0.0005628390936180949,-0.00012558996968436986,-0.0051524443551898,0.016241280362010002,0.01709020510315895,-0.00417390326038003],[0.0397755391895771,0.01522696204483509,-0.0010229441104456782,0.0008078099926933646,-0.004935430828481913,-0.0021235847380012274,-0.01427332405000925,0.0013751464430242777,0.0014837539056316018,0.13027188181877136,-0.0003350520273670554,0.0012915764236822724],[0.0003721718967426568,0.019514674320816994,0.00022258490207605064,0.124249666929245,-0.000404123158659786,-0.007651892956346273,0.0013012087438255548,-0.0011247048387303948,-0.007449714001268148,0.19224156439304352,-0.0032755087595432997,-0.0005020578391849995],[-0.0010078410850837827,3.0977964343037456e-05,-0.0008588917553424835,0.012360342778265476,-0.00040445878403261304,-0.0043292962945997715,0.3185548782348633,0.0023296570871025324,0.002117543714120984,0.0001410621771356091,0.27793630957603455,0.005738441366702318],[0.00588974030688405,-0.0009686739067547023,0.009125745855271816,0.020675459876656532,-0.03700457140803337,0.014263255521655083,-0.04828397557139397,0.05834104120731354,0.0006515105487778783,0.2636086642742157,0.0004916535108350217,-0.0026111772749572992],[0.08374236524105072,0.020676130428910255,-0.0037437023129314184,0.010850845836102962,-0.0010961098596453667,0.0004736306145787239,0.0481792613863945,-0.4799131453037262,0.0001839211763581261,0.01186167448759079,0.060884926468133926,0.0008459367672912776],[0.005327941384166479,-0.01149386540055275,-0.11350833624601364,0.006329808384180069,0.00031608936842530966,-0.0011603479506447911,-0.022669393569231033,0.004070329945534468,0.007316069211810827,-0.008345255628228188,-0.27817586064338684,0.003634893335402012]],\"type\":\"heatmap\",\"xaxis\":\"x\",\"yaxis\":\"y\",\"hovertemplate\":\"Head: %{x}\\u003cbr\\u003eLayer: %{y}\\u003cbr\\u003ecolor: %{z}\\u003cextra\\u003e\\u003c\\u002fextra\\u003e\"},{\"coloraxis\":\"coloraxis\",\"name\":\"1\",\"z\":[[0.0004932645242661238,0.01094414945691824,0.0015596046578139067,0.00942129548639059,-0.004853673279285431,0.01026256661862135,-0.0031703917775303125,-0.0003877447743434459,-0.0011035606730729342,0.0005116566317155957,-0.0008278131135739386,-0.0007995537016540766],[0.0009909257059916854,-0.00029833492590114474,0.00012092482211301103,-0.0003547866363078356,-0.00010998352081514895,0.0070056854747235775,-0.00034471796243451536,-0.0014761688653379679,-0.0012058248976245522,0.00025087789981625974,6.897043931530789e-05,-0.0019845699425786734],[-0.0020125943701714277,0.002570869168266654,-0.0005173957906663418,0.0012824474833905697,0.00022476645244751126,0.003274334128946066,0.00019697689276654273,0.00021248265693429857,4.071102011948824e-05,0.012865991331636906,0.0002855476923286915,-0.0019243592396378517],[0.12042208760976791,-0.00030840359977446496,0.0008746660314500332,-0.00023866123228799552,0.028210321441292763,0.0020727715454995632,0.0011327262036502361,0.00618676608428359,0.0006770514301024377,4.71549756184686e-05,-0.001592092914506793,-0.00026000681100413203],[-0.001281910459510982,0.0013883699430152774,-0.0017391627188771963,-0.0003954640997108072,-0.0016220975667238235,-0.0009210490970872343,-0.002205745317041874,-0.0004812156839761883,-0.0007473979494534433,0.0009411193314008415,-0.0002630274393595755,0.001496843178756535],[-0.004147053230553865,0.0029568015597760677,0.00043265108251944184,0.0006007308838889003,-0.0005216582212597132,0.3435298502445221,-0.00044147795415483415,-8.487895684083924e-05,-0.005597077310085297,0.02857423573732376,0.014874693006277084,-0.0022636400535702705],[-0.0011900841491296887,0.0006333533674478531,-0.0011618246790021658,0.0004235892847646028,-0.005043803248554468,0.002766302088275552,-0.00018110194650944322,0.001220625825226307,0.0010544926626607776,0.1303240954875946,-1.5807823729119264e-05,0.0010138823417946696],[0.0003667348064482212,0.02035473845899105,0.00033589109079912305,-0.0014651603996753693,-0.0001690195349510759,-0.0005946896853856742,0.0008224767516367137,-0.0005449504242278636,9.07859139260836e-05,-0.00041110411984845996,-0.0030535280238837004,0.00014753968571312726],[0.0004710463108494878,0.0005040715914219618,0.0015873941592872143,0.024632316082715988,-5.232356124906801e-05,-0.0010189837776124477,0.010948579758405685,-0.0005378351779654622,0.0018446824979037046,0.0007364230696111917,-0.027599554508924484,0.009299397468566895],[0.006473924964666367,-0.0015575909055769444,0.012203069403767586,0.0014240802265703678,-0.02672760747373104,0.0025526448152959347,-0.043733738362789154,-0.01309737004339695,0.004637733567506075,0.27937498688697815,0.00020389072597026825,-0.00025440193712711334],[0.09814057499170303,0.026011154055595398,0.013916288502514362,0.015725260600447655,0.0005592479137703776,-0.0002833325997926295,0.05219803750514984,-0.5128645300865173,0.0001748258073348552,-0.004036298021674156,0.06916654855012894,0.0025176729541271925],[0.00157715764362365,0.008838721551001072,-0.0857497900724411,-0.007098719943314791,-0.0009573634597472847,-0.003024395788088441,-0.006627774331718683,0.0003132365527562797,-9.722986578708515e-05,-0.006149579305201769,-0.33735382556915283,-0.0022048726677894592]],\"type\":\"heatmap\",\"xaxis\":\"x2\",\"yaxis\":\"y2\",\"hovertemplate\":\"Head: %{x}\\u003cbr\\u003eLayer: %{y}\\u003cbr\\u003ecolor: %{z}\\u003cextra\\u003e\\u003c\\u002fextra\\u003e\"},{\"coloraxis\":\"coloraxis\",\"name\":\"2\",\"z\":[[0.00019852076366078109,-0.0004909823182970285,0.0007516939076595008,0.007183833979070187,0.0011316857999190688,-0.00014059231034480035,0.0005675042630173266,-0.0022283662110567093,-1.0572111932560802e-05,-0.0011843785177916288,-0.0036453648936003447,-0.0001395854342263192],[9.850523201748729e-05,-0.000673326023388654,6.286211282713339e-05,0.00039972650120034814,0.00013773950922768563,0.0013150699669495225,0.000163414646522142,-5.292768400977366e-05,1.7586624380783178e-05,0.0003308231825940311,4.2993255192413926e-05,0.0033118901774287224],[-0.001103225047700107,-0.0004909823182970285,-0.0008950718911364675,0.0009730705642141402,0.0005670343525707722,0.0026970296166837215,0.00017052983457688242,9.400788985658437e-05,5.544485247810371e-05,0.011643553152680397,-9.655862231738865e-05,-0.0002276528102811426],[-0.0014164951862767339,-0.0003908325161319226,0.0007126274285838008,-0.0006912147509865463,0.007759560830891132,-0.00019654059724416584,0.0014261610340327024,0.00624254671856761,0.0005363584496080875,-3.8294536352623254e-05,1.980173237825511e-06,-0.0007048745756037533],[-0.0001536815834697336,0.00034075762960128486,0.00040919106686487794,-0.0009753192425705492,0.000770824437495321,4.6013858082005754e-05,-0.005579524207860231,0.00028598401695489883,0.0016967064002528787,0.0001665694871917367,-8.689268724992871e-05,0.000781899958383292],[1.0437862329126801e-05,-5.705584271709085e-07,0.00025671772891655564,-0.00048091361531987786,-0.0001876801543403417,6.104975182097405e-05,-0.00022557194461114705,0.00017093258793465793,0.0004129164735786617,0.039516571909189224,0.0017572192009538412,-0.00021093880059197545],[-0.00035485377884469926,-0.0026963918935507536,5.3800300520379096e-05,-0.0007691463106311858,0.0006242580129764974,-0.0011563876178115606,-0.00728509109467268,-5.5109230743255466e-05,-0.000427146878791973,0.00014448552974499762,-2.1580532120424323e-05,8.357002116099466e-06],[2.775598841253668e-05,9.548462548991665e-05,-1.741881169436965e-05,0.00024074208340607584,-0.00010890953126363456,0.00030249665724113584,0.00011971657659159973,-6.843344453955069e-05,0.00010568755533313379,0.005508473142981529,-8.054942099988693e-07,-0.0005069579347036779],[0.0005797880003228784,-6.81649471516721e-05,-0.00020509897149167955,0.0035951556637883186,-0.00010662729619070888,5.917026282986626e-05,9.092016262002289e-05,0.00024497092817910016,0.0002885347348637879,0.0003176667960360646,-0.025732552632689476,-3.473693868727423e-05],[-6.198949267854914e-05,0.0004527884302660823,0.0006658080965280533,0.0006589614204131067,0.0005123278824612498,0.0013582310639321804,-0.002212055027484894,-0.009116953238844872,0.00023342551139649004,0.00835428386926651,-0.00020744831999763846,-0.000366197811672464],[0.0058193267323076725,0.0013154727639630437,-0.0010805369820445776,0.0012894956162199378,0.00032243263558484614,3.373006984475069e-05,0.0002814866602420807,-0.13102775812149048,0.00010864103387575597,-0.0023645618930459023,0.0013525254325941205,-9.743123519001529e-05],[-0.0005406544078141451,0.001587931183166802,-0.004787287209182978,-0.003784514032304287,9.293389302911237e-05,-0.00017355044838041067,-0.0015515496488660574,-9.971347026294097e-05,0.0009411864448338747,-0.00045137881534174085,-0.11361552774906158,-0.0006107324152253568]],\"type\":\"heatmap\",\"xaxis\":\"x3\",\"yaxis\":\"y3\",\"hovertemplate\":\"Head: %{x}\\u003cbr\\u003eLayer: %{y}\\u003cbr\\u003ecolor: %{z}\\u003cextra\\u003e\\u003c\\u002fextra\\u003e\"},{\"coloraxis\":\"coloraxis\",\"name\":\"3\",\"z\":[[-0.00019778239948209375,0.005339856259524822,0.0006520475726574659,0.003505376633256674,-0.008983710780739784,0.003481547348201275,-0.0008613082463853061,-3.342800846439786e-05,0.0005174964899197221,0.000442384131019935,-0.0039066132158041,-0.0001881164644146338],[-0.0004396320437081158,-0.0004457403556443751,-6.7225206294097e-05,7.313216337934136e-05,-3.614655361161567e-05,-0.0019322128500789404,-0.00015717206406407058,1.5874948076088913e-05,0.0002059715916402638,0.0003377370012458414,0.0003520345489960164,-0.0005664302734658122],[0.0002104689338011667,-0.0007198769017122686,0.00048675344442017376,-0.0005970725906081498,-0.0005918033421039581,-0.0005443462869152427,-0.00022731718490831554,-0.0004797724832314998,0.0002062400890281424,0.0011843785177916288,-0.00035774012212641537,-0.0009099064045585692],[0.001039725262671709,-0.00012058919674018398,-7.679044938413426e-05,-0.0007271934882737696,-0.0013099013594910502,-0.002310727955773473,0.01098731067031622,-5.091394632472657e-05,0.00014357933832798153,0.00015153360436670482,-7.937474583741277e-05,-1.9701046767295338e-05],[-0.0005370297003537416,-0.0008129114867188036,-0.00013381273311097175,0.030610358342528343,-0.007185646332800388,0.00014925136929377913,0.0013338313437998295,-0.01142237801104784,-0.0005332707660272717,0.0005125292809680104,0.0003737828810699284,0.002956197364255786],[7.618632935191272e-06,6.846700671303552e-06,0.0015978656010702252,0.00033897883258759975,-0.0012584840878844261,-5.4404423281084746e-05,0.0006328835152089596,-0.00027020974084734917,7.413903222186491e-05,-0.006703725550323725,0.0031769699417054653,-0.001727952971123159],[0.04863201454281807,0.015315297991037369,-0.00046436741831712425,-0.00011642747995210811,-4.863171488977969e-05,-0.003953734878450632,-0.01737501472234726,-0.00015378226817119867,0.0012204244267195463,-0.00017992727225646377,-0.000427146878791973,0.00012334130587987602],[-2.8561482395161875e-05,-0.00138477876316756,-0.00012152893759775907,0.13321605324745178,-0.00024510518414899707,-0.007314860820770264,0.0003328369348309934,-0.0007947878330014646,-0.007937775924801826,0.20841380953788757,-0.00019133843306917697,-0.00020664282783400267],[-0.002047969028353691,-0.00037640074151568115,-0.003314877161756158,-0.009666232392191887,-0.00031746539752930403,-0.005141536705195904,0.3171706795692444,0.0028426225762814283,0.00047252303920686245,-0.0011535013327375054,0.27267158031463623,-0.0031757615506649017],[-0.00043983341311104596,5.6888027756940573e-05,-0.0020635754335671663,0.02006630413234234,-0.007870383560657501,0.011315347626805305,0.0030573538970202208,0.06856336444616318,-0.002747574355453253,-0.009278991259634495,0.0005067565361969173,-0.0013152043102309108],[-0.012957481667399406,-0.0030450031626969576,-0.017922749742865562,-0.004358663689345121,-0.0011526286834850907,0.0004996413481421769,-0.003113335929811001,0.01958552561700344,4.373162300908007e-05,0.012969966977834702,-0.007695792708545923,-0.0009145379881374538],[0.004100200720131397,-0.020459217950701714,-0.03587600961327553,0.014655329287052155,0.0008443593396805227,0.0017802428919821978,-0.018042298033833504,0.0035191706847399473,0.008252589963376522,-0.001766683766618371,0.04416638985276222,0.00647439481690526]],\"type\":\"heatmap\",\"xaxis\":\"x4\",\"yaxis\":\"y4\",\"hovertemplate\":\"Head: %{x}\\u003cbr\\u003eLayer: %{y}\\u003cbr\\u003ecolor: %{z}\\u003cextra\\u003e\\u003c\\u002fextra\\u003e\"},{\"coloraxis\":\"coloraxis\",\"name\":\"4\",\"z\":[[0.0006401329883374274,0.005319920368492603,0.0011592068476602435,-5.8901765441987664e-05,-0.001066709286533296,0.005080084316432476,-0.0030811161268502474,-0.002052332041785121,-0.001440324354916811,0.003492723684757948,-0.0025680833496153355,-0.0009154106373898685],[-0.0007606550352647901,0.00016945584502536803,0.00012280431110411882,-0.0003489468072075397,1.5472201994271018e-05,0.005008361767977476,-0.000296824611723423,-0.0014443518593907356,-0.0011002379469573498,0.00047453679144382477,5.145094473846257e-05,-0.0034953413996845484],[-0.0007239043479785323,0.001747687580063939,-0.00015495695697609335,5.762639921158552e-05,-9.706205310067162e-05,-0.0004229851474519819,-0.0007913309382274747,0.0002728276012931019,0.00010199570533586666,0.00042211252730339766,0.0001516342890681699,-0.000743471144232899],[0.11458044499158859,0.0002118114207405597,-0.0009421262075193226,0.00042976473923772573,0.02004348114132881,0.00210546120069921,7.702538277953863e-05,-0.001543830381706357,-0.0008480176329612732,-0.000581936037633568,0.00011931383050978184,-1.916405017254874e-05],[-0.0011267857626080513,0.0012374069774523377,-0.0012324732961133122,-0.0005951595376245677,-0.0007541439845226705,-0.0005842182436026633,0.004813130013644695,0.0001818738819565624,-0.0005363584496080875,0.000858086277730763,-0.000298737664707005,-1.218309989781119e-05],[-0.004241296090185642,0.0029529754538089037,0.0005219266749918461,0.00095333595527336,0.00016267626779153943,0.34350869059562683,-0.00030424186843447387,0.00010374094563303515,-0.005300319753587246,0.024866042658686638,0.014383039437234402,-0.002328549511730671],[-0.0023883909452706575,-0.0021722500678151846,-0.00047628203174099326,0.00043372507207095623,-0.0046734437346458435,0.0018585772486403584,-0.0026539356913417578,0.001437102328054607,0.000303335691569373,0.1304314285516739,8.924205030780286e-05,0.001177733181975782],[0.0003192777803633362,0.020570475608110428,0.00031880789902061224,-0.0025124370586127043,-0.0002622890460770577,-0.0002463805431034416,0.0005519649130292237,-0.0004311743541620672,0.000256986211752519,0.00809088721871376,-0.003069469938054681,-0.0004243276489432901],[0.0009765610448084772,0.0003931147512048483,0.0017540308181196451,0.022596193477511406,-4.4469994463725016e-05,0.00014139780250843614,0.009585145860910416,-0.0003157872997689992,0.0015269485302269459,0.001181559287942946,-0.010774257592856884,0.009365883655846119],[0.006314369849860668,-0.0010945659596472979,0.011661911383271217,0.0013476925669237971,-0.029186109080910683,0.0038341188337653875,-0.04409372806549072,-0.00503182178363204,0.0048224604688584805,0.2766475975513458,-3.138071406283416e-05,-0.0006620155763812363],[0.09538833796977997,0.02506875991821289,0.014238621108233929,0.01475447230041027,9.907579078571871e-05,-8.97119170986116e-05,0.0508292019367218,-0.5051010847091675,0.00014710337563883513,-0.0016023629577830434,0.06883098930120468,0.002326972084119916],[0.001342557487078011,0.009630723856389523,-0.07776419073343277,-0.007729287724941969,-0.0005725385854020715,-0.002957137068733573,-0.004946976434439421,0.00045856114593334496,-0.0006328164017759264,-0.0065201399847865105,-0.3204900026321411,-0.002472363878041506]],\"type\":\"heatmap\",\"xaxis\":\"x5\",\"yaxis\":\"y5\",\"hovertemplate\":\"Head: %{x}\\u003cbr\\u003eLayer: %{y}\\u003cbr\\u003ecolor: %{z}\\u003cextra\\u003e\\u003c\\u002fextra\\u003e\"}],                        {\"template\":{\"data\":{\"histogram2dcontour\":[{\"type\":\"histogram2dcontour\",\"colorbar\":{\"outlinewidth\":0,\"ticks\":\"\"},\"colorscale\":[[0.0,\"#0d0887\"],[0.1111111111111111,\"#46039f\"],[0.2222222222222222,\"#7201a8\"],[0.3333333333333333,\"#9c179e\"],[0.4444444444444444,\"#bd3786\"],[0.5555555555555556,\"#d8576b\"],[0.6666666666666666,\"#ed7953\"],[0.7777777777777778,\"#fb9f3a\"],[0.8888888888888888,\"#fdca26\"],[1.0,\"#f0f921\"]]}],\"choropleth\":[{\"type\":\"choropleth\",\"colorbar\":{\"outlinewidth\":0,\"ticks\":\"\"}}],\"histogram2d\":[{\"type\":\"histogram2d\",\"colorbar\":{\"outlinewidth\":0,\"ticks\":\"\"},\"colorscale\":[[0.0,\"#0d0887\"],[0.1111111111111111,\"#46039f\"],[0.2222222222222222,\"#7201a8\"],[0.3333333333333333,\"#9c179e\"],[0.4444444444444444,\"#bd3786\"],[0.5555555555555556,\"#d8576b\"],[0.6666666666666666,\"#ed7953\"],[0.7777777777777778,\"#fb9f3a\"],[0.8888888888888888,\"#fdca26\"],[1.0,\"#f0f921\"]]}],\"heatmap\":[{\"type\":\"heatmap\",\"colorbar\":{\"outlinewidth\":0,\"ticks\":\"\"},\"colorscale\":[[0.0,\"#0d0887\"],[0.1111111111111111,\"#46039f\"],[0.2222222222222222,\"#7201a8\"],[0.3333333333333333,\"#9c179e\"],[0.4444444444444444,\"#bd3786\"],[0.5555555555555556,\"#d8576b\"],[0.6666666666666666,\"#ed7953\"],[0.7777777777777778,\"#fb9f3a\"],[0.8888888888888888,\"#fdca26\"],[1.0,\"#f0f921\"]]}],\"heatmapgl\":[{\"type\":\"heatmapgl\",\"colorbar\":{\"outlinewidth\":0,\"ticks\":\"\"},\"colorscale\":[[0.0,\"#0d0887\"],[0.1111111111111111,\"#46039f\"],[0.2222222222222222,\"#7201a8\"],[0.3333333333333333,\"#9c179e\"],[0.4444444444444444,\"#bd3786\"],[0.5555555555555556,\"#d8576b\"],[0.6666666666666666,\"#ed7953\"],[0.7777777777777778,\"#fb9f3a\"],[0.8888888888888888,\"#fdca26\"],[1.0,\"#f0f921\"]]}],\"contourcarpet\":[{\"type\":\"contourcarpet\",\"colorbar\":{\"outlinewidth\":0,\"ticks\":\"\"}}],\"contour\":[{\"type\":\"contour\",\"colorbar\":{\"outlinewidth\":0,\"ticks\":\"\"},\"colorscale\":[[0.0,\"#0d0887\"],[0.1111111111111111,\"#46039f\"],[0.2222222222222222,\"#7201a8\"],[0.3333333333333333,\"#9c179e\"],[0.4444444444444444,\"#bd3786\"],[0.5555555555555556,\"#d8576b\"],[0.6666666666666666,\"#ed7953\"],[0.7777777777777778,\"#fb9f3a\"],[0.8888888888888888,\"#fdca26\"],[1.0,\"#f0f921\"]]}],\"surface\":[{\"type\":\"surface\",\"colorbar\":{\"outlinewidth\":0,\"ticks\":\"\"},\"colorscale\":[[0.0,\"#0d0887\"],[0.1111111111111111,\"#46039f\"],[0.2222222222222222,\"#7201a8\"],[0.3333333333333333,\"#9c179e\"],[0.4444444444444444,\"#bd3786\"],[0.5555555555555556,\"#d8576b\"],[0.6666666666666666,\"#ed7953\"],[0.7777777777777778,\"#fb9f3a\"],[0.8888888888888888,\"#fdca26\"],[1.0,\"#f0f921\"]]}],\"mesh3d\":[{\"type\":\"mesh3d\",\"colorbar\":{\"outlinewidth\":0,\"ticks\":\"\"}}],\"scatter\":[{\"fillpattern\":{\"fillmode\":\"overlay\",\"size\":10,\"solidity\":0.2},\"type\":\"scatter\"}],\"parcoords\":[{\"type\":\"parcoords\",\"line\":{\"colorbar\":{\"outlinewidth\":0,\"ticks\":\"\"}}}],\"scatterpolargl\":[{\"type\":\"scatterpolargl\",\"marker\":{\"colorbar\":{\"outlinewidth\":0,\"ticks\":\"\"}}}],\"bar\":[{\"error_x\":{\"color\":\"#2a3f5f\"},\"error_y\":{\"color\":\"#2a3f5f\"},\"marker\":{\"line\":{\"color\":\"#E5ECF6\",\"width\":0.5},\"pattern\":{\"fillmode\":\"overlay\",\"size\":10,\"solidity\":0.2}},\"type\":\"bar\"}],\"scattergeo\":[{\"type\":\"scattergeo\",\"marker\":{\"colorbar\":{\"outlinewidth\":0,\"ticks\":\"\"}}}],\"scatterpolar\":[{\"type\":\"scatterpolar\",\"marker\":{\"colorbar\":{\"outlinewidth\":0,\"ticks\":\"\"}}}],\"histogram\":[{\"marker\":{\"pattern\":{\"fillmode\":\"overlay\",\"size\":10,\"solidity\":0.2}},\"type\":\"histogram\"}],\"scattergl\":[{\"type\":\"scattergl\",\"marker\":{\"colorbar\":{\"outlinewidth\":0,\"ticks\":\"\"}}}],\"scatter3d\":[{\"type\":\"scatter3d\",\"line\":{\"colorbar\":{\"outlinewidth\":0,\"ticks\":\"\"}},\"marker\":{\"colorbar\":{\"outlinewidth\":0,\"ticks\":\"\"}}}],\"scattermapbox\":[{\"type\":\"scattermapbox\",\"marker\":{\"colorbar\":{\"outlinewidth\":0,\"ticks\":\"\"}}}],\"scatterternary\":[{\"type\":\"scatterternary\",\"marker\":{\"colorbar\":{\"outlinewidth\":0,\"ticks\":\"\"}}}],\"scattercarpet\":[{\"type\":\"scattercarpet\",\"marker\":{\"colorbar\":{\"outlinewidth\":0,\"ticks\":\"\"}}}],\"carpet\":[{\"aaxis\":{\"endlinecolor\":\"#2a3f5f\",\"gridcolor\":\"white\",\"linecolor\":\"white\",\"minorgridcolor\":\"white\",\"startlinecolor\":\"#2a3f5f\"},\"baxis\":{\"endlinecolor\":\"#2a3f5f\",\"gridcolor\":\"white\",\"linecolor\":\"white\",\"minorgridcolor\":\"white\",\"startlinecolor\":\"#2a3f5f\"},\"type\":\"carpet\"}],\"table\":[{\"cells\":{\"fill\":{\"color\":\"#EBF0F8\"},\"line\":{\"color\":\"white\"}},\"header\":{\"fill\":{\"color\":\"#C8D4E3\"},\"line\":{\"color\":\"white\"}},\"type\":\"table\"}],\"barpolar\":[{\"marker\":{\"line\":{\"color\":\"#E5ECF6\",\"width\":0.5},\"pattern\":{\"fillmode\":\"overlay\",\"size\":10,\"solidity\":0.2}},\"type\":\"barpolar\"}],\"pie\":[{\"automargin\":true,\"type\":\"pie\"}]},\"layout\":{\"autotypenumbers\":\"strict\",\"colorway\":[\"#636efa\",\"#EF553B\",\"#00cc96\",\"#ab63fa\",\"#FFA15A\",\"#19d3f3\",\"#FF6692\",\"#B6E880\",\"#FF97FF\",\"#FECB52\"],\"font\":{\"color\":\"#2a3f5f\"},\"hovermode\":\"closest\",\"hoverlabel\":{\"align\":\"left\"},\"paper_bgcolor\":\"white\",\"plot_bgcolor\":\"#E5ECF6\",\"polar\":{\"bgcolor\":\"#E5ECF6\",\"angularaxis\":{\"gridcolor\":\"white\",\"linecolor\":\"white\",\"ticks\":\"\"},\"radialaxis\":{\"gridcolor\":\"white\",\"linecolor\":\"white\",\"ticks\":\"\"}},\"ternary\":{\"bgcolor\":\"#E5ECF6\",\"aaxis\":{\"gridcolor\":\"white\",\"linecolor\":\"white\",\"ticks\":\"\"},\"baxis\":{\"gridcolor\":\"white\",\"linecolor\":\"white\",\"ticks\":\"\"},\"caxis\":{\"gridcolor\":\"white\",\"linecolor\":\"white\",\"ticks\":\"\"}},\"coloraxis\":{\"colorbar\":{\"outlinewidth\":0,\"ticks\":\"\"}},\"colorscale\":{\"sequential\":[[0.0,\"#0d0887\"],[0.1111111111111111,\"#46039f\"],[0.2222222222222222,\"#7201a8\"],[0.3333333333333333,\"#9c179e\"],[0.4444444444444444,\"#bd3786\"],[0.5555555555555556,\"#d8576b\"],[0.6666666666666666,\"#ed7953\"],[0.7777777777777778,\"#fb9f3a\"],[0.8888888888888888,\"#fdca26\"],[1.0,\"#f0f921\"]],\"sequentialminus\":[[0.0,\"#0d0887\"],[0.1111111111111111,\"#46039f\"],[0.2222222222222222,\"#7201a8\"],[0.3333333333333333,\"#9c179e\"],[0.4444444444444444,\"#bd3786\"],[0.5555555555555556,\"#d8576b\"],[0.6666666666666666,\"#ed7953\"],[0.7777777777777778,\"#fb9f3a\"],[0.8888888888888888,\"#fdca26\"],[1.0,\"#f0f921\"]],\"diverging\":[[0,\"#8e0152\"],[0.1,\"#c51b7d\"],[0.2,\"#de77ae\"],[0.3,\"#f1b6da\"],[0.4,\"#fde0ef\"],[0.5,\"#f7f7f7\"],[0.6,\"#e6f5d0\"],[0.7,\"#b8e186\"],[0.8,\"#7fbc41\"],[0.9,\"#4d9221\"],[1,\"#276419\"]]},\"xaxis\":{\"gridcolor\":\"white\",\"linecolor\":\"white\",\"ticks\":\"\",\"title\":{\"standoff\":15},\"zerolinecolor\":\"white\",\"automargin\":true,\"zerolinewidth\":2},\"yaxis\":{\"gridcolor\":\"white\",\"linecolor\":\"white\",\"ticks\":\"\",\"title\":{\"standoff\":15},\"zerolinecolor\":\"white\",\"automargin\":true,\"zerolinewidth\":2},\"scene\":{\"xaxis\":{\"backgroundcolor\":\"#E5ECF6\",\"gridcolor\":\"white\",\"linecolor\":\"white\",\"showbackground\":true,\"ticks\":\"\",\"zerolinecolor\":\"white\",\"gridwidth\":2},\"yaxis\":{\"backgroundcolor\":\"#E5ECF6\",\"gridcolor\":\"white\",\"linecolor\":\"white\",\"showbackground\":true,\"ticks\":\"\",\"zerolinecolor\":\"white\",\"gridwidth\":2},\"zaxis\":{\"backgroundcolor\":\"#E5ECF6\",\"gridcolor\":\"white\",\"linecolor\":\"white\",\"showbackground\":true,\"ticks\":\"\",\"zerolinecolor\":\"white\",\"gridwidth\":2}},\"shapedefaults\":{\"line\":{\"color\":\"#2a3f5f\"}},\"annotationdefaults\":{\"arrowcolor\":\"#2a3f5f\",\"arrowhead\":0,\"arrowwidth\":1},\"geo\":{\"bgcolor\":\"white\",\"landcolor\":\"#E5ECF6\",\"subunitcolor\":\"white\",\"showland\":true,\"showlakes\":true,\"lakecolor\":\"white\"},\"title\":{\"x\":0.05},\"mapbox\":{\"style\":\"light\"}}},\"xaxis\":{\"anchor\":\"y\",\"domain\":[0.0,0.18400000000000002],\"scaleanchor\":\"y\",\"constrain\":\"domain\",\"title\":{\"text\":\"Head\"}},\"yaxis\":{\"anchor\":\"x\",\"domain\":[0.0,1.0],\"autorange\":\"reversed\",\"constrain\":\"domain\",\"title\":{\"text\":\"Layer\"}},\"xaxis2\":{\"anchor\":\"y2\",\"domain\":[0.20400000000000001,0.388],\"matches\":\"x\",\"title\":{\"text\":\"Head\"}},\"yaxis2\":{\"anchor\":\"x2\",\"domain\":[0.0,1.0],\"matches\":\"y\",\"showticklabels\":false},\"xaxis3\":{\"anchor\":\"y3\",\"domain\":[0.40800000000000003,0.5920000000000001],\"matches\":\"x\",\"title\":{\"text\":\"Head\"}},\"yaxis3\":{\"anchor\":\"x3\",\"domain\":[0.0,1.0],\"matches\":\"y\",\"showticklabels\":false},\"xaxis4\":{\"anchor\":\"y4\",\"domain\":[0.6120000000000001,0.7960000000000002],\"matches\":\"x\",\"title\":{\"text\":\"Head\"}},\"yaxis4\":{\"anchor\":\"x4\",\"domain\":[0.0,1.0],\"matches\":\"y\",\"showticklabels\":false},\"xaxis5\":{\"anchor\":\"y5\",\"domain\":[0.8160000000000001,1.0],\"matches\":\"x\",\"title\":{\"text\":\"Head\"}},\"yaxis5\":{\"anchor\":\"x5\",\"domain\":[0.0,1.0],\"matches\":\"y\",\"showticklabels\":false},\"annotations\":[{\"font\":{},\"showarrow\":false,\"text\":\"Output\",\"x\":0.09200000000000001,\"xanchor\":\"center\",\"xref\":\"paper\",\"y\":1.0,\"yanchor\":\"bottom\",\"yref\":\"paper\"},{\"font\":{},\"showarrow\":false,\"text\":\"Query\",\"x\":0.29600000000000004,\"xanchor\":\"center\",\"xref\":\"paper\",\"y\":1.0,\"yanchor\":\"bottom\",\"yref\":\"paper\"},{\"font\":{},\"showarrow\":false,\"text\":\"Key\",\"x\":0.5,\"xanchor\":\"center\",\"xref\":\"paper\",\"y\":1.0,\"yanchor\":\"bottom\",\"yref\":\"paper\"},{\"font\":{},\"showarrow\":false,\"text\":\"Value\",\"x\":0.7040000000000002,\"xanchor\":\"center\",\"xref\":\"paper\",\"y\":1.0,\"yanchor\":\"bottom\",\"yref\":\"paper\"},{\"font\":{},\"showarrow\":false,\"text\":\"Pattern\",\"x\":0.908,\"xanchor\":\"center\",\"xref\":\"paper\",\"y\":1.0,\"yanchor\":\"bottom\",\"yref\":\"paper\"}],\"coloraxis\":{\"colorscale\":[[0.0,\"rgb(103,0,31)\"],[0.1,\"rgb(178,24,43)\"],[0.2,\"rgb(214,96,77)\"],[0.3,\"rgb(244,165,130)\"],[0.4,\"rgb(253,219,199)\"],[0.5,\"rgb(247,247,247)\"],[0.6,\"rgb(209,229,240)\"],[0.7,\"rgb(146,197,222)\"],[0.8,\"rgb(67,147,195)\"],[0.9,\"rgb(33,102,172)\"],[1.0,\"rgb(5,48,97)\"]],\"cmid\":0.0},\"title\":{\"text\":\"Activation Patching Per Head (All Pos)\"}},                        {\"staticPlot\": false, \"responsive\": true}                    ).then(function(){\n",
              "                            \n",
              "var gd = document.getElementById('b61dbd26-235f-467b-b726-e3cce25f95e1');\n",
              "var x = new MutationObserver(function (mutations, observer) {{\n",
              "        var display = window.getComputedStyle(gd).display;\n",
              "        if (!display || display === 'none') {{\n",
              "            console.log([gd, 'removed!']);\n",
              "            Plotly.purge(gd);\n",
              "            observer.disconnect();\n",
              "        }}\n",
              "}});\n",
              "\n",
              "// Listen for the removal of the full notebook cells\n",
              "var notebookContainer = gd.closest('#notebook-container');\n",
              "if (notebookContainer) {{\n",
              "    x.observe(notebookContainer, {childList: true});\n",
              "}}\n",
              "\n",
              "// Listen for the clearing of the current output cell\n",
              "var outputEl = gd.closest('.output');\n",
              "if (outputEl) {{\n",
              "    x.observe(outputEl, {childList: true});\n",
              "}}\n",
              "\n",
              "                        })                };                            </script>        </div>\n",
              "</body>\n",
              "</html>"
            ]
          },
          "metadata": {}
        }
      ]
    },
    {
      "cell_type": "markdown",
      "metadata": {
        "id": "u-XMqTXhl6mQ"
      },
      "source": [
        "### Exercise (optional) - implement head-to-head-input patching\n",
        "\n",
        "```c\n",
        "Difficulty: 🔴🔴⚪⚪⚪\n",
        "Importance: 🔵🔵⚪⚪⚪\n",
        "\n",
        "You should spend up to ~10 minutes on this exercise.\n",
        "\n",
        "Most code can be copied from the last exercise.\n",
        "```\n",
        "\n",
        "Again, if you want to implement this yourself then you can do so below, but it isn't a compulsory exercise because it isn't conceptually different from the previous exercises. If you don't implement it, then you should still look at the solution to make sure you understand what's going on.\n"
      ]
    },
    {
      "cell_type": "code",
      "execution_count": null,
      "metadata": {
        "id": "M2BtLSBKl6mQ"
      },
      "outputs": [],
      "source": [
        "def patch_attn_patterns(\n",
        "    corrupted_head_vector: Float[Tensor, \"batch head_index pos_q pos_k\"],\n",
        "    hook: HookPoint,\n",
        "    head_index: int,\n",
        "    clean_cache: ActivationCache\n",
        ") -> Float[Tensor, \"batch pos head_index d_head\"]:\n",
        "    '''\n",
        "    Patches the attn patterns of a given head at every sequence position, using\n",
        "    the value from the clean cache.\n",
        "    '''\n",
        "    pass\n",
        "\n",
        "def get_act_patch_attn_head_all_pos_every(\n",
        "    model: HookedTransformer,\n",
        "    corrupted_tokens: Float[Tensor, \"batch pos\"],\n",
        "    clean_cache: ActivationCache,\n",
        "    patching_metric: Callable\n",
        ") -> Float[Tensor, \"layer head\"]:\n",
        "    '''\n",
        "    Returns an array of results of patching at all positions for each head in each\n",
        "    layer (using the value from the clean cache) for output, queries, keys, values\n",
        "    and attn pattern in turn.\n",
        "\n",
        "    The results are calculated using the patching_metric function, which should be\n",
        "    called on the model's logit output.\n",
        "    '''\n",
        "    pass\n",
        "    # oh it's the same idea, except looping through five sub-component activations\n",
        "    # [\"z\", \"q\", \"k\", \"v\", \"pattern\"] to feed into utils.get_act_name()\n",
        "\n",
        "act_patch_attn_head_all_pos_every_own = get_act_patch_attn_head_all_pos_every(\n",
        "    model,\n",
        "    corrupted_tokens,\n",
        "    clean_cache,\n",
        "    ioi_metric\n",
        ")\n",
        "\n",
        "t.testing.assert_close(act_patch_attn_head_all_pos_every, act_patch_attn_head_all_pos_every_own)"
      ]
    },
    {
      "cell_type": "code",
      "source": [
        "imshow(\n",
        "    act_patch_attn_head_all_pos_every_own,\n",
        "    facet_col=0,\n",
        "    facet_labels=[\"Output\", \"Query\", \"Key\", \"Value\", \"Pattern\"],\n",
        "    title=\"Activation Patching Per Head (All Pos)\",\n",
        "    labels={\"x\": \"Head\", \"y\": \"Layer\"},\n",
        "    width=1200\n",
        ")"
      ],
      "metadata": {
        "id": "PmJl0xp_zpvm"
      },
      "execution_count": null,
      "outputs": []
    },
    {
      "cell_type": "markdown",
      "metadata": {
        "id": "eBPQQe9Yl6mR"
      },
      "source": [
        "Note - we can do this in an even more fine-grained way; the function `patching.get_act_patch_attn_head_by_pos_every` (i.e. same as above but replacing `all_pos` with `by_pos`) will give you the same decomposition, but by sequence position *as well as* by layer, head and component. The same holds for the `patching.get_act_patch_attn_head_out_all_pos` function earlier (replace `all_pos` with `by_pos`). These functions are unsurprisingly pretty slow though!\n"
      ]
    },
    {
      "cell_type": "markdown",
      "metadata": {
        "id": "s4qCUPESl6mR"
      },
      "source": [
        "This plot has some striking features. For instance, this shows us that we have at least three different groups of heads:\n",
        "\n",
        "* Earlier heads (`3.0`, `5.5`, `6.9`) which matter because of their attention patterns (specifically their query vectors).\n",
        "* Middle heads in layers 7 & 8 (`7.3`, `7.9`, `8.6`, `8.10`) seem to matter more because of their value vectors.\n",
        "* Later heads which improve the logit difference (`9.9`, `10.0`), which matter because of their query vectors.\n",
        "\n",
        "Question - what is the significance of the results for the middle heads (i.e. the important ones in layers 7 & 8)? In particular, how should we interpret the fact that value patching has a much bigger effect than the other two forms of patching?\n",
        "\n",
        "*Hint - if you're confused, try plotting the attention patterns of heads `7.3`, `7.9`, `8.6`, `8.10`. You can mostly reuse the code from above when we displayed the output of attention heads.*\n",
        "\n",
        "<details>\n",
        "<summary>Code to plot attention heads</summary>\n",
        "\n",
        "```python\n",
        "# Get the heads with largest value patching\n",
        "# (we know from plot above that these are the 4 heads in layers 7 & 8)\n",
        "k = 4\n",
        "top_heads = topk_of_Nd_tensor(act_patch_attn_head_all_pos_every[3], k=k)\n",
        "\n",
        "# Get all their attention patterns\n",
        "attn_patterns_for_important_heads: Float[Tensor, \"head q k\"] = t.stack([\n",
        "    cache[\"pattern\", layer][:, head].mean(0)\n",
        "        for layer, head in top_heads\n",
        "])\n",
        "\n",
        "# Display results\n",
        "display(HTML(f\"<h2>Top {k} Logit Attribution Heads (from value-patching)</h2>\"))\n",
        "display(cv.attention.attention_patterns(\n",
        "    attention = attn_patterns_for_important_heads,\n",
        "    tokens = model.to_str_tokens(tokens[0]),\n",
        "    attention_head_names = [f\"{layer}.{head}\" for layer, head in top_heads],\n",
        "))\n",
        "```\n",
        "</details>\n",
        "\n",
        "<details>\n",
        "<summary>Answer</summary>\n",
        "\n",
        "The attention patterns show us that these heads attend from `END` to `S2`, so we can guess that they're responsible for moving information from `S2` to `END` which is used to determine the answer. This agrees with our earlier results, when we saw that most of the information gets moved over layers 7 & 8.\n",
        "\n",
        "The fact that value patching is the most important thing for them suggests that the interesting computation goes into **what information they move from `S2` to `end`**, rather than **why `end` attends to `S2`**. See the diagram below if you're confused why we can draw this inference.\n",
        "\n",
        "<img src=\"https://raw.githubusercontent.com/callummcdougall/computational-thread-art/master/example_images/misc/k-vs-v-patching-explained.png\" width=\"900\">\n",
        "\n",
        "</details>\n"
      ]
    },
    {
      "cell_type": "markdown",
      "metadata": {
        "id": "YWHZ83sIl6mR"
      },
      "source": [
        "## Consolidating Understanding\n"
      ]
    },
    {
      "cell_type": "markdown",
      "metadata": {
        "id": "pwUPrrhbl6mR"
      },
      "source": [
        "OK, let's zoom out and reconsolidate. Here's a recap of the most important observations we have so far:\n",
        "\n",
        "* Heads `9.9`, `9.6`, and `10.0` are the most important heads in terms of directly writing to the residual stream. In all these heads, the `END` attends strongly to the `IO`.\n",
        "    * We discovered this by taking the values written by each head in each layer to the residual stream, and projecting them along the logit diff direction by using `residual_stack_to_logit_diff`. We also looked at attention patterns using `circuitsvis`.\n",
        "    * <span style=\"color:darkorange\">**This suggests that these heads are copying `IO` to `end`, to use it as the predicted next token.**</span>\n",
        "    * The question then becomes *\"how do these heads know to attend to this token, and not attend to `S`?\"*\n",
        "\n",
        "<br>\n",
        "\n",
        "* All the action is on `S2` until layer 7 and then transitions to `END`. And that attention layers matter a lot, MLP layers not so much (apart from MLP0, likely as an extended embedding).\n",
        "    * We discovered this by doing **activation patching** on `resid_pre`, `attn_out`, and `mlp_out`.\n",
        "    * <span style=\"color:darkorange\">**This suggests that there is a cluster of heads in layers 7 & 8, which move information from `S2` to `END`. We deduce that this information is how heads `9.9`, `9.6` and `10.0` know to attend to `IO`.**</span>\n",
        "    * The question then becomes *\"what is this information, how does it end up in the `S2` token, and how does `END` know to attend to it?\"*\n",
        "\n",
        "<br>\n",
        "\n",
        "* The significant heads in layers 7 & 8 are `7.3`, `7.9`, `8.6`, `8.10`. These heads have high activation patching values for their value vectors, less so for their queries and keys.\n",
        "    * We discovered this by doing **activation patching** on the value inputs for these heads.\n",
        "    * <span style=\"color:darkorange\">**This supports the previous observation, and it tells us that the interesting computation goes into *what gets moved* from `S2` to `END`, rather than the fact that `END` attends to `S2`.**</span>.\n",
        "    * We still don't know: *\"what is this information, and how does it end up in the `S2` token?\"*\n",
        "\n",
        "<br>\n",
        "\n",
        "* As well as the 2 clusters of heads given above, there's a third cluster of important heads: early heads (e.g. `3.0`, `5.5`, `6.9`) whose query vectors are particularly important for getting good performance.\n",
        "    * We discovered this by doing **activation patching** on the query inputs for these heads.\n"
      ]
    },
    {
      "cell_type": "markdown",
      "metadata": {
        "id": "Z7B36Pu_l6mS"
      },
      "source": [
        "With all this in mind, can you come up with a theory for what these three heads are doing, and come up with a simple model of the whole circuit?\n",
        "\n",
        "*Hint - if you're still stuck, try plotting the attention pattern of head `3.0`. The patterns of `5.5` and `6.9` might seem a bit confusing at first (they add complications to the \"simplest possible picture\" of how the circuit works); we'll discuss them later so they don't get in the way of understanding the core of the circuit.*\n",
        "\n",
        "<details>\n",
        "<summary>Answer (and simple diagram of circuit)</summary>\n",
        "\n",
        "If you plotted the attention pattern for head `3.0`, you should have seen that `S2` paid attention to `S1`. This suggests that the early heads are detecting when the destination token is a duplicate. So the information that the subject is a duplicate gets stored in `S2`.\n",
        "\n",
        "How can the information that the subject token is a duplicate help us predict the token after `end`? Well, the correct answer (the `IO` token) is the non-duplicated token. So we can infer that the information that the subject token is a duplicate is used to *inhibit* the attention of the late heads to the duplicated token, and they instead attend to the non-duplicated token.\n",
        "\n",
        "To summarise the second half of the circuit: information about this duplicated token is then moved from `S2` to `end` by the middle cluster of heads `7.3`, `7.9`, `8.6` and `8.10`, and this information goes into the queries of the late heads `9.9`, `9.6` and `10.0`, making them *inhibit* their attention to the duplicated token. Instead, they attend to `IO` (copying this token directly to the logits).\n",
        "\n",
        "This picture of the circuit turns out to be mostly right. It misses out on some subtleties which we'll discuss shortly, but it's a good rough picture to have in your head. We might illustrate this as follows:\n",
        "\n",
        "<img src=\"https://raw.githubusercontent.com/callummcdougall/computational-thread-art/master/example_images/misc/ioi-main-simple.png\" width=\"1000\">\n",
        "\n",
        "Explanation:\n",
        "\n",
        "* We call the early heads **DTH** (duplicate token heads), their job is to detect that `S2` is a duplicate.\n",
        "* The second group of heads are called **SIH** (S-inhibition heads), their job is to move the duplicated token information from `S2` to `END`. We've illustrated this as them moving the positional information, but in principle this could also be token embedding information (more on this in the final section).\n",
        "* The last group of heads are called **NMH** (name mover heads), their job is to copy the `IO` token to the `END` token, where it is used as the predicted next token (thanks to the S-inihbition heads, these heads don't pay attention to the `S` token).\n",
        "\n",
        "Note - if you're still confused about how to interpret this diagram, but you understand induction circuits and how they work, it might help to compare this diagram to one written in the same style which I made for [induction circuits](https://raw.githubusercontent.com/callummcdougall/computational-thread-art/master/example_images/misc/ih-simple.png). Also, if you've read my induction heads [LessWrong post](https://www.lesswrong.com/posts/TvrfY4c9eaGLeyDkE/induction-heads-illustrated) and you're confused about how this style of diagram is different from that one, [here](https://raw.githubusercontent.com/callummcdougall/computational-thread-art/master/example_images/misc/ih-compared.png) is an image comparing the two diagrams (for induction heads) and explaining how they differ.\n",
        "\n",
        "</details>\n"
      ]
    },
    {
      "cell_type": "markdown",
      "metadata": {
        "id": "ERpYurdFl6mS"
      },
      "source": [
        "Now, let's flesh out this picture a bit more by comparing our results to the paper results. Below is a more complicated version of the diagram in the dropdown above, which also labels the important heads. The diagram is based on the paper's [original diagram](https://res.cloudinary.com/lesswrong-2-0/image/upload/v1672942728/mirroredImages/3ecs6duLmTfyra3Gp/h5icqzpyuhu4mqvfjhvw.png). Don't worry if you don't understand everything in this diagram; the boundaries of the circuit are fuzzy and the \"role\" of every head is in this circuit is a leaky abstraction. Rather, this diagram is meant to point your intuitions in the right direction for better understanding this circuit.\n",
        "\n",
        "<details>\n",
        "<summary>Diagram of large circuit</summary>\n",
        "\n",
        "<img src=\"https://raw.githubusercontent.com/callummcdougall/computational-thread-art/master/example_images/misc/ioi-main-full-c.png\" width=\"1250\">\n",
        "</details>\n"
      ]
    },
    {
      "cell_type": "markdown",
      "metadata": {
        "id": "TmamR-1UpwHd"
      },
      "source": [
        "Here are the main ways it differs from the one above:\n"
      ]
    },
    {
      "cell_type": "markdown",
      "metadata": {
        "id": "OCRqaIqBpz70"
      },
      "source": [
        "#### Induction heads\n",
        "\n",
        "Rather than just having duplicate token heads in the first cluster of heads, we have two other types of heads as well: previous token heads and induction heads. The induction heads do the same thing as the duplicate token heads, via an induction mechanism. They cause token `S2` to attend to `S1+1` (mediated by the previous token heads), and their output is used as both a pointer to `S1` and as a signal that `S1` is duplicated (more on the distinction between these two in the paragraph \"Position vs token information being moved\" below).\n",
        "\n",
        "*(Note - the original paper's diagram implies the induction heads and duplicate token heads compose with each other. This is misleading, and is not the case.)*\n",
        "\n",
        "Why are induction heads used in this circuit? We'll dig into this more in the bonus section, but one likely possibility is that induction heads are just a thing that forms very early on in training by default, and so it makes sense for the model to repurpose this already-existing machinery for this job. See [this paper](https://transformer-circuits.pub/2022/in-context-learning-and-induction-heads/index.html) for more on induction heads, and how / why they form.\n"
      ]
    },
    {
      "cell_type": "markdown",
      "metadata": {
        "id": "Xi34JQ3wp1el"
      },
      "source": [
        "#### Negative & Backup name mover heads\n",
        "\n",
        "Earlier, we saw that some heads in later layers were actually harming performance. These heads turn out to be doing something pretty similar to name mover heads, but in reverse (i.e. they inhibit the correct answer). It's not obvious why the model does this; the paper speculates that these heads might help the model \"hedge\" so as to avoid high cross-entropy loss when making mistakes.\n",
        "\n",
        "Backup name mover heads are possibly even weirder. It turns out that when we **ablate** the name mover heads, these ones pick up the slack and do the task anyway (even though they don't seem to do it when the NMHs aren't ablated). This is an example of **built-in redundancy** in the model. One possible explanation is that this resulted from the model being trained with dropout, although this explanation isn't fully satisfying (models trained without dropout still seem to have BNMHs, although they aren't as strong as they are in this model). Like with induction heads, we'll dig into this more in the final section.\n"
      ]
    },
    {
      "cell_type": "markdown",
      "metadata": {
        "id": "JxzpY4Frp2rp"
      },
      "source": [
        "#### Positional vs token information\n",
        "\n",
        "There are 2 kinds of S-inhibition heads shown in the diagram - ones that inhibit based on positional information (pink), and ones that inhibit based on token information (purple). It's not clear which heads are doing which (and in fact some heads might be doing both!).\n",
        "\n",
        "The paper has an ingenious way of teasing apart which type of information is being used by which of the S-inhibition heads, which we'll discuss in the final section.\n"
      ]
    },
    {
      "cell_type": "markdown",
      "metadata": {
        "id": "TaJWx_rwp33O"
      },
      "source": [
        "#### K-composition in S-inhibition heads\n",
        "\n",
        "When we did activation patching on the keys and values of S-inhibition heads, we found that the values were important and the keys weren't. We concluded that K-composition isn't really happening in these heads, and `END` must be paying attention to `S2` for reasons other than the duplicate token information (e.g. it might just be paying attention to the closest name, or to any names which aren't separated from it by a comma). Although this is mostly true, it turns out that there is a bit of K-composition happening in these heads. We can think of this as the duplicate token heads writing the \"duplicated\" flag to the residual stream (without containing any information about the identity and position of this token), and this flag is being used by the keys of the S-inhibition heads (i.e. they make `END` pay attention to `S2`). In the diagram, this is represented by the dark grey boxes (rather than just the light grey boxes we had in the simplified version). We haven't seen any evidence for this happening yet, but we will in the next section (when we look at path patching).\n",
        "\n",
        "Note - whether the early heads are writing positional information or \"duplicate flag\" information to the residual stream is not necessarily related to whether the head is an induction head or a duplicate token head. In principle, either type of head could write either type of information.\n"
      ]
    },
    {
      "cell_type": "markdown",
      "metadata": {
        "id": "teSb1k5Ul6mS"
      },
      "source": [
        "# 4️⃣ Path Patching\n"
      ]
    },
    {
      "cell_type": "markdown",
      "metadata": {
        "id": "V3CwDlMzd2-J"
      },
      "source": [
        "> ##### Learning objectives\n",
        ">\n",
        "> * Understand the idea of path patching, and how it differs from activation patching\n",
        "> * Implement path patching from scratch (i.e. using hooks)\n",
        "> * Replicate several of the results in the [IOI paper](https://arxiv.org/abs/2211.00593)\n"
      ]
    },
    {
      "cell_type": "markdown",
      "metadata": {
        "id": "coJBdcIil6mS"
      },
      "source": [
        "This section will be a lot less conceptual and exploratory than the last two sections, and a lot more technical and rigorous. You'll learn what path patching is and how it works, and you'll use it to replicate many of the paper's results (as well as some other paper results not related to path patching).\n"
      ]
    },
    {
      "cell_type": "markdown",
      "metadata": {
        "id": "Srst_LcHl6mS"
      },
      "source": [
        "## Setup\n"
      ]
    },
    {
      "cell_type": "markdown",
      "metadata": {
        "id": "tDDY8pgll6mS"
      },
      "source": [
        "Here, we'll be more closely following the setup that the paper's authors used, rather than the rough-and-ready exploration we used in the first few sections. To be clear, a lot of the rigour that we'll be using in the setup here isn't necessary if you're just starting to investigate a model's circuit. This rigour is necessary if you're publishing a paper, but it can take a lot of time and effort!\n"
      ]
    },
    {
      "cell_type": "code",
      "execution_count": null,
      "metadata": {
        "id": "MHJUVp2jl6mS"
      },
      "outputs": [],
      "source": [
        "from part3_indirect_object_identification.ioi_dataset import NAMES, IOIDataset"
      ]
    },
    {
      "cell_type": "markdown",
      "metadata": {
        "id": "q36cUtm7l6mS"
      },
      "source": [
        "The dataset we'll be using is an instance of `IOIDataset`, which is generated by randomly choosing names from the `NAMES` list (as well as sentence templates and objects from different lists). You can look at the `ioi_dataset.py` file to see details of how this is done.\n",
        "\n",
        "(Note - you can reduce `N` if you're getting memory errors from running this code. If you're still getting memory errors from `N = 10` then you're recommended to switch to Colab, or to use a virtual machine e.g. via Lambda Labs.)\n"
      ]
    },
    {
      "cell_type": "code",
      "execution_count": null,
      "metadata": {
        "id": "oQfjMAcMl6mT"
      },
      "outputs": [],
      "source": [
        "N = 25\n",
        "ioi_dataset = IOIDataset(\n",
        "    prompt_type=\"mixed\",\n",
        "    N=N,\n",
        "    tokenizer=model.tokenizer,\n",
        "    prepend_bos=False,\n",
        "    seed=1,\n",
        "    device=str(device)\n",
        ")"
      ]
    },
    {
      "cell_type": "markdown",
      "metadata": {
        "id": "qlMXGGqel6mT"
      },
      "source": [
        "This dataset has a few useful attributes & methods. Here are the main ones you should be aware of for these exercises:\n",
        "\n",
        "* `toks` is a tensor of shape `(batch_size, max_seq_len)` containing the token IDs (i.e. this is what you pass to your model)\n",
        "* `s_tokenIDs` and `io_tokenIDs` are lists containing the token IDs for the subjects and objects\n",
        "* `sentences` is a list containing the sentences (as strings)\n",
        "* `word_idx` is a dictionary mapping word types (e.g. `\"S1\"`, `\"S2\"`, `\"IO\"` or `\"end\"`) to tensors containing the positions of those words for each sequence in the dataset.\n",
        "    * This is particularly handy for indexing, since the positions of the subject, indirect object, and end tokens are no longer the same in every sentence like they were in previous sections.\n"
      ]
    },
    {
      "cell_type": "markdown",
      "metadata": {
        "id": "6rOo1Wa9l6mT"
      },
      "source": [
        "Firstly, what dataset should we use for patching? In the previous section we just flipped the subject and indirect object tokens around, which meant the direction of the signal was flipped around. However, what we'll be doing here is a bit more principled - rather than flipping the IOI signal, we'll be erasing it. We do this by constructing a new dataset from `ioi_dataset` which replaces every name with a different random name. This way, the sentence structure stays the same, but all information related to the actual indirect object identification  task (i.e. the identities and positions of repeated names) has been erased.\n",
        "\n",
        "For instance, given the sentence `\"When John and Mary went to the shops, John gave the bag to Mary\"`, the corresponding sentence in the ABC dataset might be `\"When Edward and Laura went to the shops, Adam gave the bag to Mary\"`. We would expect the residual stream for the latter prompt to carry no token or positional information which could help it solve the IOI task (i.e. favouring `Mary` over `John`, or favouring the 2nd token over the 4th token).\n",
        "\n",
        "We define this dataset below. Note the syntax of the `gen_flipped_prompts` method - the letters tell us how to replace the names in the sequence. For instance, `ABB->XYZ` tells us to take sentences of the form `\"When Mary and John went to the store, John gave a drink to Mary\"` with `\"When [X] and [Y] went to the store, [Z] gave a drink to Mary\"` for 3 independent randomly chosen names `[X]`, `[Y]` and `[Z]`. We'll use this function more in the bonus section, when we're trying to disentangle positional and token signals (since we can also do fun things like `ABB->BAB` to swap the first two names, etc).\n"
      ]
    },
    {
      "cell_type": "code",
      "execution_count": null,
      "metadata": {
        "id": "vHpmVgCjl6mT"
      },
      "outputs": [],
      "source": [
        "abc_dataset = ioi_dataset.gen_flipped_prompts(\"ABB->XYZ, BAB->XYZ\")"
      ]
    },
    {
      "cell_type": "markdown",
      "metadata": {
        "id": "nod-zm4_l6mT"
      },
      "source": [
        "Let's take a look at this dataset. We'll define a helper function `make_table`, which prints out tables after being fed columns rather than rows (don't worry about the syntax, it's not important).\n"
      ]
    },
    {
      "cell_type": "code",
      "execution_count": null,
      "metadata": {
        "id": "gN6-2ApVl6mT"
      },
      "outputs": [],
      "source": [
        "def format_prompt(sentence: str) -> str:\n",
        "    '''Format a prompt by underlining names (for rich print)'''\n",
        "    return re.sub(\"(\" + \"|\".join(NAMES) + \")\", lambda x: f\"[u bold dark_orange]{x.group(0)}[/]\", sentence) + \"\\n\"\n",
        "\n",
        "\n",
        "def make_table(cols, colnames, title=\"\", n_rows=5, decimals=4):\n",
        "    '''Makes and displays a table, from cols rather than rows (using rich print)'''\n",
        "    table = Table(*colnames, title=title)\n",
        "    rows = list(zip(*cols))\n",
        "    f = lambda x: x if isinstance(x, str) else f\"{x:.{decimals}f}\"\n",
        "    for row in rows[:n_rows]:\n",
        "        table.add_row(*list(map(f, row)))\n",
        "    rprint(table)"
      ]
    },
    {
      "cell_type": "code",
      "execution_count": null,
      "metadata": {
        "id": "-UlIiMNDl6mT"
      },
      "outputs": [],
      "source": [
        "make_table(\n",
        "    colnames = [\"IOI prompt\", \"IOI subj\", \"IOI indirect obj\", \"ABC prompt\"],\n",
        "    cols = [\n",
        "        map(format_prompt, ioi_dataset.sentences),\n",
        "        model.to_string(ioi_dataset.s_tokenIDs).split(),\n",
        "        model.to_string(ioi_dataset.io_tokenIDs).split(),\n",
        "        map(format_prompt, abc_dataset.sentences),\n",
        "    ],\n",
        "    title = \"Sentences from IOI vs ABC distribution\",\n",
        ")"
      ]
    },
    {
      "cell_type": "markdown",
      "metadata": {
        "id": "JGICTOkzl6mT"
      },
      "source": [
        "Next, we'll define functions similar to the ones from previous sections. We've just given you these, rather than making you repeat the exercise of writing them (although you should compare these functions to the ones you wrote earlier, and make sure you understand how they work).\n",
        "\n",
        "We'll call these functions something slightly different, so as not to pollute namespace.\n"
      ]
    },
    {
      "cell_type": "code",
      "execution_count": null,
      "metadata": {
        "id": "VPKTb0ril6mT"
      },
      "outputs": [],
      "source": [
        "def logits_to_ave_logit_diff_2(\n",
        "    logits: Float[Tensor, \"batch seq d_vocab\"],\n",
        "    ioi_dataset: IOIDataset = ioi_dataset,\n",
        "    per_prompt=False\n",
        ") -> Union[Float[Tensor, \"\"], Float[Tensor, \"batch\"]]:\n",
        "    '''\n",
        "    Returns logit difference between the correct and incorrect answer.\n",
        "\n",
        "    If per_prompt=True, return the array of differences rather than the average.\n",
        "    '''\n",
        "\n",
        "    # Only the final logits are relevant for the answer\n",
        "    # Get the logits corresponding to the indirect object / subject tokens respectively\n",
        "    io_logits: Float[Tensor, \"batch\"] = logits[range(logits.size(0)), ioi_dataset.word_idx[\"end\"], ioi_dataset.io_tokenIDs]\n",
        "    s_logits: Float[Tensor, \"batch\"] = logits[range(logits.size(0)), ioi_dataset.word_idx[\"end\"], ioi_dataset.s_tokenIDs]\n",
        "    # Find logit difference\n",
        "    answer_logit_diff = io_logits - s_logits\n",
        "    return answer_logit_diff if per_prompt else answer_logit_diff.mean()\n",
        "\n",
        "\n",
        "model.reset_hooks(including_permanent=True)\n",
        "\n",
        "ioi_logits_original, ioi_cache = model.run_with_cache(ioi_dataset.toks)\n",
        "abc_logits_original, abc_cache = model.run_with_cache(abc_dataset.toks)\n",
        "\n",
        "ioi_per_prompt_diff = logits_to_ave_logit_diff_2(ioi_logits_original, per_prompt=True)\n",
        "abc_per_prompt_diff = logits_to_ave_logit_diff_2(abc_logits_original, per_prompt=True)\n",
        "\n",
        "ioi_average_logit_diff = logits_to_ave_logit_diff_2(ioi_logits_original).item()\n",
        "abc_average_logit_diff = logits_to_ave_logit_diff_2(abc_logits_original).item()"
      ]
    },
    {
      "cell_type": "code",
      "execution_count": null,
      "metadata": {
        "id": "DSehMYDBl6mT"
      },
      "outputs": [],
      "source": [
        "print(f\"Average logit diff (IOI dataset): {ioi_average_logit_diff:.4f}\")\n",
        "print(f\"Average logit diff (ABC dataset): {abc_average_logit_diff:.4f}\")\n",
        "\n",
        "make_table(\n",
        "    colnames = [\"IOI prompt\", \"IOI logit diff\", \"ABC prompt\", \"ABC logit diff\"],\n",
        "    cols = [\n",
        "        map(format_prompt, ioi_dataset.sentences),\n",
        "        ioi_per_prompt_diff,\n",
        "        map(format_prompt, abc_dataset.sentences),\n",
        "        abc_per_prompt_diff,\n",
        "    ],\n",
        "    title = \"Sentences from IOI vs ABC distribution\",\n",
        ")"
      ]
    },
    {
      "cell_type": "markdown",
      "metadata": {
        "id": "YJNhAu-Xl6mU"
      },
      "source": [
        "Note that we're always measuring performance ***with respect to the correct answers for the IOI dataset, not the ABC dataset***, because we want our ABC dataset to carry no information that helps with the IOI task (hence patching it in gives us signals which are totally uncorrelated with the correct answer). For instance, the model will obviously not complete sentences like `\"When Max and Victoria got a snack at the store, Clark decided to give it to\"` with the name `\"Tyler\"`.\n"
      ]
    },
    {
      "cell_type": "markdown",
      "metadata": {
        "id": "zxjUupMgl6mU"
      },
      "source": [
        "Finally, let's define a new `ioi_metric` function which works for our new data.\n",
        "\n",
        "In order to match the paper's results, we'll use a different convention here. 0 means performance is the same as on the IOI dataset (i.e. hasn't been harmed in any way), and -1 means performance is the same as on the ABC dataset (i.e. the model has completely lost the ability to distinguish between the subject and indirect object).\n",
        "\n",
        "Again, we'll call this function something slightly different.\n"
      ]
    },
    {
      "cell_type": "code",
      "execution_count": null,
      "metadata": {
        "id": "fg1gtdoVl6mU"
      },
      "outputs": [],
      "source": [
        "def ioi_metric_2(\n",
        "    logits: Float[Tensor, \"batch seq d_vocab\"],\n",
        "    clean_logit_diff: float = ioi_average_logit_diff,\n",
        "    corrupted_logit_diff: float = abc_average_logit_diff,\n",
        "    ioi_dataset: IOIDataset = ioi_dataset,\n",
        ") -> float:\n",
        "    '''\n",
        "    We calibrate this so that the value is 0 when performance isn't harmed (i.e. same as IOI dataset),\n",
        "    and -1 when performance has been destroyed (i.e. is same as ABC dataset).\n",
        "    '''\n",
        "    patched_logit_diff = logits_to_ave_logit_diff_2(logits, ioi_dataset)\n",
        "    return (patched_logit_diff - clean_logit_diff) / (clean_logit_diff - corrupted_logit_diff)\n",
        "\n",
        "\n",
        "print(f\"IOI metric (IOI dataset): {ioi_metric_2(ioi_logits_original):.4f}\")\n",
        "print(f\"IOI metric (ABC dataset): {ioi_metric_2(abc_logits_original):.4f}\")"
      ]
    },
    {
      "cell_type": "markdown",
      "metadata": {
        "id": "b32Qdk-Gl6mU"
      },
      "source": [
        "## What is path patching?\n"
      ]
    },
    {
      "cell_type": "markdown",
      "metadata": {
        "id": "T2oLJRm0l6mU"
      },
      "source": [
        "In the previous section, we looked at activation patching, which answers questions like *what would happen if you took an attention head, and swapped the value it writes to the residual stream with the value it would have written under a different distribution, while keeping everything else the same?*. This proved to be a good way to examine the role of individual components like attention heads, and it allowed us to perform some more subtle analysis like patching keys / queries / values in turn to figure out which of them were more important for which heads.\n",
        "\n",
        "However, when we're studying a circuit, rather than just swapping out an entire attention head, we might want to ask more nuanced questions like *what would happen if the direct input from attention head $A$ to head $B$ (where $B$ comes after $A$) was swapped out with the value it would have been under a different distribution, while keeping everything else the same?*. Rather than answering the general question of how important attention heads are, this answers the more specific question of how important the circuit formed by connecting up these two attention heads is. Path patching is designed to answer questions like these.\n"
      ]
    },
    {
      "cell_type": "markdown",
      "metadata": {
        "id": "T_i8bI2hl6mU"
      },
      "source": [
        "The following diagrams might help explain the difference between activation and path patching in transformers. Recall that activation patching looked like:\n",
        "\n",
        "<img src=\"https://raw.githubusercontent.com/callummcdougall/computational-thread-art/master/example_images/misc/simpler-patching-2c.png\" width=\"420\">\n",
        "\n",
        "where the black and green distributions are our clean and corrupted datasets respectively (so this would be `ioi_dataset` and `abc_dataset`). In contrast, path patching involves replacing **edges** rather than **nodes**. In the diagram below, we're replacing the edge $D \\to G$ with what it would be on the corrupted distribution. So in our patched run, $G$ is calculated just like it would be on the clean distribution, but as if the **direct** input from $D$ had come from the corrupted distribution instead.\n",
        "\n",
        "<img src=\"https://raw.githubusercontent.com/callummcdougall/computational-thread-art/master/example_images/misc/simpler-patching-3c.png\" width=\"560\">\n"
      ]
    },
    {
      "cell_type": "markdown",
      "metadata": {
        "id": "CmG4-urTl6mU"
      },
      "source": [
        "Unfortunately, for a transformer, this is easier to describe than to actually implement. This is because the \"nodes\" are attention heads, and the \"edges\" are all tangled together in the residual stream (that is to say, it's not clear how one could change the value of one edge without without affecting every path that includes that edge). The solution is to use the 3-step algorithm shown in the diagram below (which reads from right to left).\n",
        "\n",
        "Terminology note - we call head $D$ the **sender node**, and head $G$ the **receiver node**. Also, by \"freezing\" nodes, we mean \"patch with the value that is the same as the input\". For instance, if we didn't freeze head $H$ in step 2 below, it would have a different value because it would be affected by the corrupted value of head $D$.\n",
        "\n",
        "<img src=\"https://raw.githubusercontent.com/callummcdougall/computational-thread-art/master/example_images/misc/simpler-patching-4c.png\" width=\"900\">\n"
      ]
    },
    {
      "cell_type": "markdown",
      "metadata": {
        "id": "Pag5Nl9zl6mV"
      },
      "source": [
        "Let's make this concrete, and take a simple 3-layer transformer with 2 heads per layer. Let's perform path patching on the edge from head `0.0` to `2.0` (terminology note: `0.0` is the **sender**, and `2.0` is the **receiver**). Note that here, we're considering \"direct paths\" as anything that doesn't go through another attention head (so it can go through any combination of MLPs). Intuitively, the nodes (attention heads) are the only things that can move information around in the model, and this is the thing we want to study. In contrast, MLPs just perform information processing, and they're not as interesting for this task.\n",
        "\n",
        "Our 3-step process looks like the diagram below (remember green is corrupted, grey is clean).\n",
        "\n",
        "<img src=\"https://raw.githubusercontent.com/callummcdougall/computational-thread-art/master/example_images/misc/path-patching-alg-transformers-6.png\" width=\"700\">\n",
        "\n",
        "(Note - in this diagram, the uncoloured nodes indicate we aren't doing any patching; we're just allowing them to be computed from the values of nodes which are downstream of it.)\n"
      ]
    },
    {
      "cell_type": "markdown",
      "metadata": {
        "id": "0mnuOkE3l6mV"
      },
      "source": [
        "Why does this work? If you stare at the middle picture above for long enough, you'll realise that the contribution from every non-direct path from `0.0` $\\to$ `2.0` is the same as it would be on the clean distribution, while all the direct paths' contributions are the same as they would be on the corrupted distribution.\n",
        "\n",
        "<img src=\"https://raw.githubusercontent.com/callummcdougall/computational-thread-art/master/example_images/misc/path-patching-decomp-four.png\" width=\"850\">\n"
      ]
    },
    {
      "cell_type": "markdown",
      "source": [
        "### Why MLPs?"
      ],
      "metadata": {
        "id": "a3q15r4-glbt"
      }
    },
    {
      "cell_type": "markdown",
      "source": [
        "You might be wondering why we're including MLPs as part of our direct path. The short answer is that this is what the IOI paper does, and we're trying to replicate it! The slightly longer answer is that both this method and a method which doesn't count MLPs as the direct path are justifiable.\n",
        "\n",
        "To take one example, suppose the output of head `0.0` is being used directly by head `2.0`, but one of the MLPs is acting as a mediator. To oversimplify, we might imagine that `0.0` writes the vector $v$ into the residual stream, some neuron detects $v$ and writes $w$ to the residual stream, and `2.0` detects $w$. If we didn't count MLPs as a direct path then we wouldn't catch this causal relationship. The drawback is that things get a bit messier, because now we're essentially passing a \"fake input\" into our MLPs, and it's dangerous to assume that any operation as clean as the one previously described (with vectors $v$, $w$) would still happen under these new circumstances.\n",
        "\n",
        "Also, having MLPs as part of the direct path doesn't help us understand what role the MLPs play in the circuit, all it does is tell us that some of them are important! Luckily, in the IOI circuit, MLPs aren't important (except for MLP0), and so doing both these forms of path patching get pretty similar results. As an optional exercise, you can reproduce the results from the following few sections using this different form of path patching. It's actually algorithmically easier to implement, because we only need one forward pass rather than two. Can you see why?\n",
        "\n",
        "<details>\n",
        "<summary>Answer</summary>\n",
        "\n",
        "Because the MLPs were part of the direct paths between sender and receiver in the previous version of the algorithm, we had to do a forward pass to find the value we'd be patching into the receivers. But if MLPs aren't part of the direct path, then we can directly compute what to patch into the receiver nodes:\n",
        "\n",
        "```\n",
        "orig_receiver_input <- orig_receiver_input + (new_sender_output - old_sender_output)\n",
        "```\n",
        "\n",
        "Diagram with direct paths not including MLPs:\n",
        "\n",
        "<img src=\"https://raw.githubusercontent.com/callummcdougall/computational-thread-art/master/example_images/misc/path-patching-decomp-one.png\" width=\"1200\">\n",
        "\n",
        "</details>"
      ],
      "metadata": {
        "id": "16cyP2Xdgmdr"
      }
    },
    {
      "cell_type": "markdown",
      "metadata": {
        "id": "-3HctAcHl6mV"
      },
      "source": [
        "## Path Patching: Name Mover Heads\n"
      ]
    },
    {
      "cell_type": "markdown",
      "metadata": {
        "id": "PCbk9zmKl6mV"
      },
      "source": [
        "We'll start with a simple type of path patching - with just one receiver node, which is the final value of the residual stream. We've only discussed receiver nodes being other attention heads so far, but the same priciples hold for any choice of receiver nodes.\n",
        "\n",
        "<details>\n",
        "<summary>Question - can you explain the difference between path patching from an attention head to the residual stream, and activation patching on that attention head?</summary>\n",
        "\n",
        "Activation patching changes the value of that head, and all subsequent layers which depend on that head.\n",
        "\n",
        "Path patching will answer the question \"what if the value written by the head directly to the residual stream was the same as in $x_{new}$, but every non-direct path from this head to the residual stream (i.e. paths going through other heads) the value was the same as it would have been under $x_{orig}$?\n",
        "</details>\n",
        "\n",
        "This patching is described at the start of section 3.1 in [the paper](https://arxiv.org/pdf/2211.00593.pdf) (page 5). The 3-step process will look like:\n",
        "\n",
        "1. Run the model on clean and corrupted input. Cache the head outputs.\n",
        "2. Run the model on clean input, with the sender head **patched** from the corrupted input, and every other head **frozen** to their values on the clean input. Cache the final value of the residual stream (i.e. `resid_post` in the final layer).\n",
        "3. Normally we would re-run the model on the clean input and patch in the cached value of the final residual stream, but in this case we don't need to because we can just unembed the final value of the residual stream directly without having to run another forward pass.\n",
        "\n",
        "Here is an illustration for a 2-layer transformer:\n",
        "\n",
        "<img src=\"https://raw.githubusercontent.com/callummcdougall/computational-thread-art/master/example_images/misc/path-patching-residpost-newest.png\" width=\"680\">\n"
      ]
    },
    {
      "cell_type": "markdown",
      "metadata": {
        "id": "vTEkedLol6mV"
      },
      "source": [
        "### Exercise - implement path patching to the final residual stream value\n",
        "\n",
        "```c\n",
        "Difficulty: 🔴🔴🔴🔴🔴\n",
        "Importance: 🔵🔵🔵🔵⚪\n",
        "\n",
        "You should spend up to 30-45 minutes on this exercise.\n",
        "\n",
        "Path patching is a very challenging algorithm with many different steps.\n",
        "```\n",
        "\n",
        "You should implement path patching from heads to the residual stream, as described above (and in the paper).\n",
        "\n",
        "This exercise is expected to be challenging, with several moving parts. We've purposefully left it very open-ended, without even giving you a docstring for the function you'll be writing.\n",
        "\n",
        "Here are a few hints / tips for how to proceed:\n",
        "\n",
        "* Split your function up into 3 parts (one for each of the steps above), and write each section one at a time.\n",
        "* You'll need a new hook function: one which performs freezing / patching for step 2 of the algorithm.\n",
        "* You can reuse a lot of code from your activation patching function.\n",
        "* When calling `model.run_with_cache`, you can use the keyword argument `names_filter`, which is a function from name to boolean. If you use this argument, your model will only cache activtions with a name which passes this filter (e.g. you can use it like `names_filter = lambda name: name.endswith(\"q\")` to only cache query vectors).\n",
        "\n",
        "You can also look at the dropdowns to get more hints and guidance (e.g. if you want to start from a function docstring).\n",
        "\n",
        "You'll know you've succeeded if you can plot the results, and replicate Figure 3(b) from [the paper](https://arxiv.org/pdf/2211.00593.pdf) (at the top of page 6).\n",
        "\n",
        "\n",
        "**Note - if you use `model.add_hook` then `model.run_with_cache`, you might have to pass the argument `level=1` to the `add_hook` method. I don't know why the function sometimes fails unless you do this (this bug only started appearing after the exercises were written). I've not had time to track this down, but extra credit to anyone who can (-:**"
      ]
    },
    {
      "cell_type": "markdown",
      "metadata": {
        "id": "ry8DZVtJl6mV"
      },
      "source": [
        "<details>\n",
        "<summary>Click here to get a docstring for the main function.</summary>\n",
        "\n",
        "```python\n",
        "def get_path_patch_head_to_final_resid_post(\n",
        "    model: HookedTransformer,\n",
        "    patching_metric: Callable,\n",
        "    new_dataset: IOIDataset = abc_dataset,\n",
        "    orig_dataset: IOIDataset = ioi_dataset,\n",
        "    new_cache: Optional[ActivationCache] = abc_cache,\n",
        "    orig_cache: Optional[ActivationCache] = ioi_cache,\n",
        ") -> Float[Tensor, \"layer head\"]:\n",
        "    '''\n",
        "    Performs path patching (see algorithm in appendix B of IOI paper), with:\n",
        "\n",
        "        sender head = (each head, looped through, one at a time)\n",
        "        receiver node = final value of residual stream\n",
        "\n",
        "    Returns:\n",
        "        tensor of metric values for every possible sender head\n",
        "    '''\n",
        "    pass\n",
        "```\n",
        "</details>\n",
        "\n",
        "<details>\n",
        "<summary>Click here to get a docstring for the main function, plus some annotations and function structure.</summary>\n",
        "\n",
        "```python\n",
        "def get_path_patch_head_to_final_resid_post(\n",
        "    model: HookedTransformer,\n",
        "    patching_metric: Callable,\n",
        "    new_dataset: IOIDataset = abc_dataset,\n",
        "    orig_dataset: IOIDataset = ioi_dataset,\n",
        "    new_cache: Optional[ActivationCache] = abc_cache,\n",
        "    orig_cache: Optional[ActivationCache] = ioi_cache,\n",
        ") -> Float[Tensor, \"layer head\"]:\n",
        "    '''\n",
        "    Performs path patching (see algorithm in appendix B of IOI paper), with:\n",
        "\n",
        "        sender head = (each head, looped through, one at a time)\n",
        "        receiver node = final value of residual stream\n",
        "\n",
        "    Returns:\n",
        "        tensor of metric values for every possible sender head\n",
        "    '''\n",
        "    model.reset_hooks()\n",
        "    results = t.zeros(model.cfg.n_layers, model.cfg.n_heads, device=\"cuda\", dtype=t.float32)\n",
        "\n",
        "    # ========== Step 1 ==========\n",
        "    # Gather activations on x_orig and x_new\n",
        "\n",
        "    # YOUR CODE HERE\n",
        "\n",
        "\n",
        "    # Using itertools to loop gives us a smoother progress bar (using nested for loops is also fine)\n",
        "    for (sender_layer, sender_head) in tqdm_notebook(list(itertools.product(\n",
        "        range(model.cfg.n_layers),\n",
        "        range(model.cfg.n_heads)\n",
        "    ))):\n",
        "        pass\n",
        "\n",
        "        # ========== Step 2 ==========\n",
        "        # Run on x_orig, with sender head patched from x_new, every other head frozen\n",
        "\n",
        "        # YOUR CODE HERE\n",
        "\n",
        "\n",
        "        # ========== Step 3 ==========\n",
        "        # Unembed the final residual stream value, to get our patched logits\n",
        "\n",
        "        # YOUR CODE HERE\n",
        "\n",
        "\n",
        "        # Save the results\n",
        "        results[sender_layer, sender_head] = patching_metric(patched_logits)\n",
        "\n",
        "\n",
        "    return results\n",
        "```\n",
        "</details>\n"
      ]
    },
    {
      "cell_type": "code",
      "execution_count": null,
      "metadata": {
        "id": "4DZ2SGhfl6mW"
      },
      "outputs": [],
      "source": [
        "def get_path_patch_head_to_final_resid_post(\n",
        "    model: HookedTransformer,\n",
        "    patching_metric: Callable,\n",
        "    new_dataset: IOIDataset = abc_dataset,\n",
        "    orig_dataset: IOIDataset = ioi_dataset,\n",
        "    new_cache: Optional[ActivationCache] = abc_cache,\n",
        "    orig_cache: Optional[ActivationCache] = ioi_cache,\n",
        ") -> Float[Tensor, \"layer head\"]:\n",
        "    pass\n",
        "\n",
        "path_patch_head_to_final_resid_post = get_path_patch_head_to_final_resid_post(model, ioi_metric_2)"
      ]
    },
    {
      "cell_type": "code",
      "source": [
        "imshow(\n",
        "    100 * path_patch_head_to_final_resid_post,\n",
        "    title=\"Direct effect on logit difference\",\n",
        "    labels={\"x\":\"Head\", \"y\":\"Layer\", \"color\": \"Logit diff. variation\"},\n",
        "    coloraxis=dict(colorbar_ticksuffix = \"%\"),\n",
        "    width=600,\n",
        ")"
      ],
      "metadata": {
        "id": "epD3Fvm4zzWi"
      },
      "execution_count": null,
      "outputs": []
    },
    {
      "cell_type": "markdown",
      "metadata": {
        "id": "iK9VehsAd2-M"
      },
      "source": [
        "<details>\n",
        "<summary>Help - all the values in my heatmap are the same.</summary>\n",
        "\n",
        "There could be a few possible reasons for this. A common one is that you're changing an actual tensor, rather than just changing its values - this means when one tensor changes, the other one does too. For instance, if you do something like:\n",
        "\n",
        "```python\n",
        "x = t.zeros(3)\n",
        "y = x\n",
        "x[0] = 1\n",
        "print(y)\n",
        "```\n",
        "\n",
        "then `y` will also be `[1, 0, 0]`. To avoid this, you can use the `...` syntax, which means \"set all values in this tensor to the values in this other tensor\". For instance, if you do:\n",
        "\n",
        "```python\n",
        "x = t.zeros(3)\n",
        "y = t.zeros(3)\n",
        "x[...] = y\n",
        "x[0] = 1\n",
        "print(y)\n",
        "```\n",
        "\n",
        "then `y` will still be `[0, 0, 0]`.\n",
        "\n",
        "Using `x[:] = y` will also work.\n",
        "\n",
        "---\n",
        "\n",
        "Another possible explanation would be passing in the wrong input values / cache at some point in the algorithm, or freezing to the wrong values. Remember that in the diagram, grey represents original values (clean) and blue represents new values (corrupted), so e.g. in step 2 we want to run the model on `orig_dataset` (= IOI dataset) and we also want to freeze all non-sender heads to their values in `orig_cache`.\n",
        "\n",
        "---\n",
        "\n",
        "Lastly, make sure you're not freezing your heads in a way that doesn't override the sender patching! If more than one hook function is added to a hook point, they're executed in the order they were added (with the last one possibly overriding the previous ones).\n",
        "\n",
        "</details>\n"
      ]
    },
    {
      "cell_type": "markdown",
      "metadata": {
        "id": "stlWoafYl6mW"
      },
      "source": [
        "What is the interpretation of this plot? How does it compare to the equivalent plot we got from activation patching? (Remember that our metric is defined in a different way, so we should expect a sign difference between the two results.)\n",
        "\n",
        "<details>\n",
        "<summary>Some thoughts</summary>\n",
        "\n",
        "This plot is actually almost identical to the one we got from activation patching (apart from the results being negated, because of the new metric).\n",
        "\n",
        "This makes sense; the only reason activation patching would do something different to path patching is if the heads writing in the `Mary - John` direction had their outputs used by a later head (because this would be accounted for in activation patching, whereas path patching isolates the direct effect on the residual stream only). Since attention heads' primary purpose is to move information around the model, it's reasonable to guess that this probably isn't happening.\n",
        "\n",
        "Don't worry though, in the next set of exercises we'll do some more interesting path patching, and we'll get some results which are meaningfully different from our activation patching results.\n",
        "</details>\n"
      ]
    },
    {
      "cell_type": "markdown",
      "metadata": {
        "id": "N3WFsxrRl6mZ"
      },
      "source": [
        "## Path Patching: S-Inhibition Heads\n"
      ]
    },
    {
      "cell_type": "markdown",
      "metadata": {
        "id": "GELqmSQxl6mZ"
      },
      "source": [
        "In the first section on path patching, we performed a simple kind of patching - from the output of an attention head to the final value of the residual stream. Here we'll do something a bit more interesting, and patch from the output of one head to the input of a later head. The purpose of this is to examine exactly how two heads are composing, and what effect the composed heads have on the model's output.\n",
        "\n",
        "We got a hint of this in the previous section, where we patched the values of the S-inhibition heads and found that they were important. But this didn't tell us which inputs to these value vectors were important; we had to make educated guesses about this based on our analysis earlier parts of the model. In path patching, we can perform a more precise test to find which heads are important.\n",
        "\n",
        "The paper's results from path patching are shown in figure 5(b), on page 7.\n"
      ]
    },
    {
      "cell_type": "markdown",
      "metadata": {
        "id": "GdHnNPmnl6mZ"
      },
      "source": [
        "### Exercise - implement path patching from head to head\n",
        "\n",
        "```c\n",
        "Difficulty: 🔴🔴🔴⚪⚪\n",
        "Importance: 🔵🔵🔵⚪⚪\n",
        "\n",
        "You should spend up to 20-25 minutes on this exercise.\n",
        "\n",
        "You'll need a new hook function, but copying code from the previous exercise should make this one easier.\n",
        "```\n",
        "\n",
        "You should fill in the function `get_path_patch_head_to_head` below. It takes as arguments a list of receiver nodes (as well as the type of input - keys, queries, or values), and returns a tensor of shape\\* `(layer, head)` where each element is the result of running the patching metric on the output of the model, after applying the 3-step path patching algorithm from one of the model's heads to all the receiver heads. You should be able to replicate the paper's results (figure 5(b)).\n",
        "\n",
        "\\**Actually, you don't need to return all layers, because the causal effect from any sender head which is on the same or a later layer than the last of your receiver heads will necessarily be zero.*\n",
        "\n",
        "If you want a bit more guidance, you can use the dropdown below to see the ways in which this function should be different from your first path patching function (in most ways these functions will be similar, so you can start by copying that function).\n",
        "\n",
        "<details>\n",
        "<summary>Differences from first path patching function</summary>\n",
        "\n",
        "Step 1 is identical in both - gather all the observations.\n",
        "\n",
        "Step 2 is very similar. The only difference is that you'll be caching a different set of activations (your receiver heads).\n",
        "\n",
        "In section 3, since your receiver nodes are in the middle of the model rather than at the very end, you will have to run the model again with these nodes patched in rather than just calculating the logit output directly from the patched values of the final residual stream. To do this, you'll have to write a new hook function to patch in the inputs to an attention head (if you haven't done this already).\n",
        "</details>\n"
      ]
    },
    {
      "cell_type": "code",
      "execution_count": null,
      "metadata": {
        "id": "h-7sxrQkl6mZ"
      },
      "outputs": [],
      "source": [
        "def get_path_patch_head_to_heads(\n",
        "    receiver_heads: List[Tuple[int, int]],\n",
        "    receiver_input: str,\n",
        "    model: HookedTransformer,\n",
        "    patching_metric: Callable,\n",
        "    new_dataset: IOIDataset = abc_dataset,\n",
        "    orig_dataset: IOIDataset = ioi_dataset,\n",
        "    new_cache: Optional[ActivationCache] = None,\n",
        "    orig_cache: Optional[ActivationCache] = None,\n",
        ") -> Float[Tensor, \"layer head\"]:\n",
        "    '''\n",
        "    Performs path patching (see algorithm in appendix B of IOI paper), with:\n",
        "\n",
        "        sender head = (each head, looped through, one at a time)\n",
        "        receiver node = input to a later head (or set of heads)\n",
        "\n",
        "    The receiver node is specified by receiver_heads and receiver_input.\n",
        "    Example (for S-inhibition path patching the queries):\n",
        "        receiver_heads = [(8, 6), (8, 10), (7, 9), (7, 3)],\n",
        "        receiver_input = \"v\"\n",
        "\n",
        "    Returns:\n",
        "        tensor of metric values for every possible sender head\n",
        "    '''\n",
        "    pass"
      ]
    },
    {
      "cell_type": "code",
      "execution_count": null,
      "metadata": {
        "id": "ctPba3SUl6mZ"
      },
      "outputs": [],
      "source": [
        "model.reset_hooks()\n",
        "\n",
        "s_inhibition_value_path_patching_results = get_path_patch_head_to_heads(\n",
        "    receiver_heads = [(8, 6), (8, 10), (7, 9), (7, 3)],\n",
        "    receiver_input = \"v\",\n",
        "    model = model,\n",
        "    patching_metric = ioi_metric_2\n",
        ")"
      ]
    },
    {
      "cell_type": "code",
      "source": [
        "imshow(\n",
        "    100 * s_inhibition_value_path_patching_results,\n",
        "    title=\"Direct effect on S-Inhibition Heads' values\",\n",
        "    labels={\"x\": \"Head\", \"y\": \"Layer\", \"color\": \"Logit diff.<br>variation\"},\n",
        "    width=600,\n",
        "    coloraxis=dict(colorbar_ticksuffix = \"%\"),\n",
        ")"
      ],
      "metadata": {
        "id": "2Un6ybMLz1b8"
      },
      "execution_count": null,
      "outputs": []
    },
    {
      "cell_type": "markdown",
      "metadata": {
        "id": "c2CkwTpal6ma"
      },
      "source": [
        "<details>\n",
        "<summary>Question - what is the interpretation of this plot? </summary>\n",
        "\n",
        "This plot confirms our earlier observations, that the S-inhibition heads' value vectors are the ones which matter. But it does more, by confirming our hypothesis that the S-inhibition heads' value vectors are supplied to them primarily by the outputs of heads `0.1`, `3.0`, `5.5` and `6.9` (which are the heads found by the paper to be the two most important duplicate token heads and two most important induction heads respectively).\n",
        "</details>\n"
      ]
    },
    {
      "cell_type": "markdown",
      "metadata": {
        "id": "F1UOGXJhd2-N"
      },
      "source": [
        "# 5️⃣ Paper Replication\n"
      ]
    },
    {
      "cell_type": "markdown",
      "metadata": {
        "id": "h794Ng2Nd2-O"
      },
      "source": [
        "> ##### Learning objectives\n",
        ">\n",
        "> * Replicate most of the other results from the [IOI paper](https://arxiv.org/abs/2211.00593)\n",
        "> * Practice more open-ended, less guided coding\n",
        "\n",
        "This section will be a lot more open-ended and challenging. You'll be given less guidance in the exercises.\n"
      ]
    },
    {
      "cell_type": "markdown",
      "metadata": {
        "id": "pakAZTeBl6mW"
      },
      "source": [
        "## Copying & writing direction results\n"
      ]
    },
    {
      "cell_type": "markdown",
      "metadata": {
        "id": "9GBuJZ32d2-O"
      },
      "source": [
        "We'll start this section by replicating the paper's analysis of the **name mover heads** and **negative name mover heads**. Our previous analysis should have pretty much convinced us that these heads are copying / negatively copying our indirect object token, but the results here show this with a bit more rigour.\n"
      ]
    },
    {
      "cell_type": "markdown",
      "metadata": {
        "id": "xAf5sH-Wl6mX"
      },
      "source": [
        "### Exercise - replicate writing direction results\n",
        "\n",
        "```c\n",
        "Difficulty: 🔴🔴🔴🔴⚪\n",
        "Importance: 🔵🔵⚪⚪⚪\n",
        "\n",
        "You should spend up to 20-25 minutes on this exercise.\n",
        "\n",
        "These exercises are much more challenging than they are conceptually important.\n",
        "```\n",
        "\n",
        "Let's look at figure 3(c) from the paper. This plots the output of the strongest name mover and negative name mover heads against the attention probabilities for `END` attending to `IO` or `S` (color-coded).\n",
        "\n",
        "Some clarifications:\n",
        "* \"Projection\" here is being used synonymously with \"dot product\".\n",
        "* We're projecting onto the name embedding, i.e. the embedding vector for the token which is being paid attention to. This is not the same as the logit diff (which we got by projecting the heads' output onto the difference between the unembedding vectors for `IO` and `S`).\n",
        "    * We're doing this because the question we're trying to answer is *\"does the attention head copy (or anti-copy) the names which it pays attention to?\"*\n"
      ]
    },
    {
      "cell_type": "markdown",
      "metadata": {
        "id": "yDl1iyLYd2-O"
      },
      "source": [
        "\n",
        "You should write code to replicate the paper's results in the cells below. Given four 1D tensors storing the results for a particular head (i.e. the projections and attention probabilities, for the `IO` and `S` tokens respectively), we've given you code to generate a plot which looks like the one in the paper. Again, you'll know that your code has worked if you can get results that resemble those in the paper.\n"
      ]
    },
    {
      "cell_type": "code",
      "execution_count": null,
      "metadata": {
        "id": "NNva2keel6mX"
      },
      "outputs": [],
      "source": [
        "def scatter_embedding_vs_attn(\n",
        "    attn_from_end_to_io: Float[Tensor, \"batch\"],\n",
        "    attn_from_end_to_s: Float[Tensor, \"batch\"],\n",
        "    projection_in_io_dir: Float[Tensor, \"batch\"],\n",
        "    projection_in_s_dir: Float[Tensor, \"batch\"],\n",
        "    layer: int,\n",
        "    head: int\n",
        "):\n",
        "    scatter(\n",
        "        x=t.concat([attn_from_end_to_io, attn_from_end_to_s], dim=0),\n",
        "        y=t.concat([projection_in_io_dir, projection_in_s_dir], dim=0),\n",
        "        color=[\"IO\"] * N + [\"S\"] * N,\n",
        "        title=f\"Projection of the output of {layer}.{head} along the name<br>embedding vs attention probability on name\",\n",
        "        title_x=0.5,\n",
        "        labels={\"x\": \"Attn prob on name\", \"y\": \"Dot w Name Embed\", \"color\": \"Name type\"},\n",
        "        color_discrete_sequence=[\"#72FF64\", \"#C9A5F7\"],\n",
        "        width=650\n",
        "    )"
      ]
    },
    {
      "cell_type": "code",
      "execution_count": null,
      "metadata": {
        "id": "Vj0IxCXvl6mX"
      },
      "outputs": [],
      "source": [
        "def calculate_and_show_scatter_embedding_vs_attn(\n",
        "    layer: int,\n",
        "    head: int,\n",
        "    cache: ActivationCache = ioi_cache,\n",
        "    dataset: IOIDataset = ioi_dataset,\n",
        ") -> None:\n",
        "    '''\n",
        "    Creates and plots a figure equivalent to 3(c) in the paper.\n",
        "\n",
        "    This should involve computing the four 1D tensors:\n",
        "        attn_from_end_to_io\n",
        "        attn_from_end_to_s\n",
        "        projection_in_io_dir\n",
        "        projection_in_s_dir\n",
        "    and then calling the scatter_embedding_vs_attn function.\n",
        "    '''\n",
        "    pass\n",
        "\n",
        "nmh = (9, 9)\n",
        "calculate_and_show_scatter_embedding_vs_attn(*nmh)\n",
        "\n",
        "nnmh = (11, 10)\n",
        "calculate_and_show_scatter_embedding_vs_attn(*nnmh)"
      ]
    },
    {
      "cell_type": "markdown",
      "metadata": {
        "id": "qUsuG80Jl6mX"
      },
      "source": [
        "<details>\n",
        "<summary>Question - what is the interpretation of this plot in the paper?</summary>\n",
        "\n",
        "For head `9.9`, Both the `S` and `IO` tokens exhibit a positive correlation between their contribution to logit difference and the attention probability on their name. This suggests the head is just copying names it attends to from the name to the `END` token. We can see that it is paying more attention to the `IO` token and less on `S`, which is what we expect (thanks to Q-composition with the S-inhibition heads).\n",
        "\n",
        "The same is true for the negative name mover head `11.10`, only it works in the opposite direction (actively suppressing the logit score for the names it attends to). Note, it's important that we observe this negative correlation, because this shows us that the head really is anti-copying the `IO` token (rather than just copying the `S` token).\n",
        "</details>\n"
      ]
    },
    {
      "cell_type": "markdown",
      "metadata": {
        "id": "pl7SJ9Mkl6mY"
      },
      "source": [
        "### Exercise - replicate copying score results\n",
        "\n",
        "```c\n",
        "Difficulty: 🔴🔴🔴🔴🔴\n",
        "Importance: 🔵🔵⚪⚪⚪\n",
        "\n",
        "You should spend up to 30-40 minutes on this exercise.\n",
        "\n",
        "These exercises are much more challenging than they are conceptually important.\n",
        "```\n",
        "\n",
        "Now let's do a different kind of test of the name mover heads' copying, by looking directly at the OV circuits.\n",
        "\n",
        "From page 6 of the paper:\n",
        "\n",
        "> To check that the Name Mover Heads copy names generally, we studied what values are written via the heads’ OV matrix. Specifically, we first obtained the state of the residual stream at the position of each name token after the first MLP layer. Then, we multiplied this by the OV matrix of a Name Mover Head (simulating what would happen if the head attended perfectly to that token), multiplied by the unembedding matrix, and applied the final layer norm to obtain logit probabilities. We compute the proportion of samples that contain the input name token in the top 5 logits (N = 1000) and call this the copy score. All three Name Mover Heads have a copy score above 95%, compared to less than 20% for an average head.\n",
        ">\n",
        "> Negative Name Mover Heads ... have a large negative copy score–the copy score calculated with the negative of the OV matrix (98% compared to 12% for an average head).\n",
        "\n",
        "Note the similarity between their method and how we studied copying in induction heads, during an earlier set of exercises. However, there are differences (e.g. we're only looking at whether the head copies names, rather than whether it copies tokens in general).\n"
      ]
    },
    {
      "cell_type": "markdown",
      "metadata": {
        "id": "m9nfm6hXl6mY"
      },
      "source": [
        "You should replicate these results by completing the `get_copying_scores` function below.\n",
        "\n",
        "You could do this by indexing from the `ioi_cache`, but a much more principled alternative would be to embed all the names in the `NAMES` list and apply operations like MLPs, layernorms and OV matrices manually. This is what the solutions do.\n",
        "\n",
        "A few notes:\n",
        "\n",
        "* You can use `model.to_tokens` to convert the names to tokens. Remember to use `prepend_bos=False`, since you just want the tokens of names so you can embed them. Note that this function will treat the list of names as a batch of single-token inputs, which works fine for our purposes.\n",
        "* You can apply MLPs and layernorms as functions, by just indexing the model's blocks (e.g. use `model.blocks[i].mlp` or `model.blocks[j].ln1` as a function). Remember that `ln1` is the layernorm that comes before attention, and `ln2` comes before the MLP.\n",
        "* Remember that you need to apply MLP0 before you apply the OV matrix (which is why we omit the 0th layer in our scores). The reason for this is that ablating MLP0 has a strangely large effect in gpt2-small relative to ablating other MLPs, possibly because it's acting as an extended embedding (see [here](https://www.lesswrong.com/s/yivyHaCAmMJ3CqSyj/p/XNjRwEX9kxbpzWFWd#:~:text=GPT%2D2%20Small%E2%80%99s%20performance%20is%20ruined%20if%20you%20ablate%20MLP0) for an explanation).\n",
        "\n",
        "Also, you shouldn't expect to get exactly the same results as the paper (because some parts of this experiment have been set up very slightly different), although you probably shouldn't be off by more than 10%.\n"
      ]
    },
    {
      "cell_type": "code",
      "execution_count": null,
      "metadata": {
        "id": "bL0G4eUOl6mY"
      },
      "outputs": [],
      "source": [
        "def get_copying_scores(\n",
        "    model: HookedTransformer,\n",
        "    k: int = 5,\n",
        "    names: list = NAMES\n",
        ") -> Float[Tensor, \"2 layer-1 head\"]:\n",
        "    '''\n",
        "    Gets copying scores (both positive and negative) as described in page 6 of the IOI paper, for every (layer, head) pair in the model.\n",
        "\n",
        "    Returns these in a 3D tensor (the first dimension is for positive vs negative).\n",
        "    '''\n",
        "    pass"
      ]
    },
    {
      "cell_type": "code",
      "execution_count": null,
      "metadata": {
        "id": "lMlG2oN0d2-P"
      },
      "outputs": [],
      "source": [
        "copying_results = get_copying_scores(model)\n",
        "\n",
        "imshow(\n",
        "    copying_results,\n",
        "    facet_col=0,\n",
        "    facet_labels=[\"Positive copying scores\", \"Negative copying scores\"],\n",
        "    title=\"Copying scores of attention heads' OV circuits\",\n",
        "    width=800\n",
        ")"
      ]
    },
    {
      "cell_type": "code",
      "execution_count": null,
      "metadata": {
        "id": "TtzNwTMnl6mZ"
      },
      "outputs": [],
      "source": [
        "heads = {\"name mover\": [(9, 9), (10, 0), (9, 6)], \"negative name mover\": [(10, 7), (11, 10)]}\n",
        "\n",
        "for i, name in enumerate([\"name mover\", \"negative name mover\"]):\n",
        "    make_table(\n",
        "        title=f\"Copying Scores ({name} heads)\",\n",
        "        colnames=[\"Head\", \"Score\"],\n",
        "        cols=[\n",
        "            list(map(str, heads[name])) + [\"[dark_orange bold]Average\"],\n",
        "            [f\"{copying_results[i, layer-1, head]:.2%}\" for (layer, head) in heads[name]] + [f\"[dark_orange bold]{copying_results[i].mean():.2%}\"]\n",
        "        ]\n",
        "    )"
      ]
    },
    {
      "cell_type": "markdown",
      "metadata": {
        "id": "D5WIRcnsl6ma"
      },
      "source": [
        "## Validation of early heads\n"
      ]
    },
    {
      "cell_type": "markdown",
      "metadata": {
        "id": "i4F2rIg0l6ma"
      },
      "source": [
        "There are three different kinds of heads which appear early in the circuit, which can be validated by looking at their attention patterns on simple random sequences of tokens. Can you figure out which three types these are, and how to validate them in this way?\n",
        "\n",
        "<details>\n",
        "<summary>Answer</summary>\n",
        "\n",
        "Previous token heads, induction heads, and duplicate token heads.\n",
        "\n",
        "We can validate them all at the same time, using sequences of `n` random tokens followed by those same `n` random tokens repeated. This works as follows:\n",
        "\n",
        "* Prev token heads, by measuring the attention patterns with an offset of one (i.e. one below the diagonal).\n",
        "* Induction heads, by measuring the attention patterns with an offset of `n-1` (i.e. the second instance of a token paying attention to the token after its first instance).\n",
        "* Duplicate token heads, by measuring the attention patterns with an offset of `n` (i.e. a token paying attention to its previous instance).\n",
        "\n",
        "In all three cases, if heads score close to 1 on these metrics, it's strong evidence that they are working as this type of head.\n",
        "\n",
        "Note, it's a leaky abstraction to say things like \"head X is an induction head\", since we're only observing it on a certain distribution. For instance, it's not clear what the role of induction heads and duplicate token heads is when there are no duplicates (they could in theory do something completely different).\n",
        "</details>\n"
      ]
    },
    {
      "cell_type": "markdown",
      "metadata": {
        "id": "2apaT013l6ma"
      },
      "source": [
        "### Exercise - perform head validation\n",
        "\n",
        "```c\n",
        "Difficulty: 🔴🔴🔴⚪⚪\n",
        "Importance: 🔵🔵🔵⚪⚪\n",
        "\n",
        "You should spend up to 20-30 minutes on this exercise.\n",
        "\n",
        "Understanding how to identify certain types of heads by their characteristic attention patterns is important.\n",
        "```\n",
        "\n",
        "Once you've read the answer in the dropdown above, you should perform this validation. The result should be a replication of Figure 18 in the paper.\n",
        "\n",
        "We've provided a template for this function. Note use of `typing.Literal`, which is how we indicate that the argument should be one of the following options.\n",
        "\n",
        "We've also provided a helper function `generate_repeated_tokens` (which is similar to the one you used from exercise set 1.2, except that it has no start token, to match the paper), and a helper function `plot_early_head_validation_results` which calls the `get_attn_scores` function and plots the results (in a way which should look like Figure 18). So it's just the `get_attn_scores` function that you need to fill in."
      ]
    },
    {
      "cell_type": "code",
      "execution_count": null,
      "metadata": {
        "id": "P60AH-cHl6ma"
      },
      "outputs": [],
      "source": [
        "def generate_repeated_tokens(\n",
        "    model: HookedTransformer,\n",
        "    seq_len: int,\n",
        "    batch: int = 1\n",
        ") -> Float[Tensor, \"batch 2*seq_len\"]:\n",
        "    '''\n",
        "    Generates a sequence of repeated random tokens (no start token).\n",
        "    '''\n",
        "    rep_tokens_half = t.randint(0, model.cfg.d_vocab, (batch, seq_len), dtype=t.int64)\n",
        "    rep_tokens = t.cat([rep_tokens_half, rep_tokens_half], dim=-1).to(device)\n",
        "    return rep_tokens\n",
        "\n",
        "\n",
        "def get_attn_scores(\n",
        "    model: HookedTransformer,\n",
        "    seq_len: int,\n",
        "    batch: int,\n",
        "    head_type: Literal[\"duplicate\", \"prev\", \"induction\"]\n",
        ") -> Float[Tensor, \"n_layers n_heads\"]:\n",
        "    '''\n",
        "    Returns attention scores for sequence of duplicated tokens, for every head.\n",
        "    '''\n",
        "    pass\n",
        "\n",
        "\n",
        "def plot_early_head_validation_results(seq_len: int = 50, batch: int = 50):\n",
        "    '''\n",
        "    Produces a plot that looks like Figure 18 in the paper.\n",
        "    '''\n",
        "    head_types = [\"duplicate\", \"prev\", \"induction\"]\n",
        "\n",
        "    results = t.stack([\n",
        "        get_attn_scores(model, seq_len, batch, head_type=head_type)\n",
        "        for head_type in head_types\n",
        "    ])\n",
        "\n",
        "    imshow(\n",
        "        results,\n",
        "        facet_col=0,\n",
        "        facet_labels=[\n",
        "            f\"{head_type.capitalize()} token attention prob.<br>on sequences of random tokens\"\n",
        "            for head_type in head_types\n",
        "        ],\n",
        "        labels={\"x\": \"Head\", \"y\": \"Layer\"},\n",
        "        width=1300,\n",
        "    )"
      ]
    },
    {
      "cell_type": "code",
      "source": [
        "model.reset_hooks()\n",
        "plot_early_head_validation_results()"
      ],
      "metadata": {
        "id": "B5hbC1PHz8KH"
      },
      "execution_count": null,
      "outputs": []
    },
    {
      "cell_type": "markdown",
      "metadata": {
        "id": "WUnpI9rkl6ma"
      },
      "source": [
        "Note - these figures suggest that it would be a useful bit of infrastructure to have a \"wiki\" for the heads of a model, giving their scores according to some metrics re head functions, like the ones we've seen here. HookedTransformer makes this pretty easy to make, as just changing the name input to `HookedTransformer.from_pretrained` gives a different model but in the same architecture, so the same code should work. If you want to make this, I'd love to see it!\n",
        "\n",
        "As a proof of concept, [I made a mosaic of all induction heads across the 40 models then in HookedTransformer](https://www.neelnanda.io/mosaic).\n"
      ]
    },
    {
      "cell_type": "markdown",
      "metadata": {
        "id": "jHjUFdAPl6ma"
      },
      "source": [
        "## Minimal Circuit\n"
      ]
    },
    {
      "cell_type": "markdown",
      "metadata": {
        "id": "8u-Hylosl6ma"
      },
      "source": [
        "### Background: faithfulness, completeness, and minimality\n"
      ]
    },
    {
      "cell_type": "markdown",
      "metadata": {
        "id": "Lt1AGm5El6mb"
      },
      "source": [
        "The authors developed three criteria for validating their circuit explanations: faithfulness, completeness and minimality. They are defined as follows:\n",
        "\n",
        "* **Faithful** = the circuit can perform as well as the whole model\n",
        "* **Complete** = the circuit contains all nodes used to perform the task\n",
        "* **Minimal** = the circuit doesn't contain nodes irrelevant to the task\n",
        "\n",
        "If all three criteria are met, then the circuit is considered a reliable explanation for model behaviour.\n",
        "\n",
        "Exercise - can you understand why each of these criteria is important? For each pair of criteria, is it possible for a circuit to meet them both but fail the third (and if yes, can you give examples?).\n",
        "\n",
        "<details>\n",
        "<summary>Answer</summary>\n",
        "\n",
        "The naive circuit (containing the entire model) is trivially faithful and complete, but obviously not minimal. In general, the problem with non-minimal circuits is that they may not be mechanistically understandable, which defeats the purpose of this kind of circuit analysis.\n",
        "\n",
        "Completeness obviously implies faithfulness, because if a node isn't involved in the task, then it can't improve the model's performance on that task.\n",
        "\n",
        "You might initially think faithfulness implies completeness, but this actually isn't true. Backup name mover heads illustrate this point. They are used in the task, and without understanding the role they play you'll have an incorrect model of reality (e.g. you'll think ablating the name mover heads would destroy performance, which turns out not to be true). So if you define a circuit that doesn't contain backup name mover heads then it will be faithful (the backup name mover heads won't be used) but not complete.\n",
        "\n",
        "Summary:\n",
        "\n",
        "* **Faithful & complete, not minimal** = possible (example: naive circuit)\n",
        "* **Faithful & minimal, not complete** = possible (example: circuit missing backup name mover heads)\n",
        "* **Complete & minimal, not faithful** = impossible (since completeness implies faithfulness)\n",
        "\n",
        "In the paper, the authors formalise these concepts. Faithfulness is equivalent to $|F(C) - F(M)|$ being small (where $C$ is our circuit, $M$ is the model, and $F$ is our performance metric function), and completeness is equivalent to $|F(C\\backslash K) - F(M\\backslash K)|$ being small **for any subset $K \\subset C$** (including when $K$ is the empty set, showing that completeness implies faithfulness). Can you see how our circuit missing backup name mover heads violates this condition?\n",
        "\n",
        "<details>\n",
        "<summary>Answer</summary>\n",
        "\n",
        "It violates the condition when $K$ is the set of name mover heads. $C \\backslash K$ performs worse than $M \\backslash K$, because the latter contains backup name mover heads while the former has lost its name mover heads ***and*** backup name mover heads.\n",
        "</details>\n",
        "</details>\n"
      ]
    },
    {
      "cell_type": "markdown",
      "metadata": {
        "id": "rtWMTIq2l6mb"
      },
      "source": [
        "Now that we've analysed most components of the circuit and we have a rough idea of how they work, the next step is to ablate everything except those core components and verify that the model still performs well.\n",
        "\n",
        "This ablation is pretty massive - we're ablating everything except for the output of each of our key attention heads (e.g. duplicate token heads or S-inhibition heads) at a single sequence position (e.g. for the DTHs this is the `S2` token, and for SIHs this is the `end` token). Given that our core circuit has 26 heads in total, and our sequences have length around 20 on average, this means we're ablating all but $(26 / 144) / 20 \\approx 1\\%$ of our attention heads' output (and the number of possible paths through the model is reduced by ***much*** more than this).\n"
      ]
    },
    {
      "cell_type": "markdown",
      "metadata": {
        "id": "I6cZaIs_l6mb"
      },
      "source": [
        "How do we ablate? We could use zero-ablation, but this actually has some non-obvious problems. To explain why intuitively, heads might be \"expecting\" non-zero input, and setting the input to zero is essentially an arbitrary choice which takes it off distribution. You can think of this as adding a bias term to this head, which might mess up subsequent computation and lead to noisy results. We could also use mean-ablation (i.e. set a head's output to its average output over `ioi_dataset`), but the problem here is that taking the mean over this dataset might contain relevant information for solving the IOI task. For example the `is_duplicated` flag which gets written to `S2` will be present for all sequences, so averaging won't remove this information.\n",
        "\n",
        "Can you think of a way to solve this problem? After you've considered this, you can use the dropdown below to see how the authors handled this.\n",
        "\n",
        "<details>\n",
        "<summary>Answer</summary>\n",
        "\n",
        "We ablate with the mean of the ABC dataset rather than the IOI dataset. This removes the problem of averages still containing relevant information from solving the IOI task.\n",
        "\n",
        "</details>\n",
        "\n",
        "One other complication - the sentences have different templates, and the positions of tokens like `S` and `IO` are not consistent across these templates (we avoided this problem in previous exercises by choosing a very small set of sentences, where all the important tokens had the same indices). An example of two templates with different positions:\n",
        "\n",
        "```\n",
        "\"Then, [B] and [A] had a long argument and after that [B] said to [A]\"\n",
        "\"After the lunch [B] and [A] went to the [PLACE], and [B] gave a [OBJECT] to [A]\"\n",
        "```\n",
        "\n",
        "Can you guess what the authors did to solve this problem?\n",
        "\n",
        "<details>\n",
        "<summary>Answer</summary>\n",
        "\n",
        "They took the mean over each template rather than over the whole dataset, and used these values to ablate with.\n",
        "\n",
        "In other words, when they performed ablation by patching in the output of a head (which has shape `(batch, seq, d_model)`), the value patched into the `(i, j, k)`-th element of this tensor would be the average value of the `k`-th element of the vector at sequence position `j`, for all sentences with the same template as the `i`-th sentence in the batch.\n",
        "</details>\n"
      ]
    },
    {
      "cell_type": "markdown",
      "metadata": {
        "id": "l3GVn5U4l6mb"
      },
      "source": [
        "### Exercise - constructing the minimal circuit\n",
        "\n",
        "```c\n",
        "Difficulty: 🔴🔴🔴🔴🔴\n",
        "Importance: 🔵🔵⚪⚪⚪\n",
        "\n",
        "This exercise is expected to take a long time; at least an hour. It is probably the most challenging exercise in this notebook.\n",
        "```\n"
      ]
    },
    {
      "cell_type": "markdown",
      "metadata": {
        "id": "4l66t1All6mb"
      },
      "source": [
        "You now have enough information to perform ablation on your model, to get the minimal circuit. Below, you can try to implement this yourself.\n",
        "\n",
        "This exercise is very technically challenging, so you're welcome to skip it if it doesn't seem interesting to you. However, I recommend you have a read of the solution, to understand the rough contours of how this ablation works.\n",
        "\n",
        "If you want to attempt this task, then you can start with the code below. We define two dictionaries, one mapping head types to the heads in the model which are of that type, and the other mapping head types to the sequence positions which we *won't* be ablating for those types of head.\n"
      ]
    },
    {
      "cell_type": "code",
      "execution_count": null,
      "metadata": {
        "id": "u62uyeczl6mb"
      },
      "outputs": [],
      "source": [
        "CIRCUIT = {\n",
        "    \"name mover\": [(9, 9), (10, 0), (9, 6)],\n",
        "    \"backup name mover\": [(10, 10), (10, 6), (10, 2), (10, 1), (11, 2), (9, 7), (9, 0), (11, 9)],\n",
        "    \"negative name mover\": [(10, 7), (11, 10)],\n",
        "    \"s2 inhibition\": [(7, 3), (7, 9), (8, 6), (8, 10)],\n",
        "    \"induction\": [(5, 5), (5, 8), (5, 9), (6, 9)],\n",
        "    \"duplicate token\": [(0, 1), (0, 10), (3, 0)],\n",
        "    \"previous token\": [(2, 2), (4, 11)],\n",
        "}\n",
        "\n",
        "SEQ_POS_TO_KEEP = {\n",
        "    \"name mover\": \"end\",\n",
        "    \"backup name mover\": \"end\",\n",
        "    \"negative name mover\": \"end\",\n",
        "    \"s2 inhibition\": \"end\",\n",
        "    \"induction\": \"S2\",\n",
        "    \"duplicate token\": \"S2\",\n",
        "    \"previous token\": \"S1+1\",\n",
        "}"
      ]
    },
    {
      "cell_type": "markdown",
      "metadata": {
        "id": "JQcQU9yql6mb"
      },
      "source": [
        "To be clear, the things that we'll be mean-ablating are:\n",
        "\n",
        "* Every head not in the `CIRCUIT` dict\n",
        "* Every sequence position for the heads in `CIRCUIT` dict, except for the sequence positions given by the `SEQ_POS_TO_KEEP` dict\n",
        "\n",
        "And we'll be mean-ablating by replacing a head's output with the mean output for `abc_dataset`, over all sentences with the same template as the sentence in the batch. You can access the templates for a dataset using the `dataset.groups` attribute, which returns a list of tensors (each one containing the indices of sequences in the batch sharing the same template).\n"
      ]
    },
    {
      "cell_type": "markdown",
      "metadata": {
        "id": "MC1f4hfol6mb"
      },
      "source": [
        "Now, you can try and complete the following function, which should add a ***permanent hook*** to perform this ablation whenever the model is run on the `ioi_dataset` (note that this hook will only make sense if the model is run on this dataset, so we should reset hooks if we run it on a different dataset).\n",
        "\n",
        "Permanent hooks are a useful feature of transformerlens. They behave just like regular hooks, except they aren't removed when you run the model (e.g. using `model.run_with_cache` or `model.run_with_hooks`). The only way to remove them is with:\n",
        "\n",
        "```python\n",
        "model.reset_hooks(including_permanent=True)\n",
        "```\n",
        "\n",
        "You can add permanent hooks as follows:\n",
        "\n",
        "```python\n",
        "model.add_hook(hook_name, hook_fn, is_permanent=True)\n",
        "```\n",
        "\n",
        "where `hook_name` can be a string or a filter function mapping strings to booleans.\n"
      ]
    },
    {
      "cell_type": "code",
      "execution_count": null,
      "metadata": {
        "id": "yv6QEwDIl6mc"
      },
      "outputs": [],
      "source": [
        "def add_mean_ablation_hook(\n",
        "    model: HookedTransformer,\n",
        "    means_dataset: IOIDataset,\n",
        "    circuit: Dict[str, List[Tuple[int, int]]] = CIRCUIT,\n",
        "    seq_pos_to_keep: Dict[str, str] = SEQ_POS_TO_KEEP,\n",
        "    is_permanent: bool = True,\n",
        ") -> HookedTransformer:\n",
        "    '''\n",
        "    Adds a permanent hook to the model, which ablates according to the circuit and\n",
        "    seq_pos_to_keep dictionaries.\n",
        "\n",
        "    In other words, when the model is run on ioi_dataset, every head's output will\n",
        "    be replaced with the mean over means_dataset for sequences with the same template,\n",
        "    except for a subset of heads and sequence positions as specified by the circuit\n",
        "    and seq_pos_to_keep dicts.\n",
        "    '''\n",
        "    pass"
      ]
    },
    {
      "cell_type": "markdown",
      "metadata": {
        "id": "GVA_vXMZl6mc"
      },
      "source": [
        "To test whether your function works, you can use the function provided to you, and see if the logit difference from your implementation of the circuit matches this one:\n"
      ]
    },
    {
      "cell_type": "code",
      "execution_count": null,
      "metadata": {
        "id": "UFsbKB4dl6mc"
      },
      "outputs": [],
      "source": [
        "import part3_indirect_object_identification.ioi_circuit_extraction as ioi_circuit_extraction\n",
        "\n",
        "model = ioi_circuit_extraction.add_mean_ablation_hook(model, means_dataset=abc_dataset, circuit=CIRCUIT, seq_pos_to_keep=SEQ_POS_TO_KEEP)\n",
        "\n",
        "ioi_logits_minimal = model(ioi_dataset.toks)\n",
        "\n",
        "print(f\"Average logit difference (IOI dataset, using entire model): {logits_to_ave_logit_diff_2(ioi_logits_original):.4f}\")\n",
        "print(f\"Average logit difference (IOI dataset, only using circuit): {logits_to_ave_logit_diff_2(ioi_logits_minimal):.4f}\")"
      ]
    },
    {
      "cell_type": "code",
      "execution_count": null,
      "metadata": {
        "id": "MZ7NcY9nl6mc"
      },
      "outputs": [],
      "source": [
        "model = add_mean_ablation_hook(model, means_dataset=abc_dataset, circuit=CIRCUIT, seq_pos_to_keep=SEQ_POS_TO_KEEP)\n",
        "\n",
        "ioi_logits_minimal = model(ioi_dataset.toks)\n",
        "\n",
        "print(f\"Average logit difference (IOI dataset, using entire model): {logits_to_ave_logit_diff_2(ioi_logits_original):.4f}\")\n",
        "print(f\"Average logit difference (IOI dataset, only using circuit): {logits_to_ave_logit_diff_2(ioi_logits_minimal):.4f}\")"
      ]
    },
    {
      "cell_type": "markdown",
      "metadata": {
        "id": "W-j5mK09l6mc"
      },
      "source": [
        "You should find that the logit difference only drops by a small amount, and is still high enough to represent a high likelihood ratio favouring the IO token over S.\n"
      ]
    },
    {
      "cell_type": "markdown",
      "metadata": {
        "id": "EY4-iNNfl6mc"
      },
      "source": [
        "<details>\n",
        "<summary>Hint (docstrings of some functions which will be useful for your main function)</summary>\n",
        "\n",
        "```python\n",
        "def compute_means_by_template(\n",
        "    means_dataset: IOIDataset,\n",
        "    model: HookedTransformer\n",
        ") -> Float[Tensor, \"layer batch seq head_idx d_head\"]:\n",
        "    '''\n",
        "    Returns the mean of each head's output over the means dataset. This mean is\n",
        "    computed separately for each group of prompts with the same template (these\n",
        "    are given by means_dataset.groups).\n",
        "    '''\n",
        "    pass\n",
        "\n",
        "\n",
        "def get_heads_and_posns_to_keep(\n",
        "    means_dataset: IOIDataset,\n",
        "    model: HookedTransformer,\n",
        "    circuit: Dict[str, List[Tuple[int, int]]],\n",
        "    seq_pos_to_keep: Dict[str, str],\n",
        ") -> Dict[int, Bool[Tensor, \"batch seq head\"]]:\n",
        "    '''\n",
        "    Returns a dictionary mapping layers to a boolean mask giving the indices of the\n",
        "    z output which *shouldn't* be mean-ablated.\n",
        "\n",
        "    The output of this function will be used for the hook function that does ablation.\n",
        "    '''\n",
        "    pass\n",
        "\n",
        "\n",
        "def hook_fn_mask_z(\n",
        "    z: Float[Tensor, \"batch seq head d_head\"],\n",
        "    hook: HookPoint,\n",
        "    heads_and_posns_to_keep: Dict[int, Bool[Tensor, \"batch seq head\"]],\n",
        "    means: Float[Tensor, \"layer batch seq head d_head\"],\n",
        ") -> Float[Tensor, \"batch seq head d_head\"]:\n",
        "    '''\n",
        "    Hook function which masks the z output of a transformer head.\n",
        "\n",
        "    heads_and_posns_to_keep\n",
        "        Dict created with the get_heads_and_posns_to_keep function. This tells\n",
        "        us where to mask.\n",
        "\n",
        "    means\n",
        "        Tensor of mean z values of the means_dataset over each group of prompts\n",
        "        with the same template. This tells us what values to mask with.\n",
        "    '''\n",
        "    pass\n",
        "```\n",
        "\n",
        "Once you fill in these three functions, completing the main function is simple. It should:\n",
        "\n",
        "* Use `compute_means_by_template` to get the means\n",
        "* Use `get_heads_and_posns_to_keep` to get the boolean mask\n",
        "* Apply `functools.partial` to `hook_fn_mask_z`, using the outputs of the 2 previous functions, to get your hook function which performs the mean ablation\n",
        "* Add this hook function to your model, as a permanent hook\n",
        "\n",
        "</details>\n",
        "\n",
        "\n"
      ]
    },
    {
      "cell_type": "markdown",
      "metadata": {
        "id": "b7H4z00sd2-S"
      },
      "source": [
        "### Exercise - calculate minimality scores\n",
        "\n",
        "```c\n",
        "Difficulty: 🔴🔴🔴🔴🔴\n",
        "Importance: 🔵🔵⚪⚪⚪\n",
        "\n",
        "This exercise is expected to take a long time; at least an hour. It is probably the second most challenging exercise in this notebook.\n",
        "```\n"
      ]
    },
    {
      "cell_type": "markdown",
      "metadata": {
        "id": "i0PKTnM3l6mc"
      },
      "source": [
        "We'll conclude this section by replicating figure 7 of the paper, which shows the minimality scores for the model.\n",
        "\n",
        "Again, this exercise is very challenging and is designed to be done with minimal guidance. You will need to read the relevant sections of the paper which explain this plot: section 4 (experimental validation), from the start up to the end of section 4.2. Note that you won't need to perform the sampling algorithm described on page 10, because we're giving you the set $K$ for each component, in the form of the dictionary below (this is based on the information given in figure 20 of the paper, the \"minimality sets\" table).\n"
      ]
    },
    {
      "cell_type": "code",
      "execution_count": null,
      "metadata": {
        "id": "EeJqsHNkl6mc"
      },
      "outputs": [],
      "source": [
        "K_FOR_EACH_COMPONENT = {\n",
        "    (9, 9): set(),\n",
        "    (10, 0): {(9, 9)},\n",
        "    (9, 6): {(9, 9), (10, 0)},\n",
        "    (10, 7): {(11, 10)},\n",
        "    (11, 10): {(10, 7)},\n",
        "    (8, 10): {(7, 9), (8, 6), (7, 3)},\n",
        "    (7, 9): {(8, 10), (8, 6), (7, 3)},\n",
        "    (8, 6): {(7, 9), (8, 10), (7, 3)},\n",
        "    (7, 3): {(7, 9), (8, 10), (8, 6)},\n",
        "    (5, 5): {(5, 9), (6, 9), (5, 8)},\n",
        "    (5, 9): {(11, 10), (10, 7)},\n",
        "    (6, 9): {(5, 9), (5, 5), (5, 8)},\n",
        "    (5, 8): {(11, 10), (10, 7)},\n",
        "    (0, 1): {(0, 10), (3, 0)},\n",
        "    (0, 10): {(0, 1), (3, 0)},\n",
        "    (3, 0): {(0, 1), (0, 10)},\n",
        "    (4, 11): {(2, 2)},\n",
        "    (2, 2): {(4, 11)},\n",
        "    (11, 2): {(9, 9), (10, 0), (9, 6)},\n",
        "    (10, 6): {(9, 9), (10, 0), (9, 6), (11, 2)},\n",
        "    (10, 10): {(9, 9), (10, 0), (9, 6), (11, 2), (10, 6)},\n",
        "    (10, 2): {(9, 9), (10, 0), (9, 6), (11, 2), (10, 6), (10, 10)},\n",
        "    (9, 7): {(9, 9), (10, 0), (9, 6), (11, 2), (10, 6), (10, 10), (10, 2)},\n",
        "    (10, 1): {(9, 9), (10, 0), (9, 6), (11, 2), (10, 6), (10, 10), (10, 2), (9, 7)},\n",
        "    (11, 9): {(9, 9), (10, 0), (9, 6), (9, 0)},\n",
        "    (9, 0): {(9, 9), (10, 0), (9, 6), (11, 9)},\n",
        "}"
      ]
    },
    {
      "cell_type": "markdown",
      "metadata": {
        "id": "VUkJGJjrl6md"
      },
      "source": [
        "Also, given a dictionary `minimality_scores` (which maps heads to their scores), the following code will produce a plot that looks like the one from the paper:\n"
      ]
    },
    {
      "cell_type": "code",
      "execution_count": null,
      "metadata": {
        "id": "exCDYsTAl6md"
      },
      "outputs": [],
      "source": [
        "def plot_minimal_set_results(minimality_scores: Dict[Tuple[int, int], float]):\n",
        "    '''\n",
        "    Plots the minimality results, in a way resembling figure 7 in the paper.\n",
        "\n",
        "    minimality_scores:\n",
        "        Dict with elements like (9, 9): minimality score for head 9.9 (as described\n",
        "        in section 4.2 of the paper)\n",
        "    '''\n",
        "\n",
        "    CIRCUIT_reversed = {head: k for k, v in CIRCUIT.items() for head in v}\n",
        "    colors = [CIRCUIT_reversed[head].capitalize() + \" head\" for head in minimality_scores.keys()]\n",
        "    color_sequence = [px.colors.qualitative.Dark2[i] for i in [0, 1, 2, 5, 3, 6]] + [\"#BAEA84\"]\n",
        "\n",
        "    bar(\n",
        "        list(minimality_scores.values()),\n",
        "        x=list(map(str, minimality_scores.keys())),\n",
        "        labels={\"x\": \"Attention head\", \"y\": \"Change in logit diff\", \"color\": \"Head type\"},\n",
        "        color=colors,\n",
        "        template=\"ggplot2\",\n",
        "        color_discrete_sequence=color_sequence,\n",
        "        bargap=0.02,\n",
        "        yaxis_tickformat=\".0%\",\n",
        "        legend_title_text=\"\",\n",
        "        title=\"Plot of minimality scores (as percentages of full model logit diff)\",\n",
        "        width=800,\n",
        "        hovermode=\"x unified\"\n",
        "    )"
      ]
    },
    {
      "cell_type": "code",
      "execution_count": null,
      "metadata": {
        "id": "LuEjfL1sl6md"
      },
      "outputs": [],
      "source": [
        "# YOUR CODE HERE - define the `minimality_scores` dictionary, to be used in the plot function given above"
      ]
    },
    {
      "cell_type": "code",
      "execution_count": null,
      "metadata": {
        "id": "5W_CThdxtQiv"
      },
      "outputs": [],
      "source": [
        "plot_minimal_set_results(minimality_scores)"
      ]
    },
    {
      "cell_type": "markdown",
      "metadata": {
        "id": "0zJFlcmUl6md"
      },
      "source": [
        "<details>\n",
        "<summary>Hint (docstrings of some functions which will be useful for your main function)</summary>\n",
        "\n",
        "```python\n",
        "def get_score(\n",
        "    model: HookedTransformer,\n",
        "    ioi_dataset: IOIDataset,\n",
        "    abc_dataset: IOIDataset,\n",
        "    K: Set[Tuple[int, int]],\n",
        "    C: Dict[str, List[Tuple[int, int]]],\n",
        ") -> float:\n",
        "    '''\n",
        "    Returns the value F(C \\ K), where F is the logit diff, C is the\n",
        "    core circuit, and K is the set of circuit components to remove.\n",
        "    '''\n",
        "    pass\n",
        "\n",
        "\n",
        "def get_minimality_score(\n",
        "    model: HookedTransformer,\n",
        "    ioi_dataset: IOIDataset,\n",
        "    abc_dataset: IOIDataset,\n",
        "    v: Tuple[int, int],\n",
        "    K: Set[Tuple[int, int]],\n",
        "    C: Dict[str, List[Tuple[int, int]]] = CIRCUIT,\n",
        ") -> float:\n",
        "    '''\n",
        "    Returns the value | F(C \\ K_union_v) - F(C | K) |, where F is\n",
        "    the logit diff, C is the core circuit, K is the set of circuit\n",
        "    components to remove, and v is a head (not in K).\n",
        "    '''\n",
        "    pass\n",
        "\n",
        "\n",
        "def get_all_minimality_scores(\n",
        "    model: HookedTransformer,\n",
        "    ioi_dataset: IOIDataset = ioi_dataset,\n",
        "    abc_dataset: IOIDataset = abc_dataset,\n",
        "    k_for_each_component: Dict = K_FOR_EACH_COMPONENT\n",
        ") -> Dict[Tuple[int, int], float]:\n",
        "    '''\n",
        "    Returns dict of minimality scores for every head in the model (as\n",
        "    a fraction of F(M), the logit diff of the full model).\n",
        "\n",
        "    Warning - this resets all hooks at the end (including permanent).\n",
        "    '''\n",
        "    pass\n",
        "\n",
        "\n",
        "minimality_scores = get_all_minimality_scores(model)\n",
        "\n",
        "plot_minimal_set_results(minimality_scores)\n",
        "```\n",
        "\n",
        "The output of the third function can be plotted using the plotting function given above.\n",
        "\n",
        "</details>"
      ]
    },
    {
      "cell_type": "markdown",
      "metadata": {
        "id": "kXPKB6Uil6md"
      },
      "source": [
        "Note - your results won't be exactly the same as the paper's, because of random error (e.g. the order of importanc of heads within each category might not be the same, especially heads with a small effect on the model like the backup name mover heads). But they should be reasonably similar in their important features.\n"
      ]
    },
    {
      "cell_type": "markdown",
      "metadata": {
        "id": "fMHnae9xl6md"
      },
      "source": [
        "# 6️⃣ Bonus / exploring anomalies\n"
      ]
    },
    {
      "cell_type": "markdown",
      "metadata": {
        "id": "ge59xOkhd2-T"
      },
      "source": [
        "> ##### Learning objectives\n",
        ">\n",
        "> * Explore other parts of the model (e.g. negative name mover heads, and induction heads)\n",
        "> * Understand the subtleties present in model circuits, and the fact that there are often more parts to a circuit than seem obvious after initial investigation\n",
        "> * Understand the importance of the three quantitative criteria used by the paper: **faithfulness**, **completeness** and **minimality**\n"
      ]
    },
    {
      "cell_type": "markdown",
      "metadata": {
        "id": "a_GU1K_9l6md"
      },
      "source": [
        "Here, you'll explore some weirder parts of the circuit which we haven't looked at in detail yet. Specifically, there are three parts to explore:\n",
        "\n",
        "* Early induction heads\n",
        "* Backup name mover heads\n",
        "* Positional vs token information being moved\n",
        "\n",
        "These three sections are all optional, and you can do as many of them as you want (in whichever order you prefer). There will also be some further directions of investigation at the end of this section, which have been suggested either by the authors or by Neel.\n"
      ]
    },
    {
      "cell_type": "markdown",
      "metadata": {
        "id": "J6-zWs1hl6md"
      },
      "source": [
        "## Early induction heads\n"
      ]
    },
    {
      "cell_type": "markdown",
      "metadata": {
        "id": "y76qR7d4l6md"
      },
      "source": [
        "As we've discussed, a really weird observation is that some of the early heads detecting duplicated tokens are induction heads, not just direct duplicate token heads. This is very weird! What's up with that?\n"
      ]
    },
    {
      "cell_type": "markdown",
      "metadata": {
        "id": "czXZXzMVl6me"
      },
      "source": [
        "First off, let's just recap what induction heads are. An induction head is an important type of attention head that can detect and continue repeated sequences. It is the second head in a two head induction circuit, which looks for previous copies of the current token and attends to the token *after* it, and then copies that to the current position and predicts that it will come next. They're enough of a big deal that [Anthropic wrote a whole paper on them](https://transformer-circuits.pub/2022/in-context-learning-and-induction-heads/index.html).\n",
        "\n",
        "The diagram below shows a diagram for how they work to predict that the token `\"urs\"` follows `\" D\"`, the second time the word `\"Dursley\"` appears (note that we assume the model has not been trained on Harry Potter, so this is an example of in-context learning).\n",
        "\n",
        "<img src=\"https://raw.githubusercontent.com/callummcdougall/computational-thread-art/master/example_images/misc/ih-simple.png\" width=\"650\">\n"
      ]
    },
    {
      "cell_type": "markdown",
      "metadata": {
        "id": "zD-gnGdml6me"
      },
      "source": [
        "Why is it surprising that induction heads up here? It's surprising because it feels like overkill. The model doesn't care about *what* token comes after the first copy of the subject, just that it's duplicated. And it already has simpler duplicate token heads. My best guess is that it just already had induction heads around and that, in addition to their main function, they *also* only activate on duplicated tokens. So it was useful to repurpose this existing machinery.\n",
        "\n",
        "This suggests that as we look for circuits in larger models life may get more and more complicated, as components in simpler circuits get repurposed and built upon.\n"
      ]
    },
    {
      "cell_type": "markdown",
      "metadata": {
        "id": "ROzMGTZRl6me"
      },
      "source": [
        "First, in the cell below, you should visualise the attention patterns of the induction heads (`5.5` and `6.9`) on sequences containg repeated tokens, and verify that they are attending to the token *after* the previous instance of that same token. You might want to repeat code you wrote in the \"Validation of duplicate token heads\" section.\n"
      ]
    },
    {
      "cell_type": "code",
      "execution_count": null,
      "metadata": {
        "id": "pFBG5Cq_l6me"
      },
      "outputs": [],
      "source": [
        "model.reset_hooks(including_permanent=True)\n",
        "\n",
        "attn_heads = [(5, 5), (6, 9)]\n",
        "\n",
        "# Get repeating sequences (note we could also take mean over larger batch)\n",
        "batch = 1\n",
        "seq_len = 15\n",
        "rep_tokens = generate_repeated_tokens(model, seq_len, batch)\n",
        "\n",
        "# Run cache (we only need attention patterns for layers 5 and 6)\n",
        "_, cache = model.run_with_cache(\n",
        "    rep_tokens,\n",
        "    return_type = None,\n",
        "    names_filter = lambda name: name.endswith(\"pattern\") and any(f\".{layer}.\" in name for layer, head in attn_heads)\n",
        ")\n",
        "\n",
        "# Display results\n",
        "attn = t.stack([\n",
        "    cache[\"pattern\", layer][0, head]\n",
        "    for (layer, head) in attn_heads\n",
        "])\n",
        "cv.attention.attention_patterns(\n",
        "    tokens = model.to_str_tokens(rep_tokens[0]),\n",
        "    attention = attn,\n",
        "    attention_head_names = [f\"{layer}.{head}\" for (layer, head) in attn_heads]\n",
        ")"
      ]
    },
    {
      "cell_type": "markdown",
      "metadata": {
        "id": "WaH4OYFXl6me"
      },
      "source": [
        "One implication of this is that it's useful to categories heads according to whether they occur in simpler circuits, so that as we look for more complex circuits we can easily look for them. This is Hooked to do here! An interesting fact about induction heads is that they work on a sequence of repeated random tokens - notable for being wildly off distribution from the natural language GPT-2 was trained on. Being able to predict a model's behaviour off distribution is a good mark of success for mechanistic interpretability! This is a good sanity check for whether a head is an induction head or not.\n",
        "\n",
        "We can characterise an induction head by just giving a sequence of random tokens repeated once, and measuring the average attention paid from the second copy of a token to the token after the first copy. At the same time, we can also measure the average attention paid from the second copy of a token to the first copy of the token, which is the attention that the induction head would pay if it were a duplicate token head, and the average attention paid to the previous token to find previous token heads.\n",
        "\n",
        "Note that this is a superficial study of whether something is an induction head - we totally ignore the question of whether it actually does boost the correct token or whether it composes with a single previous head and how. In particular, we sometimes get anti-induction heads which suppress the induction-y token (no clue why!), and this technique will find those too.\n"
      ]
    },
    {
      "cell_type": "markdown",
      "metadata": {
        "id": "Lef_r1BWl6me"
      },
      "source": [
        "### Exercise - validate prev token heads via patching\n",
        "\n",
        "```c\n",
        "Difficulty: 🔴🔴⚪⚪⚪\n",
        "Importance: 🔵🔵⚪⚪⚪\n",
        "\n",
        "This just involves performing a specific kind of patching, with functions you've already written.\n",
        "```\n",
        "\n",
        "The paper mentions that heads `2.2` and `4.11` are previous token heads. Hopefully you already validated this in the previous section by plotting the previous token scores (in your replication of Figure 18). But this time, you'll perform a particular kind of path patching to prove that these heads are functioning as previous token heads, in the way implied by our circuit diagram.\n",
        "\n",
        "<details>\n",
        "<summary>Question - what kind of path patching should you perform?</summary>\n",
        "\n",
        "To show these heads are acting as prev token heads in an induction circuit, we want to perform key-patching (i.e. patch the path from the output of the prev token heads to the key inputs of the induction heads).\n",
        "\n",
        "We expect this to worsen performance, because it interrupts the duplicate token signal provided by the induction heads.\n",
        "</details>\n"
      ]
    },
    {
      "cell_type": "code",
      "execution_count": null,
      "metadata": {
        "id": "fneGh5x6l6me"
      },
      "outputs": [],
      "source": [
        "model.reset_hooks(including_permanent=True)\n",
        "\n",
        "# YOUR CODE HERE - create `induction_head_key_path_patching_results`"
      ]
    },
    {
      "cell_type": "code",
      "execution_count": null,
      "metadata": {
        "id": "eiPu66P-tuXS"
      },
      "outputs": [],
      "source": [
        "imshow(\n",
        "    100 * induction_head_key_path_patching_results,\n",
        "    title=\"Direct effect on Induction Heads' keys\",\n",
        "    labels={\"x\": \"Head\", \"y\": \"Layer\", \"color\": \"Logit diff.<br>variation\"},\n",
        "    coloraxis=dict(colorbar_ticksuffix = \"%\"),\n",
        "    width=600,\n",
        ")"
      ]
    },
    {
      "cell_type": "markdown",
      "metadata": {
        "id": "kULmNRKKl6me"
      },
      "source": [
        "You might notice that there are two other heads in the induction heads box in the paper's diagram, both in brackets (heads `5.8` and `5.9`). Can you try and figure out what these heads are doing, and why they're in brackets?\n"
      ]
    },
    {
      "cell_type": "markdown",
      "metadata": {
        "id": "tQmLbkDml6me"
      },
      "source": [
        "<details>\n",
        "<summary>Hint</summary>\n",
        "\n",
        "Recall the path patching section, where you applied patching from attention heads' outputs to the value inputs to the S-inhibition heads (hopefully replicating figure 4b from the paper). Try patching the **keys** of the S-inhibition heads instead. Do heads `5.8` and `5.9` stand out here?\n",
        "</details>\n",
        "\n",
        "<details>\n",
        "<summary>Answer</summary>\n",
        "\n",
        "After making the plot suggested in the hint, you should find that patching from `5.8` and `5.9` each have around a 5% negative impact on the logit difference if you patch from them to the S-inhibition heads. We'd like to conclude that these are induction heads, and they're acting to increase the attention paid by `end` to `S2`. Unfortunately, they don't seem to be induction heads according to the results of figure 18 in the paper (which we replicated in the section \"validation of early heads\").\n",
        "\n",
        "It turns out that they're acting as induction heads on this distribution, but not in general. A simple way we can support this hypothesis is to look at attention patterns (we find that `S2` pays attention to `S1+1` in both head `5.8` and `5.9`).\n",
        "</details>\n",
        "\n",
        "<details>\n",
        "<summary>Aside - a lesson in nonlinearity</summary>\n",
        "\n",
        "In the dropdown above, I claimed that `5.8` and `5.9` were doing induction on this distribution. A more rigorous way to test this would be to path patch to the keys of these heads, and see if either of the previous token heads have a large effect. If they do, this is very strong evidence for induction. However, it turns out that neither of the prev token heads affect the model's IOI performance via their path through the fuzzy induction heads. Does this invalidate our hypothesis?\n",
        "\n",
        "In fact, no, because of nonlinearity. The two prev token heads `2.2` and `4.11` will be adding onto the **logits** used to calculate the attention probability from `S2` to `S1+1`, rather than adding onto the probabilities directly. SO it might be the case that one head on its own doesn't increase the attention probability very much, both both heads acting together significantly increase it. (Motivating example: suppose we only had 2 possible source tokens, without either head acting the logits are `[0.0, -8.0]`, and the action of each head is to add `4.0` to the second logit. If one head acts then the probability on the second token goes from basically zero to `0.018` (which will have a very small impact on the attention head's output), but if both heads are acting then the logits are equal and the probability is `0.5` (which obviously has a much larger effect)).\n",
        "\n",
        "This is in fact what I found here - after modifying the path patching function to allow more than one sender head, I found that patching from both `2.2` and `4.11` to `5.8` and `5.9` had a larger effect on the model's IOI performance than patching from either head alone (about a 1% drop in performance for both vs almost 0% for either individually). The same effect can be found when we patch from these heads to all four induction heads, although it's even more pronounced (a 3% and 15% drop respectively for the heads individually, vs 31% for both).\n",
        "</details>\n"
      ]
    },
    {
      "cell_type": "markdown",
      "metadata": {
        "id": "PKShPICGl6me"
      },
      "source": [
        "## Backup name mover heads\n"
      ]
    },
    {
      "cell_type": "markdown",
      "metadata": {
        "id": "YxzA2DUSl6mf"
      },
      "source": [
        "Another fascinating anomaly is that of the **backup name mover heads**. A standard technique to apply when interpreting model internals is ablations, or knock-out. If we run the model but intervene to set a specific head to zero, what happens? If the model is robust to this intervention, then naively we can be confident that the head is not doing anything important, and conversely if the model is much worse at the task this suggests that head was important. There are several conceptual flaws with this approach, making the evidence only suggestive, e.g. that the average output of the head may be far from zero and so the knockout may send it far from expected activations, breaking internals on *any* task. But it's still an Hooked technique to apply to give some data.\n",
        "\n",
        "But a wild finding in the paper is that models have **built in redundancy**. If we knock out one of the name movers, then there are some backup name movers in later layers that *change their behaviour* and do (some of) the job of the original name mover head. This means that naive knock-out will significantly underestimate the importance of the name movers.\n"
      ]
    },
    {
      "cell_type": "markdown",
      "metadata": {
        "id": "uCC8Qnhtl6mf"
      },
      "source": [
        "Let's test this! Let's ablate the most important name mover (which is `9.9`, as the code below verifies for us) on just the `end` token, and compare performance.\n"
      ]
    },
    {
      "cell_type": "code",
      "execution_count": null,
      "metadata": {
        "id": "bjdLizYDl6mf"
      },
      "outputs": [],
      "source": [
        "model.reset_hooks(including_permanent=True)\n",
        "\n",
        "ioi_logits, ioi_cache = model.run_with_cache(ioi_dataset.toks)\n",
        "original_average_logit_diff = logits_to_ave_logit_diff_2(ioi_logits)"
      ]
    },
    {
      "cell_type": "code",
      "execution_count": null,
      "metadata": {
        "id": "3LiMMUPwl6mf"
      },
      "outputs": [],
      "source": [
        "s_unembeddings = model.W_U.T[ioi_dataset.s_tokenIDs]\n",
        "io_unembeddings = model.W_U.T[ioi_dataset.io_tokenIDs]\n",
        "logit_diff_directions =  io_unembeddings - s_unembeddings # [batch d_model]\n",
        "\n",
        "per_head_residual, labels = ioi_cache.stack_head_results(layer=-1, return_labels=True)\n",
        "per_head_residual = einops.rearrange(\n",
        "    per_head_residual[:, t.arange(len(ioi_dataset)).to(device), ioi_dataset.word_idx[\"end\"].to(device)],\n",
        "    \"(layer head) batch d_model -> layer head batch d_model\",\n",
        "    layer=model.cfg.n_layers\n",
        ")\n",
        "\n",
        "per_head_logit_diffs = residual_stack_to_logit_diff(per_head_residual, ioi_cache, logit_diff_directions)\n",
        "\n",
        "top_layer, top_head = topk_of_Nd_tensor(per_head_logit_diffs, k=1)[0]\n",
        "print(f\"Top Name Mover to ablate: {top_layer}.{top_head}\")"
      ]
    },
    {
      "cell_type": "code",
      "execution_count": null,
      "metadata": {
        "id": "VdqCQV0Hl6mf"
      },
      "outputs": [],
      "source": [
        "# Getting means we can use to ablate\n",
        "abc_means = ioi_circuit_extraction.compute_means_by_template(abc_dataset, model)[top_layer]\n",
        "\n",
        "# Define hook function and add to model\n",
        "def ablate_top_head_hook(z: Float[Tensor, \"batch pos head_index d_head\"], hook):\n",
        "    '''\n",
        "    Ablates hook by patching in results\n",
        "    '''\n",
        "    z[range(len(ioi_dataset)), ioi_dataset.word_idx[\"end\"], top_head] = abc_means[range(len(ioi_dataset)), ioi_dataset.word_idx[\"end\"], top_head]\n",
        "    return z\n",
        "\n",
        "model.add_hook(utils.get_act_name(\"z\", top_layer), ablate_top_head_hook)\n",
        "\n",
        "# Runs the model, temporarily adds caching hooks and then removes *all* hooks after running, including the ablation hook.\n",
        "ablated_logits, ablated_cache = model.run_with_cache(ioi_dataset.toks)\n",
        "rprint(\"\\n\".join([\n",
        "    f\"{original_average_logit_diff:.4f} = Original logit diff\",\n",
        "    f\"{per_head_logit_diffs[top_layer, top_head]:.4f} = Direct Logit Attribution of top name mover head\",\n",
        "    f\"{original_average_logit_diff - per_head_logit_diffs[top_layer, top_head]:.4f} = Naive prediction of post ablation logit diff\",\n",
        "    f\"{logits_to_ave_logit_diff_2(ablated_logits):.4f} = Logit diff after abla\n",
        "]))"
      ]
    },
    {
      "cell_type": "code",
      "execution_count": null,
      "metadata": {
        "id": "QN9DXVInd2-W"
      },
      "outputs": [],
      "source": [
        "make_table(\n",
        "    cols = [\n",
        "        \"Original logit diff\", \"Direct Logit Attribution of top name mover head\", \"Naive prediction of post ablation logit diff\", f\"Logit diff after ablating L{top_layer}H{top_head}\",\n",
        "        original_average_logit_diff, per_head_logit_diffs[top_layer, top_head]\n",
        "    ]\n",
        ")"
      ]
    },
    {
      "cell_type": "markdown",
      "metadata": {
        "id": "koWQDqxOl6mf"
      },
      "source": [
        "What's going on here? We calculate the logit diff for our full model, and how much of that is coming directly from head `9.9`. Given this, we come up with an estimate for what the logit diff will fall to when we ablate this head. In fact, performance is **much** better than this naive prediction.\n",
        "\n",
        "Why is this happening? As before, we can look at the direct logit attribution of each head to get a sense of what's going on.\n"
      ]
    },
    {
      "cell_type": "code",
      "execution_count": null,
      "metadata": {
        "id": "-xLVDvjD0UhK"
      },
      "outputs": [],
      "source": [
        "per_head_ablated_residual, labels = ablated_cache.stack_head_results(layer=-1, return_labels=True)\n",
        "per_head_ablated_residual = einops.rearrange(\n",
        "    per_head_ablated_residual[:, t.arange(len(ioi_dataset)).to(device), ioi_dataset.word_idx[\"end\"].to(device)],\n",
        "    \"(layer head) batch d_model -> layer head batch d_model\",\n",
        "    layer=model.cfg.n_layers\n",
        ")\n",
        "per_head_ablated_logit_diffs = residual_stack_to_logit_diff(per_head_ablated_residual, ablated_cache, logit_diff_directions)\n",
        "per_head_ablated_logit_diffs = per_head_ablated_logit_diffs.reshape(model.cfg.n_layers, model.cfg.n_heads)"
      ]
    },
    {
      "cell_type": "code",
      "source": [
        "imshow(\n",
        "    t.stack([\n",
        "        per_head_logit_diffs,\n",
        "        per_head_ablated_logit_diffs,\n",
        "        per_head_ablated_logit_diffs - per_head_logit_diffs\n",
        "    ]),\n",
        "    title=\"Direct logit contribution by head, pre / post ablation\",\n",
        "    labels={\"x\":\"Head\", \"y\":\"Layer\"},\n",
        "    facet_col=0,\n",
        "    facet_labels=[\"No ablation\", \"9.9 is ablated\", \"Change in head contribution post-ablation\"],\n",
        ")\n",
        "\n",
        "scatter(\n",
        "    y=per_head_logit_diffs.flatten(),\n",
        "    x=per_head_ablated_logit_diffs.flatten(),\n",
        "    hover_name=labels,\n",
        "    range_x=(-1, 1),\n",
        "    range_y=(-2, 2),\n",
        "    labels={\"x\": \"Ablated\", \"y\": \"Original\"},\n",
        "    title=\"Original vs Post-Ablation Direct Logit Attribution of Heads\",\n",
        "    width=600,\n",
        "    add_line=\"y=x\"\n",
        ")"
      ],
      "metadata": {
        "id": "T1uwDAjI0H8x"
      },
      "execution_count": null,
      "outputs": []
    },
    {
      "cell_type": "markdown",
      "metadata": {
        "id": "bjno6o8Tl6mf"
      },
      "source": [
        "The first plots show us that, after we ablate head `9.9`, while its direct contribution to the logit diff falls (obviously), a lot of contributions from other heads (particularly in layer 10) actually increase. The second plot shows this in a different way (the distinctive heads in the right hand heatmap are the same as the heads lying well below the y=x line in the scatter plot).\n",
        "\n",
        "One natural hypothesis is that this is because the final LayerNorm scaling has changed, which can scale up or down the final residual stream. This is slightly true, and we can see that the typical head is a bit off from the x=y line. But the average LN scaling ratio is 1.04, and this should uniformly change *all* heads by the same factor, so this can't be sufficient.\n"
      ]
    },
    {
      "cell_type": "code",
      "execution_count": null,
      "metadata": {
        "id": "gH-YQi2U35cx"
      },
      "outputs": [],
      "source": [
        "ln_scaling_no_ablation = ioi_cache[\"ln_final.hook_scale\"][t.arange(len(ioi_dataset)), ioi_dataset.word_idx[\"end\"]].squeeze()\n",
        "ln_scaling_ablated = ablated_cache[\"ln_final.hook_scale\"][t.arange(len(ioi_dataset)), ioi_dataset.word_idx[\"end\"]].squeeze()"
      ]
    },
    {
      "cell_type": "code",
      "execution_count": null,
      "metadata": {
        "id": "CPrXbtIal6mf"
      },
      "outputs": [],
      "source": [
        "scatter(\n",
        "    y=ln_scaling_ablated,\n",
        "    x=ln_scaling_no_ablation,\n",
        "    labels={\"x\": \"No ablation\", \"y\": \"Ablation\"},\n",
        "    title=f\"Final LN scaling factors compared (ablation vs no ablation)<br>Average ratio = {(ln_scaling_no_ablation / ln_scaling_ablated).mean():.4f}\",\n",
        "    width=700,\n",
        "    add_line=\"y=x\"\n",
        ")"
      ]
    },
    {
      "cell_type": "markdown",
      "metadata": {
        "id": "PMbUAUp8l6mg"
      },
      "source": [
        "**Exercise to the reader:** Can you finish off this analysis? What's going on here? Why are the backup name movers changing their behaviour? Why is one negative name mover becoming significantly less important?\n"
      ]
    },
    {
      "cell_type": "markdown",
      "metadata": {
        "id": "jum1DGALl6mg"
      },
      "source": [
        "## Positional vs token information being moved\n",
        "\n",
        "In section A of the appendix (titled **Disentangling token and positional signal in the output of S-Inhibition Heads**), the authors attempt to figure out whether the S-Inhibition heads are using token or positional information to supress the attention paid to `S1`. This is illustrated in my IOI diagram, by purple vs pink boxes.\n",
        "\n",
        "The way the authors find out which one is which is ingenious. They construct datasets from the original IOI dataset, with some of the signals erased or flipped. For instance, if they want to examine the effect of inverting the positional information but preserving the token information written by the S-inhibition heads, they can replace sentences like:\n",
        "\n",
        "```\n",
        "When Mary and John went to the store, John gave a drink to Mary\n",
        "```\n",
        "\n",
        "with:\n",
        "\n",
        "```\n",
        "When John and Mary went to the store, John gave a drink to Mary\n",
        "```\n",
        "\n",
        "Let's be exactly clear on why this works. The information written to the `end` token position by the S-inhibition heads will be some combination of \"don't pay attention to the duplicated token\" and \"don't pay attention to the token that's in the same position as the duplicated token\". If we run our model on the first sentence above but then patch in the second sentence, then:\n",
        "\n",
        "* The **\"don't pay attention to the duplicated token\"** signal will be unchanged (because this signal still refers to John)\n",
        "* The **\"don't pay attention to the token that's in the same position as the duplicated token\"** signal will flip (because this information points to the position of `Mary` in the second sentence, hence to the position of `John` in the first sentence).\n"
      ]
    },
    {
      "cell_type": "markdown",
      "metadata": {
        "id": "orXgSzynl6mg"
      },
      "source": [
        "That was just one example (flipping positional information, keeping token information the same), but we can do any of six different types of flip:\n"
      ]
    },
    {
      "cell_type": "markdown",
      "metadata": {
        "id": "BUwhNEKol6mg"
      },
      "source": [
        "| Token signal | Positional signal | Sentence                                                          | ABB -> ? |\n",
        "| ------------ | ----------------- | ----------------------------------------------------------------- | -------- |\n",
        "| Same         | Same              | `When Mary and John went to the store, John gave a drink to Mary` | ABB      |\n",
        "| Random       | Same              | `When Emma and Paul went to the store, Paul gave ...`             | CDD      |\n",
        "| Inverted     | Same              | `When John and Mary went to the store, Mary gave ...`             | BAA      |\n",
        "| Same         | Inverted          | `When John and Mary went to the store, John gave ...`             | BAB      |\n",
        "| Random       | Inverted          | `When Paul and Emma went to the store, Emma gave ...`             | DCD      |\n",
        "| Inverted     | Inverted          | `When Mary and John went to the store, Mary gave ...`             | ABA      |\n"
      ]
    },
    {
      "cell_type": "markdown",
      "metadata": {
        "id": "Pz33xTK9l6mg"
      },
      "source": [
        "We use the `gen_flipped_prompts` method to generate each of these datasets:\n"
      ]
    },
    {
      "cell_type": "code",
      "execution_count": null,
      "metadata": {
        "id": "1Itx1Gsdl6mg"
      },
      "outputs": [],
      "source": [
        "datasets: List[Tuple[Tuple, str, IOIDataset]] = [\n",
        "    ((0, 0), \"original\", ioi_dataset),\n",
        "    ((1, 0), \"random token\", ioi_dataset.gen_flipped_prompts(\"ABB->CDD, BAB->DCD\")),\n",
        "    ((2, 0), \"inverted token\", ioi_dataset.gen_flipped_prompts(\"ABB->BAA, BAB->ABA\")),\n",
        "    ((0, 1), \"inverted position\", ioi_dataset.gen_flipped_prompts(\"ABB->BAB, BAB->ABB\")),\n",
        "    ((1, 1), \"inverted position, random token\", ioi_dataset.gen_flipped_prompts(\"ABB->DCD, BAB->CDD\")),\n",
        "    ((2, 1), \"inverted position, inverted token\", ioi_dataset.gen_flipped_prompts(\"ABB->ABA, BAB->BAA\")),\n",
        "]"
      ]
    },
    {
      "cell_type": "markdown",
      "metadata": {
        "id": "-pznTVfpd2-X"
      },
      "source": [
        "*Note - the purpose of the type annotation for `datasets` is so that, when we iterate through datasets, the type checker can identify the third item in each iterate as an `IOIDataset`, and autocomplete methods for us.*\n"
      ]
    },
    {
      "cell_type": "code",
      "execution_count": null,
      "metadata": {
        "id": "zlMSBlK50ik9"
      },
      "outputs": [],
      "source": [
        "results = t.zeros(3, 2).to(device)\n",
        "\n",
        "s2_inhibition_heads = CIRCUIT[\"s2 inhibition\"]\n",
        "layers = set(layer for layer, head in s2_inhibition_heads)\n",
        "\n",
        "names_filter=lambda name: name in [utils.get_act_name(\"z\", layer) for layer in layers]\n",
        "\n",
        "def patching_hook_fn(z: Float[Tensor, \"batch seq head d_head\"], hook: HookPoint, cache: ActivationCache):\n",
        "    heads_to_patch = [head for layer, head in s2_inhibition_heads if layer == hook.layer()]\n",
        "    z[:, :, heads_to_patch] = cache[hook.name][:, :, heads_to_patch]\n",
        "    return z\n",
        "\n",
        "for ((row, col), desc, dataset) in datasets:\n",
        "\n",
        "    # Get cache of values from the modified dataset\n",
        "    _, cache_for_patching = model.run_with_cache(\n",
        "        dataset.toks,\n",
        "        names_filter=names_filter,\n",
        "        return_type=None\n",
        "    )\n",
        "\n",
        "    # Run model on IOI dataset, but patch S-inhibition heads with signals from modified dataset\n",
        "    patched_logits = model.run_with_hooks(\n",
        "        ioi_dataset.toks,\n",
        "        fwd_hooks=[(names_filter, partial(patching_hook_fn, cache=cache_for_patching))]\n",
        "    )\n",
        "\n",
        "    # Get logit diff for patched results\n",
        "    # Note, we still use IOI dataset for our \"correct answers\" reference point\n",
        "    results[row, col] = logits_to_ave_logit_diff_2(patched_logits, ioi_dataset)"
      ]
    },
    {
      "cell_type": "code",
      "execution_count": null,
      "metadata": {
        "id": "sHrErbHRl6mg"
      },
      "outputs": [],
      "source": [
        "imshow(\n",
        "    results,\n",
        "    labels={\"x\": \"Positional signal\", \"y\": \"Token signal\"},\n",
        "    x=[\"Original\", \"Inverted\"],\n",
        "    y=[\"Original\", \"Random\", \"Inverted\"],\n",
        "    title=\"Logit diff after changing all S2 inhibition heads' output signals via patching\",\n",
        "    text_auto=\".2f\"\n",
        ")"
      ]
    },
    {
      "cell_type": "markdown",
      "metadata": {
        "id": "U30SYXdil6mg"
      },
      "source": [
        "What are your interpretations of this plot?\n",
        "\n",
        "<details>\n",
        "<summary>Some thoughts</summary>\n",
        "\n",
        "A few sanity checks, which are what we'd expect from this plot (and hence validate our code as probably being correct):\n",
        "\n",
        "* When token and positional signals are inverted, performance is close to negative of the original performance.\n",
        "* Inverting the positional signal makes performance worse.\n",
        "* Randomizing the token signal makes performance worse.\n",
        "* Inverting the token signal makes performance worse. This effect is larger than randomizing (because we're pointing away from a correct answer, rather than just in a random direction).\n",
        "\n",
        "There are two main interesting findings from this plot (which we might have guessed at beforehand, but couldn't have been certain about):\n",
        "* The row and column differences are close to constant (column diff is approx 4.5, row diff is approx 0.75). In other words, the logit diff can be well approximated by a linear combination of the positional and token signal correlations (where correlation is 1 if the signal points towards the correct value, -1 if it points away, and 0 if it points in a random direction).\n",
        "* The coefficients on the positional signal correlation is **much** bigger than the coefficient on the token signal correlation. The former is about 4.5, the latter is about 1.5. This tells us that positional information is a lot more important than token information.\n",
        "    * One possible intuition here is that name information (i.e. representing the identity of the token `\" John\"`) takes up many dimensions, so is probably harder for the model. Relative positional information on the other hand will mostly have fewer dimensions. Since the model only needs to move enough information to single out a single positional index from about 15-20, rather than single out a name in the entire set of names. This is jus a guess though, and I'd love to hear other interpretations.\n",
        "\n",
        "</details>\n"
      ]
    },
    {
      "cell_type": "markdown",
      "metadata": {
        "id": "v4CnC7nTl6mg"
      },
      "source": [
        "Let's dig a little deeper. Rather than just looking at the S-inhibition heads collectively, we can look at each of them individually.\n"
      ]
    },
    {
      "cell_type": "markdown",
      "metadata": {
        "id": "1m9OJ7rql6mg"
      },
      "source": [
        "### Exercise - decompose S-Inhibition heads\n",
        "\n",
        "```c\n",
        "Difficulty: 🔴🔴⚪⚪⚪\n",
        "Importance: 🔵🔵🔵⚪⚪\n",
        "\n",
        "You should spend up to 10-15 minutes on this exercise.\n",
        "\n",
        "This involves a lot of duplicating code from above.\n",
        "```\n",
        "\n",
        "Make the same plot as above, but after intervening on each of the S-inhibition heads individually.\n",
        "\n",
        "You can do this by creating a `results` tensor of shape `(M, 3, 2)` where `M` is the number of S-inhibition heads, and each slice contains the results of intervening on that particular head, then using the `facet` arguments of the `imshow` function:\n",
        "\n",
        "(You might prefer to plot the results in the form of \"change in logit diff from clean value, as a fraction of clean value\", to make the results look clearer.)\n"
      ]
    },
    {
      "cell_type": "code",
      "execution_count": null,
      "metadata": {
        "id": "HyDswlfv0lOf"
      },
      "outputs": [],
      "source": [
        "results = t.zeros(len(CIRCUIT[\"s2 inhibition\"]), 3, 2).to(device)\n",
        "# Your code here - fill in results!"
      ]
    },
    {
      "cell_type": "code",
      "execution_count": null,
      "metadata": {
        "id": "dGgAga0jl6mg"
      },
      "outputs": [],
      "source": [
        "imshow(\n",
        "    (results - results[0, 0, 0]) / results[0, 0, 0],\n",
        "    labels={\"x\": \"Positional signal\", \"y\": \"Token signal\"},\n",
        "    x=[\"Original\", \"Inverted\"],\n",
        "    y=[\"Original\", \"Random\", \"Inverted\"],\n",
        "    title=\"Logit diff after patching individual S2 inhibition heads (as proportion of clean logit diff)\",\n",
        "    facet_col=0,\n",
        "    facet_labels=[f\"{layer}.{head}\" for (layer, head) in CIRCUIT[\"s2 inhibition\"]],\n",
        "    facet_col_spacing = 0.08,\n",
        "    text_auto=\".2f\",\n",
        ")"
      ]
    },
    {
      "cell_type": "markdown",
      "metadata": {
        "id": "7lqBsXENl6mh"
      },
      "source": [
        "Noteworthy features of this plot:\n",
        "\n",
        "* Every head cares more about positional signal than token signal\n",
        "* Head `8.6` (the biggest S-inhibition head) cares MUCH more about positional signal, in fact it doesn't care at all about token signal\n",
        "    * Suggests maybe `8.6` was the first head which learned to do this task, and subsequent heads basically just helped out by providing the remainder (which was token signal). Shows the heads specialise.\n",
        "* The only heads that kinda care about token signal are `7.9` and `8.10` (but they still both care about positional signal almost twice as much)\n",
        "* The approximation of logit diff as a sum of positional and token signal correlations still seems to hold for each head individually, although the coefficients for each head are different.\n"
      ]
    },
    {
      "cell_type": "markdown",
      "metadata": {
        "id": "xvpEB9Gll6mh"
      },
      "source": [
        "## Further Reading\n",
        "\n",
        "Here is a collection of links for further reading, which haven't already been mentioned:\n",
        "\n",
        "* [Some Lessons Learned from Studying Indirect Object Identification in GPT-2 small](https://www.alignmentforum.org/posts/3ecs6duLmTfyra3Gp/some-lessons-learned-from-studying-indirect-object)\n",
        "    * A blog post by the authors of this paper, which goes into more detail about the experiments and results.\n",
        "* [Causal Scrubbing: a method for rigorously testing interpretability hypotheses [Redwood Research]](https://www.alignmentforum.org/posts/JvZhhzycHu2Yd57RN/causal-scrubbing-a-method-for-rigorously-testing)\n",
        "    * Introduces the idea of causal scubbing, a proposed systematic method for evaluting the quality of mechanistic interpretations\n"
      ]
    },
    {
      "cell_type": "markdown",
      "metadata": {
        "id": "SOysl2Jtl6mh"
      },
      "source": [
        "## Suggested topics for further exploration\n",
        "\n",
        "Here are some future directions, some suggested by Neel, others by the authors of the paper. Many of these might make good capstone projects!\n",
        "\n",
        "* 3 letter acronyms (or more!)\n",
        "* Converting names to emails.\n",
        "    * An extension task is e.g. constructing an email from a snippet like the following: Name: Neel Nanda; Email: last name dot first name k @ gmail\n",
        "* Grammatical rules\n",
        "    * Learning that words after full stops are capital letters\n",
        "    * Verb conjugation\n",
        "    * Choosing the right pronouns (e.g. he vs she vs it vs they)\n",
        "    * Whether something is a proper noun or not\n",
        "* Detecting sentiment (e.g. predicting whether something will be described as good vs bad)\n",
        "* Interpreting memorisation. E.g., there are times when GPT-2 knows surprising facts like people’s contact information. How does that happen?\n",
        "* Counting objects described in text. E.g.: I picked up an apple, a pear, and an orange. I was holding three fruits.\n",
        "* Extensions from Alex Variengien\n",
        "    * Understanding what's happening in the adversarial examples: most notably S-Inhibition Head attention pattern (hard). (S-Inhibition heads are mentioned in the IOI paper)\n",
        "    * Understanding how are positional signal encoded (relative distance, something else?) bonus point if we have a story that include the positional embeddings and that explain how the difference between position is computed (if relative is the right framework) by Duplicate Token Heads / Induction Heads. (hard, but less context dependant)\n",
        "    * What are the role of MLPs in IOI (quite broad and hard)\n",
        "    * What is the role of Duplicate Token Heads outside IOI? Are they used in other Q-compositions with S-Inhibition Heads? Can we describe how their QK circuit implement \"collision detection\" at a parameter level? (Last question is low context dependant and quite tractable)\n",
        "    * What is the role of Negative/ Backup/ regular Name Movers Heads outside IOI? Can we find examples on which Negative Name Movers contribute positively to the next-token prediction?\n",
        "    * What are the differences between the 5 inductions heads present in GPT2-small? What are the heads they rely on / what are the later heads they compose with (low context dependence form IOI)\n",
        "    * Understanding 4.11, (a really sharp previous token heads) at the parameter level. I think this can be quite tractable given that its attention pattern is almost perfectly off-diagonal\n",
        "* What are the conditions for compensation mechanisms to occur? Is it due to drop-out? (Arthur Conmy is working on this - feel free to reach out to arthur@rdwrs.com )\n",
        "* Extensions from Arthur Conmy\n",
        "    * Understand IOI in GPT-Neo: it's a same size model but does IOI via composition of MLPs\n",
        "    * Understand IOI in the Stanford mistral models - they all seem to do IOI in the same way, so maybe look at the development of the circuit through training?\n",
        "* [Help out Redwood Research’s interpretability team by finding heuristics implemented by GPT-2 small](https://www.lesswrong.com/posts/LkBmAGJgZX2tbwGKg/help-out-redwood-research-s-interpretability-team-by-finding)\n",
        "    * This LessWrong post from 6 months ago outlines some features of the IOI task that made it a good choice to study, and suggests other tasks that might meet these criteria / how you might go about finding such tasks.\n"
      ]
    },
    {
      "cell_type": "markdown",
      "source": [
        "## Suggested paper replications\n",
        "\n",
        "<br>\n",
        "\n",
        "### [A circuit for Python docstrings in a 4-layer attention-only transformer](https://www.lesswrong.com/posts/u6KXXmKFbXfWzoAXn/a-circuit-for-python-docstrings-in-a-4-layer-attention-only)\n",
        "\n",
        "This work was produced as part of the SERI ML Alignment Theory Scholars Program (Winter 2022) under the supervision of Neel Nanda. Similar to how the IOI paper searched for in some sense the simplest kind of circuit which required 3 layers, this work was looking for the simplest kind of circuit which required 4 layers. The task they investigated was the **docstring task** - can you predict parameters in the right order, in situations like this:\n",
        "\n",
        "```python\n",
        "def port(self, load, size, files, last):\n",
        "    '''oil column piece\n",
        "\n",
        "    :param load: crime population\n",
        "    :param size: unit dark\n",
        "    :param\n",
        "```\n",
        "\n",
        "The token that follows should be ` files`, and just like in the case of IOI we can deeply analyze how the transformer solves this task. Unlike IOI, we're looking at a 4-layer transformer which was trained on code (not GPT2-Small), which makes a lot of the analysis cleaner (even though the circuit has more levels of composition than IOI does).\n",
        "\n",
        "For an extra challenge, rather than replicating the authors' results, you can try and perform this investigation yourself, without seeing what tools the authors of the paper used! Most will be similar to the ones you've used in the exercises so far.\n",
        "\n",
        "This might be a good replication for you if:\n",
        "\n",
        "* You enjoyed most/all sections of these exercises, and want to practice using the tools you learned in a different context\n",
        "* You don't want to try anything *too* far left field from the content of these exercises (this post also comes with a Colab notebook which can be referred to if you're stuck)\n",
        "\n",
        "<br>\n",
        "\n",
        "### [Mechanistically interpreting time in GPT-2 small](https://www.lesswrong.com/posts/6tHNM2s6SWzFHv3Wo/mechanistically-interpreting-time-in-gpt-2-small)\n",
        "\n",
        "This work was done by a group of independent researchers, supervised by Arthur Conmy. The task was to interpret how GPT2-Small can solve the task of next day prediction, i.e. predicting the next token in sentences like *If today is Monday, tomorrow is*. This replication is easier than the previous one, since the core circuit only contains one attention head rather than a composition of several. For this reason, we'd more strongly encourage trying to do this replication without guidance, i.e. have a crack at it before reading the full post.\n",
        "\n",
        "<br>\n",
        "\n",
        "### [How does GPT-2 compute greater-than? Interpreting mathematical abilities in a pre-trained language model](https://openreview.net/pdf?id=p4PckNQR8k)\n",
        "\n",
        "This paper came out of the REMIX program run by Redwood Research. It analyses a circuit in GPT2-Small, much like this one. Here, the circuit is for computing greater-than; in other words detecting that sentences like *The war lasted from the year 1732 to the year 17...* will be completed by valid two-digit end years (years > 32). The paper identifies a circuit, explains the role of each circuit component, and also finds related tasks that activate the circuit.\n",
        "\n",
        "For an extra challenge, rather than replicating this paper, you can try and perform this investigation yourself, without seeing what tools the authors of the paper used! Many will be similar to the ones you've used in the exercises so far; some will be different. In particular, there will be some analysis of individual neurons in this replication, unlike in this IOI notebook.\n",
        "\n",
        "This might be a good replication for you if:\n",
        "\n",
        "* You enjoyed most/all sections of these exercises, and want to practice using the tools you learned in a different context\n",
        "* You don't want to try anything *too* far left field from the content of these exercises (although this is probably more challenging than the docstring circuit, mainly due to the presence of MLPs)\n",
        "\n",
        "<br>\n",
        "\n",
        "### [Towards Automated Circuit Discovery for Mechanistic Interpretability](https://arxiv.org/abs/2304.14997) / [Attribution Patching Outperforms Automated Circuit Discovery](https://arxiv.org/abs/2310.10348)\n",
        "\n",
        "These two are grouped together, because they both study the possibility of scaling circuit discovery tools using automation. **Automated Circuit Discovery** (ACDC) was a tool discovered by Arthur Conmy & collaborators partially done at Redwood Research. They automate several of the techniques we've used in these exercises (in particular activation & patch patching), iteratively severing connections between components until we're left with a minimal circuit which can still effectively solve the task. **Attribution patching** is slightly different; it approximates the effect of each component on the model's output (and by extension its importance in a particular task) by a simple and computationally cheap first-order approximation.\n",
        "\n",
        "Either of these techniques would serve as suitable replication challenges over the course of a week. There's also a lot of work that can still be done in improving or refining these techniques.\n",
        "\n",
        "This might be a good replication for you if:\n",
        "\n",
        "* You enjoyed the exercises in this section, in particular those on activation and path patching\n",
        "* You're looking for a project which is more focused on coding and implementation than on theory\n",
        "* You're excited about exploring ways to scale / automate circuit discovery efficiently"
      ],
      "metadata": {
        "id": "Wi8NI0d-IkM-"
      }
    }
  ],
  "metadata": {
    "colab": {
      "collapsed_sections": [
        "szdsL4Skl6l-",
        "02aFRKnCl6mC",
        "jX5wBPspl6mG",
        "DnwdEGrGl6mK",
        "teSb1k5Ul6mS",
        "F1UOGXJhd2-N",
        "fMHnae9xl6md"
      ],
      "provenance": [],
      "include_colab_link": true
    },
    "kernelspec": {
      "display_name": "Python 3",
      "name": "python3"
    },
    "language_info": {
      "codemirror_mode": {
        "name": "ipython",
        "version": 3
      },
      "file_extension": ".py",
      "mimetype": "text/x-python",
      "name": "python",
      "nbconvert_exporter": "python",
      "pygments_lexer": "ipython3",
      "version": "3.10.9"
    },
    "orig_nbformat": 4,
    "widgets": {
      "application/vnd.jupyter.widget-state+json": {
        "8bfdac69709146109f959d4225ef2008": {
          "model_module": "@jupyter-widgets/controls",
          "model_name": "HBoxModel",
          "model_module_version": "1.5.0",
          "state": {
            "_dom_classes": [],
            "_model_module": "@jupyter-widgets/controls",
            "_model_module_version": "1.5.0",
            "_model_name": "HBoxModel",
            "_view_count": null,
            "_view_module": "@jupyter-widgets/controls",
            "_view_module_version": "1.5.0",
            "_view_name": "HBoxView",
            "box_style": "",
            "children": [
              "IPY_MODEL_a5a4f447cbd74ac2b1bc6c863b1c70cf",
              "IPY_MODEL_fc958b7157ea4cf6b8a98b52f0ed0fab",
              "IPY_MODEL_e9e4dc32ea424dcf87a859c654550a0f"
            ],
            "layout": "IPY_MODEL_0c7f9b160df549308357e173e0af2068"
          }
        },
        "a5a4f447cbd74ac2b1bc6c863b1c70cf": {
          "model_module": "@jupyter-widgets/controls",
          "model_name": "HTMLModel",
          "model_module_version": "1.5.0",
          "state": {
            "_dom_classes": [],
            "_model_module": "@jupyter-widgets/controls",
            "_model_module_version": "1.5.0",
            "_model_name": "HTMLModel",
            "_view_count": null,
            "_view_module": "@jupyter-widgets/controls",
            "_view_module_version": "1.5.0",
            "_view_name": "HTMLView",
            "description": "",
            "description_tooltip": null,
            "layout": "IPY_MODEL_462b9e15fd154ba589e24b4b90c553d4",
            "placeholder": "​",
            "style": "IPY_MODEL_b9077d8d9acd4d688079ab3c4a913aa8",
            "value": "100%"
          }
        },
        "fc958b7157ea4cf6b8a98b52f0ed0fab": {
          "model_module": "@jupyter-widgets/controls",
          "model_name": "FloatProgressModel",
          "model_module_version": "1.5.0",
          "state": {
            "_dom_classes": [],
            "_model_module": "@jupyter-widgets/controls",
            "_model_module_version": "1.5.0",
            "_model_name": "FloatProgressModel",
            "_view_count": null,
            "_view_module": "@jupyter-widgets/controls",
            "_view_module_version": "1.5.0",
            "_view_name": "ProgressView",
            "bar_style": "success",
            "description": "",
            "description_tooltip": null,
            "layout": "IPY_MODEL_f07d53802556442babecba18e911724b",
            "max": 180,
            "min": 0,
            "orientation": "horizontal",
            "style": "IPY_MODEL_94247f22480a42f38db2f515ee4de24b",
            "value": 180
          }
        },
        "e9e4dc32ea424dcf87a859c654550a0f": {
          "model_module": "@jupyter-widgets/controls",
          "model_name": "HTMLModel",
          "model_module_version": "1.5.0",
          "state": {
            "_dom_classes": [],
            "_model_module": "@jupyter-widgets/controls",
            "_model_module_version": "1.5.0",
            "_model_name": "HTMLModel",
            "_view_count": null,
            "_view_module": "@jupyter-widgets/controls",
            "_view_module_version": "1.5.0",
            "_view_name": "HTMLView",
            "description": "",
            "description_tooltip": null,
            "layout": "IPY_MODEL_e1934e1f132f4c40acab1851de0537ab",
            "placeholder": "​",
            "style": "IPY_MODEL_bf1946ca96ed490db51fd9ac56939711",
            "value": " 180/180 [03:02&lt;00:00,  1.06s/it]"
          }
        },
        "0c7f9b160df549308357e173e0af2068": {
          "model_module": "@jupyter-widgets/base",
          "model_name": "LayoutModel",
          "model_module_version": "1.2.0",
          "state": {
            "_model_module": "@jupyter-widgets/base",
            "_model_module_version": "1.2.0",
            "_model_name": "LayoutModel",
            "_view_count": null,
            "_view_module": "@jupyter-widgets/base",
            "_view_module_version": "1.2.0",
            "_view_name": "LayoutView",
            "align_content": null,
            "align_items": null,
            "align_self": null,
            "border": null,
            "bottom": null,
            "display": null,
            "flex": null,
            "flex_flow": null,
            "grid_area": null,
            "grid_auto_columns": null,
            "grid_auto_flow": null,
            "grid_auto_rows": null,
            "grid_column": null,
            "grid_gap": null,
            "grid_row": null,
            "grid_template_areas": null,
            "grid_template_columns": null,
            "grid_template_rows": null,
            "height": null,
            "justify_content": null,
            "justify_items": null,
            "left": null,
            "margin": null,
            "max_height": null,
            "max_width": null,
            "min_height": null,
            "min_width": null,
            "object_fit": null,
            "object_position": null,
            "order": null,
            "overflow": null,
            "overflow_x": null,
            "overflow_y": null,
            "padding": null,
            "right": null,
            "top": null,
            "visibility": null,
            "width": null
          }
        },
        "462b9e15fd154ba589e24b4b90c553d4": {
          "model_module": "@jupyter-widgets/base",
          "model_name": "LayoutModel",
          "model_module_version": "1.2.0",
          "state": {
            "_model_module": "@jupyter-widgets/base",
            "_model_module_version": "1.2.0",
            "_model_name": "LayoutModel",
            "_view_count": null,
            "_view_module": "@jupyter-widgets/base",
            "_view_module_version": "1.2.0",
            "_view_name": "LayoutView",
            "align_content": null,
            "align_items": null,
            "align_self": null,
            "border": null,
            "bottom": null,
            "display": null,
            "flex": null,
            "flex_flow": null,
            "grid_area": null,
            "grid_auto_columns": null,
            "grid_auto_flow": null,
            "grid_auto_rows": null,
            "grid_column": null,
            "grid_gap": null,
            "grid_row": null,
            "grid_template_areas": null,
            "grid_template_columns": null,
            "grid_template_rows": null,
            "height": null,
            "justify_content": null,
            "justify_items": null,
            "left": null,
            "margin": null,
            "max_height": null,
            "max_width": null,
            "min_height": null,
            "min_width": null,
            "object_fit": null,
            "object_position": null,
            "order": null,
            "overflow": null,
            "overflow_x": null,
            "overflow_y": null,
            "padding": null,
            "right": null,
            "top": null,
            "visibility": null,
            "width": null
          }
        },
        "b9077d8d9acd4d688079ab3c4a913aa8": {
          "model_module": "@jupyter-widgets/controls",
          "model_name": "DescriptionStyleModel",
          "model_module_version": "1.5.0",
          "state": {
            "_model_module": "@jupyter-widgets/controls",
            "_model_module_version": "1.5.0",
            "_model_name": "DescriptionStyleModel",
            "_view_count": null,
            "_view_module": "@jupyter-widgets/base",
            "_view_module_version": "1.2.0",
            "_view_name": "StyleView",
            "description_width": ""
          }
        },
        "f07d53802556442babecba18e911724b": {
          "model_module": "@jupyter-widgets/base",
          "model_name": "LayoutModel",
          "model_module_version": "1.2.0",
          "state": {
            "_model_module": "@jupyter-widgets/base",
            "_model_module_version": "1.2.0",
            "_model_name": "LayoutModel",
            "_view_count": null,
            "_view_module": "@jupyter-widgets/base",
            "_view_module_version": "1.2.0",
            "_view_name": "LayoutView",
            "align_content": null,
            "align_items": null,
            "align_self": null,
            "border": null,
            "bottom": null,
            "display": null,
            "flex": null,
            "flex_flow": null,
            "grid_area": null,
            "grid_auto_columns": null,
            "grid_auto_flow": null,
            "grid_auto_rows": null,
            "grid_column": null,
            "grid_gap": null,
            "grid_row": null,
            "grid_template_areas": null,
            "grid_template_columns": null,
            "grid_template_rows": null,
            "height": null,
            "justify_content": null,
            "justify_items": null,
            "left": null,
            "margin": null,
            "max_height": null,
            "max_width": null,
            "min_height": null,
            "min_width": null,
            "object_fit": null,
            "object_position": null,
            "order": null,
            "overflow": null,
            "overflow_x": null,
            "overflow_y": null,
            "padding": null,
            "right": null,
            "top": null,
            "visibility": null,
            "width": null
          }
        },
        "94247f22480a42f38db2f515ee4de24b": {
          "model_module": "@jupyter-widgets/controls",
          "model_name": "ProgressStyleModel",
          "model_module_version": "1.5.0",
          "state": {
            "_model_module": "@jupyter-widgets/controls",
            "_model_module_version": "1.5.0",
            "_model_name": "ProgressStyleModel",
            "_view_count": null,
            "_view_module": "@jupyter-widgets/base",
            "_view_module_version": "1.2.0",
            "_view_name": "StyleView",
            "bar_color": null,
            "description_width": ""
          }
        },
        "e1934e1f132f4c40acab1851de0537ab": {
          "model_module": "@jupyter-widgets/base",
          "model_name": "LayoutModel",
          "model_module_version": "1.2.0",
          "state": {
            "_model_module": "@jupyter-widgets/base",
            "_model_module_version": "1.2.0",
            "_model_name": "LayoutModel",
            "_view_count": null,
            "_view_module": "@jupyter-widgets/base",
            "_view_module_version": "1.2.0",
            "_view_name": "LayoutView",
            "align_content": null,
            "align_items": null,
            "align_self": null,
            "border": null,
            "bottom": null,
            "display": null,
            "flex": null,
            "flex_flow": null,
            "grid_area": null,
            "grid_auto_columns": null,
            "grid_auto_flow": null,
            "grid_auto_rows": null,
            "grid_column": null,
            "grid_gap": null,
            "grid_row": null,
            "grid_template_areas": null,
            "grid_template_columns": null,
            "grid_template_rows": null,
            "height": null,
            "justify_content": null,
            "justify_items": null,
            "left": null,
            "margin": null,
            "max_height": null,
            "max_width": null,
            "min_height": null,
            "min_width": null,
            "object_fit": null,
            "object_position": null,
            "order": null,
            "overflow": null,
            "overflow_x": null,
            "overflow_y": null,
            "padding": null,
            "right": null,
            "top": null,
            "visibility": null,
            "width": null
          }
        },
        "bf1946ca96ed490db51fd9ac56939711": {
          "model_module": "@jupyter-widgets/controls",
          "model_name": "DescriptionStyleModel",
          "model_module_version": "1.5.0",
          "state": {
            "_model_module": "@jupyter-widgets/controls",
            "_model_module_version": "1.5.0",
            "_model_name": "DescriptionStyleModel",
            "_view_count": null,
            "_view_module": "@jupyter-widgets/base",
            "_view_module_version": "1.2.0",
            "_view_name": "StyleView",
            "description_width": ""
          }
        },
        "4b432324145b4806b5c1c6cc3cefe182": {
          "model_module": "@jupyter-widgets/controls",
          "model_name": "HBoxModel",
          "model_module_version": "1.5.0",
          "state": {
            "_dom_classes": [],
            "_model_module": "@jupyter-widgets/controls",
            "_model_module_version": "1.5.0",
            "_model_name": "HBoxModel",
            "_view_count": null,
            "_view_module": "@jupyter-widgets/controls",
            "_view_module_version": "1.5.0",
            "_view_name": "HBoxView",
            "box_style": "",
            "children": [
              "IPY_MODEL_161e265a1afd4216af901b2661e809bb",
              "IPY_MODEL_07b5de8ccdc9472aba5e904a8a0c7546",
              "IPY_MODEL_5ad63de5d10f46c387f367b0036d92e4"
            ],
            "layout": "IPY_MODEL_3cca0ec8f0f44f949e80cd3371ce2a9f"
          }
        },
        "161e265a1afd4216af901b2661e809bb": {
          "model_module": "@jupyter-widgets/controls",
          "model_name": "HTMLModel",
          "model_module_version": "1.5.0",
          "state": {
            "_dom_classes": [],
            "_model_module": "@jupyter-widgets/controls",
            "_model_module_version": "1.5.0",
            "_model_name": "HTMLModel",
            "_view_count": null,
            "_view_module": "@jupyter-widgets/controls",
            "_view_module_version": "1.5.0",
            "_view_name": "HTMLView",
            "description": "",
            "description_tooltip": null,
            "layout": "IPY_MODEL_e7002fb2c76146a2a514181e2725e727",
            "placeholder": "​",
            "style": "IPY_MODEL_d4c572826c2d48e281a1b848dc2d96de",
            "value": "100%"
          }
        },
        "07b5de8ccdc9472aba5e904a8a0c7546": {
          "model_module": "@jupyter-widgets/controls",
          "model_name": "FloatProgressModel",
          "model_module_version": "1.5.0",
          "state": {
            "_dom_classes": [],
            "_model_module": "@jupyter-widgets/controls",
            "_model_module_version": "1.5.0",
            "_model_name": "FloatProgressModel",
            "_view_count": null,
            "_view_module": "@jupyter-widgets/controls",
            "_view_module_version": "1.5.0",
            "_view_name": "ProgressView",
            "bar_style": "success",
            "description": "",
            "description_tooltip": null,
            "layout": "IPY_MODEL_bc59eba9f0b8480eba6a8a99d02cde43",
            "max": 180,
            "min": 0,
            "orientation": "horizontal",
            "style": "IPY_MODEL_29228e5efff54c83a161d7eeca681b6e",
            "value": 180
          }
        },
        "5ad63de5d10f46c387f367b0036d92e4": {
          "model_module": "@jupyter-widgets/controls",
          "model_name": "HTMLModel",
          "model_module_version": "1.5.0",
          "state": {
            "_dom_classes": [],
            "_model_module": "@jupyter-widgets/controls",
            "_model_module_version": "1.5.0",
            "_model_name": "HTMLModel",
            "_view_count": null,
            "_view_module": "@jupyter-widgets/controls",
            "_view_module_version": "1.5.0",
            "_view_name": "HTMLView",
            "description": "",
            "description_tooltip": null,
            "layout": "IPY_MODEL_eb4910d1994b4612bcd37e2d20768319",
            "placeholder": "​",
            "style": "IPY_MODEL_408e440ce8d34c548822c7aff7185af2",
            "value": " 180/180 [02:18&lt;00:00,  1.35it/s]"
          }
        },
        "3cca0ec8f0f44f949e80cd3371ce2a9f": {
          "model_module": "@jupyter-widgets/base",
          "model_name": "LayoutModel",
          "model_module_version": "1.2.0",
          "state": {
            "_model_module": "@jupyter-widgets/base",
            "_model_module_version": "1.2.0",
            "_model_name": "LayoutModel",
            "_view_count": null,
            "_view_module": "@jupyter-widgets/base",
            "_view_module_version": "1.2.0",
            "_view_name": "LayoutView",
            "align_content": null,
            "align_items": null,
            "align_self": null,
            "border": null,
            "bottom": null,
            "display": null,
            "flex": null,
            "flex_flow": null,
            "grid_area": null,
            "grid_auto_columns": null,
            "grid_auto_flow": null,
            "grid_auto_rows": null,
            "grid_column": null,
            "grid_gap": null,
            "grid_row": null,
            "grid_template_areas": null,
            "grid_template_columns": null,
            "grid_template_rows": null,
            "height": null,
            "justify_content": null,
            "justify_items": null,
            "left": null,
            "margin": null,
            "max_height": null,
            "max_width": null,
            "min_height": null,
            "min_width": null,
            "object_fit": null,
            "object_position": null,
            "order": null,
            "overflow": null,
            "overflow_x": null,
            "overflow_y": null,
            "padding": null,
            "right": null,
            "top": null,
            "visibility": null,
            "width": null
          }
        },
        "e7002fb2c76146a2a514181e2725e727": {
          "model_module": "@jupyter-widgets/base",
          "model_name": "LayoutModel",
          "model_module_version": "1.2.0",
          "state": {
            "_model_module": "@jupyter-widgets/base",
            "_model_module_version": "1.2.0",
            "_model_name": "LayoutModel",
            "_view_count": null,
            "_view_module": "@jupyter-widgets/base",
            "_view_module_version": "1.2.0",
            "_view_name": "LayoutView",
            "align_content": null,
            "align_items": null,
            "align_self": null,
            "border": null,
            "bottom": null,
            "display": null,
            "flex": null,
            "flex_flow": null,
            "grid_area": null,
            "grid_auto_columns": null,
            "grid_auto_flow": null,
            "grid_auto_rows": null,
            "grid_column": null,
            "grid_gap": null,
            "grid_row": null,
            "grid_template_areas": null,
            "grid_template_columns": null,
            "grid_template_rows": null,
            "height": null,
            "justify_content": null,
            "justify_items": null,
            "left": null,
            "margin": null,
            "max_height": null,
            "max_width": null,
            "min_height": null,
            "min_width": null,
            "object_fit": null,
            "object_position": null,
            "order": null,
            "overflow": null,
            "overflow_x": null,
            "overflow_y": null,
            "padding": null,
            "right": null,
            "top": null,
            "visibility": null,
            "width": null
          }
        },
        "d4c572826c2d48e281a1b848dc2d96de": {
          "model_module": "@jupyter-widgets/controls",
          "model_name": "DescriptionStyleModel",
          "model_module_version": "1.5.0",
          "state": {
            "_model_module": "@jupyter-widgets/controls",
            "_model_module_version": "1.5.0",
            "_model_name": "DescriptionStyleModel",
            "_view_count": null,
            "_view_module": "@jupyter-widgets/base",
            "_view_module_version": "1.2.0",
            "_view_name": "StyleView",
            "description_width": ""
          }
        },
        "bc59eba9f0b8480eba6a8a99d02cde43": {
          "model_module": "@jupyter-widgets/base",
          "model_name": "LayoutModel",
          "model_module_version": "1.2.0",
          "state": {
            "_model_module": "@jupyter-widgets/base",
            "_model_module_version": "1.2.0",
            "_model_name": "LayoutModel",
            "_view_count": null,
            "_view_module": "@jupyter-widgets/base",
            "_view_module_version": "1.2.0",
            "_view_name": "LayoutView",
            "align_content": null,
            "align_items": null,
            "align_self": null,
            "border": null,
            "bottom": null,
            "display": null,
            "flex": null,
            "flex_flow": null,
            "grid_area": null,
            "grid_auto_columns": null,
            "grid_auto_flow": null,
            "grid_auto_rows": null,
            "grid_column": null,
            "grid_gap": null,
            "grid_row": null,
            "grid_template_areas": null,
            "grid_template_columns": null,
            "grid_template_rows": null,
            "height": null,
            "justify_content": null,
            "justify_items": null,
            "left": null,
            "margin": null,
            "max_height": null,
            "max_width": null,
            "min_height": null,
            "min_width": null,
            "object_fit": null,
            "object_position": null,
            "order": null,
            "overflow": null,
            "overflow_x": null,
            "overflow_y": null,
            "padding": null,
            "right": null,
            "top": null,
            "visibility": null,
            "width": null
          }
        },
        "29228e5efff54c83a161d7eeca681b6e": {
          "model_module": "@jupyter-widgets/controls",
          "model_name": "ProgressStyleModel",
          "model_module_version": "1.5.0",
          "state": {
            "_model_module": "@jupyter-widgets/controls",
            "_model_module_version": "1.5.0",
            "_model_name": "ProgressStyleModel",
            "_view_count": null,
            "_view_module": "@jupyter-widgets/base",
            "_view_module_version": "1.2.0",
            "_view_name": "StyleView",
            "bar_color": null,
            "description_width": ""
          }
        },
        "eb4910d1994b4612bcd37e2d20768319": {
          "model_module": "@jupyter-widgets/base",
          "model_name": "LayoutModel",
          "model_module_version": "1.2.0",
          "state": {
            "_model_module": "@jupyter-widgets/base",
            "_model_module_version": "1.2.0",
            "_model_name": "LayoutModel",
            "_view_count": null,
            "_view_module": "@jupyter-widgets/base",
            "_view_module_version": "1.2.0",
            "_view_name": "LayoutView",
            "align_content": null,
            "align_items": null,
            "align_self": null,
            "border": null,
            "bottom": null,
            "display": null,
            "flex": null,
            "flex_flow": null,
            "grid_area": null,
            "grid_auto_columns": null,
            "grid_auto_flow": null,
            "grid_auto_rows": null,
            "grid_column": null,
            "grid_gap": null,
            "grid_row": null,
            "grid_template_areas": null,
            "grid_template_columns": null,
            "grid_template_rows": null,
            "height": null,
            "justify_content": null,
            "justify_items": null,
            "left": null,
            "margin": null,
            "max_height": null,
            "max_width": null,
            "min_height": null,
            "min_width": null,
            "object_fit": null,
            "object_position": null,
            "order": null,
            "overflow": null,
            "overflow_x": null,
            "overflow_y": null,
            "padding": null,
            "right": null,
            "top": null,
            "visibility": null,
            "width": null
          }
        },
        "408e440ce8d34c548822c7aff7185af2": {
          "model_module": "@jupyter-widgets/controls",
          "model_name": "DescriptionStyleModel",
          "model_module_version": "1.5.0",
          "state": {
            "_model_module": "@jupyter-widgets/controls",
            "_model_module_version": "1.5.0",
            "_model_name": "DescriptionStyleModel",
            "_view_count": null,
            "_view_module": "@jupyter-widgets/base",
            "_view_module_version": "1.2.0",
            "_view_name": "StyleView",
            "description_width": ""
          }
        },
        "d7f3cb2d3faa486aa19e260e5d41ed50": {
          "model_module": "@jupyter-widgets/controls",
          "model_name": "HBoxModel",
          "model_module_version": "1.5.0",
          "state": {
            "_dom_classes": [],
            "_model_module": "@jupyter-widgets/controls",
            "_model_module_version": "1.5.0",
            "_model_name": "HBoxModel",
            "_view_count": null,
            "_view_module": "@jupyter-widgets/controls",
            "_view_module_version": "1.5.0",
            "_view_name": "HBoxView",
            "box_style": "",
            "children": [
              "IPY_MODEL_04a227052b0748ea986f87fec4ddeae0",
              "IPY_MODEL_f8ca767fc7cb41efb6cc7834e963df22",
              "IPY_MODEL_24d418ac84fb4bb78cf32c500212e4fc"
            ],
            "layout": "IPY_MODEL_51875bbed70b49b09ed7c2fd43bc99d2"
          }
        },
        "04a227052b0748ea986f87fec4ddeae0": {
          "model_module": "@jupyter-widgets/controls",
          "model_name": "HTMLModel",
          "model_module_version": "1.5.0",
          "state": {
            "_dom_classes": [],
            "_model_module": "@jupyter-widgets/controls",
            "_model_module_version": "1.5.0",
            "_model_name": "HTMLModel",
            "_view_count": null,
            "_view_module": "@jupyter-widgets/controls",
            "_view_module_version": "1.5.0",
            "_view_name": "HTMLView",
            "description": "",
            "description_tooltip": null,
            "layout": "IPY_MODEL_9e355bd9dc2a4b1e8e948db1b0c41f3f",
            "placeholder": "​",
            "style": "IPY_MODEL_3e53ed7678304626b538140139c42f80",
            "value": "100%"
          }
        },
        "f8ca767fc7cb41efb6cc7834e963df22": {
          "model_module": "@jupyter-widgets/controls",
          "model_name": "FloatProgressModel",
          "model_module_version": "1.5.0",
          "state": {
            "_dom_classes": [],
            "_model_module": "@jupyter-widgets/controls",
            "_model_module_version": "1.5.0",
            "_model_name": "FloatProgressModel",
            "_view_count": null,
            "_view_module": "@jupyter-widgets/controls",
            "_view_module_version": "1.5.0",
            "_view_name": "ProgressView",
            "bar_style": "success",
            "description": "",
            "description_tooltip": null,
            "layout": "IPY_MODEL_a7310c0bd26f43e98e2970bcb9bf50af",
            "max": 180,
            "min": 0,
            "orientation": "horizontal",
            "style": "IPY_MODEL_b61ec155a8484833b0f50a61a90aa221",
            "value": 180
          }
        },
        "24d418ac84fb4bb78cf32c500212e4fc": {
          "model_module": "@jupyter-widgets/controls",
          "model_name": "HTMLModel",
          "model_module_version": "1.5.0",
          "state": {
            "_dom_classes": [],
            "_model_module": "@jupyter-widgets/controls",
            "_model_module_version": "1.5.0",
            "_model_name": "HTMLModel",
            "_view_count": null,
            "_view_module": "@jupyter-widgets/controls",
            "_view_module_version": "1.5.0",
            "_view_name": "HTMLView",
            "description": "",
            "description_tooltip": null,
            "layout": "IPY_MODEL_3023144ad8d1427e958876f88729abba",
            "placeholder": "​",
            "style": "IPY_MODEL_e2f20302adde4be3b009aeec7fd58e13",
            "value": " 180/180 [02:16&lt;00:00,  1.31it/s]"
          }
        },
        "51875bbed70b49b09ed7c2fd43bc99d2": {
          "model_module": "@jupyter-widgets/base",
          "model_name": "LayoutModel",
          "model_module_version": "1.2.0",
          "state": {
            "_model_module": "@jupyter-widgets/base",
            "_model_module_version": "1.2.0",
            "_model_name": "LayoutModel",
            "_view_count": null,
            "_view_module": "@jupyter-widgets/base",
            "_view_module_version": "1.2.0",
            "_view_name": "LayoutView",
            "align_content": null,
            "align_items": null,
            "align_self": null,
            "border": null,
            "bottom": null,
            "display": null,
            "flex": null,
            "flex_flow": null,
            "grid_area": null,
            "grid_auto_columns": null,
            "grid_auto_flow": null,
            "grid_auto_rows": null,
            "grid_column": null,
            "grid_gap": null,
            "grid_row": null,
            "grid_template_areas": null,
            "grid_template_columns": null,
            "grid_template_rows": null,
            "height": null,
            "justify_content": null,
            "justify_items": null,
            "left": null,
            "margin": null,
            "max_height": null,
            "max_width": null,
            "min_height": null,
            "min_width": null,
            "object_fit": null,
            "object_position": null,
            "order": null,
            "overflow": null,
            "overflow_x": null,
            "overflow_y": null,
            "padding": null,
            "right": null,
            "top": null,
            "visibility": null,
            "width": null
          }
        },
        "9e355bd9dc2a4b1e8e948db1b0c41f3f": {
          "model_module": "@jupyter-widgets/base",
          "model_name": "LayoutModel",
          "model_module_version": "1.2.0",
          "state": {
            "_model_module": "@jupyter-widgets/base",
            "_model_module_version": "1.2.0",
            "_model_name": "LayoutModel",
            "_view_count": null,
            "_view_module": "@jupyter-widgets/base",
            "_view_module_version": "1.2.0",
            "_view_name": "LayoutView",
            "align_content": null,
            "align_items": null,
            "align_self": null,
            "border": null,
            "bottom": null,
            "display": null,
            "flex": null,
            "flex_flow": null,
            "grid_area": null,
            "grid_auto_columns": null,
            "grid_auto_flow": null,
            "grid_auto_rows": null,
            "grid_column": null,
            "grid_gap": null,
            "grid_row": null,
            "grid_template_areas": null,
            "grid_template_columns": null,
            "grid_template_rows": null,
            "height": null,
            "justify_content": null,
            "justify_items": null,
            "left": null,
            "margin": null,
            "max_height": null,
            "max_width": null,
            "min_height": null,
            "min_width": null,
            "object_fit": null,
            "object_position": null,
            "order": null,
            "overflow": null,
            "overflow_x": null,
            "overflow_y": null,
            "padding": null,
            "right": null,
            "top": null,
            "visibility": null,
            "width": null
          }
        },
        "3e53ed7678304626b538140139c42f80": {
          "model_module": "@jupyter-widgets/controls",
          "model_name": "DescriptionStyleModel",
          "model_module_version": "1.5.0",
          "state": {
            "_model_module": "@jupyter-widgets/controls",
            "_model_module_version": "1.5.0",
            "_model_name": "DescriptionStyleModel",
            "_view_count": null,
            "_view_module": "@jupyter-widgets/base",
            "_view_module_version": "1.2.0",
            "_view_name": "StyleView",
            "description_width": ""
          }
        },
        "a7310c0bd26f43e98e2970bcb9bf50af": {
          "model_module": "@jupyter-widgets/base",
          "model_name": "LayoutModel",
          "model_module_version": "1.2.0",
          "state": {
            "_model_module": "@jupyter-widgets/base",
            "_model_module_version": "1.2.0",
            "_model_name": "LayoutModel",
            "_view_count": null,
            "_view_module": "@jupyter-widgets/base",
            "_view_module_version": "1.2.0",
            "_view_name": "LayoutView",
            "align_content": null,
            "align_items": null,
            "align_self": null,
            "border": null,
            "bottom": null,
            "display": null,
            "flex": null,
            "flex_flow": null,
            "grid_area": null,
            "grid_auto_columns": null,
            "grid_auto_flow": null,
            "grid_auto_rows": null,
            "grid_column": null,
            "grid_gap": null,
            "grid_row": null,
            "grid_template_areas": null,
            "grid_template_columns": null,
            "grid_template_rows": null,
            "height": null,
            "justify_content": null,
            "justify_items": null,
            "left": null,
            "margin": null,
            "max_height": null,
            "max_width": null,
            "min_height": null,
            "min_width": null,
            "object_fit": null,
            "object_position": null,
            "order": null,
            "overflow": null,
            "overflow_x": null,
            "overflow_y": null,
            "padding": null,
            "right": null,
            "top": null,
            "visibility": null,
            "width": null
          }
        },
        "b61ec155a8484833b0f50a61a90aa221": {
          "model_module": "@jupyter-widgets/controls",
          "model_name": "ProgressStyleModel",
          "model_module_version": "1.5.0",
          "state": {
            "_model_module": "@jupyter-widgets/controls",
            "_model_module_version": "1.5.0",
            "_model_name": "ProgressStyleModel",
            "_view_count": null,
            "_view_module": "@jupyter-widgets/base",
            "_view_module_version": "1.2.0",
            "_view_name": "StyleView",
            "bar_color": null,
            "description_width": ""
          }
        },
        "3023144ad8d1427e958876f88729abba": {
          "model_module": "@jupyter-widgets/base",
          "model_name": "LayoutModel",
          "model_module_version": "1.2.0",
          "state": {
            "_model_module": "@jupyter-widgets/base",
            "_model_module_version": "1.2.0",
            "_model_name": "LayoutModel",
            "_view_count": null,
            "_view_module": "@jupyter-widgets/base",
            "_view_module_version": "1.2.0",
            "_view_name": "LayoutView",
            "align_content": null,
            "align_items": null,
            "align_self": null,
            "border": null,
            "bottom": null,
            "display": null,
            "flex": null,
            "flex_flow": null,
            "grid_area": null,
            "grid_auto_columns": null,
            "grid_auto_flow": null,
            "grid_auto_rows": null,
            "grid_column": null,
            "grid_gap": null,
            "grid_row": null,
            "grid_template_areas": null,
            "grid_template_columns": null,
            "grid_template_rows": null,
            "height": null,
            "justify_content": null,
            "justify_items": null,
            "left": null,
            "margin": null,
            "max_height": null,
            "max_width": null,
            "min_height": null,
            "min_width": null,
            "object_fit": null,
            "object_position": null,
            "order": null,
            "overflow": null,
            "overflow_x": null,
            "overflow_y": null,
            "padding": null,
            "right": null,
            "top": null,
            "visibility": null,
            "width": null
          }
        },
        "e2f20302adde4be3b009aeec7fd58e13": {
          "model_module": "@jupyter-widgets/controls",
          "model_name": "DescriptionStyleModel",
          "model_module_version": "1.5.0",
          "state": {
            "_model_module": "@jupyter-widgets/controls",
            "_model_module_version": "1.5.0",
            "_model_name": "DescriptionStyleModel",
            "_view_count": null,
            "_view_module": "@jupyter-widgets/base",
            "_view_module_version": "1.2.0",
            "_view_name": "StyleView",
            "description_width": ""
          }
        },
        "942753c5ce0e476fa678ab1a630dc0e9": {
          "model_module": "@jupyter-widgets/controls",
          "model_name": "HBoxModel",
          "model_module_version": "1.5.0",
          "state": {
            "_dom_classes": [],
            "_model_module": "@jupyter-widgets/controls",
            "_model_module_version": "1.5.0",
            "_model_name": "HBoxModel",
            "_view_count": null,
            "_view_module": "@jupyter-widgets/controls",
            "_view_module_version": "1.5.0",
            "_view_name": "HBoxView",
            "box_style": "",
            "children": [
              "IPY_MODEL_5de58e954c5c41ba96e53c9686bba8e1",
              "IPY_MODEL_b86a319979fa4b839f279c1048a3b2c6",
              "IPY_MODEL_78dd892f30a6434e82f0fb9c0b836d81"
            ],
            "layout": "IPY_MODEL_8869ac2a56d14bfbba697882226f0e34"
          }
        },
        "5de58e954c5c41ba96e53c9686bba8e1": {
          "model_module": "@jupyter-widgets/controls",
          "model_name": "HTMLModel",
          "model_module_version": "1.5.0",
          "state": {
            "_dom_classes": [],
            "_model_module": "@jupyter-widgets/controls",
            "_model_module_version": "1.5.0",
            "_model_name": "HTMLModel",
            "_view_count": null,
            "_view_module": "@jupyter-widgets/controls",
            "_view_module_version": "1.5.0",
            "_view_name": "HTMLView",
            "description": "",
            "description_tooltip": null,
            "layout": "IPY_MODEL_430e3f4b304e41439d407ccfa072bfbd",
            "placeholder": "​",
            "style": "IPY_MODEL_622942a3eaa94a3cae0c905df8c2044e",
            "value": "100%"
          }
        },
        "b86a319979fa4b839f279c1048a3b2c6": {
          "model_module": "@jupyter-widgets/controls",
          "model_name": "FloatProgressModel",
          "model_module_version": "1.5.0",
          "state": {
            "_dom_classes": [],
            "_model_module": "@jupyter-widgets/controls",
            "_model_module_version": "1.5.0",
            "_model_name": "FloatProgressModel",
            "_view_count": null,
            "_view_module": "@jupyter-widgets/controls",
            "_view_module_version": "1.5.0",
            "_view_name": "ProgressView",
            "bar_style": "success",
            "description": "",
            "description_tooltip": null,
            "layout": "IPY_MODEL_b3c6bb2579d1443881a0cf46784ccad7",
            "max": 180,
            "min": 0,
            "orientation": "horizontal",
            "style": "IPY_MODEL_c407146e80a44440b489ed24d68524cb",
            "value": 180
          }
        },
        "78dd892f30a6434e82f0fb9c0b836d81": {
          "model_module": "@jupyter-widgets/controls",
          "model_name": "HTMLModel",
          "model_module_version": "1.5.0",
          "state": {
            "_dom_classes": [],
            "_model_module": "@jupyter-widgets/controls",
            "_model_module_version": "1.5.0",
            "_model_name": "HTMLModel",
            "_view_count": null,
            "_view_module": "@jupyter-widgets/controls",
            "_view_module_version": "1.5.0",
            "_view_name": "HTMLView",
            "description": "",
            "description_tooltip": null,
            "layout": "IPY_MODEL_6a24d3cffa06439b8d8b7381ddc1ddde",
            "placeholder": "​",
            "style": "IPY_MODEL_7df685725e0348559ff866ecc0576b67",
            "value": " 180/180 [02:16&lt;00:00,  1.33it/s]"
          }
        },
        "8869ac2a56d14bfbba697882226f0e34": {
          "model_module": "@jupyter-widgets/base",
          "model_name": "LayoutModel",
          "model_module_version": "1.2.0",
          "state": {
            "_model_module": "@jupyter-widgets/base",
            "_model_module_version": "1.2.0",
            "_model_name": "LayoutModel",
            "_view_count": null,
            "_view_module": "@jupyter-widgets/base",
            "_view_module_version": "1.2.0",
            "_view_name": "LayoutView",
            "align_content": null,
            "align_items": null,
            "align_self": null,
            "border": null,
            "bottom": null,
            "display": null,
            "flex": null,
            "flex_flow": null,
            "grid_area": null,
            "grid_auto_columns": null,
            "grid_auto_flow": null,
            "grid_auto_rows": null,
            "grid_column": null,
            "grid_gap": null,
            "grid_row": null,
            "grid_template_areas": null,
            "grid_template_columns": null,
            "grid_template_rows": null,
            "height": null,
            "justify_content": null,
            "justify_items": null,
            "left": null,
            "margin": null,
            "max_height": null,
            "max_width": null,
            "min_height": null,
            "min_width": null,
            "object_fit": null,
            "object_position": null,
            "order": null,
            "overflow": null,
            "overflow_x": null,
            "overflow_y": null,
            "padding": null,
            "right": null,
            "top": null,
            "visibility": null,
            "width": null
          }
        },
        "430e3f4b304e41439d407ccfa072bfbd": {
          "model_module": "@jupyter-widgets/base",
          "model_name": "LayoutModel",
          "model_module_version": "1.2.0",
          "state": {
            "_model_module": "@jupyter-widgets/base",
            "_model_module_version": "1.2.0",
            "_model_name": "LayoutModel",
            "_view_count": null,
            "_view_module": "@jupyter-widgets/base",
            "_view_module_version": "1.2.0",
            "_view_name": "LayoutView",
            "align_content": null,
            "align_items": null,
            "align_self": null,
            "border": null,
            "bottom": null,
            "display": null,
            "flex": null,
            "flex_flow": null,
            "grid_area": null,
            "grid_auto_columns": null,
            "grid_auto_flow": null,
            "grid_auto_rows": null,
            "grid_column": null,
            "grid_gap": null,
            "grid_row": null,
            "grid_template_areas": null,
            "grid_template_columns": null,
            "grid_template_rows": null,
            "height": null,
            "justify_content": null,
            "justify_items": null,
            "left": null,
            "margin": null,
            "max_height": null,
            "max_width": null,
            "min_height": null,
            "min_width": null,
            "object_fit": null,
            "object_position": null,
            "order": null,
            "overflow": null,
            "overflow_x": null,
            "overflow_y": null,
            "padding": null,
            "right": null,
            "top": null,
            "visibility": null,
            "width": null
          }
        },
        "622942a3eaa94a3cae0c905df8c2044e": {
          "model_module": "@jupyter-widgets/controls",
          "model_name": "DescriptionStyleModel",
          "model_module_version": "1.5.0",
          "state": {
            "_model_module": "@jupyter-widgets/controls",
            "_model_module_version": "1.5.0",
            "_model_name": "DescriptionStyleModel",
            "_view_count": null,
            "_view_module": "@jupyter-widgets/base",
            "_view_module_version": "1.2.0",
            "_view_name": "StyleView",
            "description_width": ""
          }
        },
        "b3c6bb2579d1443881a0cf46784ccad7": {
          "model_module": "@jupyter-widgets/base",
          "model_name": "LayoutModel",
          "model_module_version": "1.2.0",
          "state": {
            "_model_module": "@jupyter-widgets/base",
            "_model_module_version": "1.2.0",
            "_model_name": "LayoutModel",
            "_view_count": null,
            "_view_module": "@jupyter-widgets/base",
            "_view_module_version": "1.2.0",
            "_view_name": "LayoutView",
            "align_content": null,
            "align_items": null,
            "align_self": null,
            "border": null,
            "bottom": null,
            "display": null,
            "flex": null,
            "flex_flow": null,
            "grid_area": null,
            "grid_auto_columns": null,
            "grid_auto_flow": null,
            "grid_auto_rows": null,
            "grid_column": null,
            "grid_gap": null,
            "grid_row": null,
            "grid_template_areas": null,
            "grid_template_columns": null,
            "grid_template_rows": null,
            "height": null,
            "justify_content": null,
            "justify_items": null,
            "left": null,
            "margin": null,
            "max_height": null,
            "max_width": null,
            "min_height": null,
            "min_width": null,
            "object_fit": null,
            "object_position": null,
            "order": null,
            "overflow": null,
            "overflow_x": null,
            "overflow_y": null,
            "padding": null,
            "right": null,
            "top": null,
            "visibility": null,
            "width": null
          }
        },
        "c407146e80a44440b489ed24d68524cb": {
          "model_module": "@jupyter-widgets/controls",
          "model_name": "ProgressStyleModel",
          "model_module_version": "1.5.0",
          "state": {
            "_model_module": "@jupyter-widgets/controls",
            "_model_module_version": "1.5.0",
            "_model_name": "ProgressStyleModel",
            "_view_count": null,
            "_view_module": "@jupyter-widgets/base",
            "_view_module_version": "1.2.0",
            "_view_name": "StyleView",
            "bar_color": null,
            "description_width": ""
          }
        },
        "6a24d3cffa06439b8d8b7381ddc1ddde": {
          "model_module": "@jupyter-widgets/base",
          "model_name": "LayoutModel",
          "model_module_version": "1.2.0",
          "state": {
            "_model_module": "@jupyter-widgets/base",
            "_model_module_version": "1.2.0",
            "_model_name": "LayoutModel",
            "_view_count": null,
            "_view_module": "@jupyter-widgets/base",
            "_view_module_version": "1.2.0",
            "_view_name": "LayoutView",
            "align_content": null,
            "align_items": null,
            "align_self": null,
            "border": null,
            "bottom": null,
            "display": null,
            "flex": null,
            "flex_flow": null,
            "grid_area": null,
            "grid_auto_columns": null,
            "grid_auto_flow": null,
            "grid_auto_rows": null,
            "grid_column": null,
            "grid_gap": null,
            "grid_row": null,
            "grid_template_areas": null,
            "grid_template_columns": null,
            "grid_template_rows": null,
            "height": null,
            "justify_content": null,
            "justify_items": null,
            "left": null,
            "margin": null,
            "max_height": null,
            "max_width": null,
            "min_height": null,
            "min_width": null,
            "object_fit": null,
            "object_position": null,
            "order": null,
            "overflow": null,
            "overflow_x": null,
            "overflow_y": null,
            "padding": null,
            "right": null,
            "top": null,
            "visibility": null,
            "width": null
          }
        },
        "7df685725e0348559ff866ecc0576b67": {
          "model_module": "@jupyter-widgets/controls",
          "model_name": "DescriptionStyleModel",
          "model_module_version": "1.5.0",
          "state": {
            "_model_module": "@jupyter-widgets/controls",
            "_model_module_version": "1.5.0",
            "_model_name": "DescriptionStyleModel",
            "_view_count": null,
            "_view_module": "@jupyter-widgets/base",
            "_view_module_version": "1.2.0",
            "_view_name": "StyleView",
            "description_width": ""
          }
        },
        "61ff67de31dc46b48e42d9faffdc0c43": {
          "model_module": "@jupyter-widgets/controls",
          "model_name": "HBoxModel",
          "model_module_version": "1.5.0",
          "state": {
            "_dom_classes": [],
            "_model_module": "@jupyter-widgets/controls",
            "_model_module_version": "1.5.0",
            "_model_name": "HBoxModel",
            "_view_count": null,
            "_view_module": "@jupyter-widgets/controls",
            "_view_module_version": "1.5.0",
            "_view_name": "HBoxView",
            "box_style": "",
            "children": [
              "IPY_MODEL_0232b1860fff4999b249230bcf0752af",
              "IPY_MODEL_78d1d4b964c04ec7a1085ec2955a9927",
              "IPY_MODEL_e89757ca18e4484d998b7c86d41d16e8"
            ],
            "layout": "IPY_MODEL_2eeba75f0ee3495b848216718c93151b"
          }
        },
        "0232b1860fff4999b249230bcf0752af": {
          "model_module": "@jupyter-widgets/controls",
          "model_name": "HTMLModel",
          "model_module_version": "1.5.0",
          "state": {
            "_dom_classes": [],
            "_model_module": "@jupyter-widgets/controls",
            "_model_module_version": "1.5.0",
            "_model_name": "HTMLModel",
            "_view_count": null,
            "_view_module": "@jupyter-widgets/controls",
            "_view_module_version": "1.5.0",
            "_view_name": "HTMLView",
            "description": "",
            "description_tooltip": null,
            "layout": "IPY_MODEL_5fe14a369f374eefb559d8ef4d5181c1",
            "placeholder": "​",
            "style": "IPY_MODEL_4fd9ac519c844387960ddc359cb804a4",
            "value": "100%"
          }
        },
        "78d1d4b964c04ec7a1085ec2955a9927": {
          "model_module": "@jupyter-widgets/controls",
          "model_name": "FloatProgressModel",
          "model_module_version": "1.5.0",
          "state": {
            "_dom_classes": [],
            "_model_module": "@jupyter-widgets/controls",
            "_model_module_version": "1.5.0",
            "_model_name": "FloatProgressModel",
            "_view_count": null,
            "_view_module": "@jupyter-widgets/controls",
            "_view_module_version": "1.5.0",
            "_view_name": "ProgressView",
            "bar_style": "success",
            "description": "",
            "description_tooltip": null,
            "layout": "IPY_MODEL_45dfbc1e1e7242d38e5742c1fa6b5963",
            "max": 144,
            "min": 0,
            "orientation": "horizontal",
            "style": "IPY_MODEL_47f3efbce96747d7808cdc5f7c793a13",
            "value": 144
          }
        },
        "e89757ca18e4484d998b7c86d41d16e8": {
          "model_module": "@jupyter-widgets/controls",
          "model_name": "HTMLModel",
          "model_module_version": "1.5.0",
          "state": {
            "_dom_classes": [],
            "_model_module": "@jupyter-widgets/controls",
            "_model_module_version": "1.5.0",
            "_model_name": "HTMLModel",
            "_view_count": null,
            "_view_module": "@jupyter-widgets/controls",
            "_view_module_version": "1.5.0",
            "_view_name": "HTMLView",
            "description": "",
            "description_tooltip": null,
            "layout": "IPY_MODEL_7c42d86085704584bef01bde45b4dc95",
            "placeholder": "​",
            "style": "IPY_MODEL_af45f601f70147a2ada5bb57061e8433",
            "value": " 144/144 [02:01&lt;00:00,  1.25it/s]"
          }
        },
        "2eeba75f0ee3495b848216718c93151b": {
          "model_module": "@jupyter-widgets/base",
          "model_name": "LayoutModel",
          "model_module_version": "1.2.0",
          "state": {
            "_model_module": "@jupyter-widgets/base",
            "_model_module_version": "1.2.0",
            "_model_name": "LayoutModel",
            "_view_count": null,
            "_view_module": "@jupyter-widgets/base",
            "_view_module_version": "1.2.0",
            "_view_name": "LayoutView",
            "align_content": null,
            "align_items": null,
            "align_self": null,
            "border": null,
            "bottom": null,
            "display": null,
            "flex": null,
            "flex_flow": null,
            "grid_area": null,
            "grid_auto_columns": null,
            "grid_auto_flow": null,
            "grid_auto_rows": null,
            "grid_column": null,
            "grid_gap": null,
            "grid_row": null,
            "grid_template_areas": null,
            "grid_template_columns": null,
            "grid_template_rows": null,
            "height": null,
            "justify_content": null,
            "justify_items": null,
            "left": null,
            "margin": null,
            "max_height": null,
            "max_width": null,
            "min_height": null,
            "min_width": null,
            "object_fit": null,
            "object_position": null,
            "order": null,
            "overflow": null,
            "overflow_x": null,
            "overflow_y": null,
            "padding": null,
            "right": null,
            "top": null,
            "visibility": null,
            "width": null
          }
        },
        "5fe14a369f374eefb559d8ef4d5181c1": {
          "model_module": "@jupyter-widgets/base",
          "model_name": "LayoutModel",
          "model_module_version": "1.2.0",
          "state": {
            "_model_module": "@jupyter-widgets/base",
            "_model_module_version": "1.2.0",
            "_model_name": "LayoutModel",
            "_view_count": null,
            "_view_module": "@jupyter-widgets/base",
            "_view_module_version": "1.2.0",
            "_view_name": "LayoutView",
            "align_content": null,
            "align_items": null,
            "align_self": null,
            "border": null,
            "bottom": null,
            "display": null,
            "flex": null,
            "flex_flow": null,
            "grid_area": null,
            "grid_auto_columns": null,
            "grid_auto_flow": null,
            "grid_auto_rows": null,
            "grid_column": null,
            "grid_gap": null,
            "grid_row": null,
            "grid_template_areas": null,
            "grid_template_columns": null,
            "grid_template_rows": null,
            "height": null,
            "justify_content": null,
            "justify_items": null,
            "left": null,
            "margin": null,
            "max_height": null,
            "max_width": null,
            "min_height": null,
            "min_width": null,
            "object_fit": null,
            "object_position": null,
            "order": null,
            "overflow": null,
            "overflow_x": null,
            "overflow_y": null,
            "padding": null,
            "right": null,
            "top": null,
            "visibility": null,
            "width": null
          }
        },
        "4fd9ac519c844387960ddc359cb804a4": {
          "model_module": "@jupyter-widgets/controls",
          "model_name": "DescriptionStyleModel",
          "model_module_version": "1.5.0",
          "state": {
            "_model_module": "@jupyter-widgets/controls",
            "_model_module_version": "1.5.0",
            "_model_name": "DescriptionStyleModel",
            "_view_count": null,
            "_view_module": "@jupyter-widgets/base",
            "_view_module_version": "1.2.0",
            "_view_name": "StyleView",
            "description_width": ""
          }
        },
        "45dfbc1e1e7242d38e5742c1fa6b5963": {
          "model_module": "@jupyter-widgets/base",
          "model_name": "LayoutModel",
          "model_module_version": "1.2.0",
          "state": {
            "_model_module": "@jupyter-widgets/base",
            "_model_module_version": "1.2.0",
            "_model_name": "LayoutModel",
            "_view_count": null,
            "_view_module": "@jupyter-widgets/base",
            "_view_module_version": "1.2.0",
            "_view_name": "LayoutView",
            "align_content": null,
            "align_items": null,
            "align_self": null,
            "border": null,
            "bottom": null,
            "display": null,
            "flex": null,
            "flex_flow": null,
            "grid_area": null,
            "grid_auto_columns": null,
            "grid_auto_flow": null,
            "grid_auto_rows": null,
            "grid_column": null,
            "grid_gap": null,
            "grid_row": null,
            "grid_template_areas": null,
            "grid_template_columns": null,
            "grid_template_rows": null,
            "height": null,
            "justify_content": null,
            "justify_items": null,
            "left": null,
            "margin": null,
            "max_height": null,
            "max_width": null,
            "min_height": null,
            "min_width": null,
            "object_fit": null,
            "object_position": null,
            "order": null,
            "overflow": null,
            "overflow_x": null,
            "overflow_y": null,
            "padding": null,
            "right": null,
            "top": null,
            "visibility": null,
            "width": null
          }
        },
        "47f3efbce96747d7808cdc5f7c793a13": {
          "model_module": "@jupyter-widgets/controls",
          "model_name": "ProgressStyleModel",
          "model_module_version": "1.5.0",
          "state": {
            "_model_module": "@jupyter-widgets/controls",
            "_model_module_version": "1.5.0",
            "_model_name": "ProgressStyleModel",
            "_view_count": null,
            "_view_module": "@jupyter-widgets/base",
            "_view_module_version": "1.2.0",
            "_view_name": "StyleView",
            "bar_color": null,
            "description_width": ""
          }
        },
        "7c42d86085704584bef01bde45b4dc95": {
          "model_module": "@jupyter-widgets/base",
          "model_name": "LayoutModel",
          "model_module_version": "1.2.0",
          "state": {
            "_model_module": "@jupyter-widgets/base",
            "_model_module_version": "1.2.0",
            "_model_name": "LayoutModel",
            "_view_count": null,
            "_view_module": "@jupyter-widgets/base",
            "_view_module_version": "1.2.0",
            "_view_name": "LayoutView",
            "align_content": null,
            "align_items": null,
            "align_self": null,
            "border": null,
            "bottom": null,
            "display": null,
            "flex": null,
            "flex_flow": null,
            "grid_area": null,
            "grid_auto_columns": null,
            "grid_auto_flow": null,
            "grid_auto_rows": null,
            "grid_column": null,
            "grid_gap": null,
            "grid_row": null,
            "grid_template_areas": null,
            "grid_template_columns": null,
            "grid_template_rows": null,
            "height": null,
            "justify_content": null,
            "justify_items": null,
            "left": null,
            "margin": null,
            "max_height": null,
            "max_width": null,
            "min_height": null,
            "min_width": null,
            "object_fit": null,
            "object_position": null,
            "order": null,
            "overflow": null,
            "overflow_x": null,
            "overflow_y": null,
            "padding": null,
            "right": null,
            "top": null,
            "visibility": null,
            "width": null
          }
        },
        "af45f601f70147a2ada5bb57061e8433": {
          "model_module": "@jupyter-widgets/controls",
          "model_name": "DescriptionStyleModel",
          "model_module_version": "1.5.0",
          "state": {
            "_model_module": "@jupyter-widgets/controls",
            "_model_module_version": "1.5.0",
            "_model_name": "DescriptionStyleModel",
            "_view_count": null,
            "_view_module": "@jupyter-widgets/base",
            "_view_module_version": "1.2.0",
            "_view_name": "StyleView",
            "description_width": ""
          }
        },
        "25cd922b285d4682bcc8c85282eac7dc": {
          "model_module": "@jupyter-widgets/controls",
          "model_name": "HBoxModel",
          "model_module_version": "1.5.0",
          "state": {
            "_dom_classes": [],
            "_model_module": "@jupyter-widgets/controls",
            "_model_module_version": "1.5.0",
            "_model_name": "HBoxModel",
            "_view_count": null,
            "_view_module": "@jupyter-widgets/controls",
            "_view_module_version": "1.5.0",
            "_view_name": "HBoxView",
            "box_style": "",
            "children": [
              "IPY_MODEL_9046d6a3bb064a978f57c9be17eb2bb8",
              "IPY_MODEL_8fcbe72260b34af1b0d7d78bd0fea984",
              "IPY_MODEL_85f7447f0293451f912c39a80e895a7e"
            ],
            "layout": "IPY_MODEL_ae184cfaa8ce42ecb196a16699f7c44e"
          }
        },
        "9046d6a3bb064a978f57c9be17eb2bb8": {
          "model_module": "@jupyter-widgets/controls",
          "model_name": "HTMLModel",
          "model_module_version": "1.5.0",
          "state": {
            "_dom_classes": [],
            "_model_module": "@jupyter-widgets/controls",
            "_model_module_version": "1.5.0",
            "_model_name": "HTMLModel",
            "_view_count": null,
            "_view_module": "@jupyter-widgets/controls",
            "_view_module_version": "1.5.0",
            "_view_name": "HTMLView",
            "description": "",
            "description_tooltip": null,
            "layout": "IPY_MODEL_255cf36b86a14c71a2ef5c9567c6b2b1",
            "placeholder": "​",
            "style": "IPY_MODEL_d9379b1559404b969e12c935c41a389a",
            "value": "100%"
          }
        },
        "8fcbe72260b34af1b0d7d78bd0fea984": {
          "model_module": "@jupyter-widgets/controls",
          "model_name": "FloatProgressModel",
          "model_module_version": "1.5.0",
          "state": {
            "_dom_classes": [],
            "_model_module": "@jupyter-widgets/controls",
            "_model_module_version": "1.5.0",
            "_model_name": "FloatProgressModel",
            "_view_count": null,
            "_view_module": "@jupyter-widgets/controls",
            "_view_module_version": "1.5.0",
            "_view_name": "ProgressView",
            "bar_style": "success",
            "description": "",
            "description_tooltip": null,
            "layout": "IPY_MODEL_0f26beec02ac45ea931bfd3e30e466f4",
            "max": 144,
            "min": 0,
            "orientation": "horizontal",
            "style": "IPY_MODEL_aab1445735b34b889e569f4d987b42fe",
            "value": 144
          }
        },
        "85f7447f0293451f912c39a80e895a7e": {
          "model_module": "@jupyter-widgets/controls",
          "model_name": "HTMLModel",
          "model_module_version": "1.5.0",
          "state": {
            "_dom_classes": [],
            "_model_module": "@jupyter-widgets/controls",
            "_model_module_version": "1.5.0",
            "_model_name": "HTMLModel",
            "_view_count": null,
            "_view_module": "@jupyter-widgets/controls",
            "_view_module_version": "1.5.0",
            "_view_name": "HTMLView",
            "description": "",
            "description_tooltip": null,
            "layout": "IPY_MODEL_51e21e45c1804835af07d5204d12d94b",
            "placeholder": "​",
            "style": "IPY_MODEL_c8dc546bf5bc47db805307da362d7a64",
            "value": " 144/144 [01:59&lt;00:00,  1.24it/s]"
          }
        },
        "ae184cfaa8ce42ecb196a16699f7c44e": {
          "model_module": "@jupyter-widgets/base",
          "model_name": "LayoutModel",
          "model_module_version": "1.2.0",
          "state": {
            "_model_module": "@jupyter-widgets/base",
            "_model_module_version": "1.2.0",
            "_model_name": "LayoutModel",
            "_view_count": null,
            "_view_module": "@jupyter-widgets/base",
            "_view_module_version": "1.2.0",
            "_view_name": "LayoutView",
            "align_content": null,
            "align_items": null,
            "align_self": null,
            "border": null,
            "bottom": null,
            "display": null,
            "flex": null,
            "flex_flow": null,
            "grid_area": null,
            "grid_auto_columns": null,
            "grid_auto_flow": null,
            "grid_auto_rows": null,
            "grid_column": null,
            "grid_gap": null,
            "grid_row": null,
            "grid_template_areas": null,
            "grid_template_columns": null,
            "grid_template_rows": null,
            "height": null,
            "justify_content": null,
            "justify_items": null,
            "left": null,
            "margin": null,
            "max_height": null,
            "max_width": null,
            "min_height": null,
            "min_width": null,
            "object_fit": null,
            "object_position": null,
            "order": null,
            "overflow": null,
            "overflow_x": null,
            "overflow_y": null,
            "padding": null,
            "right": null,
            "top": null,
            "visibility": null,
            "width": null
          }
        },
        "255cf36b86a14c71a2ef5c9567c6b2b1": {
          "model_module": "@jupyter-widgets/base",
          "model_name": "LayoutModel",
          "model_module_version": "1.2.0",
          "state": {
            "_model_module": "@jupyter-widgets/base",
            "_model_module_version": "1.2.0",
            "_model_name": "LayoutModel",
            "_view_count": null,
            "_view_module": "@jupyter-widgets/base",
            "_view_module_version": "1.2.0",
            "_view_name": "LayoutView",
            "align_content": null,
            "align_items": null,
            "align_self": null,
            "border": null,
            "bottom": null,
            "display": null,
            "flex": null,
            "flex_flow": null,
            "grid_area": null,
            "grid_auto_columns": null,
            "grid_auto_flow": null,
            "grid_auto_rows": null,
            "grid_column": null,
            "grid_gap": null,
            "grid_row": null,
            "grid_template_areas": null,
            "grid_template_columns": null,
            "grid_template_rows": null,
            "height": null,
            "justify_content": null,
            "justify_items": null,
            "left": null,
            "margin": null,
            "max_height": null,
            "max_width": null,
            "min_height": null,
            "min_width": null,
            "object_fit": null,
            "object_position": null,
            "order": null,
            "overflow": null,
            "overflow_x": null,
            "overflow_y": null,
            "padding": null,
            "right": null,
            "top": null,
            "visibility": null,
            "width": null
          }
        },
        "d9379b1559404b969e12c935c41a389a": {
          "model_module": "@jupyter-widgets/controls",
          "model_name": "DescriptionStyleModel",
          "model_module_version": "1.5.0",
          "state": {
            "_model_module": "@jupyter-widgets/controls",
            "_model_module_version": "1.5.0",
            "_model_name": "DescriptionStyleModel",
            "_view_count": null,
            "_view_module": "@jupyter-widgets/base",
            "_view_module_version": "1.2.0",
            "_view_name": "StyleView",
            "description_width": ""
          }
        },
        "0f26beec02ac45ea931bfd3e30e466f4": {
          "model_module": "@jupyter-widgets/base",
          "model_name": "LayoutModel",
          "model_module_version": "1.2.0",
          "state": {
            "_model_module": "@jupyter-widgets/base",
            "_model_module_version": "1.2.0",
            "_model_name": "LayoutModel",
            "_view_count": null,
            "_view_module": "@jupyter-widgets/base",
            "_view_module_version": "1.2.0",
            "_view_name": "LayoutView",
            "align_content": null,
            "align_items": null,
            "align_self": null,
            "border": null,
            "bottom": null,
            "display": null,
            "flex": null,
            "flex_flow": null,
            "grid_area": null,
            "grid_auto_columns": null,
            "grid_auto_flow": null,
            "grid_auto_rows": null,
            "grid_column": null,
            "grid_gap": null,
            "grid_row": null,
            "grid_template_areas": null,
            "grid_template_columns": null,
            "grid_template_rows": null,
            "height": null,
            "justify_content": null,
            "justify_items": null,
            "left": null,
            "margin": null,
            "max_height": null,
            "max_width": null,
            "min_height": null,
            "min_width": null,
            "object_fit": null,
            "object_position": null,
            "order": null,
            "overflow": null,
            "overflow_x": null,
            "overflow_y": null,
            "padding": null,
            "right": null,
            "top": null,
            "visibility": null,
            "width": null
          }
        },
        "aab1445735b34b889e569f4d987b42fe": {
          "model_module": "@jupyter-widgets/controls",
          "model_name": "ProgressStyleModel",
          "model_module_version": "1.5.0",
          "state": {
            "_model_module": "@jupyter-widgets/controls",
            "_model_module_version": "1.5.0",
            "_model_name": "ProgressStyleModel",
            "_view_count": null,
            "_view_module": "@jupyter-widgets/base",
            "_view_module_version": "1.2.0",
            "_view_name": "StyleView",
            "bar_color": null,
            "description_width": ""
          }
        },
        "51e21e45c1804835af07d5204d12d94b": {
          "model_module": "@jupyter-widgets/base",
          "model_name": "LayoutModel",
          "model_module_version": "1.2.0",
          "state": {
            "_model_module": "@jupyter-widgets/base",
            "_model_module_version": "1.2.0",
            "_model_name": "LayoutModel",
            "_view_count": null,
            "_view_module": "@jupyter-widgets/base",
            "_view_module_version": "1.2.0",
            "_view_name": "LayoutView",
            "align_content": null,
            "align_items": null,
            "align_self": null,
            "border": null,
            "bottom": null,
            "display": null,
            "flex": null,
            "flex_flow": null,
            "grid_area": null,
            "grid_auto_columns": null,
            "grid_auto_flow": null,
            "grid_auto_rows": null,
            "grid_column": null,
            "grid_gap": null,
            "grid_row": null,
            "grid_template_areas": null,
            "grid_template_columns": null,
            "grid_template_rows": null,
            "height": null,
            "justify_content": null,
            "justify_items": null,
            "left": null,
            "margin": null,
            "max_height": null,
            "max_width": null,
            "min_height": null,
            "min_width": null,
            "object_fit": null,
            "object_position": null,
            "order": null,
            "overflow": null,
            "overflow_x": null,
            "overflow_y": null,
            "padding": null,
            "right": null,
            "top": null,
            "visibility": null,
            "width": null
          }
        },
        "c8dc546bf5bc47db805307da362d7a64": {
          "model_module": "@jupyter-widgets/controls",
          "model_name": "DescriptionStyleModel",
          "model_module_version": "1.5.0",
          "state": {
            "_model_module": "@jupyter-widgets/controls",
            "_model_module_version": "1.5.0",
            "_model_name": "DescriptionStyleModel",
            "_view_count": null,
            "_view_module": "@jupyter-widgets/base",
            "_view_module_version": "1.2.0",
            "_view_name": "StyleView",
            "description_width": ""
          }
        },
        "c580e12252a245cd8b25a4a89fdc4cc4": {
          "model_module": "@jupyter-widgets/controls",
          "model_name": "HBoxModel",
          "model_module_version": "1.5.0",
          "state": {
            "_dom_classes": [],
            "_model_module": "@jupyter-widgets/controls",
            "_model_module_version": "1.5.0",
            "_model_name": "HBoxModel",
            "_view_count": null,
            "_view_module": "@jupyter-widgets/controls",
            "_view_module_version": "1.5.0",
            "_view_name": "HBoxView",
            "box_style": "",
            "children": [
              "IPY_MODEL_8b95798b26e942d1a124e7ddfc99890c",
              "IPY_MODEL_cc21e5142987401280433e3ba3ef4ce0",
              "IPY_MODEL_f9ab5b2d609d4aa180d4ffe77fc4f830"
            ],
            "layout": "IPY_MODEL_6daab57016af40e9a030d56007349575"
          }
        },
        "8b95798b26e942d1a124e7ddfc99890c": {
          "model_module": "@jupyter-widgets/controls",
          "model_name": "HTMLModel",
          "model_module_version": "1.5.0",
          "state": {
            "_dom_classes": [],
            "_model_module": "@jupyter-widgets/controls",
            "_model_module_version": "1.5.0",
            "_model_name": "HTMLModel",
            "_view_count": null,
            "_view_module": "@jupyter-widgets/controls",
            "_view_module_version": "1.5.0",
            "_view_name": "HTMLView",
            "description": "",
            "description_tooltip": null,
            "layout": "IPY_MODEL_1c23197d525c402493c8f37642413a9a",
            "placeholder": "​",
            "style": "IPY_MODEL_a3e70ce189a24992ac3fdd20b156255e",
            "value": "100%"
          }
        },
        "cc21e5142987401280433e3ba3ef4ce0": {
          "model_module": "@jupyter-widgets/controls",
          "model_name": "FloatProgressModel",
          "model_module_version": "1.5.0",
          "state": {
            "_dom_classes": [],
            "_model_module": "@jupyter-widgets/controls",
            "_model_module_version": "1.5.0",
            "_model_name": "FloatProgressModel",
            "_view_count": null,
            "_view_module": "@jupyter-widgets/controls",
            "_view_module_version": "1.5.0",
            "_view_name": "ProgressView",
            "bar_style": "success",
            "description": "",
            "description_tooltip": null,
            "layout": "IPY_MODEL_fb9f0c891d6646bab1e5e615e8868acd",
            "max": 144,
            "min": 0,
            "orientation": "horizontal",
            "style": "IPY_MODEL_e89c2d2773ca4231acbb56305c09b241",
            "value": 144
          }
        },
        "f9ab5b2d609d4aa180d4ffe77fc4f830": {
          "model_module": "@jupyter-widgets/controls",
          "model_name": "HTMLModel",
          "model_module_version": "1.5.0",
          "state": {
            "_dom_classes": [],
            "_model_module": "@jupyter-widgets/controls",
            "_model_module_version": "1.5.0",
            "_model_name": "HTMLModel",
            "_view_count": null,
            "_view_module": "@jupyter-widgets/controls",
            "_view_module_version": "1.5.0",
            "_view_name": "HTMLView",
            "description": "",
            "description_tooltip": null,
            "layout": "IPY_MODEL_947c0757a8c84dec9c19bbdaa980025c",
            "placeholder": "​",
            "style": "IPY_MODEL_a70ac1a2367f498d911846819debde37",
            "value": " 144/144 [02:20&lt;00:00,  1.02it/s]"
          }
        },
        "6daab57016af40e9a030d56007349575": {
          "model_module": "@jupyter-widgets/base",
          "model_name": "LayoutModel",
          "model_module_version": "1.2.0",
          "state": {
            "_model_module": "@jupyter-widgets/base",
            "_model_module_version": "1.2.0",
            "_model_name": "LayoutModel",
            "_view_count": null,
            "_view_module": "@jupyter-widgets/base",
            "_view_module_version": "1.2.0",
            "_view_name": "LayoutView",
            "align_content": null,
            "align_items": null,
            "align_self": null,
            "border": null,
            "bottom": null,
            "display": null,
            "flex": null,
            "flex_flow": null,
            "grid_area": null,
            "grid_auto_columns": null,
            "grid_auto_flow": null,
            "grid_auto_rows": null,
            "grid_column": null,
            "grid_gap": null,
            "grid_row": null,
            "grid_template_areas": null,
            "grid_template_columns": null,
            "grid_template_rows": null,
            "height": null,
            "justify_content": null,
            "justify_items": null,
            "left": null,
            "margin": null,
            "max_height": null,
            "max_width": null,
            "min_height": null,
            "min_width": null,
            "object_fit": null,
            "object_position": null,
            "order": null,
            "overflow": null,
            "overflow_x": null,
            "overflow_y": null,
            "padding": null,
            "right": null,
            "top": null,
            "visibility": null,
            "width": null
          }
        },
        "1c23197d525c402493c8f37642413a9a": {
          "model_module": "@jupyter-widgets/base",
          "model_name": "LayoutModel",
          "model_module_version": "1.2.0",
          "state": {
            "_model_module": "@jupyter-widgets/base",
            "_model_module_version": "1.2.0",
            "_model_name": "LayoutModel",
            "_view_count": null,
            "_view_module": "@jupyter-widgets/base",
            "_view_module_version": "1.2.0",
            "_view_name": "LayoutView",
            "align_content": null,
            "align_items": null,
            "align_self": null,
            "border": null,
            "bottom": null,
            "display": null,
            "flex": null,
            "flex_flow": null,
            "grid_area": null,
            "grid_auto_columns": null,
            "grid_auto_flow": null,
            "grid_auto_rows": null,
            "grid_column": null,
            "grid_gap": null,
            "grid_row": null,
            "grid_template_areas": null,
            "grid_template_columns": null,
            "grid_template_rows": null,
            "height": null,
            "justify_content": null,
            "justify_items": null,
            "left": null,
            "margin": null,
            "max_height": null,
            "max_width": null,
            "min_height": null,
            "min_width": null,
            "object_fit": null,
            "object_position": null,
            "order": null,
            "overflow": null,
            "overflow_x": null,
            "overflow_y": null,
            "padding": null,
            "right": null,
            "top": null,
            "visibility": null,
            "width": null
          }
        },
        "a3e70ce189a24992ac3fdd20b156255e": {
          "model_module": "@jupyter-widgets/controls",
          "model_name": "DescriptionStyleModel",
          "model_module_version": "1.5.0",
          "state": {
            "_model_module": "@jupyter-widgets/controls",
            "_model_module_version": "1.5.0",
            "_model_name": "DescriptionStyleModel",
            "_view_count": null,
            "_view_module": "@jupyter-widgets/base",
            "_view_module_version": "1.2.0",
            "_view_name": "StyleView",
            "description_width": ""
          }
        },
        "fb9f0c891d6646bab1e5e615e8868acd": {
          "model_module": "@jupyter-widgets/base",
          "model_name": "LayoutModel",
          "model_module_version": "1.2.0",
          "state": {
            "_model_module": "@jupyter-widgets/base",
            "_model_module_version": "1.2.0",
            "_model_name": "LayoutModel",
            "_view_count": null,
            "_view_module": "@jupyter-widgets/base",
            "_view_module_version": "1.2.0",
            "_view_name": "LayoutView",
            "align_content": null,
            "align_items": null,
            "align_self": null,
            "border": null,
            "bottom": null,
            "display": null,
            "flex": null,
            "flex_flow": null,
            "grid_area": null,
            "grid_auto_columns": null,
            "grid_auto_flow": null,
            "grid_auto_rows": null,
            "grid_column": null,
            "grid_gap": null,
            "grid_row": null,
            "grid_template_areas": null,
            "grid_template_columns": null,
            "grid_template_rows": null,
            "height": null,
            "justify_content": null,
            "justify_items": null,
            "left": null,
            "margin": null,
            "max_height": null,
            "max_width": null,
            "min_height": null,
            "min_width": null,
            "object_fit": null,
            "object_position": null,
            "order": null,
            "overflow": null,
            "overflow_x": null,
            "overflow_y": null,
            "padding": null,
            "right": null,
            "top": null,
            "visibility": null,
            "width": null
          }
        },
        "e89c2d2773ca4231acbb56305c09b241": {
          "model_module": "@jupyter-widgets/controls",
          "model_name": "ProgressStyleModel",
          "model_module_version": "1.5.0",
          "state": {
            "_model_module": "@jupyter-widgets/controls",
            "_model_module_version": "1.5.0",
            "_model_name": "ProgressStyleModel",
            "_view_count": null,
            "_view_module": "@jupyter-widgets/base",
            "_view_module_version": "1.2.0",
            "_view_name": "StyleView",
            "bar_color": null,
            "description_width": ""
          }
        },
        "947c0757a8c84dec9c19bbdaa980025c": {
          "model_module": "@jupyter-widgets/base",
          "model_name": "LayoutModel",
          "model_module_version": "1.2.0",
          "state": {
            "_model_module": "@jupyter-widgets/base",
            "_model_module_version": "1.2.0",
            "_model_name": "LayoutModel",
            "_view_count": null,
            "_view_module": "@jupyter-widgets/base",
            "_view_module_version": "1.2.0",
            "_view_name": "LayoutView",
            "align_content": null,
            "align_items": null,
            "align_self": null,
            "border": null,
            "bottom": null,
            "display": null,
            "flex": null,
            "flex_flow": null,
            "grid_area": null,
            "grid_auto_columns": null,
            "grid_auto_flow": null,
            "grid_auto_rows": null,
            "grid_column": null,
            "grid_gap": null,
            "grid_row": null,
            "grid_template_areas": null,
            "grid_template_columns": null,
            "grid_template_rows": null,
            "height": null,
            "justify_content": null,
            "justify_items": null,
            "left": null,
            "margin": null,
            "max_height": null,
            "max_width": null,
            "min_height": null,
            "min_width": null,
            "object_fit": null,
            "object_position": null,
            "order": null,
            "overflow": null,
            "overflow_x": null,
            "overflow_y": null,
            "padding": null,
            "right": null,
            "top": null,
            "visibility": null,
            "width": null
          }
        },
        "a70ac1a2367f498d911846819debde37": {
          "model_module": "@jupyter-widgets/controls",
          "model_name": "DescriptionStyleModel",
          "model_module_version": "1.5.0",
          "state": {
            "_model_module": "@jupyter-widgets/controls",
            "_model_module_version": "1.5.0",
            "_model_name": "DescriptionStyleModel",
            "_view_count": null,
            "_view_module": "@jupyter-widgets/base",
            "_view_module_version": "1.2.0",
            "_view_name": "StyleView",
            "description_width": ""
          }
        },
        "0c9435e1ab014e3594849a83fde3c109": {
          "model_module": "@jupyter-widgets/controls",
          "model_name": "HBoxModel",
          "model_module_version": "1.5.0",
          "state": {
            "_dom_classes": [],
            "_model_module": "@jupyter-widgets/controls",
            "_model_module_version": "1.5.0",
            "_model_name": "HBoxModel",
            "_view_count": null,
            "_view_module": "@jupyter-widgets/controls",
            "_view_module_version": "1.5.0",
            "_view_name": "HBoxView",
            "box_style": "",
            "children": [
              "IPY_MODEL_f6f08a4349b342a68b1d338dcd616ab3",
              "IPY_MODEL_a717381bcade41aba9c7a639a5ba0131",
              "IPY_MODEL_b81028daee9e48e187d28818ab9d244b"
            ],
            "layout": "IPY_MODEL_8f3ca15e11fd4b0ba83a90b9bf426b52"
          }
        },
        "f6f08a4349b342a68b1d338dcd616ab3": {
          "model_module": "@jupyter-widgets/controls",
          "model_name": "HTMLModel",
          "model_module_version": "1.5.0",
          "state": {
            "_dom_classes": [],
            "_model_module": "@jupyter-widgets/controls",
            "_model_module_version": "1.5.0",
            "_model_name": "HTMLModel",
            "_view_count": null,
            "_view_module": "@jupyter-widgets/controls",
            "_view_module_version": "1.5.0",
            "_view_name": "HTMLView",
            "description": "",
            "description_tooltip": null,
            "layout": "IPY_MODEL_63affec115fb466288ea6a6f35b84d42",
            "placeholder": "​",
            "style": "IPY_MODEL_d2e54b24eaa04f1bacd4b4e4aaa187ed",
            "value": "100%"
          }
        },
        "a717381bcade41aba9c7a639a5ba0131": {
          "model_module": "@jupyter-widgets/controls",
          "model_name": "FloatProgressModel",
          "model_module_version": "1.5.0",
          "state": {
            "_dom_classes": [],
            "_model_module": "@jupyter-widgets/controls",
            "_model_module_version": "1.5.0",
            "_model_name": "FloatProgressModel",
            "_view_count": null,
            "_view_module": "@jupyter-widgets/controls",
            "_view_module_version": "1.5.0",
            "_view_name": "ProgressView",
            "bar_style": "success",
            "description": "",
            "description_tooltip": null,
            "layout": "IPY_MODEL_290a0f6e8953430c8f719047d7a8cbcc",
            "max": 144,
            "min": 0,
            "orientation": "horizontal",
            "style": "IPY_MODEL_309c74083b30485d811b7608dee97bd4",
            "value": 144
          }
        },
        "b81028daee9e48e187d28818ab9d244b": {
          "model_module": "@jupyter-widgets/controls",
          "model_name": "HTMLModel",
          "model_module_version": "1.5.0",
          "state": {
            "_dom_classes": [],
            "_model_module": "@jupyter-widgets/controls",
            "_model_module_version": "1.5.0",
            "_model_name": "HTMLModel",
            "_view_count": null,
            "_view_module": "@jupyter-widgets/controls",
            "_view_module_version": "1.5.0",
            "_view_name": "HTMLView",
            "description": "",
            "description_tooltip": null,
            "layout": "IPY_MODEL_ccc9a737f9954e50b4221e5351c8facc",
            "placeholder": "​",
            "style": "IPY_MODEL_8c24ac9a77e242d8b647a4fb0f80f391",
            "value": " 144/144 [01:58&lt;00:00,  1.31it/s]"
          }
        },
        "8f3ca15e11fd4b0ba83a90b9bf426b52": {
          "model_module": "@jupyter-widgets/base",
          "model_name": "LayoutModel",
          "model_module_version": "1.2.0",
          "state": {
            "_model_module": "@jupyter-widgets/base",
            "_model_module_version": "1.2.0",
            "_model_name": "LayoutModel",
            "_view_count": null,
            "_view_module": "@jupyter-widgets/base",
            "_view_module_version": "1.2.0",
            "_view_name": "LayoutView",
            "align_content": null,
            "align_items": null,
            "align_self": null,
            "border": null,
            "bottom": null,
            "display": null,
            "flex": null,
            "flex_flow": null,
            "grid_area": null,
            "grid_auto_columns": null,
            "grid_auto_flow": null,
            "grid_auto_rows": null,
            "grid_column": null,
            "grid_gap": null,
            "grid_row": null,
            "grid_template_areas": null,
            "grid_template_columns": null,
            "grid_template_rows": null,
            "height": null,
            "justify_content": null,
            "justify_items": null,
            "left": null,
            "margin": null,
            "max_height": null,
            "max_width": null,
            "min_height": null,
            "min_width": null,
            "object_fit": null,
            "object_position": null,
            "order": null,
            "overflow": null,
            "overflow_x": null,
            "overflow_y": null,
            "padding": null,
            "right": null,
            "top": null,
            "visibility": null,
            "width": null
          }
        },
        "63affec115fb466288ea6a6f35b84d42": {
          "model_module": "@jupyter-widgets/base",
          "model_name": "LayoutModel",
          "model_module_version": "1.2.0",
          "state": {
            "_model_module": "@jupyter-widgets/base",
            "_model_module_version": "1.2.0",
            "_model_name": "LayoutModel",
            "_view_count": null,
            "_view_module": "@jupyter-widgets/base",
            "_view_module_version": "1.2.0",
            "_view_name": "LayoutView",
            "align_content": null,
            "align_items": null,
            "align_self": null,
            "border": null,
            "bottom": null,
            "display": null,
            "flex": null,
            "flex_flow": null,
            "grid_area": null,
            "grid_auto_columns": null,
            "grid_auto_flow": null,
            "grid_auto_rows": null,
            "grid_column": null,
            "grid_gap": null,
            "grid_row": null,
            "grid_template_areas": null,
            "grid_template_columns": null,
            "grid_template_rows": null,
            "height": null,
            "justify_content": null,
            "justify_items": null,
            "left": null,
            "margin": null,
            "max_height": null,
            "max_width": null,
            "min_height": null,
            "min_width": null,
            "object_fit": null,
            "object_position": null,
            "order": null,
            "overflow": null,
            "overflow_x": null,
            "overflow_y": null,
            "padding": null,
            "right": null,
            "top": null,
            "visibility": null,
            "width": null
          }
        },
        "d2e54b24eaa04f1bacd4b4e4aaa187ed": {
          "model_module": "@jupyter-widgets/controls",
          "model_name": "DescriptionStyleModel",
          "model_module_version": "1.5.0",
          "state": {
            "_model_module": "@jupyter-widgets/controls",
            "_model_module_version": "1.5.0",
            "_model_name": "DescriptionStyleModel",
            "_view_count": null,
            "_view_module": "@jupyter-widgets/base",
            "_view_module_version": "1.2.0",
            "_view_name": "StyleView",
            "description_width": ""
          }
        },
        "290a0f6e8953430c8f719047d7a8cbcc": {
          "model_module": "@jupyter-widgets/base",
          "model_name": "LayoutModel",
          "model_module_version": "1.2.0",
          "state": {
            "_model_module": "@jupyter-widgets/base",
            "_model_module_version": "1.2.0",
            "_model_name": "LayoutModel",
            "_view_count": null,
            "_view_module": "@jupyter-widgets/base",
            "_view_module_version": "1.2.0",
            "_view_name": "LayoutView",
            "align_content": null,
            "align_items": null,
            "align_self": null,
            "border": null,
            "bottom": null,
            "display": null,
            "flex": null,
            "flex_flow": null,
            "grid_area": null,
            "grid_auto_columns": null,
            "grid_auto_flow": null,
            "grid_auto_rows": null,
            "grid_column": null,
            "grid_gap": null,
            "grid_row": null,
            "grid_template_areas": null,
            "grid_template_columns": null,
            "grid_template_rows": null,
            "height": null,
            "justify_content": null,
            "justify_items": null,
            "left": null,
            "margin": null,
            "max_height": null,
            "max_width": null,
            "min_height": null,
            "min_width": null,
            "object_fit": null,
            "object_position": null,
            "order": null,
            "overflow": null,
            "overflow_x": null,
            "overflow_y": null,
            "padding": null,
            "right": null,
            "top": null,
            "visibility": null,
            "width": null
          }
        },
        "309c74083b30485d811b7608dee97bd4": {
          "model_module": "@jupyter-widgets/controls",
          "model_name": "ProgressStyleModel",
          "model_module_version": "1.5.0",
          "state": {
            "_model_module": "@jupyter-widgets/controls",
            "_model_module_version": "1.5.0",
            "_model_name": "ProgressStyleModel",
            "_view_count": null,
            "_view_module": "@jupyter-widgets/base",
            "_view_module_version": "1.2.0",
            "_view_name": "StyleView",
            "bar_color": null,
            "description_width": ""
          }
        },
        "ccc9a737f9954e50b4221e5351c8facc": {
          "model_module": "@jupyter-widgets/base",
          "model_name": "LayoutModel",
          "model_module_version": "1.2.0",
          "state": {
            "_model_module": "@jupyter-widgets/base",
            "_model_module_version": "1.2.0",
            "_model_name": "LayoutModel",
            "_view_count": null,
            "_view_module": "@jupyter-widgets/base",
            "_view_module_version": "1.2.0",
            "_view_name": "LayoutView",
            "align_content": null,
            "align_items": null,
            "align_self": null,
            "border": null,
            "bottom": null,
            "display": null,
            "flex": null,
            "flex_flow": null,
            "grid_area": null,
            "grid_auto_columns": null,
            "grid_auto_flow": null,
            "grid_auto_rows": null,
            "grid_column": null,
            "grid_gap": null,
            "grid_row": null,
            "grid_template_areas": null,
            "grid_template_columns": null,
            "grid_template_rows": null,
            "height": null,
            "justify_content": null,
            "justify_items": null,
            "left": null,
            "margin": null,
            "max_height": null,
            "max_width": null,
            "min_height": null,
            "min_width": null,
            "object_fit": null,
            "object_position": null,
            "order": null,
            "overflow": null,
            "overflow_x": null,
            "overflow_y": null,
            "padding": null,
            "right": null,
            "top": null,
            "visibility": null,
            "width": null
          }
        },
        "8c24ac9a77e242d8b647a4fb0f80f391": {
          "model_module": "@jupyter-widgets/controls",
          "model_name": "DescriptionStyleModel",
          "model_module_version": "1.5.0",
          "state": {
            "_model_module": "@jupyter-widgets/controls",
            "_model_module_version": "1.5.0",
            "_model_name": "DescriptionStyleModel",
            "_view_count": null,
            "_view_module": "@jupyter-widgets/base",
            "_view_module_version": "1.2.0",
            "_view_name": "StyleView",
            "description_width": ""
          }
        },
        "7613039bec4045c2a6f0a303d156f77a": {
          "model_module": "@jupyter-widgets/controls",
          "model_name": "HBoxModel",
          "model_module_version": "1.5.0",
          "state": {
            "_dom_classes": [],
            "_model_module": "@jupyter-widgets/controls",
            "_model_module_version": "1.5.0",
            "_model_name": "HBoxModel",
            "_view_count": null,
            "_view_module": "@jupyter-widgets/controls",
            "_view_module_version": "1.5.0",
            "_view_name": "HBoxView",
            "box_style": "",
            "children": [
              "IPY_MODEL_be028007f3cf479ab3199f8466f39aa8",
              "IPY_MODEL_6a78c415087d423aabc9cb4d7d92f547",
              "IPY_MODEL_63ba38f1545146348ffc0ee0e4af53ed"
            ],
            "layout": "IPY_MODEL_8469124e65604531b4744d8e72645b3d"
          }
        },
        "be028007f3cf479ab3199f8466f39aa8": {
          "model_module": "@jupyter-widgets/controls",
          "model_name": "HTMLModel",
          "model_module_version": "1.5.0",
          "state": {
            "_dom_classes": [],
            "_model_module": "@jupyter-widgets/controls",
            "_model_module_version": "1.5.0",
            "_model_name": "HTMLModel",
            "_view_count": null,
            "_view_module": "@jupyter-widgets/controls",
            "_view_module_version": "1.5.0",
            "_view_name": "HTMLView",
            "description": "",
            "description_tooltip": null,
            "layout": "IPY_MODEL_6eb56391a29c421e9bca95bec69d796d",
            "placeholder": "​",
            "style": "IPY_MODEL_e6ebaea007bb4523956e70bff92ff141",
            "value": "100%"
          }
        },
        "6a78c415087d423aabc9cb4d7d92f547": {
          "model_module": "@jupyter-widgets/controls",
          "model_name": "FloatProgressModel",
          "model_module_version": "1.5.0",
          "state": {
            "_dom_classes": [],
            "_model_module": "@jupyter-widgets/controls",
            "_model_module_version": "1.5.0",
            "_model_name": "FloatProgressModel",
            "_view_count": null,
            "_view_module": "@jupyter-widgets/controls",
            "_view_module_version": "1.5.0",
            "_view_name": "ProgressView",
            "bar_style": "success",
            "description": "",
            "description_tooltip": null,
            "layout": "IPY_MODEL_556426c435b944a88854ea5b7502f2fe",
            "max": 144,
            "min": 0,
            "orientation": "horizontal",
            "style": "IPY_MODEL_834c82d73e634fbe9e0a4cb0a913e3fc",
            "value": 144
          }
        },
        "63ba38f1545146348ffc0ee0e4af53ed": {
          "model_module": "@jupyter-widgets/controls",
          "model_name": "HTMLModel",
          "model_module_version": "1.5.0",
          "state": {
            "_dom_classes": [],
            "_model_module": "@jupyter-widgets/controls",
            "_model_module_version": "1.5.0",
            "_model_name": "HTMLModel",
            "_view_count": null,
            "_view_module": "@jupyter-widgets/controls",
            "_view_module_version": "1.5.0",
            "_view_name": "HTMLView",
            "description": "",
            "description_tooltip": null,
            "layout": "IPY_MODEL_15974469427e461ebdd4b0d61f404953",
            "placeholder": "​",
            "style": "IPY_MODEL_65345d5a227f400cb289bfd50d66b832",
            "value": " 144/144 [01:58&lt;00:00,  1.13it/s]"
          }
        },
        "8469124e65604531b4744d8e72645b3d": {
          "model_module": "@jupyter-widgets/base",
          "model_name": "LayoutModel",
          "model_module_version": "1.2.0",
          "state": {
            "_model_module": "@jupyter-widgets/base",
            "_model_module_version": "1.2.0",
            "_model_name": "LayoutModel",
            "_view_count": null,
            "_view_module": "@jupyter-widgets/base",
            "_view_module_version": "1.2.0",
            "_view_name": "LayoutView",
            "align_content": null,
            "align_items": null,
            "align_self": null,
            "border": null,
            "bottom": null,
            "display": null,
            "flex": null,
            "flex_flow": null,
            "grid_area": null,
            "grid_auto_columns": null,
            "grid_auto_flow": null,
            "grid_auto_rows": null,
            "grid_column": null,
            "grid_gap": null,
            "grid_row": null,
            "grid_template_areas": null,
            "grid_template_columns": null,
            "grid_template_rows": null,
            "height": null,
            "justify_content": null,
            "justify_items": null,
            "left": null,
            "margin": null,
            "max_height": null,
            "max_width": null,
            "min_height": null,
            "min_width": null,
            "object_fit": null,
            "object_position": null,
            "order": null,
            "overflow": null,
            "overflow_x": null,
            "overflow_y": null,
            "padding": null,
            "right": null,
            "top": null,
            "visibility": null,
            "width": null
          }
        },
        "6eb56391a29c421e9bca95bec69d796d": {
          "model_module": "@jupyter-widgets/base",
          "model_name": "LayoutModel",
          "model_module_version": "1.2.0",
          "state": {
            "_model_module": "@jupyter-widgets/base",
            "_model_module_version": "1.2.0",
            "_model_name": "LayoutModel",
            "_view_count": null,
            "_view_module": "@jupyter-widgets/base",
            "_view_module_version": "1.2.0",
            "_view_name": "LayoutView",
            "align_content": null,
            "align_items": null,
            "align_self": null,
            "border": null,
            "bottom": null,
            "display": null,
            "flex": null,
            "flex_flow": null,
            "grid_area": null,
            "grid_auto_columns": null,
            "grid_auto_flow": null,
            "grid_auto_rows": null,
            "grid_column": null,
            "grid_gap": null,
            "grid_row": null,
            "grid_template_areas": null,
            "grid_template_columns": null,
            "grid_template_rows": null,
            "height": null,
            "justify_content": null,
            "justify_items": null,
            "left": null,
            "margin": null,
            "max_height": null,
            "max_width": null,
            "min_height": null,
            "min_width": null,
            "object_fit": null,
            "object_position": null,
            "order": null,
            "overflow": null,
            "overflow_x": null,
            "overflow_y": null,
            "padding": null,
            "right": null,
            "top": null,
            "visibility": null,
            "width": null
          }
        },
        "e6ebaea007bb4523956e70bff92ff141": {
          "model_module": "@jupyter-widgets/controls",
          "model_name": "DescriptionStyleModel",
          "model_module_version": "1.5.0",
          "state": {
            "_model_module": "@jupyter-widgets/controls",
            "_model_module_version": "1.5.0",
            "_model_name": "DescriptionStyleModel",
            "_view_count": null,
            "_view_module": "@jupyter-widgets/base",
            "_view_module_version": "1.2.0",
            "_view_name": "StyleView",
            "description_width": ""
          }
        },
        "556426c435b944a88854ea5b7502f2fe": {
          "model_module": "@jupyter-widgets/base",
          "model_name": "LayoutModel",
          "model_module_version": "1.2.0",
          "state": {
            "_model_module": "@jupyter-widgets/base",
            "_model_module_version": "1.2.0",
            "_model_name": "LayoutModel",
            "_view_count": null,
            "_view_module": "@jupyter-widgets/base",
            "_view_module_version": "1.2.0",
            "_view_name": "LayoutView",
            "align_content": null,
            "align_items": null,
            "align_self": null,
            "border": null,
            "bottom": null,
            "display": null,
            "flex": null,
            "flex_flow": null,
            "grid_area": null,
            "grid_auto_columns": null,
            "grid_auto_flow": null,
            "grid_auto_rows": null,
            "grid_column": null,
            "grid_gap": null,
            "grid_row": null,
            "grid_template_areas": null,
            "grid_template_columns": null,
            "grid_template_rows": null,
            "height": null,
            "justify_content": null,
            "justify_items": null,
            "left": null,
            "margin": null,
            "max_height": null,
            "max_width": null,
            "min_height": null,
            "min_width": null,
            "object_fit": null,
            "object_position": null,
            "order": null,
            "overflow": null,
            "overflow_x": null,
            "overflow_y": null,
            "padding": null,
            "right": null,
            "top": null,
            "visibility": null,
            "width": null
          }
        },
        "834c82d73e634fbe9e0a4cb0a913e3fc": {
          "model_module": "@jupyter-widgets/controls",
          "model_name": "ProgressStyleModel",
          "model_module_version": "1.5.0",
          "state": {
            "_model_module": "@jupyter-widgets/controls",
            "_model_module_version": "1.5.0",
            "_model_name": "ProgressStyleModel",
            "_view_count": null,
            "_view_module": "@jupyter-widgets/base",
            "_view_module_version": "1.2.0",
            "_view_name": "StyleView",
            "bar_color": null,
            "description_width": ""
          }
        },
        "15974469427e461ebdd4b0d61f404953": {
          "model_module": "@jupyter-widgets/base",
          "model_name": "LayoutModel",
          "model_module_version": "1.2.0",
          "state": {
            "_model_module": "@jupyter-widgets/base",
            "_model_module_version": "1.2.0",
            "_model_name": "LayoutModel",
            "_view_count": null,
            "_view_module": "@jupyter-widgets/base",
            "_view_module_version": "1.2.0",
            "_view_name": "LayoutView",
            "align_content": null,
            "align_items": null,
            "align_self": null,
            "border": null,
            "bottom": null,
            "display": null,
            "flex": null,
            "flex_flow": null,
            "grid_area": null,
            "grid_auto_columns": null,
            "grid_auto_flow": null,
            "grid_auto_rows": null,
            "grid_column": null,
            "grid_gap": null,
            "grid_row": null,
            "grid_template_areas": null,
            "grid_template_columns": null,
            "grid_template_rows": null,
            "height": null,
            "justify_content": null,
            "justify_items": null,
            "left": null,
            "margin": null,
            "max_height": null,
            "max_width": null,
            "min_height": null,
            "min_width": null,
            "object_fit": null,
            "object_position": null,
            "order": null,
            "overflow": null,
            "overflow_x": null,
            "overflow_y": null,
            "padding": null,
            "right": null,
            "top": null,
            "visibility": null,
            "width": null
          }
        },
        "65345d5a227f400cb289bfd50d66b832": {
          "model_module": "@jupyter-widgets/controls",
          "model_name": "DescriptionStyleModel",
          "model_module_version": "1.5.0",
          "state": {
            "_model_module": "@jupyter-widgets/controls",
            "_model_module_version": "1.5.0",
            "_model_name": "DescriptionStyleModel",
            "_view_count": null,
            "_view_module": "@jupyter-widgets/base",
            "_view_module_version": "1.2.0",
            "_view_name": "StyleView",
            "description_width": ""
          }
        },
        "a237044cade442cf966d1157e75d0e8a": {
          "model_module": "@jupyter-widgets/controls",
          "model_name": "HBoxModel",
          "model_module_version": "1.5.0",
          "state": {
            "_dom_classes": [],
            "_model_module": "@jupyter-widgets/controls",
            "_model_module_version": "1.5.0",
            "_model_name": "HBoxModel",
            "_view_count": null,
            "_view_module": "@jupyter-widgets/controls",
            "_view_module_version": "1.5.0",
            "_view_name": "HBoxView",
            "box_style": "",
            "children": [
              "IPY_MODEL_be41466dd7f5451b8174d09e9a887d27",
              "IPY_MODEL_e7d88624d9804c5b862fbcf1a09a4cab",
              "IPY_MODEL_060e5bdc481f49e5af4b9582da515331"
            ],
            "layout": "IPY_MODEL_ab8d55094517449b96bdc42e925a4694"
          }
        },
        "be41466dd7f5451b8174d09e9a887d27": {
          "model_module": "@jupyter-widgets/controls",
          "model_name": "HTMLModel",
          "model_module_version": "1.5.0",
          "state": {
            "_dom_classes": [],
            "_model_module": "@jupyter-widgets/controls",
            "_model_module_version": "1.5.0",
            "_model_name": "HTMLModel",
            "_view_count": null,
            "_view_module": "@jupyter-widgets/controls",
            "_view_module_version": "1.5.0",
            "_view_name": "HTMLView",
            "description": "",
            "description_tooltip": null,
            "layout": "IPY_MODEL_8a7dc388609e461bb30002db6c09fc6e",
            "placeholder": "​",
            "style": "IPY_MODEL_c1cee87503734397be172447905b8f2e",
            "value": "100%"
          }
        },
        "e7d88624d9804c5b862fbcf1a09a4cab": {
          "model_module": "@jupyter-widgets/controls",
          "model_name": "FloatProgressModel",
          "model_module_version": "1.5.0",
          "state": {
            "_dom_classes": [],
            "_model_module": "@jupyter-widgets/controls",
            "_model_module_version": "1.5.0",
            "_model_name": "FloatProgressModel",
            "_view_count": null,
            "_view_module": "@jupyter-widgets/controls",
            "_view_module_version": "1.5.0",
            "_view_name": "ProgressView",
            "bar_style": "success",
            "description": "",
            "description_tooltip": null,
            "layout": "IPY_MODEL_64d5cbea7c684b53a91a45abe2d59c79",
            "max": 144,
            "min": 0,
            "orientation": "horizontal",
            "style": "IPY_MODEL_17b98134b1184198a69b5f5a08a0f705",
            "value": 144
          }
        },
        "060e5bdc481f49e5af4b9582da515331": {
          "model_module": "@jupyter-widgets/controls",
          "model_name": "HTMLModel",
          "model_module_version": "1.5.0",
          "state": {
            "_dom_classes": [],
            "_model_module": "@jupyter-widgets/controls",
            "_model_module_version": "1.5.0",
            "_model_name": "HTMLModel",
            "_view_count": null,
            "_view_module": "@jupyter-widgets/controls",
            "_view_module_version": "1.5.0",
            "_view_name": "HTMLView",
            "description": "",
            "description_tooltip": null,
            "layout": "IPY_MODEL_0cd16f8271344d5f934a58623b8d3a1b",
            "placeholder": "​",
            "style": "IPY_MODEL_aa928d40e0534752a7215b0b9b72e46b",
            "value": " 144/144 [01:58&lt;00:00,  1.32it/s]"
          }
        },
        "ab8d55094517449b96bdc42e925a4694": {
          "model_module": "@jupyter-widgets/base",
          "model_name": "LayoutModel",
          "model_module_version": "1.2.0",
          "state": {
            "_model_module": "@jupyter-widgets/base",
            "_model_module_version": "1.2.0",
            "_model_name": "LayoutModel",
            "_view_count": null,
            "_view_module": "@jupyter-widgets/base",
            "_view_module_version": "1.2.0",
            "_view_name": "LayoutView",
            "align_content": null,
            "align_items": null,
            "align_self": null,
            "border": null,
            "bottom": null,
            "display": null,
            "flex": null,
            "flex_flow": null,
            "grid_area": null,
            "grid_auto_columns": null,
            "grid_auto_flow": null,
            "grid_auto_rows": null,
            "grid_column": null,
            "grid_gap": null,
            "grid_row": null,
            "grid_template_areas": null,
            "grid_template_columns": null,
            "grid_template_rows": null,
            "height": null,
            "justify_content": null,
            "justify_items": null,
            "left": null,
            "margin": null,
            "max_height": null,
            "max_width": null,
            "min_height": null,
            "min_width": null,
            "object_fit": null,
            "object_position": null,
            "order": null,
            "overflow": null,
            "overflow_x": null,
            "overflow_y": null,
            "padding": null,
            "right": null,
            "top": null,
            "visibility": null,
            "width": null
          }
        },
        "8a7dc388609e461bb30002db6c09fc6e": {
          "model_module": "@jupyter-widgets/base",
          "model_name": "LayoutModel",
          "model_module_version": "1.2.0",
          "state": {
            "_model_module": "@jupyter-widgets/base",
            "_model_module_version": "1.2.0",
            "_model_name": "LayoutModel",
            "_view_count": null,
            "_view_module": "@jupyter-widgets/base",
            "_view_module_version": "1.2.0",
            "_view_name": "LayoutView",
            "align_content": null,
            "align_items": null,
            "align_self": null,
            "border": null,
            "bottom": null,
            "display": null,
            "flex": null,
            "flex_flow": null,
            "grid_area": null,
            "grid_auto_columns": null,
            "grid_auto_flow": null,
            "grid_auto_rows": null,
            "grid_column": null,
            "grid_gap": null,
            "grid_row": null,
            "grid_template_areas": null,
            "grid_template_columns": null,
            "grid_template_rows": null,
            "height": null,
            "justify_content": null,
            "justify_items": null,
            "left": null,
            "margin": null,
            "max_height": null,
            "max_width": null,
            "min_height": null,
            "min_width": null,
            "object_fit": null,
            "object_position": null,
            "order": null,
            "overflow": null,
            "overflow_x": null,
            "overflow_y": null,
            "padding": null,
            "right": null,
            "top": null,
            "visibility": null,
            "width": null
          }
        },
        "c1cee87503734397be172447905b8f2e": {
          "model_module": "@jupyter-widgets/controls",
          "model_name": "DescriptionStyleModel",
          "model_module_version": "1.5.0",
          "state": {
            "_model_module": "@jupyter-widgets/controls",
            "_model_module_version": "1.5.0",
            "_model_name": "DescriptionStyleModel",
            "_view_count": null,
            "_view_module": "@jupyter-widgets/base",
            "_view_module_version": "1.2.0",
            "_view_name": "StyleView",
            "description_width": ""
          }
        },
        "64d5cbea7c684b53a91a45abe2d59c79": {
          "model_module": "@jupyter-widgets/base",
          "model_name": "LayoutModel",
          "model_module_version": "1.2.0",
          "state": {
            "_model_module": "@jupyter-widgets/base",
            "_model_module_version": "1.2.0",
            "_model_name": "LayoutModel",
            "_view_count": null,
            "_view_module": "@jupyter-widgets/base",
            "_view_module_version": "1.2.0",
            "_view_name": "LayoutView",
            "align_content": null,
            "align_items": null,
            "align_self": null,
            "border": null,
            "bottom": null,
            "display": null,
            "flex": null,
            "flex_flow": null,
            "grid_area": null,
            "grid_auto_columns": null,
            "grid_auto_flow": null,
            "grid_auto_rows": null,
            "grid_column": null,
            "grid_gap": null,
            "grid_row": null,
            "grid_template_areas": null,
            "grid_template_columns": null,
            "grid_template_rows": null,
            "height": null,
            "justify_content": null,
            "justify_items": null,
            "left": null,
            "margin": null,
            "max_height": null,
            "max_width": null,
            "min_height": null,
            "min_width": null,
            "object_fit": null,
            "object_position": null,
            "order": null,
            "overflow": null,
            "overflow_x": null,
            "overflow_y": null,
            "padding": null,
            "right": null,
            "top": null,
            "visibility": null,
            "width": null
          }
        },
        "17b98134b1184198a69b5f5a08a0f705": {
          "model_module": "@jupyter-widgets/controls",
          "model_name": "ProgressStyleModel",
          "model_module_version": "1.5.0",
          "state": {
            "_model_module": "@jupyter-widgets/controls",
            "_model_module_version": "1.5.0",
            "_model_name": "ProgressStyleModel",
            "_view_count": null,
            "_view_module": "@jupyter-widgets/base",
            "_view_module_version": "1.2.0",
            "_view_name": "StyleView",
            "bar_color": null,
            "description_width": ""
          }
        },
        "0cd16f8271344d5f934a58623b8d3a1b": {
          "model_module": "@jupyter-widgets/base",
          "model_name": "LayoutModel",
          "model_module_version": "1.2.0",
          "state": {
            "_model_module": "@jupyter-widgets/base",
            "_model_module_version": "1.2.0",
            "_model_name": "LayoutModel",
            "_view_count": null,
            "_view_module": "@jupyter-widgets/base",
            "_view_module_version": "1.2.0",
            "_view_name": "LayoutView",
            "align_content": null,
            "align_items": null,
            "align_self": null,
            "border": null,
            "bottom": null,
            "display": null,
            "flex": null,
            "flex_flow": null,
            "grid_area": null,
            "grid_auto_columns": null,
            "grid_auto_flow": null,
            "grid_auto_rows": null,
            "grid_column": null,
            "grid_gap": null,
            "grid_row": null,
            "grid_template_areas": null,
            "grid_template_columns": null,
            "grid_template_rows": null,
            "height": null,
            "justify_content": null,
            "justify_items": null,
            "left": null,
            "margin": null,
            "max_height": null,
            "max_width": null,
            "min_height": null,
            "min_width": null,
            "object_fit": null,
            "object_position": null,
            "order": null,
            "overflow": null,
            "overflow_x": null,
            "overflow_y": null,
            "padding": null,
            "right": null,
            "top": null,
            "visibility": null,
            "width": null
          }
        },
        "aa928d40e0534752a7215b0b9b72e46b": {
          "model_module": "@jupyter-widgets/controls",
          "model_name": "DescriptionStyleModel",
          "model_module_version": "1.5.0",
          "state": {
            "_model_module": "@jupyter-widgets/controls",
            "_model_module_version": "1.5.0",
            "_model_name": "DescriptionStyleModel",
            "_view_count": null,
            "_view_module": "@jupyter-widgets/base",
            "_view_module_version": "1.2.0",
            "_view_name": "StyleView",
            "description_width": ""
          }
        }
      }
    }
  },
  "nbformat": 4,
  "nbformat_minor": 0
}