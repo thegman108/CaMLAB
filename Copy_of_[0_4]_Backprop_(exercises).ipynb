{
  "cells": [
    {
      "cell_type": "markdown",
      "metadata": {
        "id": "view-in-github",
        "colab_type": "text"
      },
      "source": [
        "<a href=\"https://colab.research.google.com/github/thegman108/CaMLAB/blob/main/Copy_of_%5B0_4%5D_Backprop_(exercises).ipynb\" target=\"_parent\"><img src=\"https://colab.research.google.com/assets/colab-badge.svg\" alt=\"Open In Colab\"/></a>"
      ]
    },
    {
      "cell_type": "markdown",
      "source": [
        "# [0.4] - Build Your Own Backpropagation Framework\n"
      ],
      "metadata": {
        "id": "Djt6-1COMPGt"
      }
    },
    {
      "cell_type": "markdown",
      "metadata": {
        "id": "8E2X-EcX1wih"
      },
      "source": [
        "Colab: [exercises](https://colab.research.google.com/drive/1el3ba9T6ORczG7prKzKe1iKZnR9xspYz) | [solutions](https://colab.research.google.com/drive/19fhocNzLbCmYDOsMKn9h8Ps7yTwnKNVN)\n",
        "\n",
        "ARENA 3.0 [Streamlit page](https://arena3-chapter0-fundamentals.streamlit.app/[0.4]_Backprop)\n",
        "\n",
        "Please send any problems / bugs on the `#errata` channel in the [Slack group](https://join.slack.com/t/arena-la82367/shared_invite/zt-1uvoagohe-JUv9xB7Vr143pdx1UBPrzQ), and ask any questions on the dedicated channels for this chapter of material.\n",
        "\n",
        "(Dylan: wait dang it, I forgot to save my progress b/c I was working on the official copy)\n"
      ]
    },
    {
      "cell_type": "markdown",
      "metadata": {
        "id": "8wPHw31K_-wy"
      },
      "source": [
        "<img src=\"https://raw.githubusercontent.com/callummcdougall/Fundamentals/main/images/backprop.png\" width=\"350\">\n"
      ]
    },
    {
      "cell_type": "markdown",
      "metadata": {
        "id": "F4j-sXLBAJyP"
      },
      "source": [
        "# Introduction"
      ]
    },
    {
      "cell_type": "markdown",
      "metadata": {
        "id": "-R4-VQCRAM18"
      },
      "source": [
        "Today you're going to build your very own system that can run the backpropagation algorithm in essentially the same way as PyTorch does. By the end of the day, you'll be able to train a multi-layer perceptron neural network, using your own backprop system!\n",
        "\n",
        "The main differences between the full PyTorch and our version are:\n",
        "\n",
        "* We will focus on CPU only, as all the ideas are the same on GPU.\n",
        "* We will use NumPy arrays internally instead of ATen, the C++ array type used by PyTorch. Backpropagation works independently of the array type.\n",
        "* A real `torch.Tensor` has about 700 fields and methods. We will only implement a subset that are particularly instructional and/or necessary to train the MLP.\n",
        "\n",
        "Note - for today, I'd lean a lot more towards being willing to read the solutions, and even move on from some of them if you don't fully understand them. The low-level messy implementation details for today are much less important than the high-level conceptual takeaways.\n",
        "\n",
        "Also, if you don't have enough time to finish all sections (which is understandable, because there's a *lot* of content today!), I'd focus on sections **1️⃣ Introduction to backprop** and **2️⃣ Autograd**, since conceptually these are the most important. Once you've done both of these, you should have a strong working understanding of the mechanics of backpropagation. If you've finished these sections but you're still short on time, others I'd recommend taking a closer look at are the backwards functions for matrix multiplication (at the end of section 3) and the `NoGrad` context manager (near the end of section 4).\n"
      ]
    },
    {
      "cell_type": "markdown",
      "metadata": {
        "id": "m0yObcufCZgX"
      },
      "source": [
        "## Content & Learning Objectives\n"
      ]
    },
    {
      "cell_type": "markdown",
      "metadata": {
        "id": "5to01dSnCZgX"
      },
      "source": [
        "### 1️⃣ Introduction to backprop\n",
        "\n",
        "This takes you through what a **computational graph** is, and the basics of how gradients can be backpropagated through such a graph. You'll also implement the backwards versions of some basic functions: if we have tensors `output = func(input)`, then the backward function of `func` can calculate the grad of `input` as a function of the grad of `output`.\n",
        "\n",
        "> ##### Learning Objectives\n",
        ">\n",
        "> * Understand what a computational graph is, and how it can be used to calculate gradients.\n",
        "> * Start to implement backwards versions of some basic functions.\n",
        "\n",
        "### 2️⃣ Autograd\n",
        "\n",
        "This section goes into more detail on the backpropagation methodology. In order to find the `grad` of each tensor in a computational graph, we first have to perform a **topological sort** of the tensors in the graph, so that each time we try to calculate `tensor.grad`, we've already computed all the other gradients which are used in this calculation. We end this section by writing a `backprop` function, which works just like the `tensor.backward()` method you're already used to in PyTorch.\n",
        "\n",
        "> ##### Learning Objectives\n",
        ">\n",
        "> * Perform a topological sort of a computational graph (and understand why this is important).\n",
        "> * Implement a the `backprop` function, to calculate and store gradients for all tensors in a computational graph.\n",
        "\n",
        "### 3️⃣ More forward & backward functions\n",
        "\n",
        "Now that we've established the basics, this section allows you to add more forward and backward functions, extending the set of functions we can use in our computational graph.\n",
        "\n",
        "> ##### Learning Objectives\n",
        ">\n",
        "> * Implement more forward and backward functions, including for\n",
        ">   * Indexing\n",
        ">   * Non-differentiable functions\n",
        ">   * Matrix multiplication\n",
        "\n",
        "### 4️⃣ Putting everything together\n",
        "\n",
        "In this section, we build your own equivalents of `torch.nn` features like `nn.Parameter`, `nn.Module`, and `nn.Linear`. We can then use these to build our own neural network to classify MINST data.\n",
        "\n",
        "This completes the chain which starts at basic numpy arrays, and ends with us being able to build essentially any neural network architecture we want!\n",
        "\n",
        "> ##### Learning Objectives\n",
        ">\n",
        "> * Complete the process of building up a neural network from scratch and training it via gradient descent.\n",
        "\n",
        "### 5️⃣ Bonus\n",
        "\n",
        "A few bonus exercises are suggested, for pushing your understanding of backpropagation further.\n"
      ]
    },
    {
      "cell_type": "markdown",
      "metadata": {
        "id": "HmahvJDAAPg3"
      },
      "source": [
        "## Setup (don't read, just run!)\n"
      ]
    },
    {
      "cell_type": "code",
      "execution_count": null,
      "metadata": {
        "id": "uxDZrelYBDFh",
        "colab": {
          "base_uri": "https://localhost:8080/"
        },
        "outputId": "18aaa32a-d983-4729-e937-e2bc9ba68e34"
      },
      "outputs": [
        {
          "output_type": "stream",
          "name": "stdout",
          "text": [
            "Imports & installations complete!\n"
          ]
        }
      ],
      "source": [
        "try:\n",
        "    import google.colab\n",
        "    IN_COLAB = True\n",
        "except:\n",
        "    IN_COLAB = False\n",
        "\n",
        "if IN_COLAB:\n",
        "    # Install packages\n",
        "    %pip install einops\n",
        "    %pip install jaxtyping\n",
        "\n",
        "    # Code to make sure output widgets display\n",
        "    from google.colab import output\n",
        "    output.enable_custom_widget_manager()\n",
        "\n",
        "    # Code to download the necessary files (e.g. solutions, test funcs)\n",
        "    import os, sys\n",
        "    if not os.path.exists(\"chapter0_fundamentals\"):\n",
        "        !wget https://github.com/callummcdougall/ARENA_3.0/archive/refs/heads/main.zip\n",
        "        !unzip /content/main.zip 'ARENA_3.0-main/chapter0_fundamentals/exercises/*'\n",
        "        os.remove(\"/content/main.zip\")\n",
        "        os.rename(\"ARENA_3.0-main/chapter0_fundamentals\", \"chapter0_fundamentals\")\n",
        "        os.rmdir(\"ARENA_3.0-main\")\n",
        "        sys.path.insert(0, \"chapter0_fundamentals/exercises\")\n",
        "\n",
        "    # Clear output\n",
        "    from IPython.display import clear_output\n",
        "    clear_output()\n",
        "    print(\"Imports & installations complete!\")\n",
        "\n",
        "else:\n",
        "    from IPython import get_ipython\n",
        "    ipython = get_ipython()\n",
        "    ipython.run_line_magic(\"load_ext\", \"autoreload\")\n",
        "    ipython.run_line_magic(\"autoreload\", \"2\")"
      ]
    },
    {
      "cell_type": "code",
      "execution_count": null,
      "metadata": {
        "id": "umOykaWHAZ2F"
      },
      "outputs": [],
      "source": [
        "import os\n",
        "import sys\n",
        "import re\n",
        "import time\n",
        "import torch as t\n",
        "import numpy as np\n",
        "from pathlib import Path\n",
        "from collections import defaultdict\n",
        "from dataclasses import dataclass\n",
        "from typing import Any, Callable, Iterator, Iterable, Optional, Union, Dict, List, Tuple\n",
        "from torch.utils.data import DataLoader\n",
        "from tqdm import tqdm\n",
        "\n",
        "Arr = np.ndarray\n",
        "grad_tracking_enabled = True\n",
        "\n",
        "# Get file paths to this set of exercises\n",
        "exercises_dir = Path(\"chapter0_fundamentals/exercises\")\n",
        "section_dir = exercises_dir / \"part4_backprop\"\n",
        "\n",
        "import part4_backprop.tests as tests\n",
        "from part4_backprop.utils import visualize, get_mnist\n",
        "from plotly_utils import line\n",
        "\n",
        "MAIN = __name__ == \"__main__\""
      ]
    },
    {
      "cell_type": "markdown",
      "source": [
        "<details>\n",
        "<summary>Help - I get a NumPy-related error</summary>\n",
        "\n",
        "This is an annoying colab-related issue which I haven't been able to find a satisfying fix for. If you restart runtime (but don't delete runtime), and run just the imports cell above again (but not the `%pip install` cell), the problem should go away.\n",
        "</details>\n"
      ],
      "metadata": {
        "id": "QA_G052YC1Qp"
      }
    },
    {
      "cell_type": "markdown",
      "metadata": {
        "id": "iNMun3lGAcML"
      },
      "source": [
        "# 1️⃣ Introduction to backprop\n"
      ]
    },
    {
      "cell_type": "markdown",
      "metadata": {
        "id": "Lq51XD1PCZgZ"
      },
      "source": [
        "> ## Learning Objectives\n",
        ">\n",
        "> * Understand what a computational graph is, and how it can be used to calculate gradients.\n",
        "> * Start to implement backwards versions of some basic functions.\n"
      ]
    },
    {
      "cell_type": "markdown",
      "metadata": {
        "id": "URnJlKmFAfIU"
      },
      "source": [
        "## Reading\n",
        "\n",
        "* [Calculus on Computational Graphs: Backpropagation (Chris Olah)](https://colah.github.io/posts/2015-08-Backprop/)\n"
      ]
    },
    {
      "cell_type": "markdown",
      "metadata": {
        "id": "waCASVSFBQ_7"
      },
      "source": [
        "## Computing Gradients with Backpropagation\n",
        "\n",
        "This section will briefly review the backpropagation algorithm, but focus mainly on the concrete implementation in software.\n",
        "\n",
        "To train a neural network, we want to know how the loss would change if we slightly adjust one of the learnable parameters.\n",
        "\n",
        "One obvious and straightforward way to do this would be just to add a small value  to the parameter, and run the forward pass again. This is called finite differences, and the main issue is we need to run a forward pass for every single parameter that we want to adjust. This method is infeasible for large networks, but it's important to know as a way of sanity checking other methods.\n",
        "\n",
        "A second obvious way is to write out the function for the entire network, and then symbolically take the gradient to obtain a symbolic expression for the gradient. This also works and is another thing to check against, but the expression gets quite complicated.\n",
        "\n",
        "Suppose that you have some **computational graph**, and you want to determine the derivative of the some scalar loss L with respect to NumPy arrays a, b, and c:\n"
      ]
    },
    {
      "cell_type": "markdown",
      "metadata": {
        "id": "BZbsGHXBB5We"
      },
      "source": [
        "<img src=\"https://raw.githubusercontent.com/callummcdougall/Fundamentals/main/images/abc_de_L.png\" width=\"400\">\n"
      ]
    },
    {
      "cell_type": "markdown",
      "metadata": {
        "id": "3cWWg9_-B-x1"
      },
      "source": [
        "This graph corresponds to the following Python:\n",
        "\n",
        "```python\n",
        "d = a * b\n",
        "e = b + c\n",
        "L = d + e\n",
        "```\n",
        "\n",
        "The goal of our system is that users can write ordinary looking Python code like this and have all the book-keeping needed to perform backpropagation happen behind the scenes. To do this, we're going to wrap each array and each function in special objects from our library that do the usual thing plus build up this graph structure that we need.\n"
      ]
    },
    {
      "cell_type": "markdown",
      "metadata": {
        "id": "JRojmtVBCAWP"
      },
      "source": [
        "### Backward Functions\n",
        "\n",
        "We've drawn our computation graph from left to right and the arrows pointing to the right, so that in the forward pass, boxes to the right depend on boxes to the left. In the backwards pass, the opposite is true: the gradient of boxes on the left depends on the gradient of boxes on the right.\n",
        "\n",
        "If we want to compute the derivative of $L$ wrt all other variables (as was described in the reading), we should traverse the graph from right to left. Each time we encounter an instance of function application, we can use the chain rule from calculus to proceed one step further to the left. For example, if we have $d = a \\times b$, then:\n",
        "\n",
        "$$\n",
        "\\frac{dL}{da} = \\frac{dL}{dd}\\times \\frac{dd}{da} = \\frac{dL}{dd}\\times b\n",
        "$$\n",
        "\n",
        "Suppose we are working from right to left, trying to calculate $\\frac{dL}{da}$. If we already know the values of the variables $a$, $b$ and $d$, as well as the value of $\\frac{dL}{dd}$, then we can use the following function to find $\\frac{dL}{da}$:\n",
        "\n",
        "$$\n",
        "F(a, b, d, \\frac{\\partial L}{\\partial d}) = \\frac{\\partial L}{\\partial d}\\cdot b\n",
        "$$\n",
        "\n",
        "and we can do something similar when trying to calculate $\\frac{dL}{db}$.\n",
        "\n",
        "In other words, we can take the **\"forward function\"** $(a, b) \\to a \\cdot b$, and for each of its parameters, we can define an associated **\"backwards function\"** which tells us how to compute the gradient wrt this argument using only known quantities as inputs.\n",
        "\n",
        "Ignoring issues of unbroadcasting (which we'll cover later), we could write the backward with respect to the first argument as:\n",
        "\n",
        "```python\n",
        "def multiply_back(grad_out, out, a, b):\n",
        "    '''\n",
        "    Inputs:\n",
        "        grad_out = dL/d(out)\n",
        "        out = a * b\n",
        "\n",
        "    Returns:\n",
        "        dL/da\n",
        "    '''\n",
        "    return grad_out * b\n",
        "```\n",
        "\n",
        "where `grad_out` is the gradient of the output of the function with respect to the loss (i.e. $\\frac{dL}{dd}$), `out` is the output of the function (i.e. $d$), and `a` and `b` are our inputs.\n"
      ]
    },
    {
      "cell_type": "markdown",
      "metadata": {
        "id": "Rx6uDQc9CA1R"
      },
      "source": [
        "### Topological Ordering\n",
        "\n",
        "When we're actually doing backprop, how do we guarantee that we'll always know the value of our backwards functions' inputs? For instance, in the example above we couldn't have computed $\\frac{dL}{da}$ without first knowing $\\frac{dL}{dd}$.\n",
        "\n",
        "The answer is that we sort all our nodes using an algorithm called [topological sorting](https://en.wikipedia.org/wiki/Topological_sorting), and then do our computations in this order. After each computation, we store the gradients in our nodes for use in subsequent calculations.\n",
        "\n",
        "When described in terms of the diagram above, topological sort can be thought of as an ordering of nodes from right to left. Crucially, this sorting has the following property: if there is a directed path in the computational graph going from node `x` to node `y`, then `x` must follow `y` in the sorting.\n",
        "\n",
        "There are many ways of proving that a cycle-free directed graph contains a topological ordering. You can try and prove this for yourself, or click on the expander below to reveal the outline of a simple proof.\n"
      ]
    },
    {
      "cell_type": "markdown",
      "metadata": {
        "id": "pDnyoXItCCwh"
      },
      "source": [
        "<details>\n",
        "<summary>Click to reveal proof</summary>\n",
        "\n",
        "We can prove by induction on the number of nodes $N$.\n",
        "    \n",
        "If $N=1$, the problem is trivial.\n",
        "\n",
        "If $N>1$, then pick any node, and follow the arrows until you reach a node with no directed arrows going out of it. Such a node must exist, or else you would be following the arrows forever, and you'd eventually return to a node you previously visited, but this would be a cycle, which is a contradiction. Once you've found this \"root node\", you can put it first in your topological ordering, then remove it from the graph and apply the topological sort on the subgraph created by removing this node. By induction, your topological sorting algorithm on this smaller graph should return a valid ordering. If you append the root node to the start of this ordering, you have a topological ordering for the whole graph.\n",
        "</details>\n"
      ]
    },
    {
      "cell_type": "markdown",
      "metadata": {
        "id": "BqtvX0V8CHei"
      },
      "source": [
        "A quick note on some potentially confusing terminology. We will refer to the \"end node\" as the **root node**, and the \"starting nodes\" as **leaf nodes**. For instance, in the diagram at the top of the section, the left nodes `a`, `b` and `c` are the leaf nodes, and `L` is the root node. This might seem odd given it makes the leaf nodes come before the root nodes, but the reason is as follows: *when we're doing the backpropagation algorithm, we start at `L` and work our way back through the graph*. So, by our notation, we start at the root node and work our way out to the leaves.\n",
        "\n",
        "Another important piece of terminology here is **parent node**. This means the same thing as it does in most other contexts - the parents of node `x` are all the nodes `y` with connections `y -> x` (so in the diagram, `L`'s parents are `d` and `e`).\n"
      ]
    },
    {
      "cell_type": "markdown",
      "metadata": {
        "id": "Noqd8iWDCJAK"
      },
      "source": [
        "<details>\n",
        "<summary>Question - can you think of a reason it might be important for a node to store a list of all of its parent nodes?</summary>\n",
        "\n",
        "During backprop, we're moving from right to left in the diagram. If a node doesn't store its parent, then there will be no way to get access to that parent node during backprop, so we can't propagate gradients to it.\n",
        "</details>\n"
      ]
    },
    {
      "cell_type": "markdown",
      "metadata": {
        "id": "1wW0OYjSCQl_"
      },
      "source": [
        "The very first node in our topological sort will be $L$, the root node.\n"
      ]
    },
    {
      "cell_type": "markdown",
      "metadata": {
        "id": "XmTav-mFCRFl"
      },
      "source": [
        "### Backpropagation\n",
        "\n",
        "After all this setup, the backpropagation mechanism becomes pretty straightforward. We sort the nodes topologically, then we iterate over them and call each backward function exactly once in order to accumulate the gradients at each node.\n",
        "\n",
        "It's important that the grads be accumulated instead of overwritten in a case like value $b$ which has two outgoing edges, since $\\frac{dL}{db}$ will then be the sum of two terms. Since addition is commutative it doesn't matter whether we `backward()` the Mul or the Add that depend on $b$ first.\n",
        "\n",
        "During backpropagation, for each forward function in our computational graph we need to find the partial derivative of the output with respect to each of its inputs. Each partial is then multiplied by the gradient of the loss with respect to the forward functions output (`grad_out`) to find the gradient of the loss with respect to each input. We'll handle these calculations using backward functions.\n"
      ]
    },
    {
      "cell_type": "markdown",
      "metadata": {
        "id": "UPRvIoKqCT0x"
      },
      "source": [
        "## Backward function of log\n",
        "\n",
        "First, we'll write the backward function for `x -> out = log(x)`. This should be a function which, when fed the values `x, out, grad_out = dL/d(out)` returns the value of `dL/dx` just from this particular computational path.\n"
      ]
    },
    {
      "cell_type": "markdown",
      "metadata": {
        "id": "mPyqkVbMCYTU"
      },
      "source": [
        "<img src=\"https://raw.githubusercontent.com/callummcdougall/Fundamentals/main/images/x_log_out.png\" width=\"400\">\n"
      ]
    },
    {
      "cell_type": "markdown",
      "metadata": {
        "id": "pJId5MgjCZBU"
      },
      "source": [
        "Note - it might seem strange at first why we need `x` and `out` to be inputs, `out` can be calculated directly from `x`. The answer is that sometimes it is computationally cheaper to express the derivative in terms of `out` than in terms of `x`.\n"
      ]
    },
    {
      "cell_type": "markdown",
      "metadata": {
        "id": "EyAoX_KaCfU7"
      },
      "source": [
        "<details>\n",
        "<summary>Question - can you think of an example function where it would be computationally cheaper to use 'out' than to use 'x'?</summary>\n",
        "\n",
        "The most obvious answer is the exponential function, `out = e ^ x`. Here, the gradient `d(out)/dx` is equal to `out`. We'll see this when we implement a backward version of `torch.exp` later today.\n",
        "</details>\n"
      ]
    },
    {
      "cell_type": "markdown",
      "metadata": {
        "id": "X8CjBiAXChy2"
      },
      "source": [
        "### Exercise - implement `log_back`\n",
        "\n",
        "```yaml\n",
        "Difficulty: 🔴🔴⚪⚪⚪\n",
        "Importance: 🔵🔵🔵⚪⚪\n",
        "\n",
        "You should spend up to 5-10 minutes on this exercise.\n",
        "```\n"
      ]
    },
    {
      "cell_type": "markdown",
      "metadata": {
        "id": "3KqlLdnLDfCN"
      },
      "source": [
        "You should fill in this function below. Don't worry about division by zero or other edge cases - the goal here is just to see how the pieces of the system fit together.\n",
        "\n",
        "*This should just be a short, one-line function.*\n"
      ]
    },
    {
      "cell_type": "code",
      "execution_count": null,
      "metadata": {
        "id": "mDmQ11YZDjBc",
        "colab": {
          "base_uri": "https://localhost:8080/"
        },
        "outputId": "2b252b52-811b-46f8-e292-a405d2c5d7ef"
      },
      "outputs": [
        {
          "output_type": "stream",
          "name": "stdout",
          "text": [
            "All tests in `test_log_back` passed!\n"
          ]
        }
      ],
      "source": [
        "def log_back(grad_out: Arr, out: Arr, x: Arr) -> Arr:\n",
        "    '''Backwards function for f(x) = log(x)\n",
        "\n",
        "    grad_out: Gradient of some loss wrt out\n",
        "    out: the output of np.log(x).\n",
        "    x: the input of np.log.\n",
        "\n",
        "    Return: gradient of the given loss wrt x\n",
        "    '''\n",
        "    return grad_out / x\n",
        "\n",
        "tests.test_log_back(log_back)"
      ]
    },
    {
      "cell_type": "markdown",
      "metadata": {
        "id": "xZYuX8p1CZgb"
      },
      "source": [
        "\n",
        "\n",
        "<details>\n",
        "<summary>Help - I get <code>ImportError: numpy.core.multiarray failed to import</code></summary>\n",
        "\n",
        "This is an annoying colab-related error which I haven't been able to find a satisfying fix for. The setup code at the top of this notebook should have installed a version of numpy which works, although you'll have to click \"Restart Runtime\" (from the Runtime menu) to make this work. Make sure you don't re-run the cell with `pip install`s.\n",
        "\n",
        "If this still doesn't work, please reach out to me at `callum@arena.education`.\n",
        "</details>\n"
      ]
    },
    {
      "cell_type": "markdown",
      "metadata": {
        "id": "YaIg_waODGhR"
      },
      "source": [
        "<details>\n",
        "<summary>Help - I'm not sure what the output of this backward function for log should be.</summary>\n",
        "\n",
        "By the chain rule, we have:\n",
        "\n",
        "$$\n",
        "\\frac{dL}{dx} = \\frac{dL}{d(\\text{out})} \\cdot \\frac{d(\\text{out})}{dx} = \\frac{dL}{d(\\text{out})} \\cdot \\frac{d(\\log{x})}{dx} = \\frac{dL}{d(\\text{out})} \\cdot \\frac{1}{x}\n",
        "$$\n",
        "\n",
        "---\n",
        "\n",
        "(Note - technically, $\\frac{d(\\text{out})}{dx}$ is a tensor containing the derivatives of each element of $\\text{out}$ with respect to each element of $x$, and we should matrix multiply when we use the chain rule. However, since $\\text{out} = \\log x$ is an elementwise function of $x$, our application of the chain rule here will also be an elementwise multiplication: $\\frac{dL}{dx_{ij}} = \\frac{dL}{d(\\text{out}_{ij})} \\cdot \\frac{d(\\text{out}_{ij})}{dx_{ij}}$. When we get to things like matrix multiplication later, we'll have to be a bit more careful!)\n",
        "</details>\n"
      ]
    },
    {
      "cell_type": "markdown",
      "metadata": {
        "id": "PssnzvQMDOeJ"
      },
      "source": [
        "## Backward functions of two tensors\n",
        "\n",
        "Now we'll implement backward functions for multiple tensors. To do so, we first need to understand broadcasting.\n"
      ]
    },
    {
      "cell_type": "markdown",
      "metadata": {
        "id": "eDJJtPLpD4L_"
      },
      "source": [
        "### Broadcasting Rules\n",
        "\n",
        "Both NumPy and PyTorch have the same rules for broadcasting. The shape of the arrays being operated on is compared element-wise, starting from the rightmost dimension and working left. Two dimensions are compatible when\n",
        "\n",
        "* they are equal, or\n",
        "* one of them is 1 (in which case the array is repeated along this dimension to fit into the other one).\n",
        "\n",
        "Two arrays with a different number of dimensions can be operated on, provided the one with fewer dimensions is compatible with the rightmost elements of the one with more dimensions. Another way to picture this is that NumPy appends dimensions of size 1 to the start of the smaller-dimensional array until they both have the same dimensionality, and then their sizes are checked for compatibility.\n",
        "\n",
        "As a warm-up exercise, below are some examples of broadcasting. Can you figure out which are valid, and which will raise errors?\n"
      ]
    },
    {
      "cell_type": "markdown",
      "metadata": {
        "id": "2aO6klpMD5if"
      },
      "source": [
        "```python\n",
        "x = np.ones((3, 1, 5))\n",
        "y = np.ones((1, 4, 5))\n",
        "\n",
        "z = x + y\n",
        "```\n",
        "\n",
        "<details>\n",
        "<summary>Answer</summary>\n",
        "\n",
        "This is valid, because the 0th dimension of `y` and the 1st dimension of `x` can both be copied so that `x` and `y` have the same shape: `(3, 4, 5)`. The resulting array `z` will also have shape `(3, 4, 5)`.\n",
        "</details>\n"
      ]
    },
    {
      "cell_type": "markdown",
      "metadata": {
        "id": "KMSPeREnD67k"
      },
      "source": [
        "```python\n",
        "x = np.ones((8, 2, 6))\n",
        "y = np.ones((8, 2))\n",
        "\n",
        "z = x + y\n",
        "```\n",
        "\n",
        "<details>\n",
        "<summary>Answer</summary>\n",
        "\n",
        "This is not valid. We first need to expand `y` by appending a dimension to the front, and the last two dimensions of `x` are `(2, 6)`, which won't broadcast with `y`'s `(8, 2)`.\n",
        "</details>\n"
      ]
    },
    {
      "cell_type": "markdown",
      "metadata": {
        "id": "PIkJ9ajgD7Tt"
      },
      "source": [
        "```python\n",
        "x = np.ones((8, 2, 6))\n",
        "y = np.ones((2, 6))\n",
        "\n",
        "z = x + y\n",
        "```\n",
        "\n",
        "<details>\n",
        "<summary>Answer</summary>\n",
        "\n",
        "This is valid. Once NumPy expands `y` by appending a single dimension to the front, it can then be broadcast with `x`.\n",
        "</details>\n"
      ]
    },
    {
      "cell_type": "markdown",
      "metadata": {
        "id": "T7yAVEVvEJz5"
      },
      "source": [
        "### Why do we need broadcasting for backprop?\n"
      ]
    },
    {
      "cell_type": "markdown",
      "metadata": {
        "id": "6lokuVtYCZgc"
      },
      "source": [
        "Often, a tensor $x$ gets broadcasted to produce another tensor $x_{broadcasted}$, when being used to create $out$. It might be easy to define the derivative wrt $out$ and $x_{broadcasted}$, but we need to know how to go from this to calculating the derivative wrt $x$.\n",
        "\n",
        "To take an example:\n",
        "\n",
        "```python\n",
        "x = t.ones(4,)\n",
        "y = t.ones(3, 4)\n",
        "out = x + y # = x_broadcasted + y\n",
        "L = out[0, 0] + out[1, 1] + out[2, 1]\n",
        "```\n"
      ]
    },
    {
      "cell_type": "markdown",
      "metadata": {
        "id": "1FwgQQkWCZge"
      },
      "source": [
        "<img src=\"https://raw.githubusercontent.com/callummcdougall/Fundamentals/main/images/xy_add_out.png\" width=\"400\">\n"
      ]
    },
    {
      "cell_type": "markdown",
      "metadata": {
        "id": "wv8QPfTLETZ0"
      },
      "source": [
        "<img src=\"https://raw.githubusercontent.com/callummcdougall/Fundamentals/main/images/broadcast-2.png\" width=\"400\">\n"
      ]
    },
    {
      "cell_type": "markdown",
      "metadata": {
        "id": "W7EkhWJWCZgf"
      },
      "source": [
        "In this case, we have:\n",
        "\n",
        "$$\n",
        "\\frac{dL}{d(out)} = \\frac{dL}{dx_{broadcasted}} = \\begin{bmatrix}\n",
        "1 & 0 & 0 & 0\\\\\n",
        "0 & 1 & 0 & 0\\\\\n",
        "0 & 1 & 0 & 0\n",
        "\\end{bmatrix}\n",
        "$$\n",
        "\n",
        "How do we get from this to $\\frac{dL}{dx}$? Well, we can write $L$ as a function of $x$ (ignoring $y$ for now):\n",
        "\n",
        "$$\n",
        "\\begin{aligned}\n",
        "L &= x_{broadcasted}[0, 0] + x_{broadcasted}[1, 1] + x_{broadcasted}[2, 1] \\\\\n",
        "&= x[0] + x[1] + x[1] \\\\\n",
        "&= x[0] + 2x[1]\n",
        "\\end{aligned}\n",
        "$$\n",
        "\n",
        "meaning the derivative with respect to $x$ is:\n",
        "\n",
        "$$\n",
        "\\frac{dL}{dx} = \\begin{bmatrix}\n",
        "1 & 2 & 0 & 0\n",
        "\\end{bmatrix}\n",
        "$$\n",
        "\n",
        "Note how we got this by taking $\\frac{dL}{dx_{broadcasted}}$, and summing it over the dimension along which $x$ was broadcasted. This leads to our general rule for handling broadcasted operations:\n"
      ]
    },
    {
      "cell_type": "markdown",
      "metadata": {
        "id": "-RfxUf5WEgwj"
      },
      "source": [
        "> ##### Summary\n",
        ">\n",
        "> If we know $\\frac{dL}{d(out)}$, and want to know $\\frac{dL}{dx}$ (where $x$ was broadcasted to produce $out$) then there are two steps:\n",
        ">\n",
        "> 1. Compute $\\frac{dL}{dx_{broadcasted}}$ in the standard way, i.e. using one of your backward functions (no broadcasting involved here).\n",
        "> 2. ***Unbroadcast*** $\\frac{dL}{dx_{broadcasted}}$, by summing it over the dimensions along which $x$ was broadcasted.\n"
      ]
    },
    {
      "cell_type": "markdown",
      "metadata": {
        "id": "NUvG25e2ElCt"
      },
      "source": [
        "We used the term \"unbroadcast\" because the way that our tensor's shape changes will be the reverse of how it changed during broadcasting. If `x` was broadcasted from `(4,) -> (3, 4)`, then unbroadcasting will have to take a tensor of shape `(3, 4)` and sum over it to return a tensor of shape `(4,)`. Similarly, if `x` was broadcasted from `(1, 4) -> (3, 4)`, then we need to sum over the zeroth dimension, but leave it as a 2D tensor (with zeroth dimension of size 1).\n"
      ]
    },
    {
      "cell_type": "markdown",
      "metadata": {
        "id": "GgApU9qdEmYx"
      },
      "source": [
        "### Exercise - implement `unbroadcast`\n",
        "\n",
        "```yaml\n",
        "Difficulty: 🔴🔴🔴⚪⚪\n",
        "Importance: 🔵🔵⚪⚪⚪\n",
        "\n",
        "You should spend up to 15-20 minutes on this exercise.\n",
        "\n",
        "This can be finnicky to implement, so you should be willing to read the solution and move on if you get stuck.\n",
        "```\n",
        "\n",
        "Below, you should implement this function. `broadcasted` is the array you want to sum over, and `original` is the array with the shape you want to return. Your function should:\n",
        "\n",
        "* Compare the shapes of `broadcasted` and `original`, and deduce (using broadcasting rules) how `original` was broadcasted to get `broadcasted`.\n",
        "* Sum over the dimensions of `broadcasted` that were added by broadcasting, and return a tensor of shape `original.shape`.\n",
        "\n",
        "Hint - the `.sum()` method (for NumPy arrays) takes arguments `axis` and `keepdims`. The `axis` argument is an int or list of ints to sum over, and `keepdims` is a boolean that determines whether you want to remove the dims you're summing over (if `False`) or leave them as dims of size 1 (if `True`). You'll need to use both arguments when implementing this function.\n"
      ]
    },
    {
      "cell_type": "code",
      "execution_count": null,
      "metadata": {
        "id": "wKjhyG8qAPOv",
        "colab": {
          "base_uri": "https://localhost:8080/"
        },
        "outputId": "769a5e21-afc9-4a94-9781-a241f299ec7b"
      },
      "outputs": [
        {
          "output_type": "stream",
          "name": "stdout",
          "text": [
            "All tests in `test_unbroadcast` passed!\n"
          ]
        }
      ],
      "source": [
        "def unbroadcast(broadcasted: Arr, original: Arr) -> Arr:\n",
        "    '''\n",
        "    Sum 'broadcasted' until it has the shape of 'original'.\n",
        "\n",
        "    broadcasted: An array that was formerly of the same shape of 'original' and was expanded by broadcasting rules.\n",
        "    '''\n",
        "    if len(broadcasted.shape) > len(original.shape):\n",
        "      for i in range(len(broadcasted.shape) - len(original.shape)):\n",
        "        broadcasted = np.sum(broadcasted, axis = 0, keepdims = False)\n",
        "    for i in range(len(original.shape)):\n",
        "      if original.shape[i] == 1:\n",
        "        broadcasted = np.sum(broadcasted, axis = i, keepdims = True)\n",
        "    return broadcasted\n",
        "\n",
        "tests.test_unbroadcast(unbroadcast)"
      ]
    },
    {
      "cell_type": "markdown",
      "metadata": {
        "id": "qFbEyb2tErQ4"
      },
      "source": [
        "<details>\n",
        "<summary>Help - I'm confused about implementing unbroadcast!</summary>\n",
        "\n",
        "Recall that broadcasting `original -> broadcasted` has 2 steps:\n",
        "\n",
        "1. Append dims of size 1 to the start of `original`, until it has the same number of dims as `broadcasted`.\n",
        "2. Copy `original` along each dimension where it has size 1.\n",
        "\n",
        "Similarly, your `unbroadcast` function should have 2 steps:\n",
        "\n",
        "1. Sum over the dimensions at the start of `broadcasted`, until the result has the same number of dims as `original`.\n",
        "    * Here you should use `keepdims=False`, because you're trying to reduce the dimensionality of `broadcasted`.\n",
        "2. Sum over the dimensions of `broadcasted` wherever `original` has size 1.\n",
        "    * Here you should use `keepdims=True`, because you want to leave these dimensions having size 1 (so that the result has the same shape as `original`).\n",
        "</details>"
      ]
    },
    {
      "cell_type": "markdown",
      "metadata": {
        "id": "t5AhE8NsE4sR"
      },
      "source": [
        "### Backward Function for Elementwise Multiply\n",
        "\n",
        "Functions that are differentiable with respect to more than one input tensor are straightforward given that we already know how to handle broadcasting.\n",
        "\n",
        "- We're going to have two backwards functions, one for each input argument.\n",
        "- If the input arguments were broadcasted together to create a larger output, the incoming `grad_out` will be of the larger common broadcasted shape and we need to make use of `unbroadcast` from earlier to match the shape to the appropriate input argument.\n",
        "- We'll want our backward function to work when one of the inputs is an float. We won't need to calculate the grad_in with respect to floats, so we only need to consider when y is an float for `multiply_back0` and when x is an float for `multiply_back1`.\n"
      ]
    },
    {
      "cell_type": "markdown",
      "metadata": {
        "id": "CexAEDZqFMgj"
      },
      "source": [
        "### Exercise - implement both `multiply_back` functions\n",
        "\n",
        "```yaml\n",
        "Difficulty: 🔴🔴🔴⚪⚪\n",
        "Importance: 🔵🔵⚪⚪⚪\n",
        "\n",
        "You should spend up to 10-15 minutes on these exercises.\n",
        "```\n"
      ]
    },
    {
      "cell_type": "markdown",
      "metadata": {
        "id": "SvILD-PpFORu"
      },
      "source": [
        "Below, you should implement both `multiply_back0` and `multiply_back1`.\n",
        "\n",
        "You might be wondering why we need two different functions, rather than just having a single function to serve both purposes. This will become more important later on, once we deal with functions with more than one argument, which is not symmetric in its arguments. For instance, the derivative of $x / y$ wrt $x$ is not the same as the expression you get after differentiating this wrt $y$ then swapping the labels around.\n",
        "\n",
        "The first part of each function has been provided for you (this makes sure that both inputs are arrays).\n",
        "\n",
        "<details>\n",
        "<summary>Help - I'm not sure how to use the <code>unbroadcast</code> function.</summary>\n",
        "\n",
        "First, do the calculation assuming no broadcasting. Then, use `unbroadcast` to make sure the result has the same shape as the array you're trying to calculate the derivative with respect to.\n",
        "</details>\n"
      ]
    },
    {
      "cell_type": "code",
      "execution_count": null,
      "metadata": {
        "id": "QQNTKbVvFPUS",
        "colab": {
          "base_uri": "https://localhost:8080/"
        },
        "outputId": "8d7dd1b0-3057-407e-e78c-58042a221a03"
      },
      "outputs": [
        {
          "output_type": "stream",
          "name": "stdout",
          "text": [
            "All tests in `test_multiply_back` passed!\n",
            "All tests in `test_multiply_back_float` passed!\n"
          ]
        }
      ],
      "source": [
        "def multiply_back0(grad_out: Arr, out: Arr, x: Arr, y: Union[Arr, float]) -> Arr:\n",
        "    '''Backwards function for x * y wrt argument 0 aka x.'''\n",
        "    if not isinstance(y, Arr):\n",
        "        y = np.array(y)\n",
        "    out = grad_out * y\n",
        "    return unbroadcast(out, x)\n",
        "\n",
        "def multiply_back1(grad_out: Arr, out: Arr, x: Union[Arr, float], y: Arr) -> Arr:\n",
        "    '''Backwards function for x * y wrt argument 1 aka y.'''\n",
        "    if not isinstance(x, Arr):\n",
        "        x = np.array(x)\n",
        "    return unbroadcast(grad_out * x, y)\n",
        "\n",
        "tests.test_multiply_back(multiply_back0, multiply_back1)\n",
        "tests.test_multiply_back_float(multiply_back0, multiply_back1)"
      ]
    },
    {
      "cell_type": "markdown",
      "metadata": {
        "id": "xivDXgSIFZob"
      },
      "source": [
        "Now we'll use our backward functions to do backpropagation manually, for the following computational graph:\n",
        "\n",
        "<img src=\"https://raw.githubusercontent.com/callummcdougall/Fundamentals/main/images/abcdefg.png\" width=550>\n"
      ]
    },
    {
      "cell_type": "markdown",
      "metadata": {
        "id": "khzh6y_eGJiX"
      },
      "source": [
        "### Exercise - implement `forward_and_back`\n",
        "\n",
        "```yaml\n",
        "Difficulty: 🔴🔴🔴⚪⚪\n",
        "Importance: 🔵🔵🔵🔵⚪\n",
        "\n",
        "You should spend up to 15-20 minutes on these exercises.\n",
        "\n",
        "This function is very useful for getting a hands-on sense of the backpropagation algorithm.\n",
        "```\n",
        "\n",
        "Below, you should implement the `forward_and_back` function. This is an opportunity for you to practice using the backward functions you've written so far, and should hopefully give you a better sense of how the full backprop function will eventually work.\n",
        "\n",
        "Note - we're assuming all arrays in this graph have size 1, i.e. they're just scalars.\n"
      ]
    },
    {
      "cell_type": "code",
      "execution_count": null,
      "metadata": {
        "id": "dZWTK8-5GaX-",
        "colab": {
          "base_uri": "https://localhost:8080/"
        },
        "outputId": "2e2c4ff9-0f45-4675-a3e6-7b653d175983"
      },
      "outputs": [
        {
          "output_type": "stream",
          "name": "stdout",
          "text": [
            "All tests in `test_forward_and_back` passed!\n"
          ]
        }
      ],
      "source": [
        "def forward_and_back(a: Arr, b: Arr, c: Arr) -> Tuple[Arr, Arr, Arr]:\n",
        "    '''\n",
        "    Calculates the output of the computational graph above (g), then backpropogates the gradients and returns dg/da, dg/db, and dg/dc\n",
        "    '''\n",
        "    d = a * b\n",
        "    e = np.log(c)\n",
        "    f = d * e\n",
        "    g = np.log(f)\n",
        "\n",
        "    dg_df = log_back(1, g, f)\n",
        "    dg_de = multiply_back1(dg_df, f, d, e)\n",
        "    dg_dd = multiply_back0(dg_df, f, d, e)\n",
        "    dg_dc = log_back(dg_de, e, c)\n",
        "    dg_db = multiply_back1(dg_dd, d, a, b)\n",
        "    dg_da = multiply_back0(dg_dd, d, a, b)\n",
        "    return (dg_da, dg_db, dg_dc)\n",
        "\n",
        "tests.test_forward_and_back(forward_and_back)"
      ]
    },
    {
      "cell_type": "markdown",
      "metadata": {
        "id": "C774oEpWGLkL"
      },
      "source": [
        "<details>\n",
        "<summary>Help - I'm not sure what my first 'grad_out' argument should be!</summary>\n",
        "\n",
        "`grad_out` is $\\frac{dL}{d(\\text{out})}$, where $L$ is the node at the end of your graph and $\\text{out}$ is the output of the function you're backpropagating through. For your first function (which is `log : f -> g`), the output is `g`, so your `grad_out` should be $\\frac{dg}{dg} = 1$. (You should make this an array of size 1, since `g` is a scalar.)\n",
        "\n",
        "The output of this function is $\\frac{dg}{df}$, which you can use as the `grad_out` argument in subsequent backward funcs.\n",
        "</details>"
      ]
    },
    {
      "cell_type": "markdown",
      "metadata": {
        "id": "0PJaRAzMGS99"
      },
      "source": [
        "In the next section, you'll build up to full automation of this backpropagation process, in a way that's similar to PyTorch's `autograd`.\n"
      ]
    },
    {
      "cell_type": "markdown",
      "metadata": {
        "id": "EmX0RxdUGeBa"
      },
      "source": [
        "# 2️⃣ Autograd\n"
      ]
    },
    {
      "cell_type": "markdown",
      "metadata": {
        "id": "8YDlzfxSCZgi"
      },
      "source": [
        "> ## Learning Objectives\n",
        ">\n",
        "> * Perform a topological sort of a computational graph (and understand why this is important).\n",
        "> * Implement a the `backprop` function, to calculate and store gradients for all tensors in a computational graph.\n"
      ]
    },
    {
      "cell_type": "markdown",
      "metadata": {
        "id": "TxNZ62GRGj0O"
      },
      "source": [
        "Now, rather than figuring out which backward functions to call, in what order, and what their inputs should be, we'll write code that takes care of that for us. We'll implement this with a few major components:\n",
        "- Tensor\n",
        "- Recipe\n",
        "- wrap_forward_fn\n"
      ]
    },
    {
      "cell_type": "markdown",
      "metadata": {
        "id": "RhzLzW9uGk-w"
      },
      "source": [
        "## Wrapping Arrays (Tensor)\n",
        "\n",
        "We're going to wrap each array with a wrapper object from our library which we'll call `Tensor` because it's going to behave similarly to a `torch.Tensor`.\n",
        "\n",
        "Each Tensor that is created by one of our forward functions will have a `Recipe`, which tracks the extra information need to run backpropagation.\n",
        "\n",
        "`wrap_forward_fn` will take a forward function and return a new forward function that does the same thing while recording the info we need to do backprop in the `Recipe`.\n"
      ]
    },
    {
      "cell_type": "markdown",
      "metadata": {
        "id": "RVeVP8gHGmHj"
      },
      "source": [
        "## Recipe\n",
        "\n",
        "Let's start by taking a look at `Recipe`.\n",
        "\n",
        "`@dataclass` is a handy class decorator that sets up an `__init__` function for the class that takes the provided attributes as arguments and sets them as you'd expect.\n",
        "\n",
        "The class `Recipe` is designed to track the forward functions in our computational graph, so that gradients can be calculated during backprop. Each tensor created by a forward function has its own `Recipe`. We're naming it this because it is a set of instructions that tell us which ingredients went into making our tensor: what the function was, and what tensors were used as input to the function to produce this one as output.\n"
      ]
    },
    {
      "cell_type": "code",
      "execution_count": null,
      "metadata": {
        "id": "qRWyyWCyGoh6"
      },
      "outputs": [],
      "source": [
        "@dataclass(frozen=True)\n",
        "class Recipe:\n",
        "    '''Extra information necessary to run backpropagation. You don't need to modify this.'''\n",
        "\n",
        "    func: Callable\n",
        "    \"The 'inner' NumPy function that does the actual forward computation.\"\n",
        "    \"Note, we call it 'inner' to distinguish it from the wrapper we'll create for it later on.\"\n",
        "\n",
        "    args: tuple\n",
        "    \"The input arguments passed to func.\"\n",
        "    \"For instance, if func was np.sum then args would be a length-1 tuple containing the tensor to be summed.\"\n",
        "\n",
        "    kwargs: Dict[str, Any]\n",
        "    \"Keyword arguments passed to func.\"\n",
        "    \"For instance, if func was np.sum then kwargs might contain 'dim' and 'keepdims'.\"\n",
        "\n",
        "    parents: Dict[int, \"Tensor\"]\n",
        "    \"Map from positional argument index to the Tensor at that position, in order to be able to pass gradients back along the computational graph.\""
      ]
    },
    {
      "cell_type": "markdown",
      "metadata": {
        "id": "NJd2m4v5GsAe"
      },
      "source": [
        "Note that `args` just stores the values of the underlying arrays, but `parents` stores the actual tensors. This is because they serve two different purposes: `args` is required for computing the value of gradients during backpropagation, and `parents` is required to infer the structure of the computational graph (i.e. which tensors were used to produce which other tensors).\n",
        "\n",
        "Here are some examples, to build intuition for what the four fields of `Recipe` are, and why we need all four of them to fully describe a tensor in our graph and how it was created:\n",
        "\n",
        "<img src=\"https://raw.githubusercontent.com/callummcdougall/computational-thread-art/master/example_images/misc/recipe-fixed-2.png\" width=\"800\">\n"
      ]
    },
    {
      "cell_type": "markdown",
      "metadata": {
        "id": "TdW-8SJKPFWB"
      },
      "source": [
        "## Registering backwards functions\n",
        "\n",
        "The `Recipe` takes care of tracking the forward functions in our computational graph, but we still need a way to find the backward function corresponding to a given forward function when we do backprop (or possibly the set of backward functions, if the forward function takes more than one argument).\n"
      ]
    },
    {
      "cell_type": "markdown",
      "metadata": {
        "id": "qo5vOAtHPHKC"
      },
      "source": [
        "### Exercise - implement `BackwardFuncLookup`\n",
        "\n",
        "```yaml\n",
        "Difficulty: 🔴🔴⚪⚪⚪\n",
        "Importance: 🔵🔵🔵⚪⚪\n",
        "\n",
        "You should spend up to 10-15 minutes on these exercises.\n",
        "\n",
        "These exercises should be very short, once you understand what is being asked.\n",
        "```\n"
      ]
    },
    {
      "cell_type": "markdown",
      "metadata": {
        "id": "b6awwO5NPJNl"
      },
      "source": [
        "We will define a class `BackwardFuncLookup` in order to find the backward function for a given forward function. Details of the implementation are left up to you.\n",
        "\n",
        "The implementation today can be done very simply. We won't support backprop wrt keyword arguments and will raise an exception if the user tries to pass a Tensor by keyword. You can remove this limitation later if you have time.\n",
        "\n",
        "We do need to support functions with multiple positional arguments like multiplication so we'll also provide the positional argument index when setting and getting back_fns.\n",
        "\n",
        "If you're confused as to what this question is asking you to implement, you can look at the code below the class definition (which shows how a class instance can should be used to store and access backward functions).\n"
      ]
    },
    {
      "cell_type": "code",
      "execution_count": null,
      "metadata": {
        "id": "_CPMbbsgPL5o",
        "colab": {
          "base_uri": "https://localhost:8080/"
        },
        "outputId": "306ab067-c0ae-4b56-81d9-2ee29998b4b7"
      },
      "outputs": [
        {
          "output_type": "stream",
          "name": "stdout",
          "text": [
            "Tests passed - BackwardFuncLookup class is working as expected!\n"
          ]
        }
      ],
      "source": [
        "class BackwardFuncLookup:\n",
        "    def __init__(self) -> None:\n",
        "        self.functable = defaultdict(dict)\n",
        "\n",
        "    def add_back_func(self, forward_fn: Callable, arg_position: int, back_fn: Callable) -> None:\n",
        "        self.functable[forward_fn][arg_position] = back_fn\n",
        "\n",
        "    def get_back_func(self, forward_fn: Callable, arg_position: int) -> Callable:\n",
        "        return self.functable[forward_fn][arg_position]\n",
        "\n",
        "BACK_FUNCS = BackwardFuncLookup()\n",
        "BACK_FUNCS.add_back_func(np.log, 0, log_back)\n",
        "BACK_FUNCS.add_back_func(np.multiply, 0, multiply_back0)\n",
        "BACK_FUNCS.add_back_func(np.multiply, 1, multiply_back1)\n",
        "\n",
        "assert BACK_FUNCS.get_back_func(np.log, 0) == log_back\n",
        "assert BACK_FUNCS.get_back_func(np.multiply, 0) == multiply_back0\n",
        "assert BACK_FUNCS.get_back_func(np.multiply, 1) == multiply_back1\n",
        "\n",
        "print(\"Tests passed - BackwardFuncLookup class is working as expected!\")"
      ]
    },
    {
      "cell_type": "markdown",
      "metadata": {
        "id": "YDhqsMy9PNL-"
      },
      "source": [
        "<details>\n",
        "<summary>Example implementation</summary>\n",
        "\n",
        "This implementation uses the useful [`collections.defaultdict`](https://docs.python.org/3/library/collections.html#collections.defaultdict) item.\n",
        "\n",
        "Also, note the use of type annotations. This allows you to auto-fill appropriate methods when you work with these objects.\n",
        "\n",
        "```python\n",
        "class BackwardFuncLookup:\n",
        "    def __init__(self) -> None:\n",
        "        self.back_funcs: defaultdict[Callable, dict[int, Callable]] = defaultdict(dict)\n",
        "\n",
        "    def add_back_func(self, forward_fn: Callable, arg_position: int, back_fn: Callable) -> None:\n",
        "        self.back_funcs[forward_fn][arg_position] = back_fn\n",
        "\n",
        "    def get_back_func(self, forward_fn: Callable, arg_position: int) -> Callable:\n",
        "        return self.back_funcs[forward_fn][arg_position]\n",
        "```\n",
        "</details>\n"
      ]
    },
    {
      "cell_type": "markdown",
      "metadata": {
        "id": "eLKGpKLFPTRz"
      },
      "source": [
        "## Tensors\n",
        "\n",
        "Our Tensor object has these fields:\n",
        "- An `array` field of type `np.ndarray`.\n",
        "- A `requires_grad` field of type `bool`.\n",
        "- A `grad` field of the same size and type as the value.\n",
        "- A `recipe` field, as we've already seen.\n"
      ]
    },
    {
      "cell_type": "markdown",
      "metadata": {
        "id": "D_9B1HQdPWMJ"
      },
      "source": [
        "### requires_grad\n",
        "\n",
        "The meaning of `requires_grad` is that when doing operations using this tensor, the recipe will be stored and it and any descendents will be included in the computational graph.\n",
        "\n",
        "Note that `requires_grad` does not necessarily mean that we will save the accumulated gradients to this tensor's `.grad` parameter when doing backprop: we will follow pytorch's implementation of backprop and only save gradients to leaf tensors (see `Tensor.is_leaf`, below).\n",
        "\n",
        "---\n",
        "\n",
        "There is a lot of repetitive boilerplate involved which we have done for you. You don't need to modify anything in this class: the methods here will delegate to functions that you will implement throughout the day. You should read the code for the `Tensor` class up to `__init__`, and make sure you understand it. Most of the methods beyond this are just replicating the basic functionality of PyTorch tensors.\n"
      ]
    },
    {
      "cell_type": "code",
      "execution_count": null,
      "metadata": {
        "id": "FXQQvUZVPdZc"
      },
      "outputs": [],
      "source": [
        "Arr = np.ndarray\n",
        "\n",
        "class Tensor:\n",
        "    '''\n",
        "    A drop-in replacement for torch.Tensor supporting a subset of features.\n",
        "    '''\n",
        "\n",
        "    array: Arr\n",
        "    \"The underlying array. Can be shared between multiple Tensors.\"\n",
        "    requires_grad: bool\n",
        "    \"If True, calling functions or methods on this tensor will track relevant data for backprop.\"\n",
        "    grad: Optional[\"Tensor\"]\n",
        "    \"Backpropagation will accumulate gradients into this field.\"\n",
        "    recipe: Optional[Recipe]\n",
        "    \"Extra information necessary to run backpropagation.\"\n",
        "\n",
        "    def __init__(self, array: Union[Arr, list], requires_grad=False):\n",
        "        self.array = array if isinstance(array, Arr) else np.array(array)\n",
        "        if self.array.dtype == np.float64:\n",
        "            self.array = self.array.astype(np.float32)\n",
        "        self.requires_grad = requires_grad\n",
        "        self.grad = None\n",
        "        self.recipe = None\n",
        "        \"If not None, this tensor's array was created via recipe.func(*recipe.args, **recipe.kwargs).\"\n",
        "\n",
        "    def __neg__(self) -> \"Tensor\":\n",
        "        return negative(self)\n",
        "\n",
        "    def __add__(self, other) -> \"Tensor\":\n",
        "        return add(self, other)\n",
        "\n",
        "    def __radd__(self, other) -> \"Tensor\":\n",
        "        return add(other, self)\n",
        "\n",
        "    def __sub__(self, other) -> \"Tensor\":\n",
        "        return subtract(self, other)\n",
        "\n",
        "    def __rsub__(self, other) -> \"Tensor\":\n",
        "        return subtract(other, self)\n",
        "\n",
        "    def __mul__(self, other) -> \"Tensor\":\n",
        "        return multiply(self, other)\n",
        "\n",
        "    def __rmul__(self, other):\n",
        "        return multiply(other, self)\n",
        "\n",
        "    def __truediv__(self, other):\n",
        "        return true_divide(self, other)\n",
        "\n",
        "    def __rtruediv__(self, other):\n",
        "        return true_divide(other, self)\n",
        "\n",
        "    def __matmul__(self, other):\n",
        "        return matmul(self, other)\n",
        "\n",
        "    def __rmatmul__(self, other):\n",
        "        return matmul(other, self)\n",
        "\n",
        "    def __eq__(self, other):\n",
        "        return eq(self, other)\n",
        "\n",
        "    def __repr__(self) -> str:\n",
        "        return f\"Tensor({repr(self.array)}, requires_grad={self.requires_grad})\"\n",
        "\n",
        "    def __len__(self) -> int:\n",
        "        if self.array.ndim == 0:\n",
        "            raise TypeError\n",
        "        return self.array.shape[0]\n",
        "\n",
        "    def __hash__(self) -> int:\n",
        "        return id(self)\n",
        "\n",
        "    def __getitem__(self, index) -> \"Tensor\":\n",
        "        return getitem(self, index)\n",
        "\n",
        "    def add_(self, other: \"Tensor\", alpha: float = 1.0) -> \"Tensor\":\n",
        "        add_(self, other, alpha=alpha)\n",
        "        return self\n",
        "\n",
        "    @property\n",
        "    def T(self) -> \"Tensor\":\n",
        "        return permute(self, axes=(-1, -2))\n",
        "\n",
        "    def item(self):\n",
        "        return self.array.item()\n",
        "\n",
        "    def sum(self, dim=None, keepdim=False) -> \"Tensor\":\n",
        "        return sum(self, dim=dim, keepdim=keepdim)\n",
        "\n",
        "    def log(self) -> \"Tensor\":\n",
        "        return log(self)\n",
        "\n",
        "    def exp(self) -> \"Tensor\":\n",
        "        return exp(self)\n",
        "\n",
        "    def reshape(self, new_shape) -> \"Tensor\":\n",
        "        return reshape(self, new_shape)\n",
        "\n",
        "    def expand(self, new_shape) -> \"Tensor\":\n",
        "        return expand(self, new_shape)\n",
        "\n",
        "    def permute(self, dims) -> \"Tensor\":\n",
        "        return permute(self, dims)\n",
        "\n",
        "    def maximum(self, other) -> \"Tensor\":\n",
        "        return maximum(self, other)\n",
        "\n",
        "    def relu(self) -> \"Tensor\":\n",
        "        return relu(self)\n",
        "\n",
        "    def argmax(self, dim=None, keepdim=False) -> \"Tensor\":\n",
        "        return argmax(self, dim=dim, keepdim=keepdim)\n",
        "\n",
        "    def uniform_(self, low: float, high: float) -> \"Tensor\":\n",
        "        self.array[:] = np.random.uniform(low, high, self.array.shape)\n",
        "        return self\n",
        "\n",
        "    def backward(self, end_grad: Union[Arr, \"Tensor\", None] = None) -> None:\n",
        "        if isinstance(end_grad, Arr):\n",
        "            end_grad = Tensor(end_grad)\n",
        "        return backprop(self, end_grad)\n",
        "\n",
        "    def size(self, dim: Optional[int] = None):\n",
        "        if dim is None:\n",
        "            return self.shape\n",
        "        return self.shape[dim]\n",
        "\n",
        "    @property\n",
        "    def shape(self):\n",
        "        return self.array.shape\n",
        "\n",
        "    @property\n",
        "    def ndim(self):\n",
        "        return self.array.ndim\n",
        "\n",
        "    @property\n",
        "    def is_leaf(self):\n",
        "        '''Same as https://pytorch.org/docs/stable/generated/torch.Tensor.is_leaf.html'''\n",
        "        if self.requires_grad and self.recipe and self.recipe.parents:\n",
        "            return False\n",
        "        return True\n",
        "\n",
        "    def __bool__(self):\n",
        "        if np.array(self.shape).prod() != 1:\n",
        "            raise RuntimeError(\"bool value of Tensor with more than one value is ambiguous\")\n",
        "        return bool(self.item())\n",
        "\n",
        "def empty(*shape: int) -> Tensor:\n",
        "    '''Like torch.empty.'''\n",
        "    return Tensor(np.empty(shape))\n",
        "\n",
        "def zeros(*shape: int) -> Tensor:\n",
        "    '''Like torch.zeros.'''\n",
        "    return Tensor(np.zeros(shape))\n",
        "\n",
        "def arange(start: int, end: int, step=1) -> Tensor:\n",
        "    '''Like torch.arange(start, end).'''\n",
        "    return Tensor(np.arange(start, end, step=step))\n",
        "\n",
        "def tensor(array: Arr, requires_grad=False) -> Tensor:\n",
        "    '''Like torch.tensor.'''\n",
        "    return Tensor(array, requires_grad=requires_grad)"
      ]
    },
    {
      "cell_type": "markdown",
      "metadata": {
        "id": "Q5rjD5dEPlPJ"
      },
      "source": [
        "## Forward Pass: Building the Computational Graph\n",
        "\n",
        "Let's start with a simple case: our `log` function. `log_forward` is a wrapper, which should implement the functionality of `np.log` but work with tensors rather than arrays.\n"
      ]
    },
    {
      "cell_type": "markdown",
      "metadata": {
        "id": "EEOHErdpPntt"
      },
      "source": [
        "### Exercise - implement `log_forward`\n",
        "\n",
        "```yaml\n",
        "Difficulty: 🔴🔴🔴⚪⚪\n",
        "Importance: 🔵🔵🔵⚪⚪\n",
        "\n",
        "You should spend up to 15-20 minutes on this exercise.\n",
        "```\n",
        "\n",
        "Our `log` function must do the following:\n",
        "\n",
        "- Call `np.log` on the input *array* (i.e. the array attribute of the tensor).\n",
        "- Create a new `Tensor` containing the output.\n",
        "- If grad tracking is enabled globally AND (the input requires grad, OR has a recipe), then the output requires grad and we fill out the recipe of our output, as a `Recipe` object.\n",
        "\n",
        "Later we'll redo this in a generic and reusable way, but for now just get it working.\n",
        "\n",
        "Note - in these exercises, we've used the global variable `grad_tracking_enabled` to indicate whether gradient tracking is enabled. Often when you're working with a model and you don't need to train it (or perform backward passes for any other reason) it's useful to disable gradient tracking. In PyTorch, this is done with `t.set_grad_enabled(False)`.\n"
      ]
    },
    {
      "cell_type": "code",
      "execution_count": null,
      "metadata": {
        "id": "x9WMfDTwPpGk",
        "colab": {
          "base_uri": "https://localhost:8080/"
        },
        "outputId": "d52d771f-bdac-493f-f5ea-5d9f5baf8e91"
      },
      "outputs": [
        {
          "output_type": "stream",
          "name": "stdout",
          "text": [
            "All tests in `test_log` passed!\n",
            "All tests in `test_log_no_grad` passed!\n"
          ]
        }
      ],
      "source": [
        "def log_forward(x: Tensor) -> Tensor:\n",
        "    '''Performs np.log on a Tensor object.'''\n",
        "    log_arr = np.log(x.array)\n",
        "    out = Tensor(log_arr, requires_grad = grad_tracking_enabled and (x.requires_grad or x.recipe is not None))\n",
        "\n",
        "    if out.requires_grad:\n",
        "      out.recipe = Recipe(np.log, (x.array,), {}, {0: x})\n",
        "    return out\n",
        "\n",
        "log = log_forward\n",
        "tests.test_log(Tensor, log_forward)\n",
        "tests.test_log_no_grad(Tensor, log_forward)\n",
        "a = Tensor([1], requires_grad=True)\n",
        "grad_tracking_enabled = False\n",
        "b = log_forward(a)\n",
        "grad_tracking_enabled = True\n",
        "assert not b.requires_grad, \"should not require grad if grad tracking globally disabled\"\n",
        "assert b.recipe is None, \"should not create recipe if grad tracking globally disabled\""
      ]
    },
    {
      "cell_type": "markdown",
      "metadata": {
        "id": "OXNvEtZUPqz0"
      },
      "source": [
        "<details>\n",
        "<summary>Help - I need more hints on how to implement this function.</summary>\n",
        "\n",
        "You need to define a tensor `out` by feeding it the underlying data (log of `x.array`) and the `requires_grad` flag.\n",
        "\n",
        "Then, if `requires_grad` is true, you should also create a recipe object and store it in `out`. You can look at the diagrams above to see what the recipe should look like (it will be even simpler than the ones pictured, because there's only one parent, one arg, and no kwargs).\n",
        "</details>\n"
      ]
    },
    {
      "cell_type": "markdown",
      "metadata": {
        "id": "JsejE6jzQQhL"
      },
      "source": [
        "Now let's do the same for multiply, to see how to handle functions with multiple arguments.\n"
      ]
    },
    {
      "cell_type": "markdown",
      "metadata": {
        "id": "JvGfKcqKQRtD"
      },
      "source": [
        "### Exercise - implement `multiply_forward`\n",
        "\n",
        "```yaml\n",
        "Difficulty: 🔴🔴🔴🔴⚪\n",
        "Importance: 🔵🔵🔵⚪⚪\n",
        "\n",
        "You should spend up to 15-20 minutes on this exercise.\n",
        "```\n",
        "\n",
        "There are a few differences between this and log:\n",
        "\n",
        "- The actual function to be called is different\n",
        "- We need more than one argument in `args` and `parents`, when defining `Recipe`\n",
        "- `requires_grad` should be true if `grad_tracking_enabled=True`, and ANY of the input tensors require grad\n",
        "- One of the inputs may be an int, so you'll need to deal with this case before calculating `out`\n",
        "\n",
        "If you're confused, you can scroll up to the diagram at the top of the page (which tells you how to construct the recipe for functions like multiply or add when they are both arrays, or when one is an array and the other is a scalar).\n"
      ]
    },
    {
      "cell_type": "code",
      "execution_count": null,
      "metadata": {
        "id": "ut1Kiti4QS__",
        "colab": {
          "base_uri": "https://localhost:8080/"
        },
        "outputId": "11febc9f-0335-47cd-fae5-2b1c86e807ff"
      },
      "outputs": [
        {
          "output_type": "stream",
          "name": "stdout",
          "text": [
            "All tests in `test_multiply` passed!\n",
            "All tests in `test_multiply_no_grad` passed!\n",
            "All tests in `test_multiply_float` passed!\n"
          ]
        }
      ],
      "source": [
        "def multiply_forward(a: Union[Tensor, int], b: Union[Tensor, int]) -> Tensor:\n",
        "    '''Performs np.multiply on a Tensor object.'''\n",
        "    assert isinstance(a, Tensor) or isinstance(b, Tensor)\n",
        "    a_arr = a.array if isinstance(a, Tensor) else a\n",
        "    b_arr = b.array if isinstance(b, Tensor) else b\n",
        "    out_arr = a_arr * b_arr\n",
        "\n",
        "    out = Tensor(out_arr, requires_grad = grad_tracking_enabled and ((isinstance(a, Tensor) and (a.requires_grad or a.recipe is not None)) or\n",
        "                                                                     (isinstance(b, Tensor) and (b.requires_grad or b.recipe is not None))))\n",
        "    if out.requires_grad:\n",
        "      # this line in solutions is really concise so I just took it\n",
        "      parents = {idx: arr for idx, arr in enumerate([a, b]) if isinstance(arr, Tensor)}\n",
        "      out.recipe = Recipe(np.multiply, (a_arr, b_arr,), {}, parents)\n",
        "    return out\n",
        "\n",
        "multiply = multiply_forward\n",
        "tests.test_multiply(Tensor, multiply_forward)\n",
        "tests.test_multiply_no_grad(Tensor, multiply_forward)\n",
        "tests.test_multiply_float(Tensor, multiply_forward)\n",
        "a = Tensor([2], requires_grad=True)\n",
        "b = Tensor([3], requires_grad=True)\n",
        "grad_tracking_enabled = False\n",
        "b = multiply_forward(a, b)\n",
        "grad_tracking_enabled = True\n",
        "assert not b.requires_grad, \"should not require grad if grad tracking globally disabled\"\n",
        "assert b.recipe is None, \"should not create recipe if grad tracking globally disabled\""
      ]
    },
    {
      "cell_type": "markdown",
      "metadata": {
        "id": "PobBT61WQV8c"
      },
      "source": [
        "<details>\n",
        "<summary>Help - I get \"AttributeError: 'int' object has no attribute 'array'\".</summary>\n",
        "\n",
        "Remember that your multiply function should also accept integers. You need to separately deal with the cases where `a` and `b` are integers or Tensors.\n",
        "</details>\n",
        "\n",
        "<details>\n",
        "<summary>Help - I get \"AssertionError: assert len(c.recipe.parents) == 1 and c.recipe.parents[0] is a\" in the \"test_multiply_float\" test.</summary>\n",
        "\n",
        "This is probably because you've stored the inputs to `multiply` as integers when one of the is an integer. Remember, `parents` should just be a list of the **Tensors** that were inputs to `multiply`, so you shouldn't add ints.\n",
        "</details>\n"
      ]
    },
    {
      "cell_type": "markdown",
      "metadata": {
        "id": "d_C9X28HQgCB"
      },
      "source": [
        "## Forward Pass - Generic Version\n",
        "\n",
        "All our forward functions are going to look extremely similar to `log_forward` and `multiply_forward`.\n",
        "Implement the higher order function `wrap_forward_fn` that takes a `Arr -> Arr` function and returns a `Tensor -> Tensor` function. In other words, `wrap_forward_fn(np.multiply)` should evaluate to a callable that does the same thing as your `multiply_forward` (and same for `np.log`).\n"
      ]
    },
    {
      "cell_type": "markdown",
      "metadata": {
        "id": "DxgTxN8dQhqR"
      },
      "source": [
        "### Exercise - implement `wrap_forward_fn`\n",
        "\n",
        "```yaml\n",
        "Difficulty: 🔴🔴🔴🔴⚪\n",
        "Importance: 🔵🔵🔵⚪⚪\n",
        "\n",
        "You should spend up to 20-25 minutes on this exercise.\n",
        "\n",
        "This exercise is conceptually important, but might be a bit difficult if it isn't clear what the question is asking for.\n",
        "```\n"
      ]
    },
    {
      "cell_type": "code",
      "execution_count": null,
      "metadata": {
        "id": "gDEWR4ACQz5E",
        "colab": {
          "base_uri": "https://localhost:8080/"
        },
        "outputId": "167876ba-4bed-4bc2-ff73-cddfdb4251ac"
      },
      "outputs": [
        {
          "output_type": "stream",
          "name": "stdout",
          "text": [
            "All tests in `test_log` passed!\n",
            "All tests in `test_log_no_grad` passed!\n",
            "All tests in `test_multiply` passed!\n",
            "All tests in `test_multiply_no_grad` passed!\n",
            "All tests in `test_multiply_float` passed!\n",
            "All tests in `test_sum` passed!\n"
          ]
        }
      ],
      "source": [
        "def wrap_forward_fn(numpy_func: Callable, is_differentiable=True) -> Callable:\n",
        "    '''\n",
        "    numpy_func: Callable\n",
        "        takes any number of positional arguments, some of which may be NumPy arrays, and\n",
        "        any number of keyword arguments which we aren't allowing to be NumPy arrays at\n",
        "        present. It returns a single NumPy array.\n",
        "\n",
        "    is_differentiable:\n",
        "        if True, numpy_func is differentiable with respect to some input argument, so we\n",
        "        may need to track information in a Recipe. If False, we definitely don't need to\n",
        "        track information.\n",
        "\n",
        "    Return: Callable\n",
        "        It has the same signature as numpy_func, except wherever there was a NumPy array,\n",
        "        this has a Tensor instead.\n",
        "    '''\n",
        "\n",
        "    def tensor_func(*args: Any, **kwargs: Any) -> Tensor:\n",
        "        arg_arr = tuple([(a.array if isinstance(a, Tensor) else a) for a in args]) #tuple to pass in as parameter\n",
        "        out_arr = numpy_func(*arg_arr, **kwargs) #oops forgot the stars at first\n",
        "\n",
        "        requires_grad = grad_tracking_enabled and any([isinstance(a, Tensor) and (a.requires_grad or a.recipe is not None) for a in args])\n",
        "        out = Tensor(out_arr, requires_grad)\n",
        "        if requires_grad:\n",
        "          parents = {idx: a for idx, a in enumerate(args) if isinstance(a, Tensor)}\n",
        "          out.recipe = Recipe(numpy_func, arg_arr, kwargs, parents)\n",
        "        return out\n",
        "\n",
        "    return tensor_func\n",
        "\n",
        "def _sum(x: Arr, dim=None, keepdim=False) -> Arr:\n",
        "    # need to be careful with sum, because kwargs have different names in torch and numpy\n",
        "    return np.sum(x, axis=dim, keepdims=keepdim)\n",
        "\n",
        "log = wrap_forward_fn(np.log)\n",
        "multiply = wrap_forward_fn(np.multiply)\n",
        "eq = wrap_forward_fn(np.equal, is_differentiable=False)\n",
        "sum = wrap_forward_fn(_sum)\n",
        "\n",
        "tests.test_log(Tensor, log)\n",
        "tests.test_log_no_grad(Tensor, log)\n",
        "tests.test_multiply(Tensor, multiply)\n",
        "tests.test_multiply_no_grad(Tensor, multiply)\n",
        "tests.test_multiply_float(Tensor, multiply)\n",
        "tests.test_sum(Tensor)"
      ]
    },
    {
      "cell_type": "markdown",
      "metadata": {
        "id": "e7Ho40B4Q7o-"
      },
      "source": [
        "<details>\n",
        "<summary>Help - I'm not sure where to start.</summary>\n",
        "\n",
        "Start with the code from `multiply_forward`. The way this function was structured (i.e. the five comments in the solution) should also give you a good template for how to structure your `tensor_func` function.\n",
        "</details>\n",
        "\n",
        "<details>\n",
        "<summary>Help - I'm getting <code>NameError: name 'getitem' is not defined</code>.</summary>\n",
        "\n",
        "This is probably because you're calling `numpy_func` on the args themselves. Recall that `args` will be a list of `Tensor` objects, and that you should call `numpy_func` on the underlying arrays.\n",
        "</details>\n",
        "\n",
        "<details>\n",
        "<summary>Help - I'm getting an AssertionError on <code>assert c.requires_grad == True</code> (or something similar).</summary>\n",
        "\n",
        "This is probably because you're not defining `requires_grad` correctly. Remember that the output of a forward function should have `requires_grad = True` if and only if all of the following hold:\n",
        "\n",
        "* Grad tracking is enabled\n",
        "* The function is differentiable\n",
        "* **Any** of the inputs are tensors with `requires_grad = True`\n",
        "</details>\n",
        "\n",
        "<details>\n",
        "<summary>Help - my function passes all tests up to <code>test_sum</code>, but then fails here.</summary>\n",
        "\n",
        "`test_sum`, unlike the previous tests, wraps a function that uses keyword arguments. So if you're failing here, it's probably because you didn't use `kwargs` correctly.\n",
        "\n",
        "`kwargs` should be used in two ways: once when actually calling the `numpy_func`, and once when defining the `Recipe` object for the output tensor.\n",
        "</details>\n"
      ]
    },
    {
      "cell_type": "markdown",
      "metadata": {
        "id": "CNos-9faRG4O"
      },
      "source": [
        "Note - none of these functions involve keyword args, so the tests won't detect if you're handling kwargs incorrectly (or even failing to use them at all). If your code fails in later exercises, you might want to come back here and check that you're using the kwargs correctly. Alternatively, once you pass the tests, you can compare your code to the solutions and see how they handle kwargs.\n"
      ]
    },
    {
      "cell_type": "markdown",
      "metadata": {
        "id": "R1W1QjZ6RPXy"
      },
      "source": [
        "## Backpropagation\n",
        "\n",
        "Now all the pieces are in place to implement backpropagation. We need to:\n",
        "- Loop over the nodes from right to left. At each node:\n",
        "    - Call the backward function to transform the grad wrt output to the grad wrt input.\n",
        "    - If the node is a leaf, write the grad to the grad field.\n",
        "    - Otherwise, accumulate the grad into temporary storage.\n"
      ]
    },
    {
      "cell_type": "markdown",
      "metadata": {
        "id": "8hc8UZrlRSM_"
      },
      "source": [
        "### Topological Sort\n",
        "\n",
        "As part of backprop, we need to sort the nodes of our graph so we can traverse the graph in the appropriate order.\n"
      ]
    },
    {
      "cell_type": "markdown",
      "metadata": {
        "id": "tFFP7BO4RT1P"
      },
      "source": [
        "### Exercise - implement `topological_sort`\n",
        "\n",
        "```yaml\n",
        "Difficulty: 🔴🔴🔴🔴⚪\n",
        "Importance: 🔵⚪⚪⚪⚪\n",
        "\n",
        "You should spend up to 20-25 minutes on this exercise.\n",
        "\n",
        "Note, it's completely fine to skip this problem if you're not very interested in it. This is more of a fun LeetCode-style puzzle, and writing a solution for this isn't crucial for the overall experience of these exercises.\n",
        "```\n"
      ]
    },
    {
      "cell_type": "markdown",
      "metadata": {
        "id": "EBpD61zDRaaf"
      },
      "source": [
        "Write a general function `topological_sort` that return a list of node's children in topological order (beginning with the furthest descendants, ending with the starting node) using [depth-first search](https://en.wikipedia.org/wiki/Topological_sorting).\n",
        "\n",
        "We've given you a `Node` class, with a `children` attribute, and a `get_children` function. You shouldn't change any of these, and your `topological_sort` function should use `get_children` to access a node's children rather than calling `node.children` directly. In subsequent exercises, we'll replace the `Node` class with the `Tensor` class (and using a different `get_children` function), so this will ensure your code still works for this new case.\n",
        "\n",
        "If you're stuck, try looking at the pseudocode from some of [these examples](https://en.wikipedia.org/wiki/Topological_sorting#Kahn's_algorithm).\n"
      ]
    },
    {
      "cell_type": "code",
      "execution_count": null,
      "metadata": {
        "id": "sLQbNL2wRcTA",
        "colab": {
          "base_uri": "https://localhost:8080/"
        },
        "outputId": "88ed1466-1d20-4d9c-d201-8b6a6a7ebc6f"
      },
      "outputs": [
        {
          "output_type": "stream",
          "name": "stdout",
          "text": [
            "All tests in `test_topological_sort_linked_list` passed!\n",
            "All tests in `test_topological_sort_branching` passed!\n",
            "All tests in `test_topological_sort_rejoining` passed!\n",
            "All tests in `test_topological_sort_cyclic` passed!\n"
          ]
        }
      ],
      "source": [
        "class Node:\n",
        "    def __init__(self, *children):\n",
        "        self.children = list(children)\n",
        "\n",
        "\n",
        "def get_children(node: Node) -> List[Node]:\n",
        "    return node.children\n",
        "\n",
        "\n",
        "def topological_sort(node: Node, get_children: Callable) -> List[Node]:\n",
        "    '''\n",
        "    Return a list of node's descendants in reverse topological order from future to past (i.e. `node` should be last).\n",
        "\n",
        "    Should raise an error if the graph with `node` as root is not in fact acyclic.\n",
        "    '''\n",
        "    out: List[Node] = []\n",
        "    out_set = set() # becomes sometimes checking if tensor is in list is funky for some reason\n",
        "    visited: set[Node] = set()\n",
        "\n",
        "    def top_sort_recursive(node, get_children, out, visited) -> List[Node]:\n",
        "      if node in out_set:\n",
        "        return\n",
        "      assert not (node in visited)\n",
        "      visited.add(node)\n",
        "      for c in get_children(node):\n",
        "        top_sort_recursive(c, get_children, out, visited)\n",
        "      out.append(node)\n",
        "      out_set.add(node)\n",
        "      # print(out)\n",
        "\n",
        "    top_sort_recursive(node, get_children, out, visited)\n",
        "    return out\n",
        "\n",
        "\n",
        "tests.test_topological_sort_linked_list(topological_sort)\n",
        "tests.test_topological_sort_branching(topological_sort)\n",
        "tests.test_topological_sort_rejoining(topological_sort)\n",
        "tests.test_topological_sort_cyclic(topological_sort)"
      ]
    },
    {
      "cell_type": "markdown",
      "metadata": {
        "id": "3bmzq5pVRe6p"
      },
      "source": [
        "<details>\n",
        "<summary>Help - my function is hanging without returning any values.</summary>\n",
        "\n",
        "This is probably because it's going around in cycles when fed a cyclic graph. You should add a way of raising an error if your function detects that the graph isn't cyclic. One way to do this is to create a set `temp`, which stores the nodes you've visited on a particular excursion into the graph, then you can raise an error if you come across an already visited node.\n",
        "</details>\n",
        "\n",
        "<details>\n",
        "<summary>Help - I'm completely stuck on how to implement this, and would like the template for some code.</summary>\n",
        "\n",
        "Here is the template for a depth-first search implementation:\n",
        "\n",
        "```python\n",
        "def topological_sort(node: Node, get_children: Callable) -> list[Node]:\n",
        "    \n",
        "    result: List[Node] = [] # stores the list of nodes to be returned (in reverse topological order)\n",
        "    perm: set[Node] = set() # same as `result`, but as a set (faster to check for membership)\n",
        "    temp: set[Node] = set() # keeps track of previously visited nodes (to detect cyclicity)\n",
        "\n",
        "    def visit(cur: Node):\n",
        "        '''\n",
        "        Recursive function which visits all the children of the current node, and appends them all\n",
        "        to `result` in the order they were found.\n",
        "        '''\n",
        "        pass\n",
        "\n",
        "    visit(node)\n",
        "    return result\n",
        "```\n",
        "</details>\n"
      ]
    },
    {
      "cell_type": "markdown",
      "metadata": {
        "id": "FApT8E2IR0jk"
      },
      "source": [
        "Now, you should write the function `sorted_computational_graph`. This should be a short function (the main part of it is calling `topological_sort`), but there are a few things to keep in mind:\n",
        "\n",
        "* You'll need a different `get_children` function for when you call `topological_sort`. This should actually return the **parents** of the tensor in question (sorry for the confusing terminology!).\n",
        "* You should return the tensors in the order needed for backprop, in other words the `tensor` argument should be the first one in your list.\n"
      ]
    },
    {
      "cell_type": "markdown",
      "metadata": {
        "id": "vkkna405R4WY"
      },
      "source": [
        "<img src=\"https://github.com/callummcdougall/Fundamentals/blob/main/images/abcdefg.png?raw=true\" width=500>\n"
      ]
    },
    {
      "cell_type": "code",
      "execution_count": null,
      "metadata": {
        "id": "NnOgpC6FR-YN",
        "colab": {
          "base_uri": "https://localhost:8080/"
        },
        "outputId": "fda95eb3-b23e-4c0a-808c-ff92ca86bebd"
      },
      "outputs": [
        {
          "output_type": "stream",
          "name": "stdout",
          "text": [
            "['g', 'f', 'e', 'c', 'd', 'b', 'a']\n"
          ]
        }
      ],
      "source": [
        "def sorted_computational_graph(tensor: Tensor) -> List[Tensor]:\n",
        "    '''\n",
        "    For a given tensor, return a list of Tensors that make up the nodes of the given Tensor's computational graph,\n",
        "    in reverse topological order (i.e. `tensor` should be first).\n",
        "    '''\n",
        "    def get_parents(tensor: Tensor):\n",
        "      return [] if tensor.recipe is None else list(tensor.recipe.parents.values())\n",
        "    # reverse the sort\n",
        "    return topological_sort(tensor, get_parents)[::-1]\n",
        "\n",
        "a = Tensor([1], requires_grad=True)\n",
        "b = Tensor([2], requires_grad=True)\n",
        "c = Tensor([3], requires_grad=True)\n",
        "d = a * b\n",
        "e = c.log()\n",
        "f = d * e\n",
        "g = f.log()\n",
        "name_lookup = {a: \"a\", b: \"b\", c: \"c\", d: \"d\", e: \"e\", f: \"f\", g: \"g\"}\n",
        "\n",
        "print([name_lookup[t] for t in sorted_computational_graph(g)])"
      ]
    },
    {
      "cell_type": "code",
      "execution_count": null,
      "metadata": {
        "id": "o-OuvsB_CZgo",
        "colab": {
          "base_uri": "https://localhost:8080/"
        },
        "outputId": "cade9218-ba37-4dd4-9fc2-cd47fc0dbdef"
      },
      "outputs": [
        {
          "output_type": "stream",
          "name": "stdout",
          "text": [
            "['d', 'b', 'a']\n"
          ]
        }
      ],
      "source": [
        "a = Tensor([1], requires_grad=True)\n",
        "# a2 = Tensor([1], requires_grad=True)\n",
        "b = a * 2\n",
        "c = a * 1\n",
        "d = b * c\n",
        "name_lookup = {a: \"a\", b: \"b\", c: \"c\", d: \"d\"}\n",
        "\n",
        "print([name_lookup[t] for t in sorted_computational_graph(d)])"
      ]
    },
    {
      "cell_type": "markdown",
      "metadata": {
        "id": "UqYy2ZooSA6m"
      },
      "source": [
        "Compare your output with the computational graph. You should never be printing `x` before `y` if there is an edge `x --> ... --> y` (this should result in approximately reverse alphabetical order).\n"
      ]
    },
    {
      "cell_type": "markdown",
      "metadata": {
        "id": "mTBpFEWCSDVe"
      },
      "source": [
        "### The `backward` method\n",
        "\n",
        "Now we're really ready for backprop!\n",
        "\n",
        "Recall that in the implementation of the class `Tensor`, we had:\n",
        "\n",
        "```python\n",
        "class Tensor:\n",
        "\n",
        "    def backward(self, end_grad: Union[Arr, \"Tensor\", None] = None) -> None:\n",
        "        if isinstance(end_grad, Arr):\n",
        "            end_grad = Tensor(end_grad)\n",
        "        return backprop(self, end_grad)\n",
        "```\n",
        "\n",
        "In other words, for a tensor `out`, calling `out.backward()` is equivalent to `backprop(out)`.\n"
      ]
    },
    {
      "cell_type": "markdown",
      "metadata": {
        "id": "_dzRWp0HR75C"
      },
      "source": [
        "### End grad\n",
        "\n",
        "You might be wondering what role the `end_grad` argument in `backward` plays. We usually just call `out.backward()` when we're working with loss functions; why do we need another argument?\n",
        "\n",
        "The reason is that we've only ever called `tensor.backward()` on scalars (i.e. tensors with a single element). If `tensor` is multi-dimensional, then we can get a scalar from it by taking a weighted sum of all of the elements. The elements of `end_grad` are precisely the coefficients of our weighted sum. In other words, calling `tensor.backward(end_grad)` implicitly does the following:\n",
        "\n",
        "* Defines the value `L = (tensor * end_grad).sum()`\n",
        "* Backpropagates from `L` to all the other tensors in the graph before `tensor`\n",
        "\n",
        "So if `end_grad` is specified, it will be used as the `grad_out` argument in our first backward function. If `end_grad` is not specified, we assume `L = tensor.sum()`, i.e. `end_grad` is a tensor of all ones with the same shape as `tensor`.\n"
      ]
    },
    {
      "cell_type": "markdown",
      "metadata": {
        "id": "CmRHpFg2SX7m"
      },
      "source": [
        "### Leaf nodes\n",
        "\n",
        "The `Tensor` object has an `is_leaf` property. Recall from the code earlier, we had:\n",
        "\n",
        "```python\n",
        "class Tensor:\n",
        "\n",
        "    @property\n",
        "    def is_leaf(self):\n",
        "        '''Same as https://pytorch.org/docs/stable/generated/torch.Tensor.is_leaf.html'''\n",
        "        if self.requires_grad and self.recipe and self.recipe.parents:\n",
        "            return False\n",
        "        return True\n",
        "```\n",
        "\n",
        "In other words, leaf node tensors are any with either `requires_grad=False`, or which were *not* created by some operation on other tensors.\n",
        "\n",
        "In backprop, only the leaf nodes with `requires_grad=True` accumulate gradients. You can think of leaf nodes as being edges of the computational graph, i.e. nodes from which you can't move further backwards topologically.\n",
        "\n",
        "For example, suppose we have a neural network with a single linear layer called `layer`, and it produces `output` when we pass in `input`. Then:\n",
        "\n",
        "* `output` is not a leaf node, because it is the result of an operation on `layer.weight` and `input` (i.e. `recipe.parents` is not None)\n",
        "* `input` is a leaf node because it has `requires_grad=False` (this is the default for tensors) and it wasn't created from anything (i.e. `recipe` is None). So gradients will stop propagating when they get to `input`, but it won't store any gradients.\n",
        "* `layer.weight` is a leaf node because it wasn't created from anything (i.e. `recipe` is None). So gradients will stop propagating when they get to `layer.weight`, and it will store gradients (since `requires_grad=True`).\n",
        "\n",
        "```python\n",
        "layer = torch.nn.Linear(3, 4)\n",
        "input = torch.ones(3)\n",
        "output = layer(input)\n",
        "\n",
        "print(layer.weight.is_leaf)       # -> True\n",
        "print(layer.weight.requires_grad) # -> True\n",
        "\n",
        "print(output.is_leaf)             # -> False\n",
        "\n",
        "print(input.is_leaf)              # -> True\n",
        "print(input.requires_grad)        # -> False\n",
        "```\n",
        "\n",
        "In the computational graph in the next section, the only leaves are `a`, `b` and `c`.\n"
      ]
    },
    {
      "cell_type": "markdown",
      "metadata": {
        "id": "ZHZfAuNKSb7Z"
      },
      "source": [
        "### Exercise - implement `backprop`\n",
        "\n",
        "```yaml\n",
        "Difficulty: 🔴🔴🔴🔴🔴\n",
        "Importance: 🔵🔵🔵🔵🔵\n",
        "\n",
        "You should spend up to 30-40 minutes on this exercise.\n",
        "\n",
        "This exercise is the most conceptually important today. You should be willing to spend around 30 minutes on it. We've provided several dropdowns to help you.\n",
        "```\n"
      ]
    },
    {
      "cell_type": "markdown",
      "metadata": {
        "id": "2fAdZB_ZSfPA"
      },
      "source": [
        "Now, we get to the actual backprop function! Some code is provided below, which you should complete.\n",
        "\n",
        "If you want a challenge, you can try and implement it straight away, with out any help. However, because this is quite a challenging exercise, you can also use the dropdowns below. The first one gives you a sketch of the backpropagation algorithm, the second gives you a diagram which provides a bit more detail, and the third gives you the annotations for the function (so you just have to fill in the code). You are recommended to start by trying to implement it without help, but use the dropdowns (in order) if this is too difficult.\n",
        "\n",
        "We've also provided a few dropdowns to address specific technical errors that can arise from implementing this function. If you're having trouble, you can use these to help you debug.\n",
        "\n",
        "Either way, you're recommended to take some time with this function, as it's definitely the single most conceptually important exercise in the \"Build Your Own Backpropagation Framework\" section.\n"
      ]
    },
    {
      "cell_type": "code",
      "execution_count": null,
      "metadata": {
        "id": "QAUPXt0YSgr2",
        "colab": {
          "base_uri": "https://localhost:8080/"
        },
        "outputId": "65bdfb96-5317-4891-af48-4d5983d48d06"
      },
      "outputs": [
        {
          "output_type": "stream",
          "name": "stdout",
          "text": [
            "[1. 1.]\n",
            "[1.         0.36787945]\n",
            "[0.36787945 0.02427564]\n",
            "All tests in `test_backprop` passed!\n",
            "[1. 1. 1.]\n",
            "[1. 2. 3.]\n",
            "[1. 2. 3.]\n",
            "All tests in `test_backprop_branching` passed!\n",
            "[1. 1. 1.]\n",
            "[1. 2. 3.]\n",
            "[1. 2. 3.]\n",
            "All tests in `test_backprop_requires_grad_false` passed!\n",
            "[1. 1. 1.]\n",
            "[2. 2. 2.]\n",
            "[4. 4. 4.]\n",
            "All tests in `test_backprop_float_arg` passed!\n"
          ]
        }
      ],
      "source": [
        "def backprop(end_node: Tensor, end_grad: Optional[Tensor] = None) -> None:\n",
        "    '''Accumulates gradients in the grad field of each leaf node.\n",
        "\n",
        "    tensor.backward() is equivalent to backprop(tensor).\n",
        "\n",
        "    end_node:\n",
        "        The rightmost node in the computation graph.\n",
        "        If it contains more than one element, end_grad must be provided.\n",
        "    end_grad:\n",
        "        A tensor of the same shape as end_node.\n",
        "        Set to 1 if not specified and end_node has only one element.\n",
        "    '''\n",
        "    assert (end_grad is not None) or (len(end_node.array) == 1)\n",
        "    if len(end_node.array) == 1 and end_grad is None:\n",
        "      end_grad = 1\n",
        "\n",
        "    # Get value of end_grad_arr\n",
        "    end_grad_arr = np.ones(end_node.array.shape) if end_grad is None else np.ones(end_grad.array.shape)\n",
        "\n",
        "    # Create dictionary 'grads' to store gradients\n",
        "    grads = {end_node: end_grad_arr}\n",
        "\n",
        "    # Iterate through the computational graph, using your sorting function\n",
        "    for node in sorted_computational_graph(end_node):\n",
        "\n",
        "        # Get the outgradient from the grads dict\n",
        "        out_grad = grads[node]\n",
        "        print(out_grad)\n",
        "        # If this node is a leaf & requires_grad is true, then store the gradient\n",
        "        if node.is_leaf and node.requires_grad:\n",
        "          # store the grad\n",
        "          if node.grad is None:\n",
        "            node.grad = Tensor(out_grad) #requires_grad?\n",
        "          else:\n",
        "            node.grad.array += out_grad\n",
        "\n",
        "        # If no parents, we're done\n",
        "        if node.recipe is None or node.recipe.parents is None or len(node.recipe.parents) == 0:\n",
        "          continue\n",
        "        # For all parents in the node:\n",
        "\n",
        "        # If node has a recipe, then we iterate through parents (which is a dict of {arg_posn: tensor})\n",
        "        for argnum, parent in node.recipe.parents.items():\n",
        "\n",
        "            # Get the backward function corresponding to the function that created this node\n",
        "            bkwd_func = BACK_FUNCS.get_back_func(node.recipe.func, argnum) #oops, not the parent\n",
        "            # Use this backward function to (directly) calculate the gradient\n",
        "            # looks like a wrapper (at least in terms of parameters)\n",
        "            new_grad = bkwd_func(out_grad, node.array, *node.recipe.args, **node.recipe.kwargs)\n",
        "            # Add the gradient to this node in the dictionary `grads` (is linear!)\n",
        "            if parent in grads:\n",
        "              grads[parent] += new_grad\n",
        "            else:\n",
        "              grads[parent] = new_grad\n",
        "\n",
        "tests.test_backprop(Tensor)\n",
        "tests.test_backprop_branching(Tensor)\n",
        "tests.test_backprop_requires_grad_false(Tensor)\n",
        "tests.test_backprop_float_arg(Tensor)"
      ]
    },
    {
      "cell_type": "markdown",
      "metadata": {
        "id": "TrCG-_SBSkMX"
      },
      "source": [
        "<details>\n",
        "<summary>Dropdown #1 - sketch of algorithm</summary>\n",
        "\n",
        "You should iterate through the computational graph, in the order returned by your function (i.e. from right to left). For each tensor, you need to do two things:\n",
        "\n",
        "* If necessary, store the gradient in the `grad` field of the tensor. (This means you'll have to store the gradients in an external object, before setting them as attributes of the tensors.)\n",
        "* For each of the tensor's parents, store the gradients of those tensors for this particular path through the graph (this will require calling your backward functions, which you should get from the `BACK_FUNCS` object).\n",
        "</details>\n",
        "\n",
        "<details>\n",
        "<summary>Dropdown #2 - diagram of algorithm</summary>\n",
        "\n",
        "<img src=\"https://raw.githubusercontent.com/callummcdougall/computational-thread-art/master/example_images/misc/backprop-2.png\" width=800>\n",
        "</details>\n",
        "\n",
        "<details>\n",
        "<summary>Dropdown #3 - annotations</summary>\n",
        "\n",
        "Fill in the code beneath each annotation line that doesn't already have a line of code beneath it.\n",
        "\n",
        "Most annotations only require one line of code below them.\n",
        "\n",
        "```python\n",
        "def backprop(end_node: Tensor, end_grad: Optional[Tensor] = None) -> None:\n",
        "\n",
        "    # Get value of end_grad_arr\n",
        "\n",
        "    # Create dictionary 'grads' to store gradients\n",
        "\n",
        "    # Iterate through the computational graph, using your sorting function\n",
        "    for node in sorted_computational_graph(end_node):\n",
        "        \n",
        "        # Get the outgradient from the grads dict\n",
        "        \n",
        "        # If this node is a leaf & requires_grad is true, then store the gradient\n",
        "                \n",
        "        # For all parents in the node:\n",
        "            \n",
        "        # If node has a recipe, then we iterate through parents (which is a dict of {arg_posn: tensor})\n",
        "        for argnum, parent in node.recipe.parents.items():\n",
        "            \n",
        "            # Get the backward function corresponding to the function that created this node\n",
        "            \n",
        "            # Use this backward function to calculate the gradient\n",
        "\n",
        "            # Add the gradient to this node in the dictionary `grads`\n",
        "```\n",
        "</details>\n"
      ]
    },
    {
      "cell_type": "markdown",
      "metadata": {
        "id": "P0icCfpwS4TN"
      },
      "source": [
        "Specific technical issues:\n",
        "\n",
        "<details>\n",
        "<summary>Help - I get AttributeError: 'NoneType' object has no attribute 'func'</summary>\n",
        "\n",
        "This error is probably because you're trying to access `recipe.func` from the wrong node. Possibly, you're calling your backward functions using the parents nodes' `recipe.func`, rather than the node's `recipe.func`.\n",
        "        \n",
        "To explain further, suppose your computational graph is simply:\n",
        "\n",
        "<img src=\"https://raw.githubusercontent.com/callummcdougall/computational-thread-art/master/example_images/misc/Screenshot%202023-02-17%20174308.png\" width=320>\n",
        "\n",
        "When you reach `b` in your backprop iteration, you should calculate the gradient wrt `a` (the only parent of `b`) and store it in your `grads` dictionary, as `grads[a]`. In order to do this, you need the backward function for `func1`, which is stored in the node `b` (recall that the recipe of a tensor can be thought of as a set of instructions for how that tensor was created).\n",
        "</details>\n",
        "\n",
        "<details>\n",
        "<summary>Help - I get AttributeError: 'numpy.ndarray' object has no attribute 'array'</summary>\n",
        "\n",
        "This might be because you've set `node.grad` to be an array, rather than a tensor. You should store gradients as tensors (think of PyTorch, where `tensor.grad` will have type `torch.Tensor`).\n",
        "        \n",
        "It's fine to store numpy arrays in the `grads` dictionary, but when it comes time to set a tensor's grad attribute, you should use a tensor.\n",
        "</details>\n",
        "\n",
        "<details>\n",
        "<summary>Help - I get 'RuntimeError: bool value of Tensor with more than one value is ambiguous'.</summary>\n",
        "\n",
        "This error is probably because your computational graph function checks whether a tensor is in a list. The way these classes are compared for equality is a bit funky, and using sets rather than lists should make this error go away (i.e. checking whether a tensor is in a set should be fine).\n",
        "</details>\n"
      ]
    },
    {
      "cell_type": "markdown",
      "metadata": {
        "id": "1sY4rn7NTMzO"
      },
      "source": [
        "# 3️⃣ More forward & backward functions\n"
      ]
    },
    {
      "cell_type": "markdown",
      "metadata": {
        "id": "YJOOfahTCZgq"
      },
      "source": [
        "> ## Learning Objectives\n",
        ">\n",
        "> * Implement more forward and backward functions, including for\n",
        ">   * Indexing\n",
        ">   * Non-differentiable functions\n",
        ">   * Matrix multiplication\n"
      ]
    },
    {
      "cell_type": "markdown",
      "metadata": {
        "id": "GRXRl2r4NfGj"
      },
      "source": [
        "Congrats on implementing backprop! The next thing we'll do is write implement a bunch of backward functions that we need to train our model at the end of the day, as well as ones that cover interesting cases.\n",
        "\n",
        "These should be just like your `log_back` and `multiply_back0`, `multiplyback1` examples earlier.\n"
      ]
    },
    {
      "cell_type": "markdown",
      "metadata": {
        "id": "L7K7KCI-NgGO"
      },
      "source": [
        "***Note - some of these exercises can get a bit repetitive. About 60% of the value of these exercises was in the first 2 sections out of 5, and of the remaining 40%, not much of it is in this section! So you're welcome to skim through these exercises if you don't find them interesting.***\n"
      ]
    },
    {
      "cell_type": "markdown",
      "metadata": {
        "id": "khmPLsQgNijg"
      },
      "source": [
        "## Non-Differentiable Functions\n",
        "\n",
        "For functions like `torch.argmax` or `torch.eq`, there's no sensible way to define gradients with respect to the input tensor. For these, we will still use `wrap_forward_fn` because we still need to unbox the arguments and box the result, but by passing `is_differentiable=False` we can avoid doing any unnecessary computation.\n",
        "\n",
        "We've given you this one as an example:\n"
      ]
    },
    {
      "cell_type": "code",
      "execution_count": null,
      "metadata": {
        "id": "qwJs0qL-NkGU"
      },
      "outputs": [],
      "source": [
        "def _argmax(x: Arr, dim=None, keepdim=False):\n",
        "    '''Like torch.argmax.'''\n",
        "    return np.expand_dims(np.argmax(x, axis=dim), axis=([] if dim is None else dim))\n",
        "\n",
        "\n",
        "argmax = wrap_forward_fn(_argmax, is_differentiable=False)\n",
        "\n",
        "a = Tensor([1.0, 0.0, 3.0, 4.0], requires_grad=True)\n",
        "b = a.argmax()\n",
        "assert not b.requires_grad\n",
        "assert b.recipe is None\n",
        "assert b.item() == 3"
      ]
    },
    {
      "cell_type": "markdown",
      "metadata": {
        "id": "xPHCO2qJCZgq"
      },
      "source": [
        "## Single-Tensor Differentiable Functions\n"
      ]
    },
    {
      "cell_type": "markdown",
      "metadata": {
        "id": "UTA-Sa92Nu72"
      },
      "source": [
        "### Exercise - `negative`\n",
        "\n",
        "```yaml\n",
        "Difficulty: 🔴⚪⚪⚪⚪\n",
        "Importance: 🔵⚪⚪⚪⚪\n",
        "\n",
        "You should spend up to 5-10 minutes on this exercise.\n",
        "```\n",
        "\n",
        "`torch.negative` just performs `-x` elementwise. Make your own version `negative` using `wrap_forward_fn`.\n"
      ]
    },
    {
      "cell_type": "code",
      "execution_count": null,
      "metadata": {
        "id": "ET39xwtzN75x"
      },
      "outputs": [],
      "source": [
        "def negative_back(grad_out: Arr, out: Arr, x: Arr) -> Arr:\n",
        "    '''Backward function for f(x) = -x elementwise.'''\n",
        "    pass\n",
        "\n",
        "negative = wrap_forward_fn(np.negative)\n",
        "BACK_FUNCS.add_back_func(np.negative, 0, negative_back)\n",
        "\n",
        "tests.test_negative_back(Tensor)"
      ]
    },
    {
      "cell_type": "markdown",
      "metadata": {
        "id": "qoKMGHb-OH2O"
      },
      "source": [
        "### Exercise - `exp`\n",
        "\n",
        "```yaml\n",
        "Difficulty: 🔴⚪⚪⚪⚪\n",
        "Importance: 🔵🔵⚪⚪⚪\n",
        "\n",
        "You should spend up to 5-10 minutes on this exercise.\n",
        "```\n",
        "\n",
        "Make your own version of `torch.exp`. The backward function should express the result in terms of the `out` parameter - this more efficient than expressing it in terms of `x`.\n"
      ]
    },
    {
      "cell_type": "code",
      "execution_count": null,
      "metadata": {
        "id": "RFcNpp08OJAX"
      },
      "outputs": [],
      "source": [
        "def exp_back(grad_out: Arr, out: Arr, x: Arr) -> Arr:\n",
        "    pass\n",
        "\n",
        "exp = wrap_forward_fn(np.exp)\n",
        "BACK_FUNCS.add_back_func(np.exp, 0, exp_back)\n",
        "\n",
        "tests.test_exp_back(Tensor)"
      ]
    },
    {
      "cell_type": "markdown",
      "metadata": {
        "id": "r-75y3FAOXnw"
      },
      "source": [
        "### Exercise - `reshape`\n",
        "\n",
        "```yaml\n",
        "Difficulty: 🔴⚪⚪⚪⚪\n",
        "Importance: 🔵⚪⚪⚪⚪\n",
        "\n",
        "You should spend up to 5-10 minutes on this exercise.\n",
        "```\n",
        "\n",
        "`reshape` is a bit more complicated than the many functions we've dealt with so far: there is an additional positional argument `new_shape`. Since it's not a `Tensor`, we don't need to think about differentiating with respect to it. Remember, `new_shape` is the argument that gets passed into the **forward function**, and we're trying to reverse this operation and return to the shape of the input.\n",
        "\n",
        "Depending how you wrote `wrap_forward_fn` and `backprop`, you might need to go back and adjust them to handle this. Or, you might just have to implement `reshape_back` and everything will work.\n",
        "\n",
        "Note that the output is a different shape than the input, but this doesn't introduce any additional complications.\n"
      ]
    },
    {
      "cell_type": "code",
      "execution_count": null,
      "metadata": {
        "id": "FN8tUlVBOYsT"
      },
      "outputs": [],
      "source": [
        "def reshape_back(grad_out: Arr, out: Arr, x: Arr, new_shape: tuple) -> Arr:\n",
        "    pass\n",
        "\n",
        "reshape = wrap_forward_fn(np.reshape)\n",
        "BACK_FUNCS.add_back_func(np.reshape, 0, reshape_back)\n",
        "\n",
        "tests.test_reshape_back(Tensor)"
      ]
    },
    {
      "cell_type": "markdown",
      "metadata": {
        "id": "wZga8MweOgw_"
      },
      "source": [
        "### Exercise - `permute`\n",
        "\n",
        "```yaml\n",
        "Difficulty: 🔴🔴🔴⚪⚪\n",
        "Importance: 🔵⚪⚪⚪⚪\n",
        "\n",
        "You should spend up to 10-15 minutes on this exercise.\n",
        "```\n",
        "\n",
        "In NumPy, the equivalent of `torch.permute` is called `np.transpose`, so we will wrap that.\n"
      ]
    },
    {
      "cell_type": "code",
      "execution_count": null,
      "metadata": {
        "id": "_TdlozYSOhy8"
      },
      "outputs": [],
      "source": [
        "def invert_transposition(axes: tuple) -> tuple:\n",
        "    '''\n",
        "    axes: tuple indicating a transition\n",
        "\n",
        "    Returns: inverse of this transposition, i.e. the array `axes_inv` s.t. we have:\n",
        "        np.transpose(np.transpose(x, axes), axes_inv) == x\n",
        "\n",
        "    Some examples:\n",
        "        (1, 0)    --> (1, 0)     # this is reversing a simple 2-element transposition\n",
        "        (0, 2, 1) --> (0, 1, 2)\n",
        "        (1, 2, 0) --> (2, 0, 1)  # this is reversing the order of a 3-cycle\n",
        "    '''\n",
        "    pass\n",
        "\n",
        "def permute_back(grad_out: Arr, out: Arr, x: Arr, axes: tuple) -> Arr:\n",
        "    return np.transpose(grad_out, invert_transposition(axes))\n",
        "\n",
        "\n",
        "BACK_FUNCS.add_back_func(np.transpose, 0, permute_back)\n",
        "permute = wrap_forward_fn(np.transpose)\n",
        "\n",
        "tests.test_permute_back(Tensor)"
      ]
    },
    {
      "cell_type": "markdown",
      "metadata": {
        "id": "hjgFeyamOkQr"
      },
      "source": [
        "<details>\n",
        "<summary>Help - I'm confused about how to implement this function.</summary>\n",
        "\n",
        "You should first define the function `invert_transposition`. A docstring is given below:\n",
        "\n",
        "```python\n",
        "def invert_transposition(axes: tuple) -> tuple:\n",
        "    '''\n",
        "    axes: tuple indicating a transition\n",
        "    \n",
        "    Returns: inverse of this transposition, i.e. the array `axes_inv` s.t. we have:\n",
        "        np.transpose(np.transpose(x, axes), axes_inv) == x\n",
        "    \n",
        "    Some examples:\n",
        "        (1, 0)    --> (1, 0)     # this is reversing a simple 2-element transposition\n",
        "        (0, 2, 1) --> (0, 1, 2)\n",
        "        (1, 2, 0) --> (2, 0, 1)  # this is reversing the order of a 3-cycle\n",
        "    '''\n",
        "    pass\n",
        "```\n",
        "\n",
        "Once you've done this, you can define `permute_back` by transposing again, this time with the inversed transposition instructions.\n",
        "</details>"
      ]
    },
    {
      "cell_type": "markdown",
      "metadata": {
        "id": "8XYEyzXqO-bJ"
      },
      "source": [
        "### Exercise - `expand`\n",
        "\n",
        "```yaml\n",
        "Difficulty: 🔴🔴🔴⚪⚪\n",
        "Importance: 🔵⚪⚪⚪⚪\n",
        "\n",
        "You should spend up to 15-20 minutes on this exercise.\n",
        "```\n",
        "\n",
        "Implement your version of `torch.expand`.\n",
        "\n",
        "The backward function should just call `unbroadcast`.\n",
        "\n",
        "For the forward function, we will use `np.broadcast_to`. This function takes in an array and a target shape, and returns a version of the array broadcasted to the target shape using the rules of broadcasting we discussed in an earlier section. For example:\n"
      ]
    },
    {
      "cell_type": "code",
      "execution_count": null,
      "metadata": {
        "id": "4RlbrSRCNlkq"
      },
      "outputs": [],
      "source": [
        "x = np.array([1, 2, 3])\n",
        "\n",
        "np.broadcast_to(x, (3, 3))"
      ]
    },
    {
      "cell_type": "code",
      "execution_count": null,
      "metadata": {
        "id": "XyKUVFYAPEKc"
      },
      "outputs": [],
      "source": [
        "x = np.array([[1], [2], [3]])\n",
        "\n",
        "np.broadcast_to(x, (3, 3)) # x has shape (3, 1); broadcasting is done along rows"
      ]
    },
    {
      "cell_type": "markdown",
      "metadata": {
        "id": "yMBHIiDbPUY1"
      },
      "source": [
        "The reason we can't just use `np.broadcast_to` and call it a day is that `torch.expand` supports -1 for a dimension size meaning \"don't change the size\". For example:\n"
      ]
    },
    {
      "cell_type": "code",
      "execution_count": null,
      "metadata": {
        "id": "9b6Y1daLPWnB"
      },
      "outputs": [],
      "source": [
        "x = t.tensor([[1], [2], [3]])\n",
        "\n",
        "x.expand(-1, 3)"
      ]
    },
    {
      "cell_type": "markdown",
      "metadata": {
        "id": "ZfVpBuqpPgcQ"
      },
      "source": [
        "So when implementing `_expand`, you'll need to be a bit careful when constructing the shape to broadcast to.\n"
      ]
    },
    {
      "cell_type": "code",
      "execution_count": null,
      "metadata": {
        "id": "LLNHsy8APXvj"
      },
      "outputs": [],
      "source": [
        "def expand_back(grad_out: Arr, out: Arr, x: Arr, new_shape: tuple) -> Arr:\n",
        "    return unbroadcast(grad_out, x)\n",
        "\n",
        "def _expand(x: Arr, new_shape) -> Arr:\n",
        "    '''\n",
        "    Like torch.expand, calling np.broadcast_to internally.\n",
        "\n",
        "    Note torch.expand supports -1 for a dimension size meaning \"don't change the size\".\n",
        "    np.broadcast_to does not natively support this.\n",
        "    '''\n",
        "    pass\n",
        "\n",
        "expand = wrap_forward_fn(_expand)\n",
        "BACK_FUNCS.add_back_func(_expand, 0, expand_back)\n",
        "\n",
        "tests.test_expand(Tensor)\n",
        "tests.test_expand_negative_length(Tensor)"
      ]
    },
    {
      "cell_type": "markdown",
      "metadata": {
        "id": "btJxl2DFPklC"
      },
      "source": [
        "<details>\n",
        "<summary>Help - I'm not sure how to construct the shape.</summary>\n",
        "\n",
        "If `new_shape` contains no -1s, then you're done. If it does contain -1s, you want to replace those with the appropriate values from `x.shape`.\n",
        "\n",
        "For example, if `a.shape = (5,)`, and `new_shape = (3, 2, -1)`, you want the actual shape passed into `np.broadcast_to` to be `(3, 2, 5)`.\n",
        "</details>\n"
      ]
    },
    {
      "cell_type": "markdown",
      "metadata": {
        "id": "wWcX4Dh4Prwk"
      },
      "source": [
        "### Exercise - `sum`\n",
        "\n",
        "```yaml\n",
        "Difficulty: 🔴🔴🔴⚪⚪\n",
        "Importance: 🔵🔵⚪⚪⚪\n",
        "\n",
        "You should spend up to 15-20 minutes on this exercise.\n",
        "```\n",
        "\n",
        "The output can also be smaller than the input, such as when calling `torch.sum`. Implement your own `torch.sum` and `sum_back`.\n",
        "\n",
        "Note, if you get weird exceptions that you can't explain, and these exceptions don't even go away when you use the solutions provided, this probably means that your implementation of `wrap_forward_fn` was wrong in a way which wasn't picked up by the tests. You should return to this function and try to fix it (or just use the solution).\n"
      ]
    },
    {
      "cell_type": "code",
      "execution_count": null,
      "metadata": {
        "id": "Ec6dumrUPsul"
      },
      "outputs": [],
      "source": [
        "def sum_back(grad_out: Arr, out: Arr, x: Arr, dim=None, keepdim=False):\n",
        "    '''Basic idea: repeat grad_out over the dims along which x was summed'''\n",
        "    pass\n",
        "\n",
        "def _sum(x: Arr, dim=None, keepdim=False) -> Arr:\n",
        "    '''Like torch.sum, calling np.sum internally.'''\n",
        "    return np.sum(x, axis=dim, keepdims=keepdim)\n",
        "\n",
        "sum = wrap_forward_fn(_sum)\n",
        "BACK_FUNCS.add_back_func(_sum, 0, sum_back)\n",
        "\n",
        "tests.test_sum_keepdim_false(Tensor)\n",
        "tests.test_sum_keepdim_true(Tensor)\n",
        "tests.test_sum_dim_none(Tensor)"
      ]
    },
    {
      "cell_type": "markdown",
      "metadata": {
        "id": "DvvNTukzP-55"
      },
      "source": [
        "### Exercise - Indexing\n",
        "\n",
        "```yaml\n",
        "Difficulty: 🔴🔴🔴⚪⚪\n",
        "Importance: 🔵🔵⚪⚪⚪\n",
        "\n",
        "You should spend up to 15-20 minutes on this exercise.\n",
        "```\n",
        "\n",
        "In its full generality, indexing a `torch.Tensor` is really complicated and there are quite a few cases to handle separately.\n",
        "\n",
        "We only need two cases today:\n",
        "- The index is an integer or tuple of integers.\n",
        "- The index is a tuple of (array or Tensor) representing coordinates. Each array is 1D and of equal length. Some coordinates may be repeated. This is [Integer array indexing](https://numpy.org/doc/stable/user/basics.indexing.html#integer-array-indexing).\n",
        "    - For example, to select the five elements at (0, 0), (1,0), (0, 1), (1, 2), and (0, 0), the index would be the tuple `(np.array([0, 1, 0, 1, 0]), np.array([0, 0, 1, 2, 0]))`.\n",
        "\n",
        "Note, in `_getitem` you'll need to deal with one special case: when `index` is of type signature `tuple[Tensor]`. If not for this case, `return x[index]` would suffice for this function. You should define a `coerce_index` function to deal with this particular case; we've provided a docstring for this purpose.\n"
      ]
    },
    {
      "cell_type": "code",
      "execution_count": null,
      "metadata": {
        "id": "pol_tXeUQHGB"
      },
      "outputs": [],
      "source": [
        "Index = Union[int, Tuple[int, ...], Tuple[Arr], Tuple[Tensor]]\n",
        "\n",
        "def coerce_index(index: Index) -> Union[int, Tuple[int, ...], Tuple[Arr]]:\n",
        "    '''\n",
        "    If index is of type signature `Tuple[Tensor]`, converts it to `Tuple[Arr]`.\n",
        "    '''\n",
        "    pass\n",
        "\n",
        "def _getitem(x: Arr, index: Index) -> Arr:\n",
        "    '''Like x[index] when x is a torch.Tensor.'''\n",
        "    pass\n",
        "\n",
        "def getitem_back(grad_out: Arr, out: Arr, x: Arr, index: Index):\n",
        "    '''\n",
        "    Backwards function for _getitem.\n",
        "\n",
        "    Hint: use np.add.at(a, indices, b)\n",
        "    This function works just like a[indices] += b, except that it allows for repeated indices.\n",
        "    '''\n",
        "    pass\n",
        "\n",
        "getitem = wrap_forward_fn(_getitem)\n",
        "BACK_FUNCS.add_back_func(_getitem, 0, getitem_back)\n",
        "\n",
        "tests.test_coerce_index(coerce_index, Tensor)\n",
        "tests.test_getitem_int(Tensor)\n",
        "tests.test_getitem_tuple(Tensor)\n",
        "tests.test_getitem_integer_array(Tensor)\n",
        "tests.test_getitem_integer_tensor(Tensor)"
      ]
    },
    {
      "cell_type": "markdown",
      "metadata": {
        "id": "6wiog0KLQLTt"
      },
      "source": [
        "<details>\n",
        "<summary>Help - I'm confused about how to implement getitem_back.</summary>\n",
        "\n",
        "If no coordinates were repeated, we could just assign the grad for each input element to be the grad at the corresponding output position, or 0 if that input element didn't appear.\n",
        "\n",
        "Because of the potential for repeat coordinates, we need to sum the grad from each corresponding output position.\n",
        "\n",
        "Initialize an array of zeros of the same shape as x, and then write in the appropriate elements using `np.add.at`.\n",
        "</details>\n"
      ]
    },
    {
      "cell_type": "markdown",
      "metadata": {
        "id": "R9wzlFHKQzH9"
      },
      "source": [
        "### elementwise add, subtract, divide\n",
        "\n",
        "```yaml\n",
        "Difficulty: 🔴🔴🔴⚪⚪\n",
        "Importance: 🔵🔵⚪⚪⚪\n",
        "\n",
        "You should spend up to 10-15 minutes on this exercise.\n",
        "```\n",
        "\n",
        "These are exactly analogous to the multiply case. Note that Python and NumPy have the notion of \"floor division\", which is a truncating integer division as in `7 // 3 = 2`. You can ignore floor division: - we only need the usual floating point division which is called \"true division\".\n",
        "\n",
        "Use lambda functions to define and register the backward functions each in one line. If you're confused, you can click on the expander below to reveal the first one.\n"
      ]
    },
    {
      "cell_type": "markdown",
      "metadata": {
        "id": "hQwU9GoXQz6K"
      },
      "source": [
        "<details>\n",
        "<summary>Reveal the first one:</summary>\n",
        "\n",
        "```python\n",
        "BACK_FUNCS.add_back_func(np.add, 0, lambda grad_out, out, x, y: unbroadcast(grad_out, x))\n",
        "```\n",
        "</details>\n"
      ]
    },
    {
      "cell_type": "code",
      "execution_count": null,
      "metadata": {
        "id": "E60fzbBqQ3zL"
      },
      "outputs": [],
      "source": [
        "add = wrap_forward_fn(np.add)\n",
        "subtract = wrap_forward_fn(np.subtract)\n",
        "true_divide = wrap_forward_fn(np.true_divide)\n",
        "\n",
        "    # Your code here - add to the BACK_FUNCS object"
      ]
    },
    {
      "cell_type": "code",
      "execution_count": null,
      "metadata": {
        "id": "u3zkJzZACZgu"
      },
      "outputs": [],
      "source": [
        "tests.test_add_broadcasted(Tensor)\n",
        "tests.test_subtract_broadcasted(Tensor)\n",
        "tests.test_truedivide_broadcasted(Tensor)"
      ]
    },
    {
      "cell_type": "markdown",
      "metadata": {
        "id": "TrEtC7nLQ9_5"
      },
      "source": [
        "## In-Place Operations\n",
        "\n",
        "Supporting in-place operations introduces substantial complexity and generally doesn't help performance that much. The problem is that if any of the inputs used in the backward function have been modified in-place since the forward pass, then the backward function will incorrectly calculate using the modified version.\n",
        "\n",
        "PyTorch will warn you when this causes a problem with the error \"RuntimeError: a leaf Variable that requires grad is being used in an in-place operation.\".\n",
        "\n",
        "You can implement the warning in the bonus section but for now your system will silently compute the wrong gradients - user beware!\n",
        "\n",
        "(note - you don't have to fill anything in here; just run the cell)\n"
      ]
    },
    {
      "cell_type": "code",
      "execution_count": null,
      "metadata": {
        "id": "56E3WMSlQ_je"
      },
      "outputs": [],
      "source": [
        "def add_(x: Tensor, other: Tensor, alpha: float = 1.0) -> Tensor:\n",
        "    '''Like torch.add_. Compute x += other * alpha in-place and return tensor.'''\n",
        "    np.add(x.array, other.array * alpha, out=x.array)\n",
        "    return x\n",
        "\n",
        "\n",
        "def safe_example():\n",
        "    '''This example should work properly.'''\n",
        "    a = Tensor([0.0, 1.0, 2.0, 3.0], requires_grad=True)\n",
        "    b = Tensor([2.0, 3.0, 4.0, 5.0], requires_grad=True)\n",
        "    a.add_(b)\n",
        "    c = a * b\n",
        "    c.sum().backward()\n",
        "    assert a.grad is not None and np.allclose(a.grad.array, [2.0, 3.0, 4.0, 5.0])\n",
        "    assert b.grad is not None and np.allclose(b.grad.array, [2.0, 4.0, 6.0, 8.0])\n",
        "\n",
        "\n",
        "def unsafe_example():\n",
        "    '''This example is expected to compute the wrong gradients.'''\n",
        "    a = Tensor([0.0, 1.0, 2.0, 3.0], requires_grad=True)\n",
        "    b = Tensor([2.0, 3.0, 4.0, 5.0], requires_grad=True)\n",
        "    c = a * b\n",
        "    a.add_(b)\n",
        "    c.sum().backward()\n",
        "    if a.grad is not None and np.allclose(a.grad.array, [2.0, 3.0, 4.0, 5.0]):\n",
        "        print(\"Grad wrt a is OK!\")\n",
        "    else:\n",
        "        print(\"Grad wrt a is WRONG!\")\n",
        "    if b.grad is not None and np.allclose(b.grad.array, [0.0, 1.0, 2.0, 3.0]):\n",
        "        print(\"Grad wrt b is OK!\")\n",
        "    else:\n",
        "        print(\"Grad wrt b is WRONG!\")\n",
        "\n",
        "\n",
        "safe_example()\n",
        "unsafe_example()"
      ]
    },
    {
      "cell_type": "markdown",
      "metadata": {
        "id": "BMx5Q9FORCMa"
      },
      "source": [
        "## Mixed Scalar-Tensor Operations\n",
        "\n",
        "You may have been wondering why our `Tensor` class has to define both `__mul__` and `__rmul__` magic methods.\n",
        "\n",
        "Without `__rmul__` defined, executing `2 * a` when `a` is a `Tensor` would try to call `2.__mul__(a)`, and the built-in class `int` would be confused about how to handle this.\n",
        "\n",
        "Since we have defined `__rmul__` for you at the start, and you implemented multiply to work with floats as arguments, the following should \"just work\".\n"
      ]
    },
    {
      "cell_type": "code",
      "execution_count": null,
      "metadata": {
        "id": "PunN7HldRAir"
      },
      "outputs": [],
      "source": [
        "a = Tensor([0, 1, 2, 3], requires_grad=True)\n",
        "(a * 2).sum().backward()\n",
        "b = Tensor([0, 1, 2, 3], requires_grad=True)\n",
        "(2 * b).sum().backward()\n",
        "assert a.grad is not None\n",
        "assert b.grad is not None\n",
        "assert np.allclose(a.grad.array, b.grad.array)"
      ]
    },
    {
      "cell_type": "markdown",
      "metadata": {
        "id": "7Tzt2fMORGly"
      },
      "source": [
        "### Exercise - `max`\n",
        "\n",
        "```yaml\n",
        "Difficulty: 🔴🔴🔴⚪⚪\n",
        "Importance: 🔵🔵⚪⚪⚪\n",
        "\n",
        "You should spend up to 10-15 minutes on this exercise.\n",
        "```\n",
        "\n",
        "Since this is an elementwise function, we can think about the scalar case. For scalar $x$, $y$, the derivative for $\\max(x, y)$ wrt $x$ is 1 when $x > y$ and 0 when $x < y$. What should happen when $x = y$?\n",
        "\n",
        "Intuitively, since $\\max(x, x)$ is equivalent to the identity function which has a derivative of 1 wrt $x$, it makes sense for the sum of our partial derivatives wrt $x$ and $y$ to also therefore total 1. The convention used by PyTorch is to split the derivative evenly between the two arguments. We will follow this behavior for compatibility, but it's just as legitimate to say it's 1 wrt $x$ and 0 wrt $y$, or some other arbitrary combination that sums to one.\n"
      ]
    },
    {
      "cell_type": "markdown",
      "metadata": {
        "id": "mZCVtbEKRH-I"
      },
      "source": [
        "<details>\n",
        "<summary>Help - I'm not sure how to implement this function.</summary>\n",
        "\n",
        "Try returning `grad_out * bool_sum`, where `bool_sum` is an array constructed from the sum of two boolean arrays.\n",
        "\n",
        "You can alternatively use `np.where`.\n",
        "</details>\n",
        "\n",
        "<details>\n",
        "<summary>Help - I'm passing the first test but not the second.</summary>\n",
        "\n",
        "This probably means that you haven't implemented `unbroadcast`. You'll need to do this, to get `grad_out` into the right shape before you use it in `np.where`.\n",
        "</details>\n"
      ]
    },
    {
      "cell_type": "code",
      "execution_count": null,
      "metadata": {
        "id": "9SOl3xfxREfE"
      },
      "outputs": [],
      "source": [
        "def maximum_back0(grad_out: Arr, out: Arr, x: Arr, y: Arr):\n",
        "    '''Backwards function for max(x, y) wrt x.'''\n",
        "    pass\n",
        "\n",
        "def maximum_back1(grad_out: Arr, out: Arr, x: Arr, y: Arr):\n",
        "    '''Backwards function for max(x, y) wrt y.'''\n",
        "    pass\n",
        "\n",
        "maximum = wrap_forward_fn(np.maximum)\n",
        "\n",
        "BACK_FUNCS.add_back_func(np.maximum, 0, maximum_back0)\n",
        "BACK_FUNCS.add_back_func(np.maximum, 1, maximum_back1)\n",
        "\n",
        "tests.test_maximum(Tensor)\n",
        "tests.test_maximum_broadcasted(Tensor)"
      ]
    },
    {
      "cell_type": "markdown",
      "metadata": {
        "id": "IB5LB1NsRWcj"
      },
      "source": [
        "### Exercise - functional `ReLU`\n",
        "\n",
        "```yaml\n",
        "Difficulty: 🔴🔴⚪⚪⚪\n",
        "Importance: 🔵🔵⚪⚪⚪\n",
        "\n",
        "You should spend up to 10-15 minutes on this exercise.\n",
        "```\n",
        "\n",
        "A simple and correct ReLU function can be defined in terms of your maximum function. Note the PyTorch version also supports in-place operation, which we are punting on for now.\n",
        "\n",
        "Again, at $x = 0$ your derivative could reasonably be anything between 0 and 1 inclusive, but we've followed PyTorch in making it 0.5.\n"
      ]
    },
    {
      "cell_type": "code",
      "execution_count": null,
      "metadata": {
        "id": "gEv_PgyYRRdO"
      },
      "outputs": [],
      "source": [
        "def relu(x: Tensor) -> Tensor:\n",
        "    '''Like torch.nn.function.relu(x, inplace=False).'''\n",
        "    pass\n",
        "\n",
        "tests.test_relu(Tensor)"
      ]
    },
    {
      "cell_type": "markdown",
      "metadata": {
        "id": "QkdS3A06Rcpu"
      },
      "source": [
        "### Exercise - 2D `matmul`\n",
        "\n",
        "```yaml\n",
        "Difficulty: 🔴🔴🔴🔴⚪\n",
        "Importance: 🔵🔵🔵⚪⚪\n",
        "\n",
        "You should spend up to 20-25 minutes on this exercise.\n",
        "```\n",
        "\n",
        "Implement your version of `torch.matmul`, restricting it to the simpler case where both inputs are 2D.\n"
      ]
    },
    {
      "cell_type": "code",
      "execution_count": null,
      "metadata": {
        "id": "76nopwn7Reh5"
      },
      "outputs": [],
      "source": [
        "def _matmul2d(x: Arr, y: Arr) -> Arr:\n",
        "    '''Matrix multiply restricted to the case where both inputs are exactly 2D.'''\n",
        "    return x @ y\n",
        "\n",
        "def matmul2d_back0(grad_out: Arr, out: Arr, x: Arr, y: Arr) -> Arr:\n",
        "    pass\n",
        "\n",
        "def matmul2d_back1(grad_out: Arr, out: Arr, x: Arr, y: Arr) -> Arr:\n",
        "    pass\n",
        "\n",
        "matmul = wrap_forward_fn(_matmul2d)\n",
        "BACK_FUNCS.add_back_func(_matmul2d, 0, matmul2d_back0)\n",
        "BACK_FUNCS.add_back_func(_matmul2d, 1, matmul2d_back1)\n",
        "\n",
        "tests.test_matmul2d(Tensor)"
      ]
    },
    {
      "cell_type": "markdown",
      "metadata": {
        "id": "Vv6U4JO1RhEw"
      },
      "source": [
        "<details>\n",
        "<summary>Help - I'm confused about <code>matmul2d_back</code>!</summary>\n",
        "\n",
        "Let $X$, $Y$ and $M$ denote the variables `x`, `y` and `out`, so we have the matrix relation $M = XY$. The object `grad_out` is a tensor with elements `grad_out[p, q]` $ = \\frac{\\partial L}{\\partial M_{p q}}$.\n",
        "\n",
        "The output of `matmul2d_back0` should be the gradient of $L$ wrt $X$, i.e. it should have elements $\\frac{\\partial L}{\\partial X_{i j}}$. Can you write this in terms of the elements of `x`, `y`, `out` and `grad_out`?\n",
        "</details>\n",
        "\n",
        "<details>\n",
        "<summary>Help - I'm still stuck on <code>matmul2d_back</code>.</summary>\n",
        "\n",
        "We can write $\\frac{\\partial L}{\\partial X_{i j}}$ as:\n",
        "\n",
        "$$\n",
        "\\begin{aligned}\n",
        "\\frac{\\partial L}{\\partial X_{i j}} &=\\sum_{pq} \\frac{\\partial L}{\\partial M_{p q}} \\frac{\\partial M_{p q}}{\\partial X_{i j}} \\\\\n",
        "&=\\sum_{pq} \\left[\\text{ grad\\_out }\\right]_{p q} \\frac{\\partial (\\sum_r X_{p r} Y_{r q})}{\\partial X_{i j}} \\quad\\quad \\text{ because } M_{pq} = \\sum_r X_{pr} Y_{rq} \\\\\n",
        "&=\\sum_{pqr} \\left[\\text{ grad\\_out }\\right]_{p q}  \\frac{\\partial X_{p r}}{\\partial X_{i j}} Y_{rq} \\\\\n",
        "&=\\sum_{q} \\left[\\text{ grad\\_out }\\right]_{iq} Y_{j q} \\quad\\quad \\text{because } \\frac{\\partial{X_{pr}}}{X_{ij}} = 1 \\text{ if } (p, r) = (i, j), \\text{ else } 0 \\\\\n",
        "&=\\sum_{q} \\left[\\text{ grad\\_out }\\right]_{iq} Y^T_{qj} \\\\\n",
        "&= \\left[\\text{ grad\\_out } \\times Y^{\\top}\\right]_{ij}\n",
        "\\end{aligned}\n",
        "$$\n",
        "\n",
        "\n",
        "In other words, the `x.grad` attribute should be is `grad_out @ y.T`.\n",
        "\n",
        "You can calculate the gradient wrt `y` in a similar way - we leave this as an exercise for the reader.\n",
        "</details>"
      ]
    },
    {
      "cell_type": "markdown",
      "metadata": {
        "id": "aRlYYQyvRug4"
      },
      "source": [
        "# 4️⃣ Putting everything together\n"
      ]
    },
    {
      "cell_type": "markdown",
      "metadata": {
        "id": "gEYRdAEzCZgx"
      },
      "source": [
        "> ## Learning Objectives\n",
        ">\n",
        "> * Complete the process of building up a neural network from scratch and training it via gradient descent.\n"
      ]
    },
    {
      "cell_type": "markdown",
      "metadata": {
        "id": "Q3vyEtqMRzKx"
      },
      "source": [
        "## Exercise - build your own `nn.Parameter`\n",
        "\n",
        "```yaml\n",
        "Difficulty: 🔴🔴⚪⚪⚪\n",
        "Importance: 🔵🔵🔵🔵⚪\n",
        "\n",
        "You should spend up to 10-15 minutes on this exercise.\n",
        "```\n",
        "\n",
        "We've now written enough backwards passes that we can go up a layer and write our own `nn.Parameter` and `nn.Module`.\n",
        "We don't need much for `Parameter`. It is itself a `Tensor`, shares storage with the provided `Tensor` and requires_grad is `True` by default - that's it!\n"
      ]
    },
    {
      "cell_type": "code",
      "execution_count": null,
      "metadata": {
        "id": "ooNNINShR0Lv"
      },
      "outputs": [],
      "source": [
        "class Parameter(Tensor):\n",
        "    def __init__(self, tensor: Tensor, requires_grad=True):\n",
        "        '''Share the array with the provided tensor.'''\n",
        "        pass\n",
        "\n",
        "    def __repr__(self):\n",
        "        pass\n",
        "\n",
        "x = Tensor([1.0, 2.0, 3.0])\n",
        "p = Parameter(x)\n",
        "assert p.requires_grad\n",
        "assert p.array is x.array\n",
        "assert repr(p) == \"Parameter containing:\\nTensor(array([1., 2., 3.], dtype=float32), requires_grad=True)\"\n",
        "x.add_(Tensor(np.array(2.0)))\n",
        "assert np.allclose(\n",
        "    p.array, np.array([3.0, 4.0, 5.0])\n",
        "), \"in-place modifications to the original tensor should affect the parameter\""
      ]
    },
    {
      "cell_type": "markdown",
      "metadata": {
        "id": "pGln1SchR7Xc"
      },
      "source": [
        "## Exercise - build your own `nn.Module`\n",
        "\n",
        "```yaml\n",
        "Difficulty: 🔴🔴🔴🔴⚪\n",
        "Importance: 🔵🔵🔵🔵⚪\n",
        "\n",
        "You should spend up to 25-30 minutes on this exercise.\n",
        "```\n",
        "\n",
        "`nn.Module` is like `torch.Tensor` in that it has a lot of functionality, most of which we don't care about today. We will just implement enough to get our network training.\n",
        "\n",
        "Implement the indicated methods (i.e. the ones which are currently just `pass`). We've defined `_modules` and `_parameters` dict for you (note that, because this isn't a dataclass, we need to manually define them inside the `__init__` method).\n",
        "\n",
        "Tip: you can bypass `__getattr__` by accessing `self.__dict__` inside a method.\n",
        "\n",
        "*Note - some of these methods are difficult and non-obvious to implement, so don't worry if you need to look at the solutions.*\n"
      ]
    },
    {
      "cell_type": "code",
      "execution_count": null,
      "metadata": {
        "id": "08z-eMexSBMX"
      },
      "outputs": [],
      "source": [
        "class Module:\n",
        "    _modules: Dict[str, \"Module\"]\n",
        "    _parameters: Dict[str, Parameter]\n",
        "\n",
        "    def __init__(self):\n",
        "        self._modules = {}\n",
        "        self._parameters = {}\n",
        "\n",
        "    def modules(self):\n",
        "        '''Return the direct child modules of this module.'''\n",
        "        return self.__dict__[\"_modules\"].values()\n",
        "\n",
        "    def parameters(self, recurse: bool = True) -> Iterator[Parameter]:\n",
        "        '''\n",
        "        Return an iterator over Module parameters.\n",
        "\n",
        "        recurse: if True, the iterator includes parameters of submodules, recursively.\n",
        "        '''\n",
        "        pass\n",
        "\n",
        "    def __setattr__(self, key: str, val: Any) -> None:\n",
        "        '''\n",
        "        If val is a Parameter or Module, store it in the appropriate _parameters or _modules dict.\n",
        "        Otherwise, call __setattr__ from the superclass.\n",
        "        '''\n",
        "        pass\n",
        "\n",
        "    def __getattr__(self, key: str) -> Union[Parameter, \"Module\"]:\n",
        "        '''\n",
        "        If key is in _parameters or _modules, return the corresponding value.\n",
        "        Otherwise, raise KeyError.\n",
        "        '''\n",
        "        pass\n",
        "\n",
        "    def __call__(self, *args, **kwargs):\n",
        "        return self.forward(*args, **kwargs)\n",
        "\n",
        "    def forward(self):\n",
        "        raise NotImplementedError(\"Subclasses must implement forward!\")\n",
        "\n",
        "    def __repr__(self):\n",
        "        def _indent(s_, numSpaces):\n",
        "            return re.sub(\"\\n\", \"\\n\" + (\" \" * numSpaces), s_)\n",
        "        lines = [f\"({key}): {_indent(repr(module), 2)}\" for key, module in self._modules.items()]\n",
        "        return \"\".join([\n",
        "            self.__class__.__name__ + \"(\",\n",
        "            \"\\n  \" + \"\\n  \".join(lines) + \"\\n\" if lines else \"\", \")\"\n",
        "        ])\n",
        "\n",
        "\n",
        "class TestInnerModule(Module):\n",
        "    def __init__(self):\n",
        "        super().__init__()\n",
        "        self.param1 = Parameter(Tensor([1.0]))\n",
        "        self.param2 = Parameter(Tensor([2.0]))\n",
        "\n",
        "class TestModule(Module):\n",
        "    def __init__(self):\n",
        "        super().__init__()\n",
        "        self.inner = TestInnerModule()\n",
        "        self.param3 = Parameter(Tensor([3.0]))\n",
        "\n",
        "mod = TestModule()\n",
        "assert list(mod.modules()) == [mod.inner]\n",
        "assert list(mod.parameters()) == [\n",
        "    mod.param3,\n",
        "    mod.inner.param1,\n",
        "    mod.inner.param2,\n",
        "], \"parameters should come before submodule parameters\"\n",
        "print(\"Manually verify that the repr looks reasonable:\")\n",
        "print(mod)"
      ]
    },
    {
      "cell_type": "markdown",
      "metadata": {
        "id": "X9-EyHU4SI0C"
      },
      "source": [
        "## Build Your Own Linear Layer\n",
        "\n",
        "```yaml\n",
        "Difficulty: 🔴🔴⚪⚪⚪\n",
        "Importance: 🔵🔵🔵🔵⚪\n",
        "\n",
        "You should spend up to 20-25 minutes on this exercise.\n",
        "```\n",
        "\n",
        "You may have a `Linear` written already that you can adapt to use our own `Parameter`, `Module`, and `Tensor`. If your `Linear` used `einsum`, use a `matmul` instead. You can implement a backward function for `einsum` in the bonus section.\n"
      ]
    },
    {
      "cell_type": "code",
      "execution_count": null,
      "metadata": {
        "id": "t_v3RiqcSMD7"
      },
      "outputs": [],
      "source": [
        "class Linear(Module):\n",
        "    weight: Parameter\n",
        "    bias: Optional[Parameter]\n",
        "\n",
        "    def __init__(self, in_features: int, out_features: int, bias=True):\n",
        "        '''\n",
        "        A simple linear (technically, affine) transformation.\n",
        "\n",
        "        The fields should be named `weight` and `bias` for compatibility with PyTorch.\n",
        "        If `bias` is False, set `self.bias` to None.\n",
        "        '''\n",
        "        super().__init__()\n",
        "        pass\n",
        "\n",
        "    def forward(self, x: Tensor) -> Tensor:\n",
        "        '''\n",
        "        x: shape (*, in_features)\n",
        "        Return: shape (*, out_features)\n",
        "        '''\n",
        "        pass\n",
        "\n",
        "    def extra_repr(self) -> str:\n",
        "        # note, we need to use `self.bias is not None`, because `self.bias` is either a tensor or None, not bool\n",
        "        return f\"in_features={self.in_features}, out_features={self.out_features}, bias={self.bias is not None}\"\n",
        "\n",
        "\n",
        "linear = Linear(3, 4)\n",
        "assert isinstance(linear.weight, Tensor)\n",
        "assert linear.weight.requires_grad\n",
        "\n",
        "input = Tensor([[1.0, 2.0, 3.0]])\n",
        "output = linear(input)\n",
        "assert output.requires_grad\n",
        "\n",
        "expected_output = input @ linear.weight.T + linear.bias\n",
        "np.testing.assert_allclose(output.array, expected_output.array)\n",
        "\n",
        "print(\"All tests for `Linear` passed!\")"
      ]
    },
    {
      "cell_type": "markdown",
      "metadata": {
        "id": "vwTdFMyECZgy"
      },
      "source": [
        "Finally, for the sake of completeness, we'll define a `ReLU` module:\n"
      ]
    },
    {
      "cell_type": "code",
      "execution_count": null,
      "metadata": {
        "id": "7SWnXL2kCZgy"
      },
      "outputs": [],
      "source": [
        "class ReLU(Module):\n",
        "    def forward(self, x: Tensor) -> Tensor:\n",
        "        return relu(x)"
      ]
    },
    {
      "cell_type": "markdown",
      "metadata": {
        "id": "JAr9y9GwSPyF"
      },
      "source": [
        "Now we can define a MLP suitable for classifying MNIST, with zero PyTorch dependency!\n"
      ]
    },
    {
      "cell_type": "code",
      "execution_count": null,
      "metadata": {
        "id": "hGbx9yVmSQjb"
      },
      "outputs": [],
      "source": [
        "class MLP(Module):\n",
        "    def __init__(self):\n",
        "        super().__init__()\n",
        "        self.linear1 = Linear(28 * 28, 64)\n",
        "        self.linear2 = Linear(64, 64)\n",
        "        self.relu1 = ReLU()\n",
        "        self.relu2 = ReLU()\n",
        "        self.output = Linear(64, 10)\n",
        "\n",
        "    def forward(self, x: Tensor) -> Tensor:\n",
        "        x = x.reshape((x.shape[0], 28 * 28))\n",
        "        x = self.relu1(self.linear1(x))\n",
        "        x = self.relu2(self.linear2(x))\n",
        "        x = self.output(x)\n",
        "        return x"
      ]
    },
    {
      "cell_type": "markdown",
      "metadata": {
        "id": "VKAr7Mu3SRSy"
      },
      "source": [
        "## Build Your Own Cross-Entropy Loss\n",
        "\n",
        "```yaml\n",
        "Difficulty: 🔴🔴🔴⚪⚪\n",
        "Importance: 🔵🔵🔵⚪⚪\n",
        "\n",
        "You should spend up to 10-15 minutes on this exercise.\n",
        "```\n",
        "\n",
        "Make use of your integer array indexing to implement `cross_entropy`. See the documentation page [here](https://pytorch.org/docs/stable/generated/torch.nn.CrossEntropyLoss.html).\n",
        "\n",
        "Note - if you have a tensor `X` of shape `(a, b)`, and you want to take the `Y[i]`-th element of each row (where `Y` is a tensor of length `a`), the easiest way to do this is with:\n",
        "\n",
        "```python\n",
        "X[range(a), Y]\n",
        "```\n",
        "\n",
        "since this is read as:\n",
        "\n",
        "```python\n",
        "X[0, Y[0]], X[1, Y[1]], ..., X[a-1, Y[a-1]]\n",
        "```\n",
        "\n",
        "In place of `range` here, you should use the function `arange` which we've provided for you (this works in exactly the same way, but it returns a `Tensor` instead of a `range` object).\n"
      ]
    },
    {
      "cell_type": "code",
      "execution_count": null,
      "metadata": {
        "id": "IBDvQcIuSVYl"
      },
      "outputs": [],
      "source": [
        "def cross_entropy(logits: Tensor, true_labels: Tensor) -> Tensor:\n",
        "    '''Like torch.nn.functional.cross_entropy with reduction='none'.\n",
        "\n",
        "    logits: shape (batch, classes)\n",
        "    true_labels: shape (batch,). Each element is the index of the correct label in the logits.\n",
        "\n",
        "    Return: shape (batch, ) containing the per-example loss.\n",
        "    '''\n",
        "    pass\n",
        "\n",
        "tests.test_cross_entropy(Tensor, cross_entropy)"
      ]
    },
    {
      "cell_type": "markdown",
      "metadata": {
        "id": "gHUkAgSlUv8f"
      },
      "source": [
        "## Build your own `NoGrad` context manager\n",
        "\n",
        "```yaml\n",
        "Difficulty: 🔴🔴⚪⚪⚪\n",
        "Importance: 🔵🔵🔵🔵⚪\n",
        "\n",
        "You should spend up to 10-15 minutes on this exercise.\n",
        "```\n",
        "\n",
        "The last thing our backpropagation system needs is the ability to turn it off completely like `torch.no_grad`.\n",
        "\n",
        "Below, you should implement the `NoGrad` context manager so that it reads and writes the `grad_tracking_enabled` flag from the top of the file.\n",
        "\n",
        "You should use the global variable `grad_tracking_enabled` **global variables**  for this. To make sure you're accessing the global variable rather than just a local variable, you can use the `global` keyword. In general, using mutable global variables is not ideal because multiple threads will be a problem, but we will leave that for another day.\n"
      ]
    },
    {
      "cell_type": "code",
      "execution_count": null,
      "metadata": {
        "id": "8fSbJJmtUz_q"
      },
      "outputs": [],
      "source": [
        "class NoGrad:\n",
        "    '''Context manager that disables grad inside the block. Like torch.no_grad.'''\n",
        "\n",
        "    was_enabled: bool\n",
        "\n",
        "    def __enter__(self):\n",
        "        '''\n",
        "        Method which is called whenever the context manager is entered, i.e. at the\n",
        "        start of the `with NoGrad():` block.\n",
        "        '''\n",
        "        pass\n",
        "\n",
        "    def __exit__(self, type, value, traceback):\n",
        "        '''\n",
        "        Method which is called whenever we exit the context manager.\n",
        "        '''\n",
        "        pass"
      ]
    },
    {
      "cell_type": "markdown",
      "metadata": {
        "id": "2z3kflavCZg0"
      },
      "source": [
        "<details>\n",
        "<summary>Help - I'm not sure what to do here.</summary>\n",
        "\n",
        "You should put `global grad_tracking_enabled` at the top of both methods.\n",
        "\n",
        "In the `__enter__` method, you should disable gradient tracking (i.e. set the global variable to False).\n",
        "\n",
        "In the `__exit__` method, you should set gradient tracking to whatever its global value was *before* you entered the context manager (this is why we need to use the `was_enabled` variable, so you can record what the global value was before you entered the context manager).\n",
        "</details>"
      ]
    },
    {
      "cell_type": "markdown",
      "metadata": {
        "id": "78pYTnPXU3x7"
      },
      "source": [
        "## Training Your Network\n",
        "\n",
        "We've already looked at data loading and training loops earlier in the course, so we'll provide a minimal version of these today as well as the data loading code.\n"
      ]
    },
    {
      "cell_type": "code",
      "execution_count": null,
      "metadata": {
        "id": "fZBqYuj9U5Mu"
      },
      "outputs": [],
      "source": [
        "train_loader, test_loader = get_mnist()\n",
        "visualize(train_loader)"
      ]
    },
    {
      "cell_type": "markdown",
      "metadata": {
        "id": "nkZ9JQ0qVEWF"
      },
      "source": [
        "And here's a basic optimizer & training/testing loop:\n"
      ]
    },
    {
      "cell_type": "code",
      "execution_count": null,
      "metadata": {
        "id": "1IdLhJ55VBii"
      },
      "outputs": [],
      "source": [
        "class SGD:\n",
        "    def __init__(self, params: Iterable[Parameter], lr: float):\n",
        "        '''Vanilla SGD with no additional features.'''\n",
        "        self.params = list(params)\n",
        "        self.lr = lr\n",
        "        self.b = [None for _ in self.params]\n",
        "\n",
        "    def zero_grad(self) -> None:\n",
        "        for p in self.params:\n",
        "            p.grad = None\n",
        "\n",
        "    def step(self) -> None:\n",
        "        with NoGrad():\n",
        "            for (i, p) in enumerate(self.params):\n",
        "                assert isinstance(p.grad, Tensor)\n",
        "                p.add_(p.grad, -self.lr)\n",
        "\n",
        "\n",
        "def train(model: MLP, train_loader: DataLoader, optimizer: SGD, epoch: int, train_loss_list: Optional[list] = None):\n",
        "    print(f\"Epoch: {epoch}\")\n",
        "    progress_bar = tqdm(enumerate(train_loader))\n",
        "    for (batch_idx, (data, target)) in progress_bar:\n",
        "        data = Tensor(data.numpy())\n",
        "        target = Tensor(target.numpy())\n",
        "        optimizer.zero_grad()\n",
        "        output = model(data)\n",
        "        loss = cross_entropy(output, target).sum() / len(output)\n",
        "        loss.backward()\n",
        "        progress_bar.set_description(f\"Train set: Avg loss: {loss.item():.3f}\")\n",
        "        optimizer.step()\n",
        "        if train_loss_list is not None: train_loss_list.append(loss.item())\n",
        "\n",
        "\n",
        "def test(model: MLP, test_loader: DataLoader, test_loss_list: Optional[list] = None):\n",
        "    test_loss = 0\n",
        "    correct = 0\n",
        "    with NoGrad():\n",
        "        for (data, target) in test_loader:\n",
        "            data = Tensor(data.numpy())\n",
        "            target = Tensor(target.numpy())\n",
        "            output: Tensor = model(data)\n",
        "            test_loss += cross_entropy(output, target).sum().item()\n",
        "            pred = output.argmax(dim=1, keepdim=True)\n",
        "            correct += (pred == target.reshape(pred.shape)).sum().item()\n",
        "    test_loss /= len(test_loader.dataset)\n",
        "    print(f\"Test set:  Avg loss: {test_loss:.4f}, Accuracy: {correct}/{len(test_loader.dataset)} ({correct / len(test_loader.dataset):.1%})\")\n",
        "    if test_loss_list is not None: test_loss_list.append(test_loss)"
      ]
    },
    {
      "cell_type": "markdown",
      "metadata": {
        "id": "JibnxQiMVMt5"
      },
      "source": [
        "### Training Loop\n",
        "\n",
        "To finish the day, let's see if everything works correctly and our MLP learns to classify MNIST. It's normal to encounter some bugs and glitches at this point - just go back and fix them until everything runs.\n"
      ]
    },
    {
      "cell_type": "code",
      "execution_count": null,
      "metadata": {
        "id": "v3VhGY0iCZg0"
      },
      "outputs": [],
      "source": [
        "num_epochs = 5\n",
        "model = MLP()\n",
        "start = time.time()\n",
        "train_loss_list = []\n",
        "test_loss_list = []\n",
        "optimizer = SGD(model.parameters(), 0.01)\n",
        "for epoch in range(num_epochs):\n",
        "    train(model, train_loader, optimizer, epoch, train_loss_list)\n",
        "    test(model, test_loader, test_loss_list)\n",
        "    optimizer.step()\n",
        "print(f\"\\nCompleted in {time.time() - start: .2f}s\")"
      ]
    },
    {
      "cell_type": "code",
      "execution_count": null,
      "metadata": {
        "id": "x6GGPIhZCZg0"
      },
      "outputs": [],
      "source": [
        "line(\n",
        "    train_loss_list,\n",
        "    yaxis_range=[0, max(train_loss_list) + 0.1],\n",
        "    labels={\"x\": \"Batches seen\", \"y\": \"Cross entropy loss\"},\n",
        "    title=\"ConvNet training on MNIST\",\n",
        "    width=800,\n",
        "    hovermode=\"x unified\",\n",
        "    template=\"ggplot2\", # alternative aesthetic for your plots (-:\n",
        ")"
      ]
    },
    {
      "cell_type": "markdown",
      "metadata": {
        "id": "4KrTxryGCZg1"
      },
      "source": [
        "Note - this training loop (if done correctly) will look to the one we used in earlier sections is that we're using SGD rather than Adam. You can try adapting your Adam code from the previous day's exercises, and get the same results as you have in earlier sections.\n"
      ]
    },
    {
      "cell_type": "markdown",
      "metadata": {
        "id": "xrQf_TphZg09"
      },
      "source": [
        "# 5️⃣ Bonus\n"
      ]
    },
    {
      "cell_type": "markdown",
      "metadata": {
        "id": "hd7XacjNehrM"
      },
      "source": [
        "Congratulations on finishing the day's main content! Here are a few more bonus things for you to explore.\n"
      ]
    },
    {
      "cell_type": "markdown",
      "metadata": {
        "id": "_l8KV_t7ZnOj"
      },
      "source": [
        "### In-Place Operation Warnings\n",
        "\n",
        "The most severe issue with our current system is that it can silently compute the wrong gradients when in-place operations are used. Have a look at how [PyTorch handles it](https://pytorch.org/docs/stable/notes/autograd.html#in-place-operations-with-autograd) and implement a similar system yourself so that it either computes the right gradients, or raises a warning.\n"
      ]
    },
    {
      "cell_type": "markdown",
      "metadata": {
        "id": "l4r6CjgSZ1ZB"
      },
      "source": [
        "### In-Place `ReLU`\n",
        "\n",
        "Instead of implementing ReLU in terms of maximum, implement your own forward and backward functions that support `inplace=True`.\n"
      ]
    },
    {
      "cell_type": "markdown",
      "metadata": {
        "id": "XyOUJOYKZ2iN"
      },
      "source": [
        "### Backward for `einsum`\n",
        "\n",
        "Write the backward pass for your equivalent of `torch.einsum`.\n"
      ]
    },
    {
      "cell_type": "markdown",
      "metadata": {
        "id": "uqnlEHmjZ3h4"
      },
      "source": [
        "### Reuse of Module during forward\n",
        "\n",
        "Consider the following MLP, where the same `nn.ReLU` instance is used twice in the forward pass. Without running the code, explain whether this works correctly or not with reference to the specifics of your implementation.\n",
        "\n",
        "```python\n",
        "class MyModule(Module):\n",
        "    def __init__(self):\n",
        "        super().__init__()\n",
        "        self.linear1 = Linear(28*28, 64)\n",
        "        self.linear2 = Linear(64, 64)\n",
        "        self.linear3 = Linear(64, 10)\n",
        "        self.relu = ReLU()\n",
        "    def forward(self, x):\n",
        "        x = self.relu(self.linear1(x))\n",
        "        x = self.relu(self.linear2(x))\n",
        "        return self.linear3(x)\n",
        "```\n",
        "\n",
        "<details>\n",
        "<summary>Answer (what you should find)</summary>\n",
        "\n",
        "This implementation will work correctly.\n",
        "\n",
        "The danger of reusing modules is that you'd be creating a cyclical computational graph (because the same parameters would appear twice), but the `ReLU` module doesn't have any parameters (or any internal state), so this isn't a problem. It's effectively just a wrapper for the `relu` function, and you could replace `self.relu` with applying the `relu` function directly without changing the model's behaviour.\n",
        "\n",
        "This is slightly different if we're thinking about adding **hooks** to our model. Hooks are functions that are called during the forward or backward pass, and they can be used to inspect the state of the model during training. We generally want each hook to be associated with a single position in the model, rather than being called at two different points.\n",
        "</details>\n"
      ]
    },
    {
      "cell_type": "markdown",
      "metadata": {
        "id": "CIKjArprZ5Gd"
      },
      "source": [
        "### Convolutional layers\n",
        "\n",
        "Now that you've implemented a linear layer, it should be relatively straightforward to take your convolutions code from day 2 and use it to make a convolutional layer. How much better performance do you get on the MNIST task once you replace your first two linear layers with convolutions?\n"
      ]
    },
    {
      "cell_type": "markdown",
      "metadata": {
        "id": "OW7FzFaAZzhQ"
      },
      "source": [
        "### ResNet Support\n",
        "\n",
        "Make a list of the features that would need to be implemented to support ResNet inference, and training. It will probably take too long to do all of them, but pick some interesting features to start implementing.\n"
      ]
    },
    {
      "cell_type": "markdown",
      "metadata": {
        "id": "EtgjwuT8Zv9d"
      },
      "source": [
        "### Central Difference Checking\n",
        "\n",
        "Write a function that compares the gradients from your backprop to a central difference method. See [Wikipedia](https://en.wikipedia.org/wiki/Finite_difference) for more details.\n"
      ]
    },
    {
      "cell_type": "markdown",
      "metadata": {
        "id": "e98C8RSRZrcZ"
      },
      "source": [
        "### Non-Differentiable Function Support\n",
        "\n",
        "Your `Tensor` does not currently support equivalents of `torch.all`, `torch.any`, `torch.floor`, `torch.less`, etc. which are non-differentiable functions of Tensors. Implement them so that they are usable in computational graphs, but gradients shouldn't flow through them (their contribution is zero).\n"
      ]
    },
    {
      "cell_type": "markdown",
      "metadata": {
        "id": "ZDUhoD1HZs3F"
      },
      "source": [
        "### Differentiation wrt Keyword Arguments\n",
        "\n",
        "In the real PyTorch, you can sometimes pass tensors as keyword arguments and differentiation will work, as in `t.add(other=t.tensor([3,4]), input=t.tensor([1,2]))`. In other similar looking cases like `t.dot`, it raises an error that the argument must be passed positionally. Decide on a desired behavior in your system and implement and test it.\n"
      ]
    },
    {
      "cell_type": "markdown",
      "metadata": {
        "id": "cyzvfnCJZuGx"
      },
      "source": [
        "### `torch.stack`\n",
        "\n",
        "So far we've registered a separate backwards for each input argument that could be a Tensor. This is problematic if the function can take any number of tensors like `torch.stack` or `numpy.stack`. Think of and implement the backward function for stack. It may require modification to your other code.\n"
      ]
    }
  ],
  "metadata": {
    "colab": {
      "collapsed_sections": [
        "F4j-sXLBAJyP",
        "iNMun3lGAcML",
        "EmX0RxdUGeBa",
        "1sY4rn7NTMzO",
        "aRlYYQyvRug4",
        "xrQf_TphZg09"
      ],
      "provenance": [],
      "gpuClass": "premium",
      "include_colab_link": true
    },
    "kernelspec": {
      "display_name": "Python 3",
      "name": "python3"
    },
    "language_info": {
      "codemirror_mode": {
        "name": "ipython",
        "version": 3
      },
      "file_extension": ".py",
      "mimetype": "text/x-python",
      "name": "python",
      "nbconvert_exporter": "python",
      "pygments_lexer": "ipython3",
      "version": "3.10.9"
    }
  },
  "nbformat": 4,
  "nbformat_minor": 0
}